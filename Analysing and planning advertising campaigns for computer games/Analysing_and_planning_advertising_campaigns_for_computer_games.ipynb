{
 "cells": [
  {
   "cell_type": "markdown",
   "metadata": {},
   "source": [
    "<div style=\"border:solid green 2px; padding: 20px\">\n",
    "<b>Настя, привет!</b>\n",
    "\n",
    "Меня зовут Евгений Дащенко, и я буду проверять твой проект. Предлагаю общаться на «ты» 😊 Но если это не удобно - дай знать, и мы перейдем на \"вы\". \n",
    "\n",
    "Моя основная цель — не указать на совершенные тобою ошибки, а поделиться своим опытом и помочь тебе стать аналитиком данных. Ты уже проделал большую работу над проектом, но давай сделаем его еще лучше. Ниже ты найдешь мои комментарии - пожалуйста, не перемещай, не изменяй и не удаляй их. Я буду использовать цветовую разметку:\n",
    "\n",
    "<div class=\"alert alert-danger\">\n",
    "<b>Критическая ошибка: ❌</b> Так выделены самые важные замечания. Без их отработки проект не будет принят. </div>\n",
    "\n",
    "<div class=\"alert alert-warning\">\n",
    "<b>Хорошо, но можно и лучше: ❗️</b> Так выделены небольшие замечания. Одна-два таких замечания в проекте допустимы, но если их будет больше - тебе будет необходимо внести исправления. Это как тестовое задание при приеме на работу: очень много мелких ошибок могут стать причиной отказа кандидату. \n",
    "\n",
    "</div>\n",
    "\n",
    "<div class=\"alert alert-success\">\n",
    "<b>Все отлично: ✅</b> Так я выделяю все остальные комментарии.</div>\n",
    "\n",
    "Давай работать над проектом в диалоге: если ты что-то меняешь в проекте или отвечаешь на мои комменатри — пиши об этом. Мне будет легче отследить изменения, если ты выделишь свои комментарии:\n",
    "<div class=\"alert alert-info\"> <b>Комментарий студента: ℹ️</b> Например, вот так.</div>\n",
    "\n",
    "Всё это поможет выполнить повторную проверку твоего проекта оперативнее. "
   ]
  },
  {
   "cell_type": "markdown",
   "metadata": {},
   "source": [
    "# Описание проекта\n",
    "\n",
    "Вы работаете в интернет-магазине «Стримчик», который продаёт по всему миру компьютерные игры. Из открытых источников доступны исторические данные о продажах игр, оценки пользователей и экспертов, жанры и платформы (например, Xbox или PlayStation). Вам нужно выявить определяющие успешность игры закономерности. Это позволит сделать ставку на потенциально популярный продукт и спланировать рекламные кампании.\n",
    "\n",
    "Перед вами данные до 2016 года. Представим, что сейчас декабрь 2016 г., и вы планируете кампанию на 2017-й. Нужно отработать принцип работы с данными. Неважно, прогнозируете ли вы продажи на 2017 год по данным 2016-го или же 2027-й — по данным 2026 года.\n",
    "\n",
    "В наборе данных попадается аббревиатура ESRB (Entertainment Software Rating Board) — это ассоциация, определяющая возрастной рейтинг компьютерных игр. ESRB оценивает игровой контент и присваивает ему подходящую возрастную категорию, например, «Для взрослых», «Для детей младшего возраста» или «Для подростков»."
   ]
  },
  {
   "cell_type": "markdown",
   "metadata": {},
   "source": [
    "Цель исследования: \n",
    "         \n",
    "1. Выявить определяющие успешность игры закономерности\n",
    "2. Сделать ставку на потенциально популярный продукт и спланировать рекламные кампании\n",
    "\n",
    "Ход исследования\n",
    "\n",
    "Данные получу из файла /datasets/games.csv.\n",
    "О качестве данных пока неизвестно. Поэтому перед тем как приступить к целям исследования, понадобиться обзор данных.\n",
    "Проверю данные на пропуски, ошибки и выбивающиеся значения. Затем на этапе предобработке я исправлю все ошибки в данных, которые не приведут к искажению конечного результата. Далее создам необходимые столбцы для анализа данных. Затем приступлю к проведению исследовательского анализа.\n",
    "\n",
    "Таким образом, мое исследование будет состоять из следующих этапов:\n",
    "1. Обзор данных\n",
    "2. Предобработка данных\n",
    "3. Расчеты и добавление результатов в таблицу\n",
    "4. Проведение анализа жанров игры\n",
    "5. Составление портрета пользователя каждого региона\n",
    "6. Проверка гипотез\n",
    "7. Написание общего вывода"
   ]
  },
  {
   "cell_type": "markdown",
   "metadata": {},
   "source": [
    "<div class=\"alert alert-success\">\n",
    "<b>Комментарий ревьюера: ✅</b>\n",
    "\n",
    "Здорово, когда есть вступление в сам проект, каждый сможет быстрее разобраться в концепции / деталях работы. Можно также привести краткий план проведения самой работы и описание используемых столбцов. \n",
    "\n",
    "</div>"
   ]
  },
  {
   "cell_type": "markdown",
   "metadata": {},
   "source": [
    "## Откройте файл с данными и изучите общую информацию."
   ]
  },
  {
   "cell_type": "code",
   "execution_count": 148,
   "metadata": {},
   "outputs": [],
   "source": [
    "import pandas as pd\n",
    "import matplotlib.pyplot as plt\n",
    "import numpy as np\n",
    "import seaborn as sns\n",
    "import seaborn as sb\n",
    "from scipy import stats as st"
   ]
  },
  {
   "cell_type": "code",
   "execution_count": 149,
   "metadata": {},
   "outputs": [],
   "source": [
    "try:\n",
    "    data = pd.read_csv('/datasets/games.csv')\n",
    "except:\n",
    "    data = pd.read_csv('https://code.s3.yandex.net//datasets/games.csv')"
   ]
  },
  {
   "cell_type": "code",
   "execution_count": 150,
   "metadata": {},
   "outputs": [
    {
     "name": "stdout",
     "output_type": "stream",
     "text": [
      "<class 'pandas.core.frame.DataFrame'>\n",
      "RangeIndex: 16715 entries, 0 to 16714\n",
      "Data columns (total 11 columns):\n",
      " #   Column           Non-Null Count  Dtype  \n",
      "---  ------           --------------  -----  \n",
      " 0   Name             16713 non-null  object \n",
      " 1   Platform         16715 non-null  object \n",
      " 2   Year_of_Release  16446 non-null  float64\n",
      " 3   Genre            16713 non-null  object \n",
      " 4   NA_sales         16715 non-null  float64\n",
      " 5   EU_sales         16715 non-null  float64\n",
      " 6   JP_sales         16715 non-null  float64\n",
      " 7   Other_sales      16715 non-null  float64\n",
      " 8   Critic_Score     8137 non-null   float64\n",
      " 9   User_Score       10014 non-null  object \n",
      " 10  Rating           9949 non-null   object \n",
      "dtypes: float64(6), object(5)\n",
      "memory usage: 1.4+ MB\n"
     ]
    }
   ],
   "source": [
    "data.info()"
   ]
  },
  {
   "cell_type": "code",
   "execution_count": 151,
   "metadata": {},
   "outputs": [
    {
     "data": {
      "text/html": [
       "<div>\n",
       "<style scoped>\n",
       "    .dataframe tbody tr th:only-of-type {\n",
       "        vertical-align: middle;\n",
       "    }\n",
       "\n",
       "    .dataframe tbody tr th {\n",
       "        vertical-align: top;\n",
       "    }\n",
       "\n",
       "    .dataframe thead th {\n",
       "        text-align: right;\n",
       "    }\n",
       "</style>\n",
       "<table border=\"1\" class=\"dataframe\">\n",
       "  <thead>\n",
       "    <tr style=\"text-align: right;\">\n",
       "      <th></th>\n",
       "      <th>Name</th>\n",
       "      <th>Platform</th>\n",
       "      <th>Year_of_Release</th>\n",
       "      <th>Genre</th>\n",
       "      <th>NA_sales</th>\n",
       "      <th>EU_sales</th>\n",
       "      <th>JP_sales</th>\n",
       "      <th>Other_sales</th>\n",
       "      <th>Critic_Score</th>\n",
       "      <th>User_Score</th>\n",
       "      <th>Rating</th>\n",
       "    </tr>\n",
       "  </thead>\n",
       "  <tbody>\n",
       "    <tr>\n",
       "      <th>0</th>\n",
       "      <td>Wii Sports</td>\n",
       "      <td>Wii</td>\n",
       "      <td>2006.0</td>\n",
       "      <td>Sports</td>\n",
       "      <td>41.36</td>\n",
       "      <td>28.96</td>\n",
       "      <td>3.77</td>\n",
       "      <td>8.45</td>\n",
       "      <td>76.0</td>\n",
       "      <td>8</td>\n",
       "      <td>E</td>\n",
       "    </tr>\n",
       "    <tr>\n",
       "      <th>1</th>\n",
       "      <td>Super Mario Bros.</td>\n",
       "      <td>NES</td>\n",
       "      <td>1985.0</td>\n",
       "      <td>Platform</td>\n",
       "      <td>29.08</td>\n",
       "      <td>3.58</td>\n",
       "      <td>6.81</td>\n",
       "      <td>0.77</td>\n",
       "      <td>NaN</td>\n",
       "      <td>NaN</td>\n",
       "      <td>NaN</td>\n",
       "    </tr>\n",
       "    <tr>\n",
       "      <th>2</th>\n",
       "      <td>Mario Kart Wii</td>\n",
       "      <td>Wii</td>\n",
       "      <td>2008.0</td>\n",
       "      <td>Racing</td>\n",
       "      <td>15.68</td>\n",
       "      <td>12.76</td>\n",
       "      <td>3.79</td>\n",
       "      <td>3.29</td>\n",
       "      <td>82.0</td>\n",
       "      <td>8.3</td>\n",
       "      <td>E</td>\n",
       "    </tr>\n",
       "    <tr>\n",
       "      <th>3</th>\n",
       "      <td>Wii Sports Resort</td>\n",
       "      <td>Wii</td>\n",
       "      <td>2009.0</td>\n",
       "      <td>Sports</td>\n",
       "      <td>15.61</td>\n",
       "      <td>10.93</td>\n",
       "      <td>3.28</td>\n",
       "      <td>2.95</td>\n",
       "      <td>80.0</td>\n",
       "      <td>8</td>\n",
       "      <td>E</td>\n",
       "    </tr>\n",
       "    <tr>\n",
       "      <th>4</th>\n",
       "      <td>Pokemon Red/Pokemon Blue</td>\n",
       "      <td>GB</td>\n",
       "      <td>1996.0</td>\n",
       "      <td>Role-Playing</td>\n",
       "      <td>11.27</td>\n",
       "      <td>8.89</td>\n",
       "      <td>10.22</td>\n",
       "      <td>1.00</td>\n",
       "      <td>NaN</td>\n",
       "      <td>NaN</td>\n",
       "      <td>NaN</td>\n",
       "    </tr>\n",
       "    <tr>\n",
       "      <th>5</th>\n",
       "      <td>Tetris</td>\n",
       "      <td>GB</td>\n",
       "      <td>1989.0</td>\n",
       "      <td>Puzzle</td>\n",
       "      <td>23.20</td>\n",
       "      <td>2.26</td>\n",
       "      <td>4.22</td>\n",
       "      <td>0.58</td>\n",
       "      <td>NaN</td>\n",
       "      <td>NaN</td>\n",
       "      <td>NaN</td>\n",
       "    </tr>\n",
       "    <tr>\n",
       "      <th>6</th>\n",
       "      <td>New Super Mario Bros.</td>\n",
       "      <td>DS</td>\n",
       "      <td>2006.0</td>\n",
       "      <td>Platform</td>\n",
       "      <td>11.28</td>\n",
       "      <td>9.14</td>\n",
       "      <td>6.50</td>\n",
       "      <td>2.88</td>\n",
       "      <td>89.0</td>\n",
       "      <td>8.5</td>\n",
       "      <td>E</td>\n",
       "    </tr>\n",
       "    <tr>\n",
       "      <th>7</th>\n",
       "      <td>Wii Play</td>\n",
       "      <td>Wii</td>\n",
       "      <td>2006.0</td>\n",
       "      <td>Misc</td>\n",
       "      <td>13.96</td>\n",
       "      <td>9.18</td>\n",
       "      <td>2.93</td>\n",
       "      <td>2.84</td>\n",
       "      <td>58.0</td>\n",
       "      <td>6.6</td>\n",
       "      <td>E</td>\n",
       "    </tr>\n",
       "    <tr>\n",
       "      <th>8</th>\n",
       "      <td>New Super Mario Bros. Wii</td>\n",
       "      <td>Wii</td>\n",
       "      <td>2009.0</td>\n",
       "      <td>Platform</td>\n",
       "      <td>14.44</td>\n",
       "      <td>6.94</td>\n",
       "      <td>4.70</td>\n",
       "      <td>2.24</td>\n",
       "      <td>87.0</td>\n",
       "      <td>8.4</td>\n",
       "      <td>E</td>\n",
       "    </tr>\n",
       "    <tr>\n",
       "      <th>9</th>\n",
       "      <td>Duck Hunt</td>\n",
       "      <td>NES</td>\n",
       "      <td>1984.0</td>\n",
       "      <td>Shooter</td>\n",
       "      <td>26.93</td>\n",
       "      <td>0.63</td>\n",
       "      <td>0.28</td>\n",
       "      <td>0.47</td>\n",
       "      <td>NaN</td>\n",
       "      <td>NaN</td>\n",
       "      <td>NaN</td>\n",
       "    </tr>\n",
       "    <tr>\n",
       "      <th>10</th>\n",
       "      <td>Nintendogs</td>\n",
       "      <td>DS</td>\n",
       "      <td>2005.0</td>\n",
       "      <td>Simulation</td>\n",
       "      <td>9.05</td>\n",
       "      <td>10.95</td>\n",
       "      <td>1.93</td>\n",
       "      <td>2.74</td>\n",
       "      <td>NaN</td>\n",
       "      <td>NaN</td>\n",
       "      <td>NaN</td>\n",
       "    </tr>\n",
       "    <tr>\n",
       "      <th>11</th>\n",
       "      <td>Mario Kart DS</td>\n",
       "      <td>DS</td>\n",
       "      <td>2005.0</td>\n",
       "      <td>Racing</td>\n",
       "      <td>9.71</td>\n",
       "      <td>7.47</td>\n",
       "      <td>4.13</td>\n",
       "      <td>1.90</td>\n",
       "      <td>91.0</td>\n",
       "      <td>8.6</td>\n",
       "      <td>E</td>\n",
       "    </tr>\n",
       "    <tr>\n",
       "      <th>12</th>\n",
       "      <td>Pokemon Gold/Pokemon Silver</td>\n",
       "      <td>GB</td>\n",
       "      <td>1999.0</td>\n",
       "      <td>Role-Playing</td>\n",
       "      <td>9.00</td>\n",
       "      <td>6.18</td>\n",
       "      <td>7.20</td>\n",
       "      <td>0.71</td>\n",
       "      <td>NaN</td>\n",
       "      <td>NaN</td>\n",
       "      <td>NaN</td>\n",
       "    </tr>\n",
       "    <tr>\n",
       "      <th>13</th>\n",
       "      <td>Wii Fit</td>\n",
       "      <td>Wii</td>\n",
       "      <td>2007.0</td>\n",
       "      <td>Sports</td>\n",
       "      <td>8.92</td>\n",
       "      <td>8.03</td>\n",
       "      <td>3.60</td>\n",
       "      <td>2.15</td>\n",
       "      <td>80.0</td>\n",
       "      <td>7.7</td>\n",
       "      <td>E</td>\n",
       "    </tr>\n",
       "    <tr>\n",
       "      <th>14</th>\n",
       "      <td>Kinect Adventures!</td>\n",
       "      <td>X360</td>\n",
       "      <td>2010.0</td>\n",
       "      <td>Misc</td>\n",
       "      <td>15.00</td>\n",
       "      <td>4.89</td>\n",
       "      <td>0.24</td>\n",
       "      <td>1.69</td>\n",
       "      <td>61.0</td>\n",
       "      <td>6.3</td>\n",
       "      <td>E</td>\n",
       "    </tr>\n",
       "    <tr>\n",
       "      <th>15</th>\n",
       "      <td>Wii Fit Plus</td>\n",
       "      <td>Wii</td>\n",
       "      <td>2009.0</td>\n",
       "      <td>Sports</td>\n",
       "      <td>9.01</td>\n",
       "      <td>8.49</td>\n",
       "      <td>2.53</td>\n",
       "      <td>1.77</td>\n",
       "      <td>80.0</td>\n",
       "      <td>7.4</td>\n",
       "      <td>E</td>\n",
       "    </tr>\n",
       "    <tr>\n",
       "      <th>16</th>\n",
       "      <td>Grand Theft Auto V</td>\n",
       "      <td>PS3</td>\n",
       "      <td>2013.0</td>\n",
       "      <td>Action</td>\n",
       "      <td>7.02</td>\n",
       "      <td>9.09</td>\n",
       "      <td>0.98</td>\n",
       "      <td>3.96</td>\n",
       "      <td>97.0</td>\n",
       "      <td>8.2</td>\n",
       "      <td>M</td>\n",
       "    </tr>\n",
       "    <tr>\n",
       "      <th>17</th>\n",
       "      <td>Grand Theft Auto: San Andreas</td>\n",
       "      <td>PS2</td>\n",
       "      <td>2004.0</td>\n",
       "      <td>Action</td>\n",
       "      <td>9.43</td>\n",
       "      <td>0.40</td>\n",
       "      <td>0.41</td>\n",
       "      <td>10.57</td>\n",
       "      <td>95.0</td>\n",
       "      <td>9</td>\n",
       "      <td>M</td>\n",
       "    </tr>\n",
       "    <tr>\n",
       "      <th>18</th>\n",
       "      <td>Super Mario World</td>\n",
       "      <td>SNES</td>\n",
       "      <td>1990.0</td>\n",
       "      <td>Platform</td>\n",
       "      <td>12.78</td>\n",
       "      <td>3.75</td>\n",
       "      <td>3.54</td>\n",
       "      <td>0.55</td>\n",
       "      <td>NaN</td>\n",
       "      <td>NaN</td>\n",
       "      <td>NaN</td>\n",
       "    </tr>\n",
       "    <tr>\n",
       "      <th>19</th>\n",
       "      <td>Brain Age: Train Your Brain in Minutes a Day</td>\n",
       "      <td>DS</td>\n",
       "      <td>2005.0</td>\n",
       "      <td>Misc</td>\n",
       "      <td>4.74</td>\n",
       "      <td>9.20</td>\n",
       "      <td>4.16</td>\n",
       "      <td>2.04</td>\n",
       "      <td>77.0</td>\n",
       "      <td>7.9</td>\n",
       "      <td>E</td>\n",
       "    </tr>\n",
       "  </tbody>\n",
       "</table>\n",
       "</div>"
      ],
      "text/plain": [
       "                                            Name Platform  Year_of_Release  \\\n",
       "0                                     Wii Sports      Wii           2006.0   \n",
       "1                              Super Mario Bros.      NES           1985.0   \n",
       "2                                 Mario Kart Wii      Wii           2008.0   \n",
       "3                              Wii Sports Resort      Wii           2009.0   \n",
       "4                       Pokemon Red/Pokemon Blue       GB           1996.0   \n",
       "5                                         Tetris       GB           1989.0   \n",
       "6                          New Super Mario Bros.       DS           2006.0   \n",
       "7                                       Wii Play      Wii           2006.0   \n",
       "8                      New Super Mario Bros. Wii      Wii           2009.0   \n",
       "9                                      Duck Hunt      NES           1984.0   \n",
       "10                                    Nintendogs       DS           2005.0   \n",
       "11                                 Mario Kart DS       DS           2005.0   \n",
       "12                   Pokemon Gold/Pokemon Silver       GB           1999.0   \n",
       "13                                       Wii Fit      Wii           2007.0   \n",
       "14                            Kinect Adventures!     X360           2010.0   \n",
       "15                                  Wii Fit Plus      Wii           2009.0   \n",
       "16                            Grand Theft Auto V      PS3           2013.0   \n",
       "17                 Grand Theft Auto: San Andreas      PS2           2004.0   \n",
       "18                             Super Mario World     SNES           1990.0   \n",
       "19  Brain Age: Train Your Brain in Minutes a Day       DS           2005.0   \n",
       "\n",
       "           Genre  NA_sales  EU_sales  JP_sales  Other_sales  Critic_Score  \\\n",
       "0         Sports     41.36     28.96      3.77         8.45          76.0   \n",
       "1       Platform     29.08      3.58      6.81         0.77           NaN   \n",
       "2         Racing     15.68     12.76      3.79         3.29          82.0   \n",
       "3         Sports     15.61     10.93      3.28         2.95          80.0   \n",
       "4   Role-Playing     11.27      8.89     10.22         1.00           NaN   \n",
       "5         Puzzle     23.20      2.26      4.22         0.58           NaN   \n",
       "6       Platform     11.28      9.14      6.50         2.88          89.0   \n",
       "7           Misc     13.96      9.18      2.93         2.84          58.0   \n",
       "8       Platform     14.44      6.94      4.70         2.24          87.0   \n",
       "9        Shooter     26.93      0.63      0.28         0.47           NaN   \n",
       "10    Simulation      9.05     10.95      1.93         2.74           NaN   \n",
       "11        Racing      9.71      7.47      4.13         1.90          91.0   \n",
       "12  Role-Playing      9.00      6.18      7.20         0.71           NaN   \n",
       "13        Sports      8.92      8.03      3.60         2.15          80.0   \n",
       "14          Misc     15.00      4.89      0.24         1.69          61.0   \n",
       "15        Sports      9.01      8.49      2.53         1.77          80.0   \n",
       "16        Action      7.02      9.09      0.98         3.96          97.0   \n",
       "17        Action      9.43      0.40      0.41        10.57          95.0   \n",
       "18      Platform     12.78      3.75      3.54         0.55           NaN   \n",
       "19          Misc      4.74      9.20      4.16         2.04          77.0   \n",
       "\n",
       "   User_Score Rating  \n",
       "0           8      E  \n",
       "1         NaN    NaN  \n",
       "2         8.3      E  \n",
       "3           8      E  \n",
       "4         NaN    NaN  \n",
       "5         NaN    NaN  \n",
       "6         8.5      E  \n",
       "7         6.6      E  \n",
       "8         8.4      E  \n",
       "9         NaN    NaN  \n",
       "10        NaN    NaN  \n",
       "11        8.6      E  \n",
       "12        NaN    NaN  \n",
       "13        7.7      E  \n",
       "14        6.3      E  \n",
       "15        7.4      E  \n",
       "16        8.2      M  \n",
       "17          9      M  \n",
       "18        NaN    NaN  \n",
       "19        7.9      E  "
      ]
     },
     "execution_count": 151,
     "metadata": {},
     "output_type": "execute_result"
    }
   ],
   "source": [
    "data.head(20)"
   ]
  },
  {
   "cell_type": "markdown",
   "metadata": {},
   "source": [
    "# Предобработка данных"
   ]
  },
  {
   "cell_type": "markdown",
   "metadata": {},
   "source": [
    "Заменим названия столбцов (приведем к нижнему регистру)"
   ]
  },
  {
   "cell_type": "code",
   "execution_count": 152,
   "metadata": {},
   "outputs": [
    {
     "data": {
      "text/html": [
       "<div>\n",
       "<style scoped>\n",
       "    .dataframe tbody tr th:only-of-type {\n",
       "        vertical-align: middle;\n",
       "    }\n",
       "\n",
       "    .dataframe tbody tr th {\n",
       "        vertical-align: top;\n",
       "    }\n",
       "\n",
       "    .dataframe thead th {\n",
       "        text-align: right;\n",
       "    }\n",
       "</style>\n",
       "<table border=\"1\" class=\"dataframe\">\n",
       "  <thead>\n",
       "    <tr style=\"text-align: right;\">\n",
       "      <th></th>\n",
       "      <th>name</th>\n",
       "      <th>platform</th>\n",
       "      <th>year_of_release</th>\n",
       "      <th>genre</th>\n",
       "      <th>na_sales</th>\n",
       "      <th>eu_sales</th>\n",
       "      <th>jp_sales</th>\n",
       "      <th>other_sales</th>\n",
       "      <th>critic_score</th>\n",
       "      <th>user_score</th>\n",
       "      <th>rating</th>\n",
       "    </tr>\n",
       "  </thead>\n",
       "  <tbody>\n",
       "    <tr>\n",
       "      <th>0</th>\n",
       "      <td>Wii Sports</td>\n",
       "      <td>Wii</td>\n",
       "      <td>2006.0</td>\n",
       "      <td>Sports</td>\n",
       "      <td>41.36</td>\n",
       "      <td>28.96</td>\n",
       "      <td>3.77</td>\n",
       "      <td>8.45</td>\n",
       "      <td>76.0</td>\n",
       "      <td>8</td>\n",
       "      <td>E</td>\n",
       "    </tr>\n",
       "    <tr>\n",
       "      <th>1</th>\n",
       "      <td>Super Mario Bros.</td>\n",
       "      <td>NES</td>\n",
       "      <td>1985.0</td>\n",
       "      <td>Platform</td>\n",
       "      <td>29.08</td>\n",
       "      <td>3.58</td>\n",
       "      <td>6.81</td>\n",
       "      <td>0.77</td>\n",
       "      <td>NaN</td>\n",
       "      <td>NaN</td>\n",
       "      <td>NaN</td>\n",
       "    </tr>\n",
       "    <tr>\n",
       "      <th>2</th>\n",
       "      <td>Mario Kart Wii</td>\n",
       "      <td>Wii</td>\n",
       "      <td>2008.0</td>\n",
       "      <td>Racing</td>\n",
       "      <td>15.68</td>\n",
       "      <td>12.76</td>\n",
       "      <td>3.79</td>\n",
       "      <td>3.29</td>\n",
       "      <td>82.0</td>\n",
       "      <td>8.3</td>\n",
       "      <td>E</td>\n",
       "    </tr>\n",
       "    <tr>\n",
       "      <th>3</th>\n",
       "      <td>Wii Sports Resort</td>\n",
       "      <td>Wii</td>\n",
       "      <td>2009.0</td>\n",
       "      <td>Sports</td>\n",
       "      <td>15.61</td>\n",
       "      <td>10.93</td>\n",
       "      <td>3.28</td>\n",
       "      <td>2.95</td>\n",
       "      <td>80.0</td>\n",
       "      <td>8</td>\n",
       "      <td>E</td>\n",
       "    </tr>\n",
       "    <tr>\n",
       "      <th>4</th>\n",
       "      <td>Pokemon Red/Pokemon Blue</td>\n",
       "      <td>GB</td>\n",
       "      <td>1996.0</td>\n",
       "      <td>Role-Playing</td>\n",
       "      <td>11.27</td>\n",
       "      <td>8.89</td>\n",
       "      <td>10.22</td>\n",
       "      <td>1.00</td>\n",
       "      <td>NaN</td>\n",
       "      <td>NaN</td>\n",
       "      <td>NaN</td>\n",
       "    </tr>\n",
       "  </tbody>\n",
       "</table>\n",
       "</div>"
      ],
      "text/plain": [
       "                       name platform  year_of_release         genre  na_sales  \\\n",
       "0                Wii Sports      Wii           2006.0        Sports     41.36   \n",
       "1         Super Mario Bros.      NES           1985.0      Platform     29.08   \n",
       "2            Mario Kart Wii      Wii           2008.0        Racing     15.68   \n",
       "3         Wii Sports Resort      Wii           2009.0        Sports     15.61   \n",
       "4  Pokemon Red/Pokemon Blue       GB           1996.0  Role-Playing     11.27   \n",
       "\n",
       "   eu_sales  jp_sales  other_sales  critic_score user_score rating  \n",
       "0     28.96      3.77         8.45          76.0          8      E  \n",
       "1      3.58      6.81         0.77           NaN        NaN    NaN  \n",
       "2     12.76      3.79         3.29          82.0        8.3      E  \n",
       "3     10.93      3.28         2.95          80.0          8      E  \n",
       "4      8.89     10.22         1.00           NaN        NaN    NaN  "
      ]
     },
     "execution_count": 152,
     "metadata": {},
     "output_type": "execute_result"
    }
   ],
   "source": [
    "data.columns = data.columns.str.lower()\n",
    "data.head()"
   ]
  },
  {
   "cell_type": "markdown",
   "metadata": {},
   "source": [
    "<div class=\"alert alert-success\">\n",
    "<b>Комментарий ревьюера: ✅</b>\n",
    "\n",
    "Отличный способ заменить регистр в наших данных 👍\n",
    "</div>"
   ]
  },
  {
   "cell_type": "markdown",
   "metadata": {},
   "source": [
    "### Преобразуем данные в нужные типы"
   ]
  },
  {
   "cell_type": "code",
   "execution_count": 153,
   "metadata": {},
   "outputs": [],
   "source": [
    "data['year_of_release'] = data['year_of_release'].astype('Int16')\n",
    "data['user_score'] = pd.to_numeric(data['user_score'], errors='coerce')\n",
    "data['critic_score'] = pd.to_numeric(data['critic_score'], errors='coerce')"
   ]
  },
  {
   "cell_type": "markdown",
   "metadata": {},
   "source": [
    "Мы изменили тип данных в стобце год релиза на целочисленный, float там не нужен.\n",
    "А оценки критиков и пользователей преобразуем в числовой тип с помощью функции pd.to_numeric.\n",
    "Рейтинг игр обозначен буквами, его трогать не будем. Другие данные имеют нужный тип."
   ]
  },
  {
   "cell_type": "markdown",
   "metadata": {},
   "source": [
    "### Обработка пропусков"
   ]
  },
  {
   "cell_type": "code",
   "execution_count": 154,
   "metadata": {},
   "outputs": [
    {
     "data": {
      "text/html": [
       "<style  type=\"text/css\" >\n",
       "#T_f3e33_row0_col0,#T_f3e33_row1_col0,#T_f3e33_row3_col0,#T_f3e33_row4_col0,#T_f3e33_row5_col0,#T_f3e33_row6_col0,#T_f3e33_row7_col0{\n",
       "            background-color:  #3b4cc0;\n",
       "            color:  #f1f1f1;\n",
       "        }#T_f3e33_row2_col0{\n",
       "            background-color:  #455cce;\n",
       "            color:  #f1f1f1;\n",
       "        }#T_f3e33_row8_col0{\n",
       "            background-color:  #cd423b;\n",
       "            color:  #f1f1f1;\n",
       "        }#T_f3e33_row9_col0{\n",
       "            background-color:  #b40426;\n",
       "            color:  #f1f1f1;\n",
       "        }#T_f3e33_row10_col0{\n",
       "            background-color:  #f6a283;\n",
       "            color:  #000000;\n",
       "        }</style><table id=\"T_f3e33_\" ><thead>    <tr>        <th class=\"blank level0\" ></th>        <th class=\"col_heading level0 col0\" >0</th>    </tr></thead><tbody>\n",
       "                <tr>\n",
       "                        <th id=\"T_f3e33_level0_row0\" class=\"row_heading level0 row0\" >name</th>\n",
       "                        <td id=\"T_f3e33_row0_col0\" class=\"data row0 col0\" >0.000000</td>\n",
       "            </tr>\n",
       "            <tr>\n",
       "                        <th id=\"T_f3e33_level0_row1\" class=\"row_heading level0 row1\" >platform</th>\n",
       "                        <td id=\"T_f3e33_row1_col0\" class=\"data row1 col0\" >0.000000</td>\n",
       "            </tr>\n",
       "            <tr>\n",
       "                        <th id=\"T_f3e33_level0_row2\" class=\"row_heading level0 row2\" >year_of_release</th>\n",
       "                        <td id=\"T_f3e33_row2_col0\" class=\"data row2 col0\" >2.000000</td>\n",
       "            </tr>\n",
       "            <tr>\n",
       "                        <th id=\"T_f3e33_level0_row3\" class=\"row_heading level0 row3\" >genre</th>\n",
       "                        <td id=\"T_f3e33_row3_col0\" class=\"data row3 col0\" >0.000000</td>\n",
       "            </tr>\n",
       "            <tr>\n",
       "                        <th id=\"T_f3e33_level0_row4\" class=\"row_heading level0 row4\" >na_sales</th>\n",
       "                        <td id=\"T_f3e33_row4_col0\" class=\"data row4 col0\" >0.000000</td>\n",
       "            </tr>\n",
       "            <tr>\n",
       "                        <th id=\"T_f3e33_level0_row5\" class=\"row_heading level0 row5\" >eu_sales</th>\n",
       "                        <td id=\"T_f3e33_row5_col0\" class=\"data row5 col0\" >0.000000</td>\n",
       "            </tr>\n",
       "            <tr>\n",
       "                        <th id=\"T_f3e33_level0_row6\" class=\"row_heading level0 row6\" >jp_sales</th>\n",
       "                        <td id=\"T_f3e33_row6_col0\" class=\"data row6 col0\" >0.000000</td>\n",
       "            </tr>\n",
       "            <tr>\n",
       "                        <th id=\"T_f3e33_level0_row7\" class=\"row_heading level0 row7\" >other_sales</th>\n",
       "                        <td id=\"T_f3e33_row7_col0\" class=\"data row7 col0\" >0.000000</td>\n",
       "            </tr>\n",
       "            <tr>\n",
       "                        <th id=\"T_f3e33_level0_row8\" class=\"row_heading level0 row8\" >critic_score</th>\n",
       "                        <td id=\"T_f3e33_row8_col0\" class=\"data row8 col0\" >51.000000</td>\n",
       "            </tr>\n",
       "            <tr>\n",
       "                        <th id=\"T_f3e33_level0_row9\" class=\"row_heading level0 row9\" >user_score</th>\n",
       "                        <td id=\"T_f3e33_row9_col0\" class=\"data row9 col0\" >55.000000</td>\n",
       "            </tr>\n",
       "            <tr>\n",
       "                        <th id=\"T_f3e33_level0_row10\" class=\"row_heading level0 row10\" >rating</th>\n",
       "                        <td id=\"T_f3e33_row10_col0\" class=\"data row10 col0\" >40.000000</td>\n",
       "            </tr>\n",
       "    </tbody></table>"
      ],
      "text/plain": [
       "<pandas.io.formats.style.Styler at 0x7f74c902abe0>"
      ]
     },
     "execution_count": 154,
     "metadata": {},
     "output_type": "execute_result"
    }
   ],
   "source": [
    "#Проверим колличество пропусков в % (не покажет где меньше 1%)\n",
    "pd.DataFrame(round(data.isna().mean()*100)).style.background_gradient('coolwarm')"
   ]
  },
  {
   "cell_type": "markdown",
   "metadata": {},
   "source": [
    "Большое количество пропусков в столбцах оценок критиков и пользователей (51 и 55%), а так же в столбце рейтинга (40%). И всего 2% год релиза. Пропуски могут быть связаны с тем, что пока еще люди не поставили отзывы на новинки, или же данные были не собраны на игры. По таблице можно увидеть, что, например, Super Mario Bros 1985 года, но при этом во всех 3х столцбах, указанных выше, есть пропуски. \n",
    "А год релиза может быть неизвестен."
   ]
  },
  {
   "cell_type": "markdown",
   "metadata": {},
   "source": [
    "<div class=\"alert alert-success\">\n",
    "<b>Комментарий ревьюера: ✅</b>\n",
    "\n",
    "Хороший способ посчитать доли пропущенных значений и визуализировать их 👍\n",
    "</div>"
   ]
  },
  {
   "cell_type": "code",
   "execution_count": 155,
   "metadata": {},
   "outputs": [
    {
     "data": {
      "text/plain": [
       "269"
      ]
     },
     "execution_count": 155,
     "metadata": {},
     "output_type": "execute_result"
    }
   ],
   "source": [
    "data['year_of_release'].isna().sum()"
   ]
  },
  {
   "cell_type": "code",
   "execution_count": 156,
   "metadata": {},
   "outputs": [],
   "source": [
    " #удалим строки где пропущены значения в столбце year_of_release - всего их 269\n",
    "data = data.dropna(subset=['year_of_release']).reset_index(drop=True)"
   ]
  },
  {
   "cell_type": "code",
   "execution_count": 157,
   "metadata": {},
   "outputs": [
    {
     "data": {
      "text/plain": [
       "8983"
      ]
     },
     "execution_count": 157,
     "metadata": {},
     "output_type": "execute_result"
    }
   ],
   "source": [
    "data['user_score'].isna().sum()"
   ]
  },
  {
   "cell_type": "markdown",
   "metadata": {},
   "source": [
    "Поставим заглушки (закроем пропуски каким-то значением, совпадающим по типу с данными колонки таблицы. Заменим пропуски в столбцах critic_score и user_score на -1 чтобы они не слились с реальными оценками 0. "
   ]
  },
  {
   "cell_type": "code",
   "execution_count": 158,
   "metadata": {},
   "outputs": [],
   "source": [
    "data['critic_score'] = data['critic_score'].fillna(-1)\n",
    "data['user_score'] = data['user_score'].fillna(-1)"
   ]
  },
  {
   "cell_type": "markdown",
   "metadata": {},
   "source": [
    "Заменим пропуски в столбце rating на неизвестный "
   ]
  },
  {
   "cell_type": "code",
   "execution_count": 159,
   "metadata": {},
   "outputs": [],
   "source": [
    "data['rating'] = data['rating'].fillna('unknown')"
   ]
  },
  {
   "cell_type": "markdown",
   "metadata": {},
   "source": [
    "<div class=\"alert alert-success\">\n",
    "<b>Комментарий ревьюера: ✅</b>\n",
    "\n",
    "В том числе метод `fillna` и `astype` можно применять к нескольким столбцам одновременно.\n",
    "    \n",
    "Если столбцов более 2–ух, то рекомендую применять цикл `for`.\n",
    "    \n",
    "Пример: \n",
    "    \n",
    "`df.astype({ \"col1\": \"float64\", \"col2\": \"int64\"})`\n",
    "    \n",
    "</div>"
   ]
  },
  {
   "cell_type": "markdown",
   "metadata": {},
   "source": [
    "Аббревиатура 'tbd' в столбце с оценкой пользователей - скорее всего пропуски, заменим их на NaN с помощью np"
   ]
  },
  {
   "cell_type": "code",
   "execution_count": 160,
   "metadata": {},
   "outputs": [],
   "source": [
    "data['user_score'] = data['user_score'].replace('tbd', np.NaN, regex=True)"
   ]
  },
  {
   "cell_type": "markdown",
   "metadata": {},
   "source": [
    "###  Cуммарные продажи во всех регионах "
   ]
  },
  {
   "cell_type": "code",
   "execution_count": 161,
   "metadata": {},
   "outputs": [],
   "source": [
    "data['total_sales'] = data['na_sales'] + data['eu_sales'] + data['jp_sales'] + data['other_sales']"
   ]
  },
  {
   "cell_type": "markdown",
   "metadata": {},
   "source": [
    "<div class=\"alert alert-success\">\n",
    "<b>Комментарий ревьюера: ✅</b>\n",
    "\n",
    "Кстати мы можем применить метод `sum(axis=1)` к суммируемым столбцам.\n",
    "    \n",
    "`df[['col1', 'col2', 'col3']].sum(axis=1)`\n",
    "</div>"
   ]
  },
  {
   "cell_type": "code",
   "execution_count": 162,
   "metadata": {
    "scrolled": true
   },
   "outputs": [
    {
     "data": {
      "text/html": [
       "<div>\n",
       "<style scoped>\n",
       "    .dataframe tbody tr th:only-of-type {\n",
       "        vertical-align: middle;\n",
       "    }\n",
       "\n",
       "    .dataframe tbody tr th {\n",
       "        vertical-align: top;\n",
       "    }\n",
       "\n",
       "    .dataframe thead th {\n",
       "        text-align: right;\n",
       "    }\n",
       "</style>\n",
       "<table border=\"1\" class=\"dataframe\">\n",
       "  <thead>\n",
       "    <tr style=\"text-align: right;\">\n",
       "      <th></th>\n",
       "      <th>name</th>\n",
       "      <th>platform</th>\n",
       "      <th>year_of_release</th>\n",
       "      <th>genre</th>\n",
       "      <th>na_sales</th>\n",
       "      <th>eu_sales</th>\n",
       "      <th>jp_sales</th>\n",
       "      <th>other_sales</th>\n",
       "      <th>critic_score</th>\n",
       "      <th>user_score</th>\n",
       "      <th>rating</th>\n",
       "      <th>total_sales</th>\n",
       "    </tr>\n",
       "  </thead>\n",
       "  <tbody>\n",
       "    <tr>\n",
       "      <th>0</th>\n",
       "      <td>Wii Sports</td>\n",
       "      <td>Wii</td>\n",
       "      <td>2006</td>\n",
       "      <td>Sports</td>\n",
       "      <td>41.36</td>\n",
       "      <td>28.96</td>\n",
       "      <td>3.77</td>\n",
       "      <td>8.45</td>\n",
       "      <td>76.0</td>\n",
       "      <td>8.0</td>\n",
       "      <td>E</td>\n",
       "      <td>82.54</td>\n",
       "    </tr>\n",
       "    <tr>\n",
       "      <th>1</th>\n",
       "      <td>Super Mario Bros.</td>\n",
       "      <td>NES</td>\n",
       "      <td>1985</td>\n",
       "      <td>Platform</td>\n",
       "      <td>29.08</td>\n",
       "      <td>3.58</td>\n",
       "      <td>6.81</td>\n",
       "      <td>0.77</td>\n",
       "      <td>-1.0</td>\n",
       "      <td>-1.0</td>\n",
       "      <td>unknown</td>\n",
       "      <td>40.24</td>\n",
       "    </tr>\n",
       "    <tr>\n",
       "      <th>2</th>\n",
       "      <td>Mario Kart Wii</td>\n",
       "      <td>Wii</td>\n",
       "      <td>2008</td>\n",
       "      <td>Racing</td>\n",
       "      <td>15.68</td>\n",
       "      <td>12.76</td>\n",
       "      <td>3.79</td>\n",
       "      <td>3.29</td>\n",
       "      <td>82.0</td>\n",
       "      <td>8.3</td>\n",
       "      <td>E</td>\n",
       "      <td>35.52</td>\n",
       "    </tr>\n",
       "    <tr>\n",
       "      <th>3</th>\n",
       "      <td>Wii Sports Resort</td>\n",
       "      <td>Wii</td>\n",
       "      <td>2009</td>\n",
       "      <td>Sports</td>\n",
       "      <td>15.61</td>\n",
       "      <td>10.93</td>\n",
       "      <td>3.28</td>\n",
       "      <td>2.95</td>\n",
       "      <td>80.0</td>\n",
       "      <td>8.0</td>\n",
       "      <td>E</td>\n",
       "      <td>32.77</td>\n",
       "    </tr>\n",
       "    <tr>\n",
       "      <th>4</th>\n",
       "      <td>Pokemon Red/Pokemon Blue</td>\n",
       "      <td>GB</td>\n",
       "      <td>1996</td>\n",
       "      <td>Role-Playing</td>\n",
       "      <td>11.27</td>\n",
       "      <td>8.89</td>\n",
       "      <td>10.22</td>\n",
       "      <td>1.00</td>\n",
       "      <td>-1.0</td>\n",
       "      <td>-1.0</td>\n",
       "      <td>unknown</td>\n",
       "      <td>31.38</td>\n",
       "    </tr>\n",
       "  </tbody>\n",
       "</table>\n",
       "</div>"
      ],
      "text/plain": [
       "                       name platform  year_of_release         genre  na_sales  \\\n",
       "0                Wii Sports      Wii             2006        Sports     41.36   \n",
       "1         Super Mario Bros.      NES             1985      Platform     29.08   \n",
       "2            Mario Kart Wii      Wii             2008        Racing     15.68   \n",
       "3         Wii Sports Resort      Wii             2009        Sports     15.61   \n",
       "4  Pokemon Red/Pokemon Blue       GB             1996  Role-Playing     11.27   \n",
       "\n",
       "   eu_sales  jp_sales  other_sales  critic_score  user_score   rating  \\\n",
       "0     28.96      3.77         8.45          76.0         8.0        E   \n",
       "1      3.58      6.81         0.77          -1.0        -1.0  unknown   \n",
       "2     12.76      3.79         3.29          82.0         8.3        E   \n",
       "3     10.93      3.28         2.95          80.0         8.0        E   \n",
       "4      8.89     10.22         1.00          -1.0        -1.0  unknown   \n",
       "\n",
       "   total_sales  \n",
       "0        82.54  \n",
       "1        40.24  \n",
       "2        35.52  \n",
       "3        32.77  \n",
       "4        31.38  "
      ]
     },
     "execution_count": 162,
     "metadata": {},
     "output_type": "execute_result"
    }
   ],
   "source": [
    "data.head()"
   ]
  },
  {
   "cell_type": "markdown",
   "metadata": {},
   "source": [
    "##  Исследовательский анализ данных"
   ]
  },
  {
   "cell_type": "markdown",
   "metadata": {},
   "source": [
    "### Cколько игр выпускалось в разные годы"
   ]
  },
  {
   "cell_type": "code",
   "execution_count": 163,
   "metadata": {
    "scrolled": false
   },
   "outputs": [
    {
     "data": {
      "text/plain": [
       "year_of_release\n",
       "1980       9\n",
       "1981      46\n",
       "1982      36\n",
       "1983      17\n",
       "1984      14\n",
       "1985      14\n",
       "1986      21\n",
       "1987      16\n",
       "1988      15\n",
       "1989      17\n",
       "1990      16\n",
       "1991      41\n",
       "1992      43\n",
       "1993      62\n",
       "1994     121\n",
       "1995     219\n",
       "1996     263\n",
       "1997     289\n",
       "1998     379\n",
       "1999     338\n",
       "2000     350\n",
       "2001     482\n",
       "2002     829\n",
       "2003     775\n",
       "2004     762\n",
       "2005     939\n",
       "2006    1006\n",
       "2007    1197\n",
       "2008    1427\n",
       "2009    1426\n",
       "2010    1255\n",
       "2011    1136\n",
       "2012     653\n",
       "2013     544\n",
       "2014     581\n",
       "2015     606\n",
       "2016     502\n",
       "Name: total_sales, dtype: int64"
      ]
     },
     "execution_count": 163,
     "metadata": {},
     "output_type": "execute_result"
    },
    {
     "data": {
      "image/png": "[encoded data removed]",
      "text/plain": [
       "<Figure size 576x216 with 1 Axes>"
      ]
     },
     "metadata": {
      "needs_background": "light"
     },
     "output_type": "display_data"
    }
   ],
   "source": [
    "temp = data.groupby('year_of_release')['total_sales'].count()\n",
    "plt.figure(figsize=(8, 3))\n",
    "plt.ylabel('total_sales')\n",
    "plt.title('Number of released games in different years')\n",
    "temp.plot()\n",
    "temp"
   ]
  },
  {
   "cell_type": "markdown",
   "metadata": {},
   "source": [
    "По графику видно, что до 1990г выпускалось меньше всего игр (менее 100 за каждый год). От 1990г идет рост вплоть до 2008-2009 года (наибольшее количество игр именно в эти годы - 1427 и 1426). После 2009г пошло заметное снижение до 2013 года (с 1426 до 544 выпущенных игр). После 2013 небольшая коррекция верх.\n",
    "Не все периоды важны, будем брать с 1990 года."
   ]
  },
  {
   "cell_type": "markdown",
   "metadata": {},
   "source": [
    "<div class=\"alert alert-warning\">\n",
    "<b>Комментарий ревьюера: ❗️</b>\n",
    "\n",
    "<s>Не забывай пожалуйста подписывать каждый график.\n",
    "    \n",
    "Это важный момент всего проекта, так быстрее понять о чем идёт речь на графике.\n",
    "    \n",
    "</div>"
   ]
  },
  {
   "cell_type": "markdown",
   "metadata": {},
   "source": [
    "###  Изменение продаж по платформам"
   ]
  },
  {
   "cell_type": "markdown",
   "metadata": {},
   "source": [
    "Выберите платформы с наибольшими суммарными продажами и постройте распределение по годам. За какой характерный срок появляются новые и исчезают старые платформы?"
   ]
  },
  {
   "cell_type": "code",
   "execution_count": 164,
   "metadata": {},
   "outputs": [
    {
     "data": {
      "text/plain": [
       "array(['Wii', 'NES', 'GB', 'DS', 'X360', 'PS3', 'PS2', 'SNES', 'GBA',\n",
       "       'PS4', '3DS', 'N64', 'PS', 'XB', 'PC', '2600', 'PSP', 'XOne',\n",
       "       'WiiU', 'GC', 'GEN', 'DC', 'PSV', 'SAT', 'SCD', 'WS', 'NG', 'TG16',\n",
       "       '3DO', 'GG', 'PCFX'], dtype=object)"
      ]
     },
     "execution_count": 164,
     "metadata": {},
     "output_type": "execute_result"
    }
   ],
   "source": [
    "#посмотрим какие есть платформы\n",
    "data['platform'].unique()"
   ]
  },
  {
   "cell_type": "code",
   "execution_count": 165,
   "metadata": {
    "scrolled": true
   },
   "outputs": [
    {
     "data": {
      "text/plain": [
       "platform\n",
       "PS2     2127\n",
       "DS      2121\n",
       "PS3     1306\n",
       "Wii     1286\n",
       "X360    1232\n",
       "PSP     1193\n",
       "PS      1190\n",
       "PC       957\n",
       "GBA      811\n",
       "XB       803\n",
       "GC       542\n",
       "3DS      512\n",
       "PSV      429\n",
       "PS4      392\n",
       "N64      316\n",
       "XOne     247\n",
       "SNES     239\n",
       "SAT      173\n",
       "WiiU     147\n",
       "2600     116\n",
       "NES       98\n",
       "GB        97\n",
       "DC        52\n",
       "GEN       29\n",
       "NG        12\n",
       "SCD        6\n",
       "WS         6\n",
       "3DO        3\n",
       "TG16       2\n",
       "PCFX       1\n",
       "GG         1\n",
       "Name: total_sales, dtype: int64"
      ]
     },
     "execution_count": 165,
     "metadata": {},
     "output_type": "execute_result"
    }
   ],
   "source": [
    "data.groupby('platform')['total_sales'].count().sort_values(ascending=False)"
   ]
  },
  {
   "cell_type": "markdown",
   "metadata": {},
   "source": [
    "Наибольшие суммарные продажи у этих 7 платформ: PS2, DS, PS3, Wii, X360, PSP, PS  (от 1190 до 2127).\n",
    "Построим распределение по годам от 2000г.\n",
    "\n",
    "Выведем эти 7 платформ с помощью другого метода."
   ]
  },
  {
   "cell_type": "code",
   "execution_count": 166,
   "metadata": {},
   "outputs": [
    {
     "data": {
      "text/plain": [
       "['PS4', 'PS', 'DS', 'Wii', 'PS3', 'X360', 'PS2']"
      ]
     },
     "execution_count": 166,
     "metadata": {},
     "output_type": "execute_result"
    }
   ],
   "source": [
    "top7 = data.groupby('platform').agg({'total_sales': 'sum'}).sort_values(by='total_sales').\\\n",
    "tail(7).index.to_list()\n",
    "top7"
   ]
  },
  {
   "cell_type": "markdown",
   "metadata": {},
   "source": [
    "### Распределение по годам у платформ с наибольшими суммарными продажами на графиках."
   ]
  },
  {
   "cell_type": "code",
   "execution_count": 167,
   "metadata": {},
   "outputs": [
    {
     "name": "stdout",
     "output_type": "stream",
     "text": [
      "PS4\n"
     ]
    },
    {
     "data": {
      "image/png": "[encoded data removed]",
      "text/plain": [
       "<Figure size 432x288 with 1 Axes>"
      ]
     },
     "metadata": {
      "needs_background": "light"
     },
     "output_type": "display_data"
    },
    {
     "name": "stdout",
     "output_type": "stream",
     "text": [
      "PS\n"
     ]
    },
    {
     "data": {
      "image/png": "[encoded data removed]",
      "text/plain": [
       "<Figure size 432x288 with 1 Axes>"
      ]
     },
     "metadata": {
      "needs_background": "light"
     },
     "output_type": "display_data"
    },
    {
     "name": "stdout",
     "output_type": "stream",
     "text": [
      "DS\n"
     ]
    },
    {
     "data": {
      "image/png": "[encoded data removed]",
      "text/plain": [
       "<Figure size 432x288 with 1 Axes>"
      ]
     },
     "metadata": {
      "needs_background": "light"
     },
     "output_type": "display_data"
    },
    {
     "name": "stdout",
     "output_type": "stream",
     "text": [
      "Wii\n"
     ]
    },
    {
     "data": {
      "image/png": "[encoded data removed]",
      "text/plain": [
       "<Figure size 432x288 with 1 Axes>"
      ]
     },
     "metadata": {
      "needs_background": "light"
     },
     "output_type": "display_data"
    },
    {
     "name": "stdout",
     "output_type": "stream",
     "text": [
      "PS3\n"
     ]
    },
    {
     "data": {
      "image/png": "[encoded data removed]",
      "text/plain": [
       "<Figure size 432x288 with 1 Axes>"
      ]
     },
     "metadata": {
      "needs_background": "light"
     },
     "output_type": "display_data"
    },
    {
     "name": "stdout",
     "output_type": "stream",
     "text": [
      "X360\n"
     ]
    },
    {
     "data": {
      "image/png": "[encoded data removed]",
      "text/plain": [
       "<Figure size 432x288 with 1 Axes>"
      ]
     },
     "metadata": {
      "needs_background": "light"
     },
     "output_type": "display_data"
    },
    {
     "name": "stdout",
     "output_type": "stream",
     "text": [
      "PS2\n"
     ]
    },
    {
     "data": {
      "image/png": "[encoded data removed]",
      "text/plain": [
       "<Figure size 432x288 with 1 Axes>"
      ]
     },
     "metadata": {
      "needs_background": "light"
     },
     "output_type": "display_data"
    }
   ],
   "source": [
    "for platform in top7:\n",
    "    print(platform)\n",
    "    data.query('platform in @top7')\\\n",
    "    .pivot_table(index='year_of_release', values='total_sales', aggfunc='sum')\\\n",
    "    .plot(kind='bar')\n",
    "    plt.title('Distribution by years')\n",
    "    plt.show()"
   ]
  },
  {
   "cell_type": "markdown",
   "metadata": {},
   "source": [
    "<div class=\"alert alert-success\">\n",
    "<b>Комментарий ревьюера: ✅</b>\n",
    "\n",
    "Здорово, что автоматизируешь построение график используя цикл `for`.\n",
    "    \n",
    "---\n",
    "    \n",
    "Кстати для того чтобы подписать график мы можем использовать метод `plt.title()` и в конце кода применить `plt.show()`\n",
    "        \n",
    "</div>"
   ]
  },
  {
   "cell_type": "markdown",
   "metadata": {},
   "source": [
    "<div class=\"alert alert-danger\">\n",
    "<b>Комментарий ревьюера: ❌</b>\n",
    "\n",
    "<s>Давай подпишем каждый график в проекте, так образом сделаем еще презентабельнее нашу работу.    \n",
    "</div>"
   ]
  },
  {
   "cell_type": "markdown",
   "metadata": {},
   "source": [
    "<div class=\"alert alert-info\"> <b>Комментарий студента: ℹ️</b> Сделано)</div>"
   ]
  },
  {
   "cell_type": "markdown",
   "metadata": {},
   "source": [
    "Проанализируем средний срок жизни игровой платформы. Построены столбчатые графики для семи самых популярных платформ. Оценим весь цикл жизни игровой платформы, посмотрев на продажи игр для них. Можно заметить, что средний срок жизни игровой платформы 10-12 лет."
   ]
  },
  {
   "cell_type": "markdown",
   "metadata": {},
   "source": [
    "Возьмем данные за соответствующий актуальный период. Актуальный период определим самостоятельно в результате исследования предыдущих вопросов. Основной фактор — эти данные помогут построить прогноз на 2017 год. Пусть будет с 2013г (вышли первые игры на PS4 и хo).\n",
    "\n",
    "Построим график «ящик с усами» по глобальным продажам игр в разбивке по платформам"
   ]
  },
  {
   "cell_type": "markdown",
   "metadata": {},
   "source": [
    "<div class=\"alert alert-success\">\n",
    "<b>Комментарий ревьюера: ✅</b>\n",
    "\n",
    "Согласен.\n",
    "    \n",
    "В том числе мы могли посчитать срок жизни платформы – вычесть из максимальной даты минимальную по каждой платформе и затем усреднить получившиеся значения.\n",
    "    \n",
    "</div>"
   ]
  },
  {
   "cell_type": "code",
   "execution_count": 168,
   "metadata": {},
   "outputs": [
    {
     "data": {
      "text/plain": [
       "(0.0, 2.0)"
      ]
     },
     "execution_count": 168,
     "metadata": {},
     "output_type": "execute_result"
    },
    {
     "data": {
      "image/png": "[encoded data removed]",
      "text/plain": [
       "<Figure size 1166.4x432 with 1 Axes>"
      ]
     },
     "metadata": {
      "needs_background": "light"
     },
     "output_type": "display_data"
    }
   ],
   "source": [
    "data_after2013 = data.query('year_of_release >= 2013')\n",
    "\n",
    "sns.catplot(x='platform',\n",
    "            y='total_sales',\n",
    "            kind='box',\n",
    "            data=data_after2013,\n",
    "            orient='v',\n",
    "            height=6,\n",
    "            aspect=2.7,\n",
    "            palette='viridis')\n",
    "plt.ylim(0,2)"
   ]
  },
  {
   "cell_type": "markdown",
   "metadata": {},
   "source": [
    "Из графика видно, что больше всех лидируют платформы 'PS4',  'Wii', 'X360', 'XOne', 'WiiU platform' и PS3 (2й и 3й квантиль ниже). Х360 и Wii - 4й квартиль выше всех. То есть ниже этого значения находится 75% всех остальных значений массива данных."
   ]
  },
  {
   "cell_type": "markdown",
   "metadata": {},
   "source": [
    "###  Графики ящиков с усами платформ из Топ7"
   ]
  },
  {
   "cell_type": "markdown",
   "metadata": {},
   "source": [
    "Посмотрим на графики ящиков с усами платформ из Топ7. C помощью другой библиотеки matplotlib.pyplot и методом boxplot."
   ]
  },
  {
   "cell_type": "code",
   "execution_count": 169,
   "metadata": {},
   "outputs": [
    {
     "data": {
      "image/png": "[encoded data removed]",
      "text/plain": [
       "<Figure size 1080x720 with 1 Axes>"
      ]
     },
     "metadata": {
      "needs_background": "light"
     },
     "output_type": "display_data"
    }
   ],
   "source": [
    "top7 = data.query(\"platform in ['PS4', 'PS', 'DS', 'Wii', 'PS3', 'X360', 'PS2']\")\n",
    "\n",
    "plt.figure(figsize=(15,10))\n",
    "sns.boxplot(data=top7, x='platform', y='total_sales').\\\n",
    "    set(title='Sales by platform', xlabel='Platforms', ylabel='Game sales, mln.copies', ylim=(0,2))\n",
    "plt.show()"
   ]
  },
  {
   "cell_type": "markdown",
   "metadata": {},
   "source": [
    "Из графика видно, что больше всех лидируют платформы 'PS3' и 'X360'. Затем идет PS4 (второй квартиль ниже) и PS (4 квартиль ниже чем 3х предыдущих платформ). "
   ]
  },
  {
   "cell_type": "markdown",
   "metadata": {},
   "source": [
    "<div class=\"alert alert-success\">\n",
    "<b>Комментарий ревьюера: ✅</b>\n",
    "\n",
    "Отличный способ визуализировать разброс данных по каждой платформе 👍\n",
    "    \n",
    "Кстати мы можем использовать параметр `showfliers=False`, чтобы убрать выбросы с графика.\n",
    "    \n",
    "</div>"
   ]
  },
  {
   "cell_type": "markdown",
   "metadata": {},
   "source": [
    "###  Влияние на продажи внутри одной популярной платформы отзывов пользователей и критиков"
   ]
  },
  {
   "cell_type": "markdown",
   "metadata": {},
   "source": [
    "Посмотрим, как влияют на продажи внутри одной популярной платформы отзывы пользователей и критиков. Построим диаграмму рассеяния и посчитаем корреляцию между отзывами и продажами."
   ]
  },
  {
   "cell_type": "code",
   "execution_count": 170,
   "metadata": {},
   "outputs": [],
   "source": [
    "def plot_cor(data, platform):\n",
    "    scores = data[['platform', 'critic_score', 'user_score', 'total_sales']].query('platform == @platform')\n",
    "    \n",
    "    fig, axes = plt.subplots(1, 2, figsize=(10,5))\n",
    "    fig.suptitle(f'Correlation between reviews and sales for the platform: {platform}')\n",
    "    \n",
    "    for i, score in enumerate(['user_score', 'critic_score']):\n",
    "        sns.scatterplot(ax=axes[i], data=scores, x=score, y='total_sales')\n",
    "    plt.show()\n",
    "        \n",
    "    print('Correlation between user reviews and sales:', scores['total_sales'].corr(scores['user_score']))\n",
    "    print('Correlation between critic reviews and sales:', scores['total_sales'].corr(scores['critic_score']))\n",
    "        "
   ]
  },
  {
   "cell_type": "markdown",
   "metadata": {},
   "source": [
    "<div class=\"alert alert-success\">\n",
    "<b>Комментарий ревьюера: ✅</b>\n",
    "\n",
    "Рад, что создаешь собственные функции для визуализации данных 👍\n",
    "    \n",
    "Так код становится гораздо чище в нашем проекте.\n",
    "</div>"
   ]
  },
  {
   "cell_type": "code",
   "execution_count": 171,
   "metadata": {},
   "outputs": [
    {
     "data": {
      "image/png": "[encoded data removed]",
      "text/plain": [
       "<Figure size 720x360 with 2 Axes>"
      ]
     },
     "metadata": {
      "needs_background": "light"
     },
     "output_type": "display_data"
    },
    {
     "name": "stdout",
     "output_type": "stream",
     "text": [
      "Correlation between user reviews and sales: 0.27316615242145714\n",
      "Correlation between critic reviews and sales: 0.35387454219069475\n"
     ]
    },
    {
     "data": {
      "image/png": "[encoded data removed]",
      "text/plain": [
       "<Figure size 720x360 with 2 Axes>"
      ]
     },
     "metadata": {
      "needs_background": "light"
     },
     "output_type": "display_data"
    },
    {
     "name": "stdout",
     "output_type": "stream",
     "text": [
      "Correlation between user reviews and sales: 0.20618255079822181\n",
      "Correlation between critic reviews and sales: 0.3103300870107926\n"
     ]
    },
    {
     "data": {
      "image/png": "[encoded data removed]",
      "text/plain": [
       "<Figure size 720x360 with 2 Axes>"
      ]
     },
     "metadata": {
      "needs_background": "light"
     },
     "output_type": "display_data"
    },
    {
     "name": "stdout",
     "output_type": "stream",
     "text": [
      "Correlation between user reviews and sales: 0.1159614931286009\n",
      "Correlation between critic reviews and sales: 0.22652606614612347\n"
     ]
    }
   ],
   "source": [
    "platforms = ['PS3', 'X360', 'PS4']\n",
    "for platform in platforms:\n",
    "    plot_cor(data, platform)"
   ]
  },
  {
   "cell_type": "markdown",
   "metadata": {},
   "source": [
    "По диаграммам рассеивания видно, что связь между оценками критиков и пользователей и продажами в целом присутствует. Особенно это видно на примере платформы X360, чем больше оценки критиков, тем больше продаж (или наоборот). На платформах PS3, PS4 связь между оценками критиков и продажами тоже выше, чем между оценками пользователей и продажами. Есть выбивающиеся значения в оценках как у пользователей, так и у критиков на -1, это пропуски, которые были заполнены в начале кода. Они могли сильно повлиять на значения корреляции. Не смотря на это из этих 3х платформ наибольшая корреляция у PS3. Correlation between user reviews and sales: 0.27\n",
    "Correlation between critic reviews and sales: 0.35."
   ]
  },
  {
   "cell_type": "markdown",
   "metadata": {},
   "source": [
    "<div class=\"alert alert-success\">\n",
    "<b>Комментарий ревьюера: ✅</b>\n",
    "    \n",
    "Хорошие и логичные комментарии. Очень важно строить график корреляции между переменными, ведь может произойти такая ситуация, что расчет у нас очень сильный а на графике абсолютно другая картина.\n",
    "    \n",
    "---\n",
    "\n",
    "В том числе можно было построить матрицу корреляции между нужными нам переменными.\n",
    "    \n",
    "И визуализировать её с помощью метода `heatmap` из библиотеки `seaborn`.\n",
    "    \n",
    "</div>"
   ]
  },
  {
   "cell_type": "markdown",
   "metadata": {},
   "source": [
    "### Соотнесем выводы с продажами игр на других платформах."
   ]
  },
  {
   "cell_type": "code",
   "execution_count": 172,
   "metadata": {},
   "outputs": [
    {
     "data": {
      "image/png": "[encoded data removed]",
      "text/plain": [
       "<Figure size 432x288 with 1 Axes>"
      ]
     },
     "metadata": {
      "needs_background": "light"
     },
     "output_type": "display_data"
    }
   ],
   "source": [
    "plot = (data.pivot_table(index='platform', values='total_sales', aggfunc='median')\n",
    "       .sort_values(by='total_sales', ascending=False)\n",
    "       .plot(kind='bar', legend=None, title='Dinamic of sales on other platforms'))"
   ]
  },
  {
   "cell_type": "markdown",
   "metadata": {},
   "source": [
    "Посмотрим средние оценки критиков и пользователей на других более актуальных платформах (Top7), которые были выбраны ранее для анализа."
   ]
  },
  {
   "cell_type": "code",
   "execution_count": 173,
   "metadata": {},
   "outputs": [
    {
     "data": {
      "text/html": [
       "<div>\n",
       "<style scoped>\n",
       "    .dataframe tbody tr th:only-of-type {\n",
       "        vertical-align: middle;\n",
       "    }\n",
       "\n",
       "    .dataframe tbody tr th {\n",
       "        vertical-align: top;\n",
       "    }\n",
       "\n",
       "    .dataframe thead th {\n",
       "        text-align: right;\n",
       "    }\n",
       "</style>\n",
       "<table border=\"1\" class=\"dataframe\">\n",
       "  <thead>\n",
       "    <tr style=\"text-align: right;\">\n",
       "      <th></th>\n",
       "      <th>critic_score</th>\n",
       "      <th>total_sales</th>\n",
       "      <th>user_score</th>\n",
       "    </tr>\n",
       "    <tr>\n",
       "      <th>platform</th>\n",
       "      <th></th>\n",
       "      <th></th>\n",
       "      <th></th>\n",
       "    </tr>\n",
       "  </thead>\n",
       "  <tbody>\n",
       "    <tr>\n",
       "      <th>Wii</th>\n",
       "      <td>64.164583</td>\n",
       "      <td>1.373396</td>\n",
       "      <td>6.905833</td>\n",
       "    </tr>\n",
       "    <tr>\n",
       "      <th>PS</th>\n",
       "      <td>74.150327</td>\n",
       "      <td>1.372418</td>\n",
       "      <td>7.877124</td>\n",
       "    </tr>\n",
       "    <tr>\n",
       "      <th>PS3</th>\n",
       "      <td>70.907097</td>\n",
       "      <td>1.013471</td>\n",
       "      <td>6.788258</td>\n",
       "    </tr>\n",
       "    <tr>\n",
       "      <th>X360</th>\n",
       "      <td>69.080139</td>\n",
       "      <td>0.991487</td>\n",
       "      <td>6.785830</td>\n",
       "    </tr>\n",
       "    <tr>\n",
       "      <th>PS4</th>\n",
       "      <td>72.132530</td>\n",
       "      <td>0.981004</td>\n",
       "      <td>6.749799</td>\n",
       "    </tr>\n",
       "    <tr>\n",
       "      <th>PS2</th>\n",
       "      <td>69.492105</td>\n",
       "      <td>0.829833</td>\n",
       "      <td>7.664386</td>\n",
       "    </tr>\n",
       "    <tr>\n",
       "      <th>DS</th>\n",
       "      <td>66.531183</td>\n",
       "      <td>0.823398</td>\n",
       "      <td>7.044946</td>\n",
       "    </tr>\n",
       "  </tbody>\n",
       "</table>\n",
       "</div>"
      ],
      "text/plain": [
       "          critic_score  total_sales  user_score\n",
       "platform                                       \n",
       "Wii          64.164583     1.373396    6.905833\n",
       "PS           74.150327     1.372418    7.877124\n",
       "PS3          70.907097     1.013471    6.788258\n",
       "X360         69.080139     0.991487    6.785830\n",
       "PS4          72.132530     0.981004    6.749799\n",
       "PS2          69.492105     0.829833    7.664386\n",
       "DS           66.531183     0.823398    7.044946"
      ]
     },
     "execution_count": 173,
     "metadata": {},
     "output_type": "execute_result"
    }
   ],
   "source": [
    "# удаляем значения-заглушки\n",
    "df = top7[top7['user_score'] != -1]\n",
    "df = df[df['critic_score'] != -1]\n",
    "plot2 = (df.pivot_table(index='platform', values=['critic_score', 'user_score', 'total_sales'])\n",
    "         .sort_values(by='total_sales', ascending=False))\n",
    "plot2"
   ]
  },
  {
   "cell_type": "markdown",
   "metadata": {},
   "source": []
  },
  {
   "cell_type": "markdown",
   "metadata": {},
   "source": [
    "### Общее распределение игр по жанрам. "
   ]
  },
  {
   "cell_type": "markdown",
   "metadata": {},
   "source": [
    "Возьмем данные за весь период и с 2013г для сравнения."
   ]
  },
  {
   "cell_type": "code",
   "execution_count": 174,
   "metadata": {},
   "outputs": [
    {
     "data": {
      "text/html": [
       "<div>\n",
       "<style scoped>\n",
       "    .dataframe tbody tr th:only-of-type {\n",
       "        vertical-align: middle;\n",
       "    }\n",
       "\n",
       "    .dataframe tbody tr th {\n",
       "        vertical-align: top;\n",
       "    }\n",
       "\n",
       "    .dataframe thead th {\n",
       "        text-align: right;\n",
       "    }\n",
       "</style>\n",
       "<table border=\"1\" class=\"dataframe\">\n",
       "  <thead>\n",
       "    <tr style=\"text-align: right;\">\n",
       "      <th></th>\n",
       "      <th>mean</th>\n",
       "      <th>median</th>\n",
       "      <th>sum</th>\n",
       "    </tr>\n",
       "    <tr>\n",
       "      <th>genre</th>\n",
       "      <th></th>\n",
       "      <th></th>\n",
       "      <th></th>\n",
       "    </tr>\n",
       "  </thead>\n",
       "  <tbody>\n",
       "    <tr>\n",
       "      <th>Platform</th>\n",
       "      <td>0.94</td>\n",
       "      <td>0.27</td>\n",
       "      <td>825.55</td>\n",
       "    </tr>\n",
       "    <tr>\n",
       "      <th>Shooter</th>\n",
       "      <td>0.80</td>\n",
       "      <td>0.24</td>\n",
       "      <td>1041.36</td>\n",
       "    </tr>\n",
       "    <tr>\n",
       "      <th>Role-Playing</th>\n",
       "      <td>0.63</td>\n",
       "      <td>0.18</td>\n",
       "      <td>931.08</td>\n",
       "    </tr>\n",
       "    <tr>\n",
       "      <th>Racing</th>\n",
       "      <td>0.59</td>\n",
       "      <td>0.19</td>\n",
       "      <td>723.49</td>\n",
       "    </tr>\n",
       "    <tr>\n",
       "      <th>Sports</th>\n",
       "      <td>0.57</td>\n",
       "      <td>0.22</td>\n",
       "      <td>1309.67</td>\n",
       "    </tr>\n",
       "    <tr>\n",
       "      <th>Fighting</th>\n",
       "      <td>0.53</td>\n",
       "      <td>0.21</td>\n",
       "      <td>442.66</td>\n",
       "    </tr>\n",
       "    <tr>\n",
       "      <th>Action</th>\n",
       "      <td>0.52</td>\n",
       "      <td>0.19</td>\n",
       "      <td>1716.52</td>\n",
       "    </tr>\n",
       "    <tr>\n",
       "      <th>Misc</th>\n",
       "      <td>0.46</td>\n",
       "      <td>0.16</td>\n",
       "      <td>790.29</td>\n",
       "    </tr>\n",
       "    <tr>\n",
       "      <th>Simulation</th>\n",
       "      <td>0.45</td>\n",
       "      <td>0.15</td>\n",
       "      <td>387.96</td>\n",
       "    </tr>\n",
       "    <tr>\n",
       "      <th>Puzzle</th>\n",
       "      <td>0.42</td>\n",
       "      <td>0.10</td>\n",
       "      <td>239.89</td>\n",
       "    </tr>\n",
       "    <tr>\n",
       "      <th>Strategy</th>\n",
       "      <td>0.26</td>\n",
       "      <td>0.10</td>\n",
       "      <td>172.57</td>\n",
       "    </tr>\n",
       "    <tr>\n",
       "      <th>Adventure</th>\n",
       "      <td>0.18</td>\n",
       "      <td>0.05</td>\n",
       "      <td>233.33</td>\n",
       "    </tr>\n",
       "  </tbody>\n",
       "</table>\n",
       "</div>"
      ],
      "text/plain": [
       "              mean  median      sum\n",
       "genre                              \n",
       "Platform      0.94    0.27   825.55\n",
       "Shooter       0.80    0.24  1041.36\n",
       "Role-Playing  0.63    0.18   931.08\n",
       "Racing        0.59    0.19   723.49\n",
       "Sports        0.57    0.22  1309.67\n",
       "Fighting      0.53    0.21   442.66\n",
       "Action        0.52    0.19  1716.52\n",
       "Misc          0.46    0.16   790.29\n",
       "Simulation    0.45    0.15   387.96\n",
       "Puzzle        0.42    0.10   239.89\n",
       "Strategy      0.26    0.10   172.57\n",
       "Adventure     0.18    0.05   233.33"
      ]
     },
     "execution_count": 174,
     "metadata": {},
     "output_type": "execute_result"
    }
   ],
   "source": [
    "data.pivot_table(index='genre', values='total_sales',\\\n",
    "                 aggfunc=('mean','median','sum')).round(2).sort_values(by='mean', ascending=False)"
   ]
  },
  {
   "cell_type": "markdown",
   "metadata": {},
   "source": [
    "<div class=\"alert alert-warning\">\n",
    "<b>Комментарий ревьюера: ❗️</b>\n",
    "\n",
    "<s>Если код не помещается в одну строку, рекомендую переносить его на следующую подстроку если мы внутри одного метода пишем код или с помощью обратного слеша, если применяем несколько методов. Так код читается быстрее и понятнее.\n",
    "    \n",
    "</div>"
   ]
  },
  {
   "cell_type": "markdown",
   "metadata": {},
   "source": [
    "Самые большие продажи у жанра Action (1716 sum, 0.52 - среднее, 0.19 - медиана) Sports (1309 sum, 0.57 - среднее, 0.22 - медиана) Shooter (1041 sum, 0.8 - среднее, 0.22 - медиана). Cамые маленькие продажи у жанра Strategy (172 sum).\n",
    "\n",
    "Для анализа жангров игр, которые стабильно приносят высокий доход, рассмотрим среднее или медианное значение. Это Platform (mean = 0.94), Shooter(0.8), Role-Playint(0.63).\n",
    "Наименьшее среднее у жанра Adventure (0.18)"
   ]
  },
  {
   "cell_type": "code",
   "execution_count": 175,
   "metadata": {},
   "outputs": [
    {
     "data": {
      "text/html": [
       "<div>\n",
       "<style scoped>\n",
       "    .dataframe tbody tr th:only-of-type {\n",
       "        vertical-align: middle;\n",
       "    }\n",
       "\n",
       "    .dataframe tbody tr th {\n",
       "        vertical-align: top;\n",
       "    }\n",
       "\n",
       "    .dataframe thead th {\n",
       "        text-align: right;\n",
       "    }\n",
       "</style>\n",
       "<table border=\"1\" class=\"dataframe\">\n",
       "  <thead>\n",
       "    <tr style=\"text-align: right;\">\n",
       "      <th></th>\n",
       "      <th>mean</th>\n",
       "      <th>median</th>\n",
       "      <th>sum</th>\n",
       "    </tr>\n",
       "    <tr>\n",
       "      <th>genre</th>\n",
       "      <th></th>\n",
       "      <th></th>\n",
       "      <th></th>\n",
       "    </tr>\n",
       "  </thead>\n",
       "  <tbody>\n",
       "    <tr>\n",
       "      <th>Shooter</th>\n",
       "      <td>1.25</td>\n",
       "      <td>0.45</td>\n",
       "      <td>232.98</td>\n",
       "    </tr>\n",
       "    <tr>\n",
       "      <th>Sports</th>\n",
       "      <td>0.70</td>\n",
       "      <td>0.24</td>\n",
       "      <td>150.65</td>\n",
       "    </tr>\n",
       "    <tr>\n",
       "      <th>Platform</th>\n",
       "      <td>0.58</td>\n",
       "      <td>0.22</td>\n",
       "      <td>42.63</td>\n",
       "    </tr>\n",
       "    <tr>\n",
       "      <th>Role-Playing</th>\n",
       "      <td>0.50</td>\n",
       "      <td>0.12</td>\n",
       "      <td>145.89</td>\n",
       "    </tr>\n",
       "    <tr>\n",
       "      <th>Racing</th>\n",
       "      <td>0.47</td>\n",
       "      <td>0.12</td>\n",
       "      <td>39.89</td>\n",
       "    </tr>\n",
       "    <tr>\n",
       "      <th>Fighting</th>\n",
       "      <td>0.44</td>\n",
       "      <td>0.12</td>\n",
       "      <td>35.31</td>\n",
       "    </tr>\n",
       "    <tr>\n",
       "      <th>Action</th>\n",
       "      <td>0.42</td>\n",
       "      <td>0.11</td>\n",
       "      <td>321.87</td>\n",
       "    </tr>\n",
       "    <tr>\n",
       "      <th>Misc</th>\n",
       "      <td>0.41</td>\n",
       "      <td>0.10</td>\n",
       "      <td>62.82</td>\n",
       "    </tr>\n",
       "    <tr>\n",
       "      <th>Simulation</th>\n",
       "      <td>0.35</td>\n",
       "      <td>0.10</td>\n",
       "      <td>21.76</td>\n",
       "    </tr>\n",
       "    <tr>\n",
       "      <th>Puzzle</th>\n",
       "      <td>0.19</td>\n",
       "      <td>0.06</td>\n",
       "      <td>3.17</td>\n",
       "    </tr>\n",
       "    <tr>\n",
       "      <th>Strategy</th>\n",
       "      <td>0.18</td>\n",
       "      <td>0.08</td>\n",
       "      <td>10.08</td>\n",
       "    </tr>\n",
       "    <tr>\n",
       "      <th>Adventure</th>\n",
       "      <td>0.10</td>\n",
       "      <td>0.03</td>\n",
       "      <td>23.64</td>\n",
       "    </tr>\n",
       "  </tbody>\n",
       "</table>\n",
       "</div>"
      ],
      "text/plain": [
       "              mean  median     sum\n",
       "genre                             \n",
       "Shooter       1.25    0.45  232.98\n",
       "Sports        0.70    0.24  150.65\n",
       "Platform      0.58    0.22   42.63\n",
       "Role-Playing  0.50    0.12  145.89\n",
       "Racing        0.47    0.12   39.89\n",
       "Fighting      0.44    0.12   35.31\n",
       "Action        0.42    0.11  321.87\n",
       "Misc          0.41    0.10   62.82\n",
       "Simulation    0.35    0.10   21.76\n",
       "Puzzle        0.19    0.06    3.17\n",
       "Strategy      0.18    0.08   10.08\n",
       "Adventure     0.10    0.03   23.64"
      ]
     },
     "execution_count": 175,
     "metadata": {},
     "output_type": "execute_result"
    }
   ],
   "source": [
    "data_after2013.pivot_table(index='genre', values='total_sales',\\\n",
    "                           aggfunc=('mean','median','sum')).round(2).sort_values(by='mean', ascending=False)"
   ]
  },
  {
   "cell_type": "markdown",
   "metadata": {},
   "source": [
    "C 2013г картина немного другая. Самые большие продажи у жанров: Action (321,8), Shooter (233), Sports (150.65). Shooter и Sports поменялись местами. Cамые маленькие продажи у жанра Puzzle (3.17 sum).\n",
    "\n",
    "Для анализа жангров игр, которые стабильно приносят высокий доход, рассмотрим среднее или медианное значение. \n",
    "Тут в лидерах Shooter (mean=1.25), Sports (0.7), Platform (0.58). \n",
    "Наименьшее среднее у жанра Adventure (0.1).\n"
   ]
  },
  {
   "cell_type": "markdown",
   "metadata": {},
   "source": [
    "<div class=\"alert alert-success\">\n",
    "<b>Комментарий ревьюера: ✅</b>\n",
    "\n",
    "В целом хорошо, что оцениваешь в том числе медианные и средние показатели продаж, т.к. они гораздо устойчивее к выбросам, чем просто сумма.\n",
    "    \n",
    "P.s. Можно было визуализировать кстати итоговую актуальную таблицу.\n",
    "    \n",
    "</div>"
   ]
  },
  {
   "cell_type": "markdown",
   "metadata": {},
   "source": [
    "## Портрет пользователя каждого региона"
   ]
  },
  {
   "cell_type": "markdown",
   "metadata": {},
   "source": [
    "Определите для пользователя каждого региона (NA, EU, JP):\n",
    "Самые популярные платформы (топ-5). Опишите различия в долях продаж.\n",
    "Самые популярные жанры (топ-5). Поясните разницу.\n",
    "Влияет ли рейтинг ESRB на продажи в отдельном регионе?"
   ]
  },
  {
   "cell_type": "markdown",
   "metadata": {},
   "source": [
    "###  Самые популярные платформы (топ-5)."
   ]
  },
  {
   "cell_type": "code",
   "execution_count": 176,
   "metadata": {},
   "outputs": [
    {
     "data": {
      "text/html": [
       "<div>\n",
       "<style scoped>\n",
       "    .dataframe tbody tr th:only-of-type {\n",
       "        vertical-align: middle;\n",
       "    }\n",
       "\n",
       "    .dataframe tbody tr th {\n",
       "        vertical-align: top;\n",
       "    }\n",
       "\n",
       "    .dataframe thead th {\n",
       "        text-align: right;\n",
       "    }\n",
       "</style>\n",
       "<table border=\"1\" class=\"dataframe\">\n",
       "  <thead>\n",
       "    <tr style=\"text-align: right;\">\n",
       "      <th></th>\n",
       "      <th>platform</th>\n",
       "      <th>sum</th>\n",
       "      <th>mean</th>\n",
       "      <th>median</th>\n",
       "    </tr>\n",
       "  </thead>\n",
       "  <tbody>\n",
       "    <tr>\n",
       "      <th>4</th>\n",
       "      <td>PS4</td>\n",
       "      <td>141.09</td>\n",
       "      <td>0.359923</td>\n",
       "      <td>0.080</td>\n",
       "    </tr>\n",
       "    <tr>\n",
       "      <th>3</th>\n",
       "      <td>PS3</td>\n",
       "      <td>67.81</td>\n",
       "      <td>0.196551</td>\n",
       "      <td>0.020</td>\n",
       "    </tr>\n",
       "    <tr>\n",
       "      <th>0</th>\n",
       "      <td>3DS</td>\n",
       "      <td>30.96</td>\n",
       "      <td>0.102178</td>\n",
       "      <td>0.000</td>\n",
       "    </tr>\n",
       "    <tr>\n",
       "      <th>2</th>\n",
       "      <td>PC</td>\n",
       "      <td>25.36</td>\n",
       "      <td>0.134180</td>\n",
       "      <td>0.060</td>\n",
       "    </tr>\n",
       "    <tr>\n",
       "      <th>1</th>\n",
       "      <td>DS</td>\n",
       "      <td>0.85</td>\n",
       "      <td>0.106250</td>\n",
       "      <td>0.095</td>\n",
       "    </tr>\n",
       "  </tbody>\n",
       "</table>\n",
       "</div>"
      ],
      "text/plain": [
       "  platform     sum      mean  median\n",
       "4      PS4  141.09  0.359923   0.080\n",
       "3      PS3   67.81  0.196551   0.020\n",
       "0      3DS   30.96  0.102178   0.000\n",
       "2       PC   25.36  0.134180   0.060\n",
       "1       DS    0.85  0.106250   0.095"
      ]
     },
     "execution_count": 176,
     "metadata": {},
     "output_type": "execute_result"
    }
   ],
   "source": [
    "# Самые популярные платформы (топ-5) в Европе\n",
    "eu_top_platform = data_after2013.groupby('platform')['eu_sales']\\\n",
    "                                .agg(['sum','mean','median']).reset_index().head(5)\n",
    "eu_top_platform.sort_values(by='sum', ascending=False)"
   ]
  },
  {
   "cell_type": "code",
   "execution_count": 177,
   "metadata": {},
   "outputs": [
    {
     "data": {
      "text/html": [
       "<div>\n",
       "<style scoped>\n",
       "    .dataframe tbody tr th:only-of-type {\n",
       "        vertical-align: middle;\n",
       "    }\n",
       "\n",
       "    .dataframe tbody tr th {\n",
       "        vertical-align: top;\n",
       "    }\n",
       "\n",
       "    .dataframe thead th {\n",
       "        text-align: right;\n",
       "    }\n",
       "</style>\n",
       "<table border=\"1\" class=\"dataframe\">\n",
       "  <thead>\n",
       "    <tr style=\"text-align: right;\">\n",
       "      <th></th>\n",
       "      <th>platform</th>\n",
       "      <th>sum</th>\n",
       "      <th>mean</th>\n",
       "      <th>median</th>\n",
       "    </tr>\n",
       "  </thead>\n",
       "  <tbody>\n",
       "    <tr>\n",
       "      <th>4</th>\n",
       "      <td>PS4</td>\n",
       "      <td>108.74</td>\n",
       "      <td>0.28</td>\n",
       "      <td>0.06</td>\n",
       "    </tr>\n",
       "    <tr>\n",
       "      <th>3</th>\n",
       "      <td>PS3</td>\n",
       "      <td>63.50</td>\n",
       "      <td>0.18</td>\n",
       "      <td>0.03</td>\n",
       "    </tr>\n",
       "    <tr>\n",
       "      <th>0</th>\n",
       "      <td>3DS</td>\n",
       "      <td>38.20</td>\n",
       "      <td>0.13</td>\n",
       "      <td>0.00</td>\n",
       "    </tr>\n",
       "    <tr>\n",
       "      <th>2</th>\n",
       "      <td>PC</td>\n",
       "      <td>11.11</td>\n",
       "      <td>0.06</td>\n",
       "      <td>0.00</td>\n",
       "    </tr>\n",
       "    <tr>\n",
       "      <th>1</th>\n",
       "      <td>DS</td>\n",
       "      <td>0.57</td>\n",
       "      <td>0.07</td>\n",
       "      <td>0.02</td>\n",
       "    </tr>\n",
       "  </tbody>\n",
       "</table>\n",
       "</div>"
      ],
      "text/plain": [
       "  platform     sum  mean  median\n",
       "4      PS4  108.74  0.28    0.06\n",
       "3      PS3   63.50  0.18    0.03\n",
       "0      3DS   38.20  0.13    0.00\n",
       "2       PC   11.11  0.06    0.00\n",
       "1       DS    0.57  0.07    0.02"
      ]
     },
     "execution_count": 177,
     "metadata": {},
     "output_type": "execute_result"
    }
   ],
   "source": [
    "# Самые популярные платформы (топ-5) в Америке\n",
    "na_top_platform = data_after2013.groupby('platform')['na_sales']\\\n",
    "                                .agg(['sum','mean','median']).round(2).reset_index().head(5)\n",
    "na_top_platform.sort_values(by='sum', ascending=False)"
   ]
  },
  {
   "cell_type": "markdown",
   "metadata": {},
   "source": [
    "<div class=\"alert alert-info\"> <b>Комментарий студента: ℹ️</b> Визуализируем портреты наших пользователей</div>"
   ]
  },
  {
   "cell_type": "code",
   "execution_count": 178,
   "metadata": {},
   "outputs": [
    {
     "data": {
      "image/png": "[encoded data removed]",
      "text/plain": [
       "<Figure size 1080x360 with 3 Axes>"
      ]
     },
     "metadata": {},
     "output_type": "display_data"
    }
   ],
   "source": [
    "regions_sales = ['eu_sales', 'na_sales', 'jp_sales']\n",
    "\n",
    "with plt.rc_context({'axes.edgecolor':'white', 'xtick.color':'white', 'ytick.color':'white', 'figure.facecolor':'white'}):\n",
    "    fig, ax = plt.subplots(1, len(regions_sales), figsize=(15,5))\n",
    "    for i, region in enumerate(regions_sales):\n",
    "        region_top_platform = data_after2013.groupby('platform').agg({region: 'sum'})\\\n",
    "                            .sort_values(by=region, ascending=False).reset_index().head()\n",
    "        region_top_platform.plot(ax=ax[i], x='platform', y=region, kind='pie',\\\n",
    "                                 legend=False, autopct='%1.1f%%', labels=region_top_platform['platform'])\n",
    "    plt.show()"
   ]
  },
  {
   "cell_type": "code",
   "execution_count": 179,
   "metadata": {},
   "outputs": [
    {
     "data": {
      "text/html": [
       "<div>\n",
       "<style scoped>\n",
       "    .dataframe tbody tr th:only-of-type {\n",
       "        vertical-align: middle;\n",
       "    }\n",
       "\n",
       "    .dataframe tbody tr th {\n",
       "        vertical-align: top;\n",
       "    }\n",
       "\n",
       "    .dataframe thead th {\n",
       "        text-align: right;\n",
       "    }\n",
       "</style>\n",
       "<table border=\"1\" class=\"dataframe\">\n",
       "  <thead>\n",
       "    <tr style=\"text-align: right;\">\n",
       "      <th></th>\n",
       "      <th>platform</th>\n",
       "      <th>sum</th>\n",
       "      <th>mean</th>\n",
       "      <th>median</th>\n",
       "    </tr>\n",
       "  </thead>\n",
       "  <tbody>\n",
       "    <tr>\n",
       "      <th>0</th>\n",
       "      <td>3DS</td>\n",
       "      <td>67.81</td>\n",
       "      <td>0.22</td>\n",
       "      <td>0.06</td>\n",
       "    </tr>\n",
       "    <tr>\n",
       "      <th>3</th>\n",
       "      <td>PS3</td>\n",
       "      <td>23.35</td>\n",
       "      <td>0.07</td>\n",
       "      <td>0.03</td>\n",
       "    </tr>\n",
       "    <tr>\n",
       "      <th>4</th>\n",
       "      <td>PS4</td>\n",
       "      <td>15.96</td>\n",
       "      <td>0.04</td>\n",
       "      <td>0.01</td>\n",
       "    </tr>\n",
       "    <tr>\n",
       "      <th>1</th>\n",
       "      <td>DS</td>\n",
       "      <td>0.00</td>\n",
       "      <td>0.00</td>\n",
       "      <td>0.00</td>\n",
       "    </tr>\n",
       "    <tr>\n",
       "      <th>2</th>\n",
       "      <td>PC</td>\n",
       "      <td>0.00</td>\n",
       "      <td>0.00</td>\n",
       "      <td>0.00</td>\n",
       "    </tr>\n",
       "  </tbody>\n",
       "</table>\n",
       "</div>"
      ],
      "text/plain": [
       "  platform    sum  mean  median\n",
       "0      3DS  67.81  0.22    0.06\n",
       "3      PS3  23.35  0.07    0.03\n",
       "4      PS4  15.96  0.04    0.01\n",
       "1       DS   0.00  0.00    0.00\n",
       "2       PC   0.00  0.00    0.00"
      ]
     },
     "execution_count": 179,
     "metadata": {},
     "output_type": "execute_result"
    }
   ],
   "source": [
    "# Самые популярные платформы (топ-5) в Японии\n",
    "jp_top_platform = data_after2013.groupby('platform')['jp_sales']\\\n",
    "                                .agg(['sum','mean','median']).round(2).reset_index().head(5)\n",
    "jp_top_platform.sort_values(by='sum', ascending=False)"
   ]
  },
  {
   "cell_type": "markdown",
   "metadata": {},
   "source": [
    "### Самые популярные платформы в целом"
   ]
  },
  {
   "cell_type": "code",
   "execution_count": 180,
   "metadata": {},
   "outputs": [
    {
     "data": {
      "text/html": [
       "<style  type=\"text/css\" >\n",
       "#T_dcd82_row0_col0,#T_dcd82_row0_col1,#T_dcd82_row4_col2{\n",
       "            background-color:  #08306b;\n",
       "            color:  #f1f1f1;\n",
       "        }#T_dcd82_row0_col2{\n",
       "            background-color:  #c9ddf0;\n",
       "            color:  #000000;\n",
       "        }#T_dcd82_row1_col0{\n",
       "            background-color:  #74b3d8;\n",
       "            color:  #000000;\n",
       "        }#T_dcd82_row1_col1{\n",
       "            background-color:  #4f9bcb;\n",
       "            color:  #000000;\n",
       "        }#T_dcd82_row1_col2{\n",
       "            background-color:  #a8cee4;\n",
       "            color:  #000000;\n",
       "        }#T_dcd82_row2_col0{\n",
       "            background-color:  #a1cbe2;\n",
       "            color:  #000000;\n",
       "        }#T_dcd82_row2_col1{\n",
       "            background-color:  #0b559f;\n",
       "            color:  #f1f1f1;\n",
       "        }#T_dcd82_row2_col2,#T_dcd82_row3_col2,#T_dcd82_row9_col0,#T_dcd82_row9_col1{\n",
       "            background-color:  #f6faff;\n",
       "            color:  #000000;\n",
       "        }#T_dcd82_row3_col0{\n",
       "            background-color:  #b7d4ea;\n",
       "            color:  #000000;\n",
       "        }#T_dcd82_row3_col1{\n",
       "            background-color:  #2070b4;\n",
       "            color:  #f1f1f1;\n",
       "        }#T_dcd82_row4_col0{\n",
       "            background-color:  #cddff1;\n",
       "            color:  #000000;\n",
       "        }#T_dcd82_row4_col1{\n",
       "            background-color:  #a6cee4;\n",
       "            color:  #000000;\n",
       "        }#T_dcd82_row5_col0{\n",
       "            background-color:  #d4e4f4;\n",
       "            color:  #000000;\n",
       "        }#T_dcd82_row5_col1{\n",
       "            background-color:  #e3eef8;\n",
       "            color:  #000000;\n",
       "        }#T_dcd82_row5_col2,#T_dcd82_row8_col2,#T_dcd82_row9_col2,#T_dcd82_row10_col0,#T_dcd82_row10_col1{\n",
       "            background-color:  #f7fbff;\n",
       "            color:  #000000;\n",
       "        }#T_dcd82_row6_col0{\n",
       "            background-color:  #dce9f6;\n",
       "            color:  #000000;\n",
       "        }#T_dcd82_row6_col1{\n",
       "            background-color:  #c1d9ed;\n",
       "            color:  #000000;\n",
       "        }#T_dcd82_row6_col2{\n",
       "            background-color:  #d7e6f5;\n",
       "            color:  #000000;\n",
       "        }#T_dcd82_row7_col0,#T_dcd82_row8_col0{\n",
       "            background-color:  #eff6fc;\n",
       "            color:  #000000;\n",
       "        }#T_dcd82_row7_col1,#T_dcd82_row10_col2{\n",
       "            background-color:  #eef5fc;\n",
       "            color:  #000000;\n",
       "        }#T_dcd82_row7_col2{\n",
       "            background-color:  #bed8ec;\n",
       "            color:  #000000;\n",
       "        }#T_dcd82_row8_col1{\n",
       "            background-color:  #ebf3fb;\n",
       "            color:  #000000;\n",
       "        }</style><table id=\"T_dcd82_\" ><thead>    <tr>        <th class=\"blank level0\" ></th>        <th class=\"col_heading level0 col0\" >eu_sales</th>        <th class=\"col_heading level0 col1\" >na_sales</th>        <th class=\"col_heading level0 col2\" >jp_sales</th>    </tr>    <tr>        <th class=\"index_name level0\" >platform</th>        <th class=\"blank\" ></th>        <th class=\"blank\" ></th>        <th class=\"blank\" ></th>    </tr></thead><tbody>\n",
       "                <tr>\n",
       "                        <th id=\"T_dcd82_level0_row0\" class=\"row_heading level0 row0\" >PS4</th>\n",
       "                        <td id=\"T_dcd82_row0_col0\" class=\"data row0 col0\" >141.090000</td>\n",
       "                        <td id=\"T_dcd82_row0_col1\" class=\"data row0 col1\" >108.740000</td>\n",
       "                        <td id=\"T_dcd82_row0_col2\" class=\"data row0 col2\" >15.960000</td>\n",
       "            </tr>\n",
       "            <tr>\n",
       "                        <th id=\"T_dcd82_level0_row1\" class=\"row_heading level0 row1\" >PS3</th>\n",
       "                        <td id=\"T_dcd82_row1_col0\" class=\"data row1 col0\" >67.810000</td>\n",
       "                        <td id=\"T_dcd82_row1_col1\" class=\"data row1 col1\" >63.500000</td>\n",
       "                        <td id=\"T_dcd82_row1_col2\" class=\"data row1 col2\" >23.350000</td>\n",
       "            </tr>\n",
       "            <tr>\n",
       "                        <th id=\"T_dcd82_level0_row2\" class=\"row_heading level0 row2\" >XOne</th>\n",
       "                        <td id=\"T_dcd82_row2_col0\" class=\"data row2 col0\" >51.590000</td>\n",
       "                        <td id=\"T_dcd82_row2_col1\" class=\"data row2 col1\" >93.120000</td>\n",
       "                        <td id=\"T_dcd82_row2_col2\" class=\"data row2 col2\" >0.340000</td>\n",
       "            </tr>\n",
       "            <tr>\n",
       "                        <th id=\"T_dcd82_level0_row3\" class=\"row_heading level0 row3\" >X360</th>\n",
       "                        <td id=\"T_dcd82_row3_col0\" class=\"data row3 col0\" >42.520000</td>\n",
       "                        <td id=\"T_dcd82_row3_col1\" class=\"data row3 col1\" >81.660000</td>\n",
       "                        <td id=\"T_dcd82_row3_col2\" class=\"data row3 col2\" >0.510000</td>\n",
       "            </tr>\n",
       "            <tr>\n",
       "                        <th id=\"T_dcd82_level0_row4\" class=\"row_heading level0 row4\" >3DS</th>\n",
       "                        <td id=\"T_dcd82_row4_col0\" class=\"data row4 col0\" >30.960000</td>\n",
       "                        <td id=\"T_dcd82_row4_col1\" class=\"data row4 col1\" >38.200000</td>\n",
       "                        <td id=\"T_dcd82_row4_col2\" class=\"data row4 col2\" >67.810000</td>\n",
       "            </tr>\n",
       "            <tr>\n",
       "                        <th id=\"T_dcd82_level0_row5\" class=\"row_heading level0 row5\" >PC</th>\n",
       "                        <td id=\"T_dcd82_row5_col0\" class=\"data row5 col0\" >25.360000</td>\n",
       "                        <td id=\"T_dcd82_row5_col1\" class=\"data row5 col1\" >11.110000</td>\n",
       "                        <td id=\"T_dcd82_row5_col2\" class=\"data row5 col2\" >0.000000</td>\n",
       "            </tr>\n",
       "            <tr>\n",
       "                        <th id=\"T_dcd82_level0_row6\" class=\"row_heading level0 row6\" >WiiU</th>\n",
       "                        <td id=\"T_dcd82_row6_col0\" class=\"data row6 col0\" >19.850000</td>\n",
       "                        <td id=\"T_dcd82_row6_col1\" class=\"data row6 col1\" >29.210000</td>\n",
       "                        <td id=\"T_dcd82_row6_col2\" class=\"data row6 col2\" >10.880000</td>\n",
       "            </tr>\n",
       "            <tr>\n",
       "                        <th id=\"T_dcd82_level0_row7\" class=\"row_heading level0 row7\" >PSV</th>\n",
       "                        <td id=\"T_dcd82_row7_col0\" class=\"data row7 col0\" >6.100000</td>\n",
       "                        <td id=\"T_dcd82_row7_col1\" class=\"data row7 col1\" >5.040000</td>\n",
       "                        <td id=\"T_dcd82_row7_col2\" class=\"data row7 col2\" >18.590000</td>\n",
       "            </tr>\n",
       "            <tr>\n",
       "                        <th id=\"T_dcd82_level0_row8\" class=\"row_heading level0 row8\" >Wii</th>\n",
       "                        <td id=\"T_dcd82_row8_col0\" class=\"data row8 col0\" >5.930000</td>\n",
       "                        <td id=\"T_dcd82_row8_col1\" class=\"data row8 col1\" >6.560000</td>\n",
       "                        <td id=\"T_dcd82_row8_col2\" class=\"data row8 col2\" >0.050000</td>\n",
       "            </tr>\n",
       "            <tr>\n",
       "                        <th id=\"T_dcd82_level0_row9\" class=\"row_heading level0 row9\" >DS</th>\n",
       "                        <td id=\"T_dcd82_row9_col0\" class=\"data row9 col0\" >0.850000</td>\n",
       "                        <td id=\"T_dcd82_row9_col1\" class=\"data row9 col1\" >0.570000</td>\n",
       "                        <td id=\"T_dcd82_row9_col2\" class=\"data row9 col2\" >0.000000</td>\n",
       "            </tr>\n",
       "            <tr>\n",
       "                        <th id=\"T_dcd82_level0_row10\" class=\"row_heading level0 row10\" >PSP</th>\n",
       "                        <td id=\"T_dcd82_row10_col0\" class=\"data row10 col0\" >0.170000</td>\n",
       "                        <td id=\"T_dcd82_row10_col1\" class=\"data row10 col1\" >0.000000</td>\n",
       "                        <td id=\"T_dcd82_row10_col2\" class=\"data row10 col2\" >3.290000</td>\n",
       "            </tr>\n",
       "    </tbody></table>"
      ],
      "text/plain": [
       "<pandas.io.formats.style.Styler at 0x7f74c8f78a90>"
      ]
     },
     "execution_count": 180,
     "metadata": {},
     "output_type": "execute_result"
    }
   ],
   "source": [
    "data_after2013.groupby('platform')[['eu_sales', 'na_sales', 'jp_sales']].sum()\\\n",
    ".sort_values(by='eu_sales', ascending=False).style.background_gradient(cmap='Blues')"
   ]
  },
  {
   "cell_type": "markdown",
   "metadata": {},
   "source": [
    "Самый популярные платформы в Европе и Америке - это PS4 (141 и 108млн продаж соответственно). В Японии 3DS - 67.8 млн продаж. В Европе в тройке лидеров PS3 (67.8) и XOne (51.5). В Америке это платформы: XOne (93.1) и X360 (81.6). В Японии: PS3 (23.5) и PSV (18.6). "
   ]
  },
  {
   "cell_type": "markdown",
   "metadata": {},
   "source": [
    "### Самые популярные жанры (топ-5)"
   ]
  },
  {
   "cell_type": "code",
   "execution_count": 181,
   "metadata": {},
   "outputs": [
    {
     "data": {
      "text/html": [
       "<style  type=\"text/css\" >\n",
       "#T_3dcf7_row0_col0,#T_3dcf7_row0_col1,#T_3dcf7_row3_col2{\n",
       "            background-color:  #08306b;\n",
       "            color:  #f1f1f1;\n",
       "        }#T_3dcf7_row0_col2{\n",
       "            background-color:  #1967ad;\n",
       "            color:  #f1f1f1;\n",
       "        }#T_3dcf7_row1_col0{\n",
       "            background-color:  #2373b6;\n",
       "            color:  #f1f1f1;\n",
       "        }#T_3dcf7_row1_col1{\n",
       "            background-color:  #09529d;\n",
       "            color:  #f1f1f1;\n",
       "        }#T_3dcf7_row1_col2{\n",
       "            background-color:  #e2edf8;\n",
       "            color:  #000000;\n",
       "        }#T_3dcf7_row2_col0{\n",
       "            background-color:  #68acd5;\n",
       "            color:  #000000;\n",
       "        }#T_3dcf7_row2_col1{\n",
       "            background-color:  #66abd4;\n",
       "            color:  #000000;\n",
       "        }#T_3dcf7_row2_col2,#T_3dcf7_row7_col0{\n",
       "            background-color:  #e7f0fa;\n",
       "            color:  #000000;\n",
       "        }#T_3dcf7_row3_col0{\n",
       "            background-color:  #b4d3e9;\n",
       "            color:  #000000;\n",
       "        }#T_3dcf7_row3_col1{\n",
       "            background-color:  #a1cbe2;\n",
       "            color:  #000000;\n",
       "        }#T_3dcf7_row4_col0,#T_3dcf7_row5_col0,#T_3dcf7_row5_col2{\n",
       "            background-color:  #d7e6f5;\n",
       "            color:  #000000;\n",
       "        }#T_3dcf7_row4_col1{\n",
       "            background-color:  #e4eff9;\n",
       "            color:  #000000;\n",
       "        }#T_3dcf7_row4_col2,#T_3dcf7_row10_col1{\n",
       "            background-color:  #f3f8fe;\n",
       "            color:  #000000;\n",
       "        }#T_3dcf7_row5_col1{\n",
       "            background-color:  #cde0f1;\n",
       "            color:  #000000;\n",
       "        }#T_3dcf7_row6_col0{\n",
       "            background-color:  #dfebf7;\n",
       "            color:  #000000;\n",
       "        }#T_3dcf7_row6_col1{\n",
       "            background-color:  #dce9f6;\n",
       "            color:  #000000;\n",
       "        }#T_3dcf7_row6_col2{\n",
       "            background-color:  #e9f2fa;\n",
       "            color:  #000000;\n",
       "        }#T_3dcf7_row7_col1{\n",
       "            background-color:  #f1f7fd;\n",
       "            color:  #000000;\n",
       "        }#T_3dcf7_row7_col2{\n",
       "            background-color:  #eaf2fb;\n",
       "            color:  #000000;\n",
       "        }#T_3dcf7_row8_col0{\n",
       "            background-color:  #eaf3fb;\n",
       "            color:  #000000;\n",
       "        }#T_3dcf7_row8_col1{\n",
       "            background-color:  #dfecf7;\n",
       "            color:  #000000;\n",
       "        }#T_3dcf7_row8_col2{\n",
       "            background-color:  #ddeaf7;\n",
       "            color:  #000000;\n",
       "        }#T_3dcf7_row9_col0{\n",
       "            background-color:  #ebf3fb;\n",
       "            color:  #000000;\n",
       "        }#T_3dcf7_row9_col1{\n",
       "            background-color:  #eef5fc;\n",
       "            color:  #000000;\n",
       "        }#T_3dcf7_row9_col2{\n",
       "            background-color:  #e5eff9;\n",
       "            color:  #000000;\n",
       "        }#T_3dcf7_row10_col0{\n",
       "            background-color:  #f2f7fd;\n",
       "            color:  #000000;\n",
       "        }#T_3dcf7_row10_col2{\n",
       "            background-color:  #f5f9fe;\n",
       "            color:  #000000;\n",
       "        }#T_3dcf7_row11_col0,#T_3dcf7_row11_col1,#T_3dcf7_row11_col2{\n",
       "            background-color:  #f7fbff;\n",
       "            color:  #000000;\n",
       "        }</style><table id=\"T_3dcf7_\" ><thead>    <tr>        <th class=\"blank level0\" ></th>        <th class=\"col_heading level0 col0\" >eu_sales</th>        <th class=\"col_heading level0 col1\" >na_sales</th>        <th class=\"col_heading level0 col2\" >jp_sales</th>    </tr>    <tr>        <th class=\"index_name level0\" >genre</th>        <th class=\"blank\" ></th>        <th class=\"blank\" ></th>        <th class=\"blank\" ></th>    </tr></thead><tbody>\n",
       "                <tr>\n",
       "                        <th id=\"T_3dcf7_level0_row0\" class=\"row_heading level0 row0\" >Action</th>\n",
       "                        <td id=\"T_3dcf7_row0_col0\" class=\"data row0 col0\" >118.130000</td>\n",
       "                        <td id=\"T_3dcf7_row0_col1\" class=\"data row0 col1\" >126.050000</td>\n",
       "                        <td id=\"T_3dcf7_row0_col2\" class=\"data row0 col2\" >40.490000</td>\n",
       "            </tr>\n",
       "            <tr>\n",
       "                        <th id=\"T_3dcf7_level0_row1\" class=\"row_heading level0 row1\" >Shooter</th>\n",
       "                        <td id=\"T_3dcf7_row1_col0\" class=\"data row1 col0\" >87.860000</td>\n",
       "                        <td id=\"T_3dcf7_row1_col1\" class=\"data row1 col1\" >109.740000</td>\n",
       "                        <td id=\"T_3dcf7_row1_col2\" class=\"data row1 col2\" >6.610000</td>\n",
       "            </tr>\n",
       "            <tr>\n",
       "                        <th id=\"T_3dcf7_level0_row2\" class=\"row_heading level0 row2\" >Sports</th>\n",
       "                        <td id=\"T_3dcf7_row2_col0\" class=\"data row2 col0\" >60.520000</td>\n",
       "                        <td id=\"T_3dcf7_row2_col1\" class=\"data row2 col1\" >65.270000</td>\n",
       "                        <td id=\"T_3dcf7_row2_col2\" class=\"data row2 col2\" >5.410000</td>\n",
       "            </tr>\n",
       "            <tr>\n",
       "                        <th id=\"T_3dcf7_level0_row3\" class=\"row_heading level0 row3\" >Role-Playing</th>\n",
       "                        <td id=\"T_3dcf7_row3_col0\" class=\"data row3 col0\" >36.970000</td>\n",
       "                        <td id=\"T_3dcf7_row3_col1\" class=\"data row3 col1\" >46.400000</td>\n",
       "                        <td id=\"T_3dcf7_row3_col2\" class=\"data row3 col2\" >51.040000</td>\n",
       "            </tr>\n",
       "            <tr>\n",
       "                        <th id=\"T_3dcf7_level0_row4\" class=\"row_heading level0 row4\" >Racing</th>\n",
       "                        <td id=\"T_3dcf7_row4_col0\" class=\"data row4 col0\" >20.190000</td>\n",
       "                        <td id=\"T_3dcf7_row4_col1\" class=\"data row4 col1\" >12.960000</td>\n",
       "                        <td id=\"T_3dcf7_row4_col2\" class=\"data row4 col2\" >2.300000</td>\n",
       "            </tr>\n",
       "            <tr>\n",
       "                        <th id=\"T_3dcf7_level0_row5\" class=\"row_heading level0 row5\" >Misc</th>\n",
       "                        <td id=\"T_3dcf7_row5_col0\" class=\"data row5 col0\" >20.040000</td>\n",
       "                        <td id=\"T_3dcf7_row5_col1\" class=\"data row5 col1\" >27.490000</td>\n",
       "                        <td id=\"T_3dcf7_row5_col2\" class=\"data row5 col2\" >9.200000</td>\n",
       "            </tr>\n",
       "            <tr>\n",
       "                        <th id=\"T_3dcf7_level0_row6\" class=\"row_heading level0 row6\" >Platform</th>\n",
       "                        <td id=\"T_3dcf7_row6_col0\" class=\"data row6 col0\" >15.580000</td>\n",
       "                        <td id=\"T_3dcf7_row6_col1\" class=\"data row6 col1\" >18.140000</td>\n",
       "                        <td id=\"T_3dcf7_row6_col2\" class=\"data row6 col2\" >4.790000</td>\n",
       "            </tr>\n",
       "            <tr>\n",
       "                        <th id=\"T_3dcf7_level0_row7\" class=\"row_heading level0 row7\" >Simulation</th>\n",
       "                        <td id=\"T_3dcf7_row7_col0\" class=\"data row7 col0\" >10.920000</td>\n",
       "                        <td id=\"T_3dcf7_row7_col1\" class=\"data row7 col1\" >4.860000</td>\n",
       "                        <td id=\"T_3dcf7_row7_col2\" class=\"data row7 col2\" >4.520000</td>\n",
       "            </tr>\n",
       "            <tr>\n",
       "                        <th id=\"T_3dcf7_level0_row8\" class=\"row_heading level0 row8\" >Fighting</th>\n",
       "                        <td id=\"T_3dcf7_row8_col0\" class=\"data row8 col0\" >8.550000</td>\n",
       "                        <td id=\"T_3dcf7_row8_col1\" class=\"data row8 col1\" >15.550000</td>\n",
       "                        <td id=\"T_3dcf7_row8_col2\" class=\"data row8 col2\" >7.650000</td>\n",
       "            </tr>\n",
       "            <tr>\n",
       "                        <th id=\"T_3dcf7_level0_row9\" class=\"row_heading level0 row9\" >Adventure</th>\n",
       "                        <td id=\"T_3dcf7_row9_col0\" class=\"data row9 col0\" >8.250000</td>\n",
       "                        <td id=\"T_3dcf7_row9_col1\" class=\"data row9 col1\" >7.140000</td>\n",
       "                        <td id=\"T_3dcf7_row9_col2\" class=\"data row9 col2\" >5.820000</td>\n",
       "            </tr>\n",
       "            <tr>\n",
       "                        <th id=\"T_3dcf7_level0_row10\" class=\"row_heading level0 row10\" >Strategy</th>\n",
       "                        <td id=\"T_3dcf7_row10_col0\" class=\"data row10 col0\" >4.220000</td>\n",
       "                        <td id=\"T_3dcf7_row10_col1\" class=\"data row10 col1\" >3.280000</td>\n",
       "                        <td id=\"T_3dcf7_row10_col2\" class=\"data row10 col2\" >1.770000</td>\n",
       "            </tr>\n",
       "            <tr>\n",
       "                        <th id=\"T_3dcf7_level0_row11\" class=\"row_heading level0 row11\" >Puzzle</th>\n",
       "                        <td id=\"T_3dcf7_row11_col0\" class=\"data row11 col0\" >1.000000</td>\n",
       "                        <td id=\"T_3dcf7_row11_col1\" class=\"data row11 col1\" >0.830000</td>\n",
       "                        <td id=\"T_3dcf7_row11_col2\" class=\"data row11 col2\" >1.180000</td>\n",
       "            </tr>\n",
       "    </tbody></table>"
      ],
      "text/plain": [
       "<pandas.io.formats.style.Styler at 0x7f74c9040eb0>"
      ]
     },
     "execution_count": 181,
     "metadata": {},
     "output_type": "execute_result"
    }
   ],
   "source": [
    "data_after2013.groupby('genre')[['eu_sales', 'na_sales', 'jp_sales']].sum()\\\n",
    ".sort_values(by='eu_sales', ascending=False).style.background_gradient(cmap='Blues')"
   ]
  },
  {
   "cell_type": "markdown",
   "metadata": {},
   "source": [
    "Самый популярные жанры в Европе и Америке - это Action (118.1 и 126 млн.продаж соотвественно). В Японии это жанр Role-Playing - 51 млн. \n",
    "\n",
    "В 5ке лидеров в Европе входят жанры: Shooter, Sports, Role-Playing, Racing.\n",
    "\n",
    "В Америке: Shooter, Sports, Role-Playing, Misc. \n",
    "\n",
    "В Японии: Action, Misc, Fighting, Shooter."
   ]
  },
  {
   "cell_type": "markdown",
   "metadata": {},
   "source": [
    "###  Влияет ли рейтинг ESRB на продажи в отдельном регионе"
   ]
  },
  {
   "cell_type": "code",
   "execution_count": 182,
   "metadata": {},
   "outputs": [
    {
     "data": {
      "text/plain": [
       "array(['M', 'unknown', 'E', 'T', 'E10+'], dtype=object)"
      ]
     },
     "execution_count": 182,
     "metadata": {},
     "output_type": "execute_result"
    }
   ],
   "source": [
    "data_after2013['rating'].unique()"
   ]
  },
  {
   "cell_type": "code",
   "execution_count": 1,
   "metadata": {},
   "outputs": [
    {
     "ename": "NameError",
     "evalue": "name 'data_after2013' is not defined",
     "output_type": "error",
     "traceback": [
      "\u001b[0;31m---------------------------------------------------------------------------\u001b[0m",
      "\u001b[0;31mNameError\u001b[0m                                 Traceback (most recent call last)",
      "\u001b[0;32m/tmp/ipykernel_31/1616228702.py\u001b[0m in \u001b[0;36m<module>\u001b[0;34m\u001b[0m\n\u001b[0;32m----> 1\u001b[0;31m \u001b[0meu_rating\u001b[0m \u001b[0;34m=\u001b[0m \u001b[0mdata_after2013\u001b[0m\u001b[0;34m.\u001b[0m\u001b[0mpivot_table\u001b[0m\u001b[0;34m(\u001b[0m\u001b[0mindex\u001b[0m\u001b[0;34m=\u001b[0m\u001b[0;34m'rating'\u001b[0m\u001b[0;34m,\u001b[0m \u001b[0mvalues\u001b[0m\u001b[0;34m=\u001b[0m\u001b[0;34m'eu_sales'\u001b[0m\u001b[0;34m,\u001b[0m \u001b[0maggfunc\u001b[0m\u001b[0;34m=\u001b[0m\u001b[0;34m'sum'\u001b[0m\u001b[0;34m)\u001b[0m\u001b[0;34m\u001b[0m\u001b[0;34m\u001b[0m\u001b[0m\n\u001b[0m\u001b[1;32m      2\u001b[0m \u001b[0mna_rating\u001b[0m \u001b[0;34m=\u001b[0m \u001b[0mdata_after2013\u001b[0m\u001b[0;34m.\u001b[0m\u001b[0mpivot_table\u001b[0m\u001b[0;34m(\u001b[0m\u001b[0mindex\u001b[0m\u001b[0;34m=\u001b[0m\u001b[0;34m'rating'\u001b[0m\u001b[0;34m,\u001b[0m \u001b[0mvalues\u001b[0m\u001b[0;34m=\u001b[0m\u001b[0;34m'na_sales'\u001b[0m\u001b[0;34m,\u001b[0m \u001b[0maggfunc\u001b[0m\u001b[0;34m=\u001b[0m\u001b[0;34m'sum'\u001b[0m\u001b[0;34m)\u001b[0m\u001b[0;34m\u001b[0m\u001b[0;34m\u001b[0m\u001b[0m\n\u001b[1;32m      3\u001b[0m \u001b[0mjp_rating\u001b[0m \u001b[0;34m=\u001b[0m \u001b[0mdata_after2013\u001b[0m\u001b[0;34m.\u001b[0m\u001b[0mpivot_table\u001b[0m\u001b[0;34m(\u001b[0m\u001b[0mindex\u001b[0m\u001b[0;34m=\u001b[0m\u001b[0;34m'rating'\u001b[0m\u001b[0;34m,\u001b[0m \u001b[0mvalues\u001b[0m\u001b[0;34m=\u001b[0m\u001b[0;34m'jp_sales'\u001b[0m\u001b[0;34m,\u001b[0m \u001b[0maggfunc\u001b[0m\u001b[0;34m=\u001b[0m\u001b[0;34m'sum'\u001b[0m\u001b[0;34m)\u001b[0m\u001b[0;34m\u001b[0m\u001b[0;34m\u001b[0m\u001b[0m\n",
      "\u001b[0;31mNameError\u001b[0m: name 'data_after2013' is not defined"
     ]
    }
   ],
   "source": [
    "eu_rating = data_after2013.pivot_table(index='rating', values='eu_sales', aggfunc='sum')\n",
    "na_rating = data_after2013.pivot_table(index='rating', values='na_sales', aggfunc='sum')\n",
    "jp_rating = data_after2013.pivot_table(index='rating', values='jp_sales', aggfunc='sum')"
   ]
  },
  {
   "cell_type": "code",
   "execution_count": 184,
   "metadata": {},
   "outputs": [
    {
     "data": {
      "text/html": [
       "<div>\n",
       "<style scoped>\n",
       "    .dataframe tbody tr th:only-of-type {\n",
       "        vertical-align: middle;\n",
       "    }\n",
       "\n",
       "    .dataframe tbody tr th {\n",
       "        vertical-align: top;\n",
       "    }\n",
       "\n",
       "    .dataframe thead th {\n",
       "        text-align: right;\n",
       "    }\n",
       "</style>\n",
       "<table border=\"1\" class=\"dataframe\">\n",
       "  <thead>\n",
       "    <tr style=\"text-align: right;\">\n",
       "      <th></th>\n",
       "      <th>eu_sales</th>\n",
       "      <th>na_sales</th>\n",
       "      <th>jp_sales</th>\n",
       "    </tr>\n",
       "    <tr>\n",
       "      <th>rating</th>\n",
       "      <th></th>\n",
       "      <th></th>\n",
       "      <th></th>\n",
       "    </tr>\n",
       "  </thead>\n",
       "  <tbody>\n",
       "    <tr>\n",
       "      <th>E</th>\n",
       "      <td>83.36</td>\n",
       "      <td>79.05</td>\n",
       "      <td>15.14</td>\n",
       "    </tr>\n",
       "    <tr>\n",
       "      <th>E10+</th>\n",
       "      <td>42.69</td>\n",
       "      <td>54.24</td>\n",
       "      <td>5.89</td>\n",
       "    </tr>\n",
       "    <tr>\n",
       "      <th>M</th>\n",
       "      <td>145.32</td>\n",
       "      <td>165.21</td>\n",
       "      <td>14.11</td>\n",
       "    </tr>\n",
       "    <tr>\n",
       "      <th>T</th>\n",
       "      <td>41.95</td>\n",
       "      <td>49.79</td>\n",
       "      <td>20.59</td>\n",
       "    </tr>\n",
       "    <tr>\n",
       "      <th>unknown</th>\n",
       "      <td>78.91</td>\n",
       "      <td>89.42</td>\n",
       "      <td>85.05</td>\n",
       "    </tr>\n",
       "  </tbody>\n",
       "</table>\n",
       "</div>"
      ],
      "text/plain": [
       "         eu_sales  na_sales  jp_sales\n",
       "rating                               \n",
       "E           83.36     79.05     15.14\n",
       "E10+        42.69     54.24      5.89\n",
       "M          145.32    165.21     14.11\n",
       "T           41.95     49.79     20.59\n",
       "unknown     78.91     89.42     85.05"
      ]
     },
     "execution_count": 184,
     "metadata": {},
     "output_type": "execute_result"
    }
   ],
   "source": [
    "sales_world_rating = eu_rating.merge(na_rating, on='rating', how='outer')\\\n",
    "                              .merge(jp_rating, on='rating', how='outer')\n",
    "sales_world_rating"
   ]
  },
  {
   "cell_type": "markdown",
   "metadata": {},
   "source": [
    "Что значат эти рейтинги:\n",
    "E\tПодходит для всех возрастных категорий. Игра не должна содержать звуков или изображений, которые могут напугать маленьких детей. Не должна использоваться ненормативная лексика. Примеры: Просто таннцуй, FIFA.\n",
    "E 10+\tПодходит для лиц старше 10 лет. Игра может содержать умеренные формы насилия, а некоторые сцены могут пугать детей. Примеры: Minecraft Dungeons, Растения против зомби.\n",
    "T\tПодходит для лиц старше 13 лет. Игра может содержать более реалистичные и натуралистические сцены насилия. Примеры: Fortnite, Sims 4.\n",
    "M\tПодходит для лиц старше 17 лет. Этот рейтинг используется, когда насилие становится реалистичным и похожим на реальную жизнь. Также может присутствовать ненормативная лексика, употребление табака, алкоголя или запрещенных наркотиков. Примеры: Ark: Survival Evolved, Destiny 2."
   ]
  },
  {
   "cell_type": "markdown",
   "metadata": {},
   "source": [
    "По таблице видно, что больше всего продаж игр рейтингом М - для лиц старше 17 лет. Такая ситуация в Европе (продажи 145) и Америке (165), данные в Японии другие. Там у большей части игр рейтинг неизвестен (продажи 85). В Европе неизвестно, суммарно продаж 79, в Америке - 89. Самые большие продажи игр в Японии рейтингом T - для лиц старше 13 лет. Игры рейтингом E - для всех возрастных категорий, во всех 3 регионах на 2 месте (не считая игр, рейтинг которых неизвестен).\n",
    "\n",
    "Наименьше количество продаж у игр с рейтингом T в Европе (42, рядом рейтинг Е10 - 42.7) и Америке (49.8).\n",
    "В Японии у игр рейтингом Е10 (5.9)."
   ]
  },
  {
   "cell_type": "markdown",
   "metadata": {},
   "source": [
    "<div class=\"alert alert-success\">\n",
    "<b>Комментарий ревьюера: ✅</b>\n",
    "\n",
    "Достаточно детально проанализировали наши данные и изучили портреты пользователей.\n",
    "    \n",
    "\n",
    "    \n",
    "Давай теперь проверим наши гипотезы.\n",
    "    \n",
    "</div>"
   ]
  },
  {
   "cell_type": "markdown",
   "metadata": {},
   "source": [
    "<div class=\"alert alert-danger\">\n",
    "<b>Комментарий ревьюера: ❌</b>\n",
    "\n",
    "<s>Давай также визуализируем портреты наших пользователей, ведь на графике информацию воспринимать гораздо проще, чем в таблице.\n",
    "    \n",
    "</div>"
   ]
  },
  {
   "cell_type": "markdown",
   "metadata": {},
   "source": [
    "## Проверка гипотез"
   ]
  },
  {
   "cell_type": "markdown",
   "metadata": {},
   "source": [
    "Средние пользовательские рейтинги платформ Xbox One и PC одинаковые;\n",
    "\n",
    "Средние пользовательские рейтинги жанров Action (англ. «действие», экшен-игры) и Sports (англ. «спортивные соревнования») разные.\n",
    "Задайте самостоятельно пороговое значение alpha."
   ]
  },
  {
   "cell_type": "markdown",
   "metadata": {},
   "source": [
    "Проверка гипотез начинается с формулировки нулевой гипотезы H₀ (от англ. hypothesis — «гипотеза»). Например, «среднее генеральной совокупности равно A», где А — некоторое число.\n",
    "\n",
    "\n",
    "Исходя из H₀ формулируется альтернативная гипотеза H₁. Это утверждение, которое принимается верным, если отбрасывается H₀. Оно может звучать так: «среднее генеральной совокупности не равно A». Такая альтернативная гипотеза называется двусторонней, потому что есть возможное отклонение и в большую, и в меньшую стороны. Другой вариант H₁: «среднее генеральной совокупности больше, чем A». В этом случае альтернативная гипотеза называется односторонней, поскольку нас интересует возможное отклонение только в одну сторону."
   ]
  },
  {
   "cell_type": "markdown",
   "metadata": {},
   "source": [
    "* Средние пользовательские рейтинги платформ Xbox One и PC одинаковые - нулевая гипотеза.\n",
    "* Средние пользовательские рейтинги платформ Xbox One и PC не равны - альтернативаня гипотеза"
   ]
  },
  {
   "cell_type": "markdown",
   "metadata": {},
   "source": [
    "<div class=\"alert alert-success\">\n",
    "<b>Комментарий ревьюера: ✅</b>\n",
    "\n",
    "Гипотезы сформулированы верно.\n",
    "    \n",
    "    \n",
    "**Best practies:**\n",
    "    \n",
    "\n",
    "    \n",
    "В том числе стоит визуализировать распределение каждой выборки, чтобы определить нормальное ли у них распределение или нет.\n",
    "    \n",
    "Так мы покажем логичность и последовательность наших действий.\n",
    "    \n",
    "</div>"
   ]
  },
  {
   "cell_type": "code",
   "execution_count": 185,
   "metadata": {},
   "outputs": [
    {
     "name": "stdout",
     "output_type": "stream",
     "text": [
      "p-value 1.1253706429491469e-17\n",
      "Rejecting the null hypothesis\n"
     ]
    }
   ],
   "source": [
    "# удаляем значения-заглушки\n",
    "df = data[data['user_score'] != -1] #берем все значения, т.к при проверке со срезом с 2013г значений не было\n",
    "XOne = df.query('platform == \"XOne\"')['user_score']\n",
    "PC =  df.query('platform == \"PS\"')['user_score']\n",
    "results = st.ttest_ind(XOne, PC, equal_var = False) #для проверки гипотезы\n",
    "alpha = 0.05 #значение уровня значимости\n",
    "\n",
    "print('p-value', results.pvalue)\n",
    "\n",
    "if results.pvalue < alpha:\n",
    "    print('Rejecting the null hypothesis')\n",
    "else:\n",
    "    print('Not rejecting the null hypothesis')"
   ]
  },
  {
   "cell_type": "code",
   "execution_count": 186,
   "metadata": {},
   "outputs": [
    {
     "name": "stdout",
     "output_type": "stream",
     "text": [
      "Platform User Ratings Xbox One 6.521428571428572\n",
      "Platform User Ratings PC 7.065960264900661\n"
     ]
    }
   ],
   "source": [
    "print('Platform User Ratings Xbox One', df.query('platform == \"XOne\"')['user_score'].mean())\n",
    "print('Platform User Ratings PC', df.query('platform == \"PC\"')['user_score'].mean())"
   ]
  },
  {
   "cell_type": "markdown",
   "metadata": {},
   "source": [
    "Отвергаем нулевую гипотезу. Средние пользовательские рейтинги платформ Xbox One и PC разные."
   ]
  },
  {
   "cell_type": "markdown",
   "metadata": {},
   "source": [
    "Средние пользовательские рейтинги жанров Action (англ. «действие», экшен-игры) и Sports (англ. «спортивные соревнования») разные."
   ]
  },
  {
   "cell_type": "code",
   "execution_count": 187,
   "metadata": {},
   "outputs": [
    {
     "name": "stdout",
     "output_type": "stream",
     "text": [
      "p-value 1.4460039700704315e-20\n",
      "Rejecting the null hypothesis\n"
     ]
    }
   ],
   "source": [
    "df = data_after2013[data_after2013['user_score'] != -1]\n",
    "Action = df.query('genre == \"Action\"')['user_score']\n",
    "Sports =  df.query('genre == \"Sports\"')['user_score']\n",
    "results = st.ttest_ind(Action, Sports, equal_var = False) #для проверки гипотезы\n",
    "alpha = 0.05 #значение уровня значимости\n",
    "\n",
    "print('p-value', results.pvalue)\n",
    "\n",
    "if results.pvalue < alpha:\n",
    "    print('Rejecting the null hypothesis')\n",
    "else:\n",
    "    print('Not rejecting the null hypothesis')"
   ]
  },
  {
   "cell_type": "code",
   "execution_count": 188,
   "metadata": {},
   "outputs": [
    {
     "name": "stdout",
     "output_type": "stream",
     "text": [
      "Platform User Ratings Action 6.837532133676092\n",
      "Platform User Ratings Sports 5.238124999999999\n"
     ]
    }
   ],
   "source": [
    "print('Platform User Ratings Action', df.query('genre == \"Action\"')['user_score'].mean())\n",
    "print('Platform User Ratings Sports', df.query('genre == \"Sports\"')['user_score'].mean())"
   ]
  },
  {
   "cell_type": "markdown",
   "metadata": {},
   "source": [
    "* Средние пользовательские рейтинги жанров Action (англ. «действие», экшен-игры) и Sports (англ. «спортивные соревнования») равны - нулевая гипотеза.\n",
    "* Средние пользовательские рейтинги жанров Action (англ. «действие», экшен-игры) и Sports (англ. «спортивные соревнования») разные. - альтернативаня гипотеза"
   ]
  },
  {
   "cell_type": "markdown",
   "metadata": {},
   "source": [
    "<div class=\"alert alert-success\">\n",
    "<b>Комментарий ревьюера: ✅</b>\n",
    "\n",
    "Гипотезы сформулированы верно.\n",
    "    \n",
    "</div>"
   ]
  },
  {
   "cell_type": "markdown",
   "metadata": {},
   "source": [
    "Отвергаем нулевую гипотезу. Средние пользовательские рейтинги жанров Action (англ. «действие», экшен-игры) и Sports (англ. «спортивные соревнования») разные"
   ]
  },
  {
   "cell_type": "markdown",
   "metadata": {},
   "source": [
    "<div class=\"alert alert-success\">\n",
    "<b>Комментарий ревьюера: ✅</b>\n",
    "\n",
    "Обрати внимание, что наши действия также повторяются с точки зрения расчетов статистических тестов, это говорит о том, что мы можем также создать здесь функцию 😊\n",
    "    \n",
    "</div>"
   ]
  },
  {
   "cell_type": "markdown",
   "metadata": {},
   "source": [
    "## Общий вывод"
   ]
  },
  {
   "cell_type": "markdown",
   "metadata": {},
   "source": [
    "В нашем расположении из открытых источников исторические данные о продажах игр, оценки пользователей и экспертов, жанры и платформы (например, Xbox или PlayStation). Необходимо выявить определяющие успешность игры закономерности. Это позволит сделать ставку на потенциально популярный продукт и спланировать рекламные кампании.\n",
    "Была выполнена предобработка данных, а именно: заполнены пропущенные значения, где это возможно и указаны причины, которые могли привести к пропускм в данных. Изменены типы данных, где это было необходимо.  Добавлены новые данные -  суммарные продажи во всех регионах.\n",
    "Проведен исследовательский анализ данных.  До 1990г выпускалось меньше всего игр (менее 100 за каждый год). От 1990г идет рост вплоть до 2008-2009 года (наибольшее количество игр именно в эти годы - 1427 и 1426). \n",
    "Наибольшие суммарные продажи у этих 7 платформ: PS2, DS, PS3, Wii, X360, PSP, PS (от 1190 до 2127).\n",
    "Cредний срок жизни игровой платформы 10-12 лет. Взяли данные за соответствующий актуальный период. Актуальный период определен самостоятельно в результате исследования предыдущих вопросов. Основной фактор — эти данные помогут построить прогноз на 2017 год. Это период с 2013г (вышли первые игры на PS4 и хo).  Больше всех лидируют платформы 'PS4', 'Wii', 'X360', 'XOne', 'WiiU platform' и PS3 (2й и 3й квантиль ниже). Х360 и Wii - 4й квартиль выше всех.\n",
    "\n",
    "По диаграммам рассеивания видно, что связь между оценками критиков и пользователей и продажами в целом присутствует. Особенно это видно на примере платформы X360, чем больше оценки критиков, тем больше продаж (или наоборот). \n",
    "C 2013г Самые большие продажи у жанров: Action (321,8), Shooter (233), Sports (150.65). Shooter и Sports поменялись местами. Cамые маленькие продажи у жанра Puzzle (3.17 sum).\n",
    "Для анализа жангров игр, которые стабильно приносят высокий доход, рассмотрели среднее значение. Тут в лидерах Shooter (mean=1.25), Sports (0.7), Platform (0.58). Наименьшее среднее у жанра Adventure (0.1).\n",
    "\n",
    "Самый популярные платформы в Европе и Америке - это PS4 (141 и 108млн продаж соответственно). В Японии 3DS - 67.8 млн продаж. В Европе в тройке лидеров PS3 (67.8) и XOne (51.5). В Америке это платформы: XOne (93.1) и X360 (81.6). В Японии: PS3 (23.5) и PSV (18.6).\n",
    "Самый популярные жанры в Европе и Америке - это Action (118.1 и 126 млн.продаж соотвественно). В Японии это жанр Role-Playing - 51 млн.\n",
    "Больше всего продаж игр рейтингом М - для лиц старше 17 лет. Такая ситуация в Европе (продажи 145) и Америке (165), данные в Японии другие. Там у большей части игр рейтинг неизвестен (продажи 85).\n",
    "Рассмотрены и отвергнуты 2 гипотезы: \n",
    "1) Средние пользовательские рейтинги платформ Xbox One и PC одинаковые;\n",
    "2) Средние пользовательские рейтинги жанров Action (англ. «действие», экшен-игры) и Sports (англ. «спортивные соревнования») разные.\n"
   ]
  },
  {
   "cell_type": "markdown",
   "metadata": {},
   "source": [
    "<div class=\"alert alert-success\">\n",
    "<b>Комментарий ревьюера: ✅</b>\n",
    "\n",
    "Выводы понятны и логичны, а самое главное подкреплены выявленными фактами.\n",
    "       \n",
    "В целом сам проект выполнен на хорошем уровне! На протяжении всей работы чувствуется глубина проработки задачи и это безусловный плюс для нас. Было использовано большое количество методов, которые будут помогать тебе в дальнейших проектах.\n",
    "    \n",
    "    \n",
    "    \n",
    "**[общий комментарий]** Ячейки **markdown** в том числе мы можем использовать как дополнительный способ стилизации нашего проекта. Оставил ниже ссылку, с примерами стилизации.\n",
    "\n",
    "https://sqlbak.com/blog/jupyter-notebook-markdown-cheatsheet     \n",
    "</div>"
   ]
  },
  {
   "cell_type": "markdown",
   "metadata": {},
   "source": [
    "<div class=\"alert alert-success\">\n",
    "<b>Комментарий ревьюера: ✅</b>\n",
    "    \n",
    "\n",
    "Возвращаю проект обратно, чтобы убедиться что все мои комментарии понятны.\n",
    "    \n",
    "Если вдруг у тебя возникнут какие-то вопросы, то я с радостью отвечу на них 😊\n",
    "    \n",
    "</div>"
   ]
  },
  {
   "cell_type": "markdown",
   "metadata": {},
   "source": [
    "<div class=\"alert alert-success\">\n",
    "<b>Комментарий ревьюера (2): ✅</b>\n",
    "\n",
    "Рад, что в целом все понятно и особенно здорово, что применяешь сразу новые знания на практике, ведь так они гораздо быстрее запомнятся. Тогда предлагаю двигаться дальше.\n",
    "    \n",
    "Поздравляю с успешным завершением проекта 😊👍\n",
    "    \n",
    "И желаю успехов в новых работах 😊\n",
    "    \n",
    "    \n",
    "</div>"
   ]
  },
  {
   "cell_type": "code",
   "execution_count": null,
   "metadata": {},
   "outputs": [],
   "source": []
  }
 ],
 "metadata": {
  "ExecuteTimeLog": [
   {
    "duration": 1262,
    "start_time": "2022-12-15T19:36:37.442Z"
   },
   {
    "duration": 2,
    "start_time": "2022-12-15T19:38:14.414Z"
   },
   {
    "duration": 215,
    "start_time": "2022-12-15T19:38:15.234Z"
   },
   {
    "duration": 16,
    "start_time": "2022-12-15T19:41:06.835Z"
   },
   {
    "duration": 11,
    "start_time": "2022-12-15T19:41:17.038Z"
   },
   {
    "duration": 62,
    "start_time": "2022-12-15T19:43:29.970Z"
   },
   {
    "duration": 19,
    "start_time": "2022-12-15T19:43:31.743Z"
   },
   {
    "duration": 20,
    "start_time": "2022-12-15T19:43:33.690Z"
   },
   {
    "duration": 15,
    "start_time": "2022-12-15T19:47:09.268Z"
   },
   {
    "duration": 20,
    "start_time": "2022-12-15T19:47:16.592Z"
   },
   {
    "duration": 4,
    "start_time": "2022-12-15T19:47:59.012Z"
   },
   {
    "duration": 15,
    "start_time": "2022-12-15T19:48:09.666Z"
   },
   {
    "duration": 13,
    "start_time": "2022-12-15T19:53:47.331Z"
   },
   {
    "duration": 5,
    "start_time": "2022-12-15T19:56:10.388Z"
   },
   {
    "duration": 14,
    "start_time": "2022-12-15T19:56:14.045Z"
   },
   {
    "duration": 105,
    "start_time": "2022-12-15T20:41:45.070Z"
   },
   {
    "duration": 8,
    "start_time": "2022-12-15T20:45:53.495Z"
   },
   {
    "duration": 13,
    "start_time": "2022-12-15T20:46:05.474Z"
   },
   {
    "duration": 10,
    "start_time": "2022-12-15T20:50:56.864Z"
   },
   {
    "duration": 13,
    "start_time": "2022-12-15T20:51:25.787Z"
   },
   {
    "duration": 4,
    "start_time": "2022-12-15T20:51:57.640Z"
   },
   {
    "duration": 3,
    "start_time": "2022-12-15T20:52:14.342Z"
   },
   {
    "duration": 54,
    "start_time": "2022-12-15T20:52:14.347Z"
   },
   {
    "duration": 13,
    "start_time": "2022-12-15T20:52:14.402Z"
   },
   {
    "duration": 18,
    "start_time": "2022-12-15T20:52:14.417Z"
   },
   {
    "duration": 17,
    "start_time": "2022-12-15T20:52:14.436Z"
   },
   {
    "duration": 12,
    "start_time": "2022-12-15T20:52:14.454Z"
   },
   {
    "duration": 21,
    "start_time": "2022-12-15T20:52:14.467Z"
   },
   {
    "duration": 9,
    "start_time": "2022-12-15T20:53:49.941Z"
   },
   {
    "duration": 51,
    "start_time": "2022-12-15T20:53:59.533Z"
   },
   {
    "duration": 14,
    "start_time": "2022-12-15T20:54:25.961Z"
   },
   {
    "duration": 6,
    "start_time": "2022-12-15T21:00:25.806Z"
   },
   {
    "duration": 4,
    "start_time": "2022-12-15T21:04:18.901Z"
   },
   {
    "duration": 5,
    "start_time": "2022-12-15T21:06:12.600Z"
   },
   {
    "duration": 10,
    "start_time": "2022-12-15T21:06:23.664Z"
   },
   {
    "duration": 4,
    "start_time": "2022-12-15T21:08:48.141Z"
   },
   {
    "duration": 15,
    "start_time": "2022-12-15T21:09:35.234Z"
   },
   {
    "duration": 6,
    "start_time": "2022-12-15T21:12:33.673Z"
   },
   {
    "duration": 1062,
    "start_time": "2022-12-15T21:13:05.081Z"
   },
   {
    "duration": 6,
    "start_time": "2022-12-15T21:13:09.030Z"
   },
   {
    "duration": 8,
    "start_time": "2022-12-15T21:13:53.451Z"
   },
   {
    "duration": 8,
    "start_time": "2022-12-15T21:14:24.831Z"
   },
   {
    "duration": 5,
    "start_time": "2022-12-15T21:14:39.662Z"
   },
   {
    "duration": 3,
    "start_time": "2022-12-15T21:15:23.094Z"
   },
   {
    "duration": 70,
    "start_time": "2022-12-15T21:15:23.099Z"
   },
   {
    "duration": 13,
    "start_time": "2022-12-15T21:15:23.170Z"
   },
   {
    "duration": 17,
    "start_time": "2022-12-15T21:15:23.184Z"
   },
   {
    "duration": 15,
    "start_time": "2022-12-15T21:15:23.204Z"
   },
   {
    "duration": 13,
    "start_time": "2022-12-15T21:15:23.221Z"
   },
   {
    "duration": 13,
    "start_time": "2022-12-15T21:15:23.236Z"
   },
   {
    "duration": 6,
    "start_time": "2022-12-15T21:15:23.250Z"
   },
   {
    "duration": 7,
    "start_time": "2022-12-15T21:15:23.278Z"
   },
   {
    "duration": 4,
    "start_time": "2022-12-15T21:15:23.287Z"
   },
   {
    "duration": 48,
    "start_time": "2022-12-16T09:00:14.952Z"
   },
   {
    "duration": 6,
    "start_time": "2022-12-16T09:00:19.466Z"
   },
   {
    "duration": 1276,
    "start_time": "2022-12-16T09:00:31.250Z"
   },
   {
    "duration": 196,
    "start_time": "2022-12-16T09:00:32.528Z"
   },
   {
    "duration": 13,
    "start_time": "2022-12-16T09:00:33.404Z"
   },
   {
    "duration": 22,
    "start_time": "2022-12-16T09:00:34.242Z"
   },
   {
    "duration": 17,
    "start_time": "2022-12-16T09:00:38.930Z"
   },
   {
    "duration": 10,
    "start_time": "2022-12-16T09:00:42.340Z"
   },
   {
    "duration": 67,
    "start_time": "2022-12-16T09:00:45.446Z"
   },
   {
    "duration": 4,
    "start_time": "2022-12-16T09:00:47.991Z"
   },
   {
    "duration": 8,
    "start_time": "2022-12-16T09:00:48.469Z"
   },
   {
    "duration": 5,
    "start_time": "2022-12-16T09:00:49.898Z"
   },
   {
    "duration": 4,
    "start_time": "2022-12-16T09:00:52.369Z"
   },
   {
    "duration": 3,
    "start_time": "2022-12-16T09:01:09.105Z"
   },
   {
    "duration": 4,
    "start_time": "2022-12-16T09:02:04.288Z"
   },
   {
    "duration": 6,
    "start_time": "2022-12-16T09:29:08.375Z"
   },
   {
    "duration": 6,
    "start_time": "2022-12-16T09:30:10.933Z"
   },
   {
    "duration": 7,
    "start_time": "2022-12-16T09:30:16.575Z"
   },
   {
    "duration": 3,
    "start_time": "2022-12-16T09:40:22.138Z"
   },
   {
    "duration": 61,
    "start_time": "2022-12-16T09:40:36.043Z"
   },
   {
    "duration": 3,
    "start_time": "2022-12-16T09:41:17.905Z"
   },
   {
    "duration": 4,
    "start_time": "2022-12-16T09:41:20.856Z"
   },
   {
    "duration": 72,
    "start_time": "2022-12-16T09:42:47.773Z"
   },
   {
    "duration": 4,
    "start_time": "2022-12-16T09:43:09.371Z"
   },
   {
    "duration": 14,
    "start_time": "2022-12-16T09:50:03.514Z"
   },
   {
    "duration": 8,
    "start_time": "2022-12-16T09:51:55.742Z"
   },
   {
    "duration": 14,
    "start_time": "2022-12-16T09:52:02.649Z"
   },
   {
    "duration": 7,
    "start_time": "2022-12-16T10:03:40.060Z"
   },
   {
    "duration": 134,
    "start_time": "2022-12-16T10:05:16.385Z"
   },
   {
    "duration": 6,
    "start_time": "2022-12-16T10:08:43.986Z"
   },
   {
    "duration": 7,
    "start_time": "2022-12-16T10:08:53.981Z"
   },
   {
    "duration": 5,
    "start_time": "2022-12-16T10:09:07.891Z"
   },
   {
    "duration": 15,
    "start_time": "2022-12-16T10:11:16.320Z"
   },
   {
    "duration": 120,
    "start_time": "2022-12-16T10:11:51.243Z"
   },
   {
    "duration": 5,
    "start_time": "2022-12-16T10:28:57.332Z"
   },
   {
    "duration": 6,
    "start_time": "2022-12-16T10:29:44.039Z"
   },
   {
    "duration": 6,
    "start_time": "2022-12-16T10:30:08.667Z"
   },
   {
    "duration": 7,
    "start_time": "2022-12-16T10:30:15.771Z"
   },
   {
    "duration": 12,
    "start_time": "2022-12-16T10:37:56.354Z"
   },
   {
    "duration": 5071,
    "start_time": "2022-12-16T10:38:11.583Z"
   },
   {
    "duration": 2201,
    "start_time": "2022-12-16T10:38:46.859Z"
   },
   {
    "duration": 12,
    "start_time": "2022-12-16T10:57:23.084Z"
   },
   {
    "duration": 8,
    "start_time": "2022-12-16T10:57:32.897Z"
   },
   {
    "duration": 8,
    "start_time": "2022-12-16T10:59:24.117Z"
   },
   {
    "duration": 38,
    "start_time": "2022-12-16T11:02:49.044Z"
   },
   {
    "duration": 16,
    "start_time": "2022-12-16T11:03:49.402Z"
   },
   {
    "duration": 154,
    "start_time": "2022-12-16T11:04:04.289Z"
   },
   {
    "duration": 148,
    "start_time": "2022-12-16T11:04:50.456Z"
   },
   {
    "duration": 26,
    "start_time": "2022-12-16T11:10:38.188Z"
   },
   {
    "duration": 7,
    "start_time": "2022-12-16T11:10:49.460Z"
   },
   {
    "duration": 26,
    "start_time": "2022-12-16T11:10:51.959Z"
   },
   {
    "duration": 6,
    "start_time": "2022-12-16T11:11:01.911Z"
   },
   {
    "duration": 24,
    "start_time": "2022-12-16T11:11:05.609Z"
   },
   {
    "duration": 139,
    "start_time": "2022-12-16T11:12:55.063Z"
   },
   {
    "duration": 3621,
    "start_time": "2022-12-16T11:14:45.305Z"
   },
   {
    "duration": 1709,
    "start_time": "2022-12-16T11:16:06.834Z"
   },
   {
    "duration": 23,
    "start_time": "2022-12-16T12:10:18.833Z"
   },
   {
    "duration": 576,
    "start_time": "2022-12-16T12:10:27.205Z"
   },
   {
    "duration": 642,
    "start_time": "2022-12-16T12:10:45.944Z"
   },
   {
    "duration": 501,
    "start_time": "2022-12-16T12:10:54.391Z"
   },
   {
    "duration": 46,
    "start_time": "2022-12-16T17:49:10.196Z"
   },
   {
    "duration": 1216,
    "start_time": "2022-12-16T17:49:21.673Z"
   },
   {
    "duration": 103,
    "start_time": "2022-12-16T17:49:22.891Z"
   },
   {
    "duration": 14,
    "start_time": "2022-12-16T17:49:22.995Z"
   },
   {
    "duration": 23,
    "start_time": "2022-12-16T17:49:23.011Z"
   },
   {
    "duration": 13,
    "start_time": "2022-12-16T17:49:23.036Z"
   },
   {
    "duration": 19,
    "start_time": "2022-12-16T17:49:23.051Z"
   },
   {
    "duration": 66,
    "start_time": "2022-12-16T17:49:23.072Z"
   },
   {
    "duration": 4,
    "start_time": "2022-12-16T17:49:23.140Z"
   },
   {
    "duration": 12,
    "start_time": "2022-12-16T17:49:23.145Z"
   },
   {
    "duration": 9,
    "start_time": "2022-12-16T17:49:23.159Z"
   },
   {
    "duration": 8,
    "start_time": "2022-12-16T17:49:23.170Z"
   },
   {
    "duration": 45,
    "start_time": "2022-12-16T17:49:23.180Z"
   },
   {
    "duration": 0,
    "start_time": "2022-12-16T17:49:23.226Z"
   },
   {
    "duration": 0,
    "start_time": "2022-12-16T17:49:23.227Z"
   },
   {
    "duration": 0,
    "start_time": "2022-12-16T17:49:23.228Z"
   },
   {
    "duration": 0,
    "start_time": "2022-12-16T17:49:23.229Z"
   },
   {
    "duration": 0,
    "start_time": "2022-12-16T17:49:23.230Z"
   },
   {
    "duration": 0,
    "start_time": "2022-12-16T17:49:23.231Z"
   },
   {
    "duration": 0,
    "start_time": "2022-12-16T17:49:23.232Z"
   },
   {
    "duration": 0,
    "start_time": "2022-12-16T17:49:23.233Z"
   },
   {
    "duration": 0,
    "start_time": "2022-12-16T17:49:23.234Z"
   },
   {
    "duration": 0,
    "start_time": "2022-12-16T17:49:23.235Z"
   },
   {
    "duration": 2,
    "start_time": "2022-12-16T17:49:43.167Z"
   },
   {
    "duration": 52,
    "start_time": "2022-12-16T17:49:43.172Z"
   },
   {
    "duration": 14,
    "start_time": "2022-12-16T17:49:43.226Z"
   },
   {
    "duration": 20,
    "start_time": "2022-12-16T17:49:43.241Z"
   },
   {
    "duration": 14,
    "start_time": "2022-12-16T17:49:43.263Z"
   },
   {
    "duration": 9,
    "start_time": "2022-12-16T17:49:43.297Z"
   },
   {
    "duration": 14,
    "start_time": "2022-12-16T17:49:43.308Z"
   },
   {
    "duration": 6,
    "start_time": "2022-12-16T17:49:43.324Z"
   },
   {
    "duration": 13,
    "start_time": "2022-12-16T17:49:43.332Z"
   },
   {
    "duration": 4,
    "start_time": "2022-12-16T17:49:43.347Z"
   },
   {
    "duration": 5,
    "start_time": "2022-12-16T17:49:43.352Z"
   },
   {
    "duration": 5,
    "start_time": "2022-12-16T17:49:43.358Z"
   },
   {
    "duration": 31,
    "start_time": "2022-12-16T17:49:43.365Z"
   },
   {
    "duration": 5,
    "start_time": "2022-12-16T17:49:43.398Z"
   },
   {
    "duration": 160,
    "start_time": "2022-12-16T17:49:43.404Z"
   },
   {
    "duration": 4,
    "start_time": "2022-12-16T17:49:43.566Z"
   },
   {
    "duration": 9,
    "start_time": "2022-12-16T17:49:43.571Z"
   },
   {
    "duration": 20,
    "start_time": "2022-12-16T17:49:43.582Z"
   },
   {
    "duration": 1667,
    "start_time": "2022-12-16T17:49:43.603Z"
   },
   {
    "duration": 504,
    "start_time": "2022-12-16T17:49:45.272Z"
   },
   {
    "duration": 4,
    "start_time": "2022-12-16T17:49:45.778Z"
   },
   {
    "duration": 7,
    "start_time": "2022-12-16T17:49:56.013Z"
   },
   {
    "duration": 9,
    "start_time": "2022-12-16T17:50:09.820Z"
   },
   {
    "duration": 418,
    "start_time": "2022-12-16T17:50:26.321Z"
   },
   {
    "duration": 62,
    "start_time": "2022-12-16T17:53:59.149Z"
   },
   {
    "duration": 10,
    "start_time": "2022-12-16T17:54:02.834Z"
   },
   {
    "duration": 10,
    "start_time": "2022-12-16T17:54:09.134Z"
   },
   {
    "duration": 27,
    "start_time": "2022-12-16T17:54:56.634Z"
   },
   {
    "duration": 23,
    "start_time": "2022-12-16T17:55:10.674Z"
   },
   {
    "duration": 485,
    "start_time": "2022-12-16T18:00:19.054Z"
   },
   {
    "duration": 458,
    "start_time": "2022-12-16T18:00:23.767Z"
   },
   {
    "duration": 469,
    "start_time": "2022-12-16T18:00:28.168Z"
   },
   {
    "duration": 534,
    "start_time": "2022-12-16T18:00:33.570Z"
   },
   {
    "duration": 442,
    "start_time": "2022-12-16T18:00:38.485Z"
   },
   {
    "duration": 19,
    "start_time": "2022-12-16T18:15:06.001Z"
   },
   {
    "duration": 21,
    "start_time": "2022-12-16T18:15:28.945Z"
   },
   {
    "duration": 454,
    "start_time": "2022-12-16T18:15:44.572Z"
   },
   {
    "duration": 226,
    "start_time": "2022-12-16T18:17:18.980Z"
   },
   {
    "duration": 267,
    "start_time": "2022-12-16T18:18:15.955Z"
   },
   {
    "duration": 236,
    "start_time": "2022-12-16T18:20:32.782Z"
   },
   {
    "duration": 4,
    "start_time": "2022-12-16T18:45:50.464Z"
   },
   {
    "duration": 11,
    "start_time": "2022-12-16T18:47:34.101Z"
   },
   {
    "duration": 5,
    "start_time": "2022-12-16T18:50:00.006Z"
   },
   {
    "duration": 11,
    "start_time": "2022-12-16T18:50:02.609Z"
   },
   {
    "duration": 4,
    "start_time": "2022-12-16T18:55:14.383Z"
   },
   {
    "duration": 761,
    "start_time": "2022-12-16T18:55:16.327Z"
   },
   {
    "duration": 4,
    "start_time": "2022-12-16T18:58:32.439Z"
   },
   {
    "duration": 688,
    "start_time": "2022-12-16T18:58:34.080Z"
   },
   {
    "duration": 721,
    "start_time": "2022-12-16T19:00:00.276Z"
   },
   {
    "duration": 5,
    "start_time": "2022-12-16T19:00:33.376Z"
   },
   {
    "duration": 4,
    "start_time": "2022-12-16T19:00:37.547Z"
   },
   {
    "duration": 4,
    "start_time": "2022-12-16T19:01:06.437Z"
   },
   {
    "duration": 733,
    "start_time": "2022-12-16T19:01:08.363Z"
   },
   {
    "duration": 799,
    "start_time": "2022-12-16T19:01:23.290Z"
   },
   {
    "duration": 4,
    "start_time": "2022-12-16T19:01:42.192Z"
   },
   {
    "duration": 4,
    "start_time": "2022-12-16T19:04:09.029Z"
   },
   {
    "duration": 700,
    "start_time": "2022-12-16T19:04:11.499Z"
   },
   {
    "duration": 8,
    "start_time": "2022-12-16T19:04:33.650Z"
   },
   {
    "duration": 678,
    "start_time": "2022-12-16T19:04:40.785Z"
   },
   {
    "duration": 5,
    "start_time": "2022-12-16T19:09:05.498Z"
   },
   {
    "duration": 696,
    "start_time": "2022-12-16T19:09:07.766Z"
   },
   {
    "duration": 772,
    "start_time": "2022-12-16T19:09:17.468Z"
   },
   {
    "duration": 4,
    "start_time": "2022-12-16T19:10:03.714Z"
   },
   {
    "duration": 4,
    "start_time": "2022-12-16T19:10:14.389Z"
   },
   {
    "duration": 667,
    "start_time": "2022-12-16T19:10:16.933Z"
   },
   {
    "duration": 5,
    "start_time": "2022-12-16T19:14:27.149Z"
   },
   {
    "duration": 38,
    "start_time": "2022-12-16T19:14:28.948Z"
   },
   {
    "duration": 3,
    "start_time": "2022-12-16T19:14:47.929Z"
   },
   {
    "duration": 54,
    "start_time": "2022-12-16T19:14:47.934Z"
   },
   {
    "duration": 12,
    "start_time": "2022-12-16T19:14:47.990Z"
   },
   {
    "duration": 24,
    "start_time": "2022-12-16T19:14:48.004Z"
   },
   {
    "duration": 13,
    "start_time": "2022-12-16T19:14:48.030Z"
   },
   {
    "duration": 10,
    "start_time": "2022-12-16T19:14:48.045Z"
   },
   {
    "duration": 17,
    "start_time": "2022-12-16T19:14:48.056Z"
   },
   {
    "duration": 4,
    "start_time": "2022-12-16T19:14:48.075Z"
   },
   {
    "duration": 8,
    "start_time": "2022-12-16T19:14:48.096Z"
   },
   {
    "duration": 4,
    "start_time": "2022-12-16T19:14:48.105Z"
   },
   {
    "duration": 8,
    "start_time": "2022-12-16T19:14:48.110Z"
   },
   {
    "duration": 6,
    "start_time": "2022-12-16T19:14:48.119Z"
   },
   {
    "duration": 6,
    "start_time": "2022-12-16T19:14:48.127Z"
   },
   {
    "duration": 6,
    "start_time": "2022-12-16T19:14:48.136Z"
   },
   {
    "duration": 147,
    "start_time": "2022-12-16T19:14:48.143Z"
   },
   {
    "duration": 4,
    "start_time": "2022-12-16T19:14:48.296Z"
   },
   {
    "duration": 9,
    "start_time": "2022-12-16T19:14:48.301Z"
   },
   {
    "duration": 8,
    "start_time": "2022-12-16T19:14:48.311Z"
   },
   {
    "duration": 1706,
    "start_time": "2022-12-16T19:14:48.321Z"
   },
   {
    "duration": 433,
    "start_time": "2022-12-16T19:14:50.029Z"
   },
   {
    "duration": 238,
    "start_time": "2022-12-16T19:14:50.463Z"
   },
   {
    "duration": 4,
    "start_time": "2022-12-16T19:14:50.702Z"
   },
   {
    "duration": 38,
    "start_time": "2022-12-16T19:14:50.708Z"
   },
   {
    "duration": 5,
    "start_time": "2022-12-16T19:15:31.965Z"
   },
   {
    "duration": 38,
    "start_time": "2022-12-16T19:15:33.231Z"
   },
   {
    "duration": 45,
    "start_time": "2022-12-16T19:15:44.921Z"
   },
   {
    "duration": 45,
    "start_time": "2022-12-16T19:15:46.398Z"
   },
   {
    "duration": 4,
    "start_time": "2022-12-16T19:15:53.025Z"
   },
   {
    "duration": 662,
    "start_time": "2022-12-16T19:15:54.083Z"
   },
   {
    "duration": 10,
    "start_time": "2022-12-16T19:24:05.526Z"
   },
   {
    "duration": 754,
    "start_time": "2022-12-16T19:24:06.817Z"
   },
   {
    "duration": 656,
    "start_time": "2022-12-16T19:24:12.117Z"
   },
   {
    "duration": 13,
    "start_time": "2022-12-16T19:25:01.569Z"
   },
   {
    "duration": 677,
    "start_time": "2022-12-16T19:25:02.238Z"
   },
   {
    "duration": 8,
    "start_time": "2022-12-16T19:28:44.209Z"
   },
   {
    "duration": 171,
    "start_time": "2022-12-16T19:28:45.524Z"
   },
   {
    "duration": 11,
    "start_time": "2022-12-16T19:29:53.681Z"
   },
   {
    "duration": 673,
    "start_time": "2022-12-16T19:29:54.388Z"
   },
   {
    "duration": 103,
    "start_time": "2022-12-16T19:34:32.884Z"
   },
   {
    "duration": 796,
    "start_time": "2022-12-16T19:34:35.706Z"
   },
   {
    "duration": 13,
    "start_time": "2022-12-16T19:35:06.722Z"
   },
   {
    "duration": 11,
    "start_time": "2022-12-16T19:36:03.282Z"
   },
   {
    "duration": 634,
    "start_time": "2022-12-16T19:36:04.319Z"
   },
   {
    "duration": 10,
    "start_time": "2022-12-16T19:40:41.112Z"
   },
   {
    "duration": 10,
    "start_time": "2022-12-16T19:41:47.627Z"
   },
   {
    "duration": 714,
    "start_time": "2022-12-16T19:41:48.452Z"
   },
   {
    "duration": 12,
    "start_time": "2022-12-16T19:42:02.402Z"
   },
   {
    "duration": 735,
    "start_time": "2022-12-16T19:42:17.798Z"
   },
   {
    "duration": 6,
    "start_time": "2022-12-16T19:42:42.794Z"
   },
   {
    "duration": 673,
    "start_time": "2022-12-16T19:42:46.437Z"
   },
   {
    "duration": 63,
    "start_time": "2022-12-16T19:43:30.801Z"
   },
   {
    "duration": 757,
    "start_time": "2022-12-16T19:43:31.474Z"
   },
   {
    "duration": 43,
    "start_time": "2022-12-16T19:44:07.097Z"
   },
   {
    "duration": 692,
    "start_time": "2022-12-16T19:44:07.850Z"
   },
   {
    "duration": 287,
    "start_time": "2022-12-16T19:45:02.379Z"
   },
   {
    "duration": 811,
    "start_time": "2022-12-16T19:45:03.161Z"
   },
   {
    "duration": 42,
    "start_time": "2022-12-16T19:45:22.704Z"
   },
   {
    "duration": 731,
    "start_time": "2022-12-16T19:45:23.299Z"
   },
   {
    "duration": 46,
    "start_time": "2022-12-16T19:45:57.383Z"
   },
   {
    "duration": 717,
    "start_time": "2022-12-16T19:45:58.760Z"
   },
   {
    "duration": 52,
    "start_time": "2022-12-16T19:46:14.533Z"
   },
   {
    "duration": 40,
    "start_time": "2022-12-16T19:46:49.754Z"
   },
   {
    "duration": 44,
    "start_time": "2022-12-16T19:47:03.438Z"
   },
   {
    "duration": 43,
    "start_time": "2022-12-16T19:47:25.909Z"
   },
   {
    "duration": 46,
    "start_time": "2022-12-16T19:47:46.241Z"
   },
   {
    "duration": 5,
    "start_time": "2022-12-16T19:48:20.029Z"
   },
   {
    "duration": 4,
    "start_time": "2022-12-16T19:48:39.001Z"
   },
   {
    "duration": 676,
    "start_time": "2022-12-16T19:48:40.347Z"
   },
   {
    "duration": 4,
    "start_time": "2022-12-16T19:51:16.587Z"
   },
   {
    "duration": 760,
    "start_time": "2022-12-16T19:51:17.254Z"
   },
   {
    "duration": 1285,
    "start_time": "2022-12-17T09:58:29.956Z"
   },
   {
    "duration": 97,
    "start_time": "2022-12-17T09:58:31.243Z"
   },
   {
    "duration": 16,
    "start_time": "2022-12-17T09:58:31.341Z"
   },
   {
    "duration": 29,
    "start_time": "2022-12-17T09:58:31.358Z"
   },
   {
    "duration": 14,
    "start_time": "2022-12-17T09:58:31.388Z"
   },
   {
    "duration": 24,
    "start_time": "2022-12-17T09:58:31.404Z"
   },
   {
    "duration": 50,
    "start_time": "2022-12-17T09:58:31.430Z"
   },
   {
    "duration": 6,
    "start_time": "2022-12-17T09:58:31.482Z"
   },
   {
    "duration": 18,
    "start_time": "2022-12-17T09:58:31.489Z"
   },
   {
    "duration": 20,
    "start_time": "2022-12-17T09:58:31.509Z"
   },
   {
    "duration": 21,
    "start_time": "2022-12-17T09:58:31.530Z"
   },
   {
    "duration": 11,
    "start_time": "2022-12-17T09:58:31.553Z"
   },
   {
    "duration": 13,
    "start_time": "2022-12-17T09:58:31.566Z"
   },
   {
    "duration": 20,
    "start_time": "2022-12-17T09:58:31.582Z"
   },
   {
    "duration": 153,
    "start_time": "2022-12-17T09:58:31.604Z"
   },
   {
    "duration": 5,
    "start_time": "2022-12-17T09:58:31.758Z"
   },
   {
    "duration": 15,
    "start_time": "2022-12-17T09:58:31.764Z"
   },
   {
    "duration": 8,
    "start_time": "2022-12-17T09:58:31.780Z"
   },
   {
    "duration": 1695,
    "start_time": "2022-12-17T09:58:31.790Z"
   },
   {
    "duration": 530,
    "start_time": "2022-12-17T09:58:33.486Z"
   },
   {
    "duration": 239,
    "start_time": "2022-12-17T09:58:34.020Z"
   },
   {
    "duration": 5,
    "start_time": "2022-12-17T09:58:34.261Z"
   },
   {
    "duration": 116,
    "start_time": "2022-12-17T09:58:34.267Z"
   },
   {
    "duration": 5,
    "start_time": "2022-12-17T09:58:46.375Z"
   },
   {
    "duration": 9,
    "start_time": "2022-12-17T09:58:47.639Z"
   },
   {
    "duration": 687,
    "start_time": "2022-12-17T09:58:51.389Z"
   },
   {
    "duration": 236,
    "start_time": "2022-12-17T10:34:50.413Z"
   },
   {
    "duration": 239,
    "start_time": "2022-12-17T10:34:59.490Z"
   },
   {
    "duration": 40,
    "start_time": "2022-12-17T10:38:19.465Z"
   },
   {
    "duration": 45,
    "start_time": "2022-12-17T10:38:39.769Z"
   },
   {
    "duration": 43,
    "start_time": "2022-12-17T10:38:48.937Z"
   },
   {
    "duration": 46,
    "start_time": "2022-12-17T10:39:02.194Z"
   },
   {
    "duration": 10,
    "start_time": "2022-12-17T10:39:28.999Z"
   },
   {
    "duration": 9,
    "start_time": "2022-12-17T10:39:36.158Z"
   },
   {
    "duration": 9,
    "start_time": "2022-12-17T10:39:53.366Z"
   },
   {
    "duration": 18,
    "start_time": "2022-12-17T10:40:11.486Z"
   },
   {
    "duration": 10,
    "start_time": "2022-12-17T10:40:23.813Z"
   },
   {
    "duration": 4,
    "start_time": "2022-12-17T10:40:30.855Z"
   },
   {
    "duration": 773,
    "start_time": "2022-12-17T10:40:32.297Z"
   },
   {
    "duration": 253,
    "start_time": "2022-12-17T10:40:35.608Z"
   },
   {
    "duration": 9,
    "start_time": "2022-12-17T10:40:37.542Z"
   },
   {
    "duration": 9,
    "start_time": "2022-12-17T10:40:39.439Z"
   },
   {
    "duration": 14,
    "start_time": "2022-12-17T10:40:54.978Z"
   },
   {
    "duration": 14,
    "start_time": "2022-12-17T10:42:23.776Z"
   },
   {
    "duration": 13,
    "start_time": "2022-12-17T10:42:38.907Z"
   },
   {
    "duration": 4,
    "start_time": "2022-12-17T10:56:59.651Z"
   },
   {
    "duration": 760,
    "start_time": "2022-12-17T10:57:00.516Z"
   },
   {
    "duration": 4,
    "start_time": "2022-12-17T10:58:09.041Z"
   },
   {
    "duration": 5,
    "start_time": "2022-12-17T10:58:14.417Z"
   },
   {
    "duration": 4,
    "start_time": "2022-12-17T11:00:20.384Z"
   },
   {
    "duration": 4,
    "start_time": "2022-12-17T11:01:17.881Z"
   },
   {
    "duration": 14,
    "start_time": "2022-12-17T11:01:18.395Z"
   },
   {
    "duration": 4,
    "start_time": "2022-12-17T11:01:41.032Z"
   },
   {
    "duration": 721,
    "start_time": "2022-12-17T11:01:42.337Z"
   },
   {
    "duration": 15,
    "start_time": "2022-12-17T11:02:31.606Z"
   },
   {
    "duration": 14,
    "start_time": "2022-12-17T11:02:46.234Z"
   },
   {
    "duration": 18,
    "start_time": "2022-12-17T11:02:50.235Z"
   },
   {
    "duration": 15,
    "start_time": "2022-12-17T11:03:11.957Z"
   },
   {
    "duration": 14,
    "start_time": "2022-12-17T11:05:21.191Z"
   },
   {
    "duration": 318,
    "start_time": "2022-12-17T11:07:18.340Z"
   },
   {
    "duration": 17,
    "start_time": "2022-12-17T11:10:08.559Z"
   },
   {
    "duration": 27,
    "start_time": "2022-12-17T11:16:17.508Z"
   },
   {
    "duration": 24,
    "start_time": "2022-12-17T11:21:08.422Z"
   },
   {
    "duration": 25,
    "start_time": "2022-12-17T11:21:23.756Z"
   },
   {
    "duration": 24,
    "start_time": "2022-12-17T11:21:28.826Z"
   },
   {
    "duration": 20,
    "start_time": "2022-12-17T11:27:06.872Z"
   },
   {
    "duration": 30,
    "start_time": "2022-12-17T11:27:45.664Z"
   },
   {
    "duration": 22,
    "start_time": "2022-12-17T11:28:05.748Z"
   },
   {
    "duration": 26,
    "start_time": "2022-12-17T11:31:24.161Z"
   },
   {
    "duration": 17,
    "start_time": "2022-12-17T11:37:24.331Z"
   },
   {
    "duration": 244,
    "start_time": "2022-12-17T11:48:04.864Z"
   },
   {
    "duration": 12,
    "start_time": "2022-12-17T11:57:30.350Z"
   },
   {
    "duration": 11,
    "start_time": "2022-12-17T11:57:36.716Z"
   },
   {
    "duration": 11,
    "start_time": "2022-12-17T12:01:04.555Z"
   },
   {
    "duration": 10,
    "start_time": "2022-12-17T12:01:17.397Z"
   },
   {
    "duration": 9,
    "start_time": "2022-12-17T12:01:28.847Z"
   },
   {
    "duration": 15,
    "start_time": "2022-12-17T12:01:55.538Z"
   },
   {
    "duration": 24,
    "start_time": "2022-12-17T12:02:07.724Z"
   },
   {
    "duration": 16,
    "start_time": "2022-12-17T12:02:10.863Z"
   },
   {
    "duration": 12,
    "start_time": "2022-12-17T12:02:14.690Z"
   },
   {
    "duration": 12,
    "start_time": "2022-12-17T12:02:26.935Z"
   },
   {
    "duration": 920,
    "start_time": "2022-12-17T12:02:51.311Z"
   },
   {
    "duration": 12,
    "start_time": "2022-12-17T12:04:29.453Z"
   },
   {
    "duration": 13,
    "start_time": "2022-12-17T12:04:29.871Z"
   },
   {
    "duration": 12,
    "start_time": "2022-12-17T12:04:30.406Z"
   },
   {
    "duration": 955,
    "start_time": "2022-12-17T12:04:31.009Z"
   },
   {
    "duration": 14,
    "start_time": "2022-12-17T12:05:14.119Z"
   },
   {
    "duration": 1018,
    "start_time": "2022-12-17T12:05:18.076Z"
   },
   {
    "duration": 12,
    "start_time": "2022-12-17T12:05:46.872Z"
   },
   {
    "duration": 941,
    "start_time": "2022-12-17T12:05:48.274Z"
   },
   {
    "duration": 77,
    "start_time": "2022-12-17T12:16:17.263Z"
   },
   {
    "duration": 4,
    "start_time": "2022-12-17T12:16:24.877Z"
   },
   {
    "duration": 1151,
    "start_time": "2022-12-17T12:16:26.579Z"
   },
   {
    "duration": 4,
    "start_time": "2022-12-17T12:18:36.944Z"
   },
   {
    "duration": 43,
    "start_time": "2022-12-17T12:22:27.755Z"
   },
   {
    "duration": 235,
    "start_time": "2022-12-17T12:22:33.105Z"
   },
   {
    "duration": 10,
    "start_time": "2022-12-17T12:25:05.962Z"
   },
   {
    "duration": 4,
    "start_time": "2022-12-17T12:25:15.730Z"
   },
   {
    "duration": 8,
    "start_time": "2022-12-17T12:25:16.259Z"
   },
   {
    "duration": 4,
    "start_time": "2022-12-17T12:29:54.243Z"
   },
   {
    "duration": 9,
    "start_time": "2022-12-17T12:30:28.412Z"
   },
   {
    "duration": 10,
    "start_time": "2022-12-17T12:31:06.708Z"
   },
   {
    "duration": 8,
    "start_time": "2022-12-17T12:32:22.968Z"
   },
   {
    "duration": 9,
    "start_time": "2022-12-17T12:33:50.221Z"
   },
   {
    "duration": 9,
    "start_time": "2022-12-17T12:33:53.299Z"
   },
   {
    "duration": 9,
    "start_time": "2022-12-17T12:34:07.360Z"
   },
   {
    "duration": 13,
    "start_time": "2022-12-17T12:36:57.207Z"
   },
   {
    "duration": 14,
    "start_time": "2022-12-17T12:37:31.775Z"
   },
   {
    "duration": 14,
    "start_time": "2022-12-17T12:37:42.801Z"
   },
   {
    "duration": 14,
    "start_time": "2022-12-17T12:37:52.811Z"
   },
   {
    "duration": 14,
    "start_time": "2022-12-17T12:38:18.839Z"
   },
   {
    "duration": 11,
    "start_time": "2022-12-17T12:38:27.795Z"
   },
   {
    "duration": 14,
    "start_time": "2022-12-17T12:38:38.700Z"
   },
   {
    "duration": 1002,
    "start_time": "2022-12-17T12:41:44.294Z"
   },
   {
    "duration": 5,
    "start_time": "2022-12-17T12:42:15.040Z"
   },
   {
    "duration": 18,
    "start_time": "2022-12-17T12:44:04.963Z"
   },
   {
    "duration": 6,
    "start_time": "2022-12-17T12:45:37.131Z"
   },
   {
    "duration": 14,
    "start_time": "2022-12-17T12:45:46.099Z"
   },
   {
    "duration": 14,
    "start_time": "2022-12-17T12:46:20.127Z"
   },
   {
    "duration": 17,
    "start_time": "2022-12-17T13:06:26.597Z"
   },
   {
    "duration": 813,
    "start_time": "2022-12-17T13:06:45.572Z"
   },
   {
    "duration": 52,
    "start_time": "2022-12-17T13:07:08.974Z"
   },
   {
    "duration": 84,
    "start_time": "2022-12-17T13:07:16.971Z"
   },
   {
    "duration": 44,
    "start_time": "2022-12-17T13:07:32.673Z"
   },
   {
    "duration": 15,
    "start_time": "2022-12-17T13:07:47.076Z"
   },
   {
    "duration": 16,
    "start_time": "2022-12-17T13:08:26.022Z"
   },
   {
    "duration": 17,
    "start_time": "2022-12-17T13:10:50.704Z"
   },
   {
    "duration": 17,
    "start_time": "2022-12-17T13:11:03.289Z"
   },
   {
    "duration": 16,
    "start_time": "2022-12-17T13:11:31.603Z"
   },
   {
    "duration": 16,
    "start_time": "2022-12-17T13:11:38.434Z"
   },
   {
    "duration": 193,
    "start_time": "2022-12-17T13:12:19.203Z"
   },
   {
    "duration": 241,
    "start_time": "2022-12-17T13:12:25.261Z"
   },
   {
    "duration": 18,
    "start_time": "2022-12-17T13:22:08.475Z"
   },
   {
    "duration": 25,
    "start_time": "2022-12-17T13:26:04.589Z"
   },
   {
    "duration": 16,
    "start_time": "2022-12-17T13:26:14.470Z"
   },
   {
    "duration": 17,
    "start_time": "2022-12-17T13:26:36.070Z"
   },
   {
    "duration": 13,
    "start_time": "2022-12-17T13:27:12.729Z"
   },
   {
    "duration": 23,
    "start_time": "2022-12-17T13:41:38.440Z"
   },
   {
    "duration": 19,
    "start_time": "2022-12-17T13:41:50.493Z"
   },
   {
    "duration": 56,
    "start_time": "2022-12-17T13:42:08.260Z"
   },
   {
    "duration": 18,
    "start_time": "2022-12-17T13:42:11.956Z"
   },
   {
    "duration": 16,
    "start_time": "2022-12-17T13:42:15.803Z"
   },
   {
    "duration": 1239,
    "start_time": "2022-12-17T13:57:42.117Z"
   },
   {
    "duration": 53,
    "start_time": "2022-12-17T14:21:26.217Z"
   },
   {
    "duration": 30,
    "start_time": "2022-12-17T14:33:11.925Z"
   },
   {
    "duration": 16,
    "start_time": "2022-12-17T14:33:29.430Z"
   },
   {
    "duration": 3,
    "start_time": "2022-12-17T14:35:24.231Z"
   },
   {
    "duration": 12,
    "start_time": "2022-12-17T14:35:32.816Z"
   },
   {
    "duration": 11,
    "start_time": "2022-12-17T14:36:37.812Z"
   },
   {
    "duration": 11,
    "start_time": "2022-12-17T14:37:02.544Z"
   },
   {
    "duration": 62,
    "start_time": "2022-12-17T14:40:03.643Z"
   },
   {
    "duration": 9,
    "start_time": "2022-12-17T14:40:23.570Z"
   },
   {
    "duration": 8,
    "start_time": "2022-12-17T14:40:40.483Z"
   },
   {
    "duration": 12,
    "start_time": "2022-12-17T14:41:29.520Z"
   },
   {
    "duration": 13,
    "start_time": "2022-12-17T14:41:33.535Z"
   },
   {
    "duration": 12,
    "start_time": "2022-12-17T14:43:04.303Z"
   },
   {
    "duration": 8,
    "start_time": "2022-12-17T14:43:48.689Z"
   },
   {
    "duration": 17,
    "start_time": "2022-12-17T14:43:58.883Z"
   },
   {
    "duration": 20,
    "start_time": "2022-12-17T14:46:25.674Z"
   },
   {
    "duration": 11,
    "start_time": "2022-12-17T14:46:40.067Z"
   },
   {
    "duration": 12,
    "start_time": "2022-12-17T14:47:16.938Z"
   },
   {
    "duration": 40,
    "start_time": "2022-12-17T14:49:37.812Z"
   },
   {
    "duration": 1232,
    "start_time": "2022-12-17T17:00:44.657Z"
   },
   {
    "duration": 53,
    "start_time": "2022-12-17T17:00:45.892Z"
   },
   {
    "duration": 14,
    "start_time": "2022-12-17T17:00:45.947Z"
   },
   {
    "duration": 22,
    "start_time": "2022-12-17T17:00:45.963Z"
   },
   {
    "duration": 13,
    "start_time": "2022-12-17T17:00:45.988Z"
   },
   {
    "duration": 12,
    "start_time": "2022-12-17T17:00:46.002Z"
   },
   {
    "duration": 71,
    "start_time": "2022-12-17T17:00:46.016Z"
   },
   {
    "duration": 4,
    "start_time": "2022-12-17T17:00:46.089Z"
   },
   {
    "duration": 11,
    "start_time": "2022-12-17T17:00:46.094Z"
   },
   {
    "duration": 5,
    "start_time": "2022-12-17T17:00:46.106Z"
   },
   {
    "duration": 8,
    "start_time": "2022-12-17T17:00:46.112Z"
   },
   {
    "duration": 6,
    "start_time": "2022-12-17T17:00:46.121Z"
   },
   {
    "duration": 5,
    "start_time": "2022-12-17T17:00:46.129Z"
   },
   {
    "duration": 5,
    "start_time": "2022-12-17T17:00:46.137Z"
   },
   {
    "duration": 50,
    "start_time": "2022-12-17T17:00:46.143Z"
   },
   {
    "duration": 158,
    "start_time": "2022-12-17T17:00:46.195Z"
   },
   {
    "duration": 4,
    "start_time": "2022-12-17T17:00:46.355Z"
   },
   {
    "duration": 19,
    "start_time": "2022-12-17T17:00:46.361Z"
   },
   {
    "duration": 10,
    "start_time": "2022-12-17T17:00:46.382Z"
   },
   {
    "duration": 1801,
    "start_time": "2022-12-17T17:00:46.393Z"
   },
   {
    "duration": 509,
    "start_time": "2022-12-17T17:00:48.196Z"
   },
   {
    "duration": 258,
    "start_time": "2022-12-17T17:00:48.706Z"
   },
   {
    "duration": 11,
    "start_time": "2022-12-17T17:00:48.966Z"
   },
   {
    "duration": 762,
    "start_time": "2022-12-17T17:00:48.979Z"
   },
   {
    "duration": 288,
    "start_time": "2022-12-17T17:00:49.743Z"
   },
   {
    "duration": 18,
    "start_time": "2022-12-17T17:00:50.033Z"
   },
   {
    "duration": 32,
    "start_time": "2022-12-17T17:00:50.053Z"
   },
   {
    "duration": 19,
    "start_time": "2022-12-17T17:00:50.086Z"
   },
   {
    "duration": 13,
    "start_time": "2022-12-17T17:00:50.107Z"
   },
   {
    "duration": 13,
    "start_time": "2022-12-17T17:00:50.122Z"
   },
   {
    "duration": 48,
    "start_time": "2022-12-17T17:00:50.137Z"
   },
   {
    "duration": 19,
    "start_time": "2022-12-17T17:00:50.187Z"
   },
   {
    "duration": 19,
    "start_time": "2022-12-17T17:00:50.208Z"
   },
   {
    "duration": 5,
    "start_time": "2022-12-17T17:00:50.229Z"
   },
   {
    "duration": 52,
    "start_time": "2022-12-17T17:00:50.236Z"
   },
   {
    "duration": 17,
    "start_time": "2022-12-17T17:00:50.290Z"
   },
   {
    "duration": 23,
    "start_time": "2022-12-17T17:00:50.309Z"
   },
   {
    "duration": 10,
    "start_time": "2022-12-17T17:00:50.334Z"
   },
   {
    "duration": 84,
    "start_time": "2022-12-17T17:00:50.346Z"
   },
   {
    "duration": 0,
    "start_time": "2022-12-17T17:00:50.431Z"
   },
   {
    "duration": 0,
    "start_time": "2022-12-17T17:00:50.432Z"
   },
   {
    "duration": 13,
    "start_time": "2022-12-17T17:09:12.792Z"
   },
   {
    "duration": 10,
    "start_time": "2022-12-17T17:09:13.339Z"
   },
   {
    "duration": 1365,
    "start_time": "2022-12-19T18:37:10.128Z"
   },
   {
    "duration": 93,
    "start_time": "2022-12-19T18:37:11.497Z"
   },
   {
    "duration": 15,
    "start_time": "2022-12-19T18:37:11.592Z"
   },
   {
    "duration": 28,
    "start_time": "2022-12-19T18:37:11.609Z"
   },
   {
    "duration": 14,
    "start_time": "2022-12-19T18:37:11.638Z"
   },
   {
    "duration": 18,
    "start_time": "2022-12-19T18:37:11.653Z"
   },
   {
    "duration": 78,
    "start_time": "2022-12-19T18:37:11.672Z"
   },
   {
    "duration": 4,
    "start_time": "2022-12-19T18:37:11.752Z"
   },
   {
    "duration": 12,
    "start_time": "2022-12-19T18:37:11.757Z"
   },
   {
    "duration": 29,
    "start_time": "2022-12-19T18:37:11.771Z"
   },
   {
    "duration": 12,
    "start_time": "2022-12-19T18:37:11.801Z"
   },
   {
    "duration": 9,
    "start_time": "2022-12-19T18:37:11.815Z"
   },
   {
    "duration": 7,
    "start_time": "2022-12-19T18:37:11.826Z"
   },
   {
    "duration": 9,
    "start_time": "2022-12-19T18:37:11.835Z"
   },
   {
    "duration": 24,
    "start_time": "2022-12-19T18:37:11.845Z"
   },
   {
    "duration": 168,
    "start_time": "2022-12-19T18:37:11.871Z"
   },
   {
    "duration": 6,
    "start_time": "2022-12-19T18:37:12.040Z"
   },
   {
    "duration": 14,
    "start_time": "2022-12-19T18:37:12.048Z"
   },
   {
    "duration": 13,
    "start_time": "2022-12-19T18:37:12.063Z"
   },
   {
    "duration": 1778,
    "start_time": "2022-12-19T18:37:12.078Z"
   },
   {
    "duration": 516,
    "start_time": "2022-12-19T18:37:13.858Z"
   },
   {
    "duration": 276,
    "start_time": "2022-12-19T18:37:14.376Z"
   },
   {
    "duration": 5,
    "start_time": "2022-12-19T18:37:14.654Z"
   },
   {
    "duration": 814,
    "start_time": "2022-12-19T18:37:14.661Z"
   },
   {
    "duration": 267,
    "start_time": "2022-12-19T18:37:15.477Z"
   },
   {
    "duration": 18,
    "start_time": "2022-12-19T18:37:15.746Z"
   },
   {
    "duration": 41,
    "start_time": "2022-12-19T18:37:15.766Z"
   },
   {
    "duration": 18,
    "start_time": "2022-12-19T18:37:15.810Z"
   },
   {
    "duration": 12,
    "start_time": "2022-12-19T18:37:15.830Z"
   },
   {
    "duration": 14,
    "start_time": "2022-12-19T18:37:15.844Z"
   },
   {
    "duration": 46,
    "start_time": "2022-12-19T18:37:15.860Z"
   },
   {
    "duration": 21,
    "start_time": "2022-12-19T18:37:15.908Z"
   },
   {
    "duration": 28,
    "start_time": "2022-12-19T18:37:15.931Z"
   },
   {
    "duration": 36,
    "start_time": "2022-12-19T18:37:15.962Z"
   },
   {
    "duration": 21,
    "start_time": "2022-12-19T18:37:16.000Z"
   },
   {
    "duration": 15,
    "start_time": "2022-12-19T18:37:16.023Z"
   },
   {
    "duration": 13,
    "start_time": "2022-12-19T18:37:16.040Z"
   },
   {
    "duration": 15,
    "start_time": "2022-12-19T18:37:16.055Z"
   },
   {
    "duration": 35,
    "start_time": "2022-12-19T18:37:16.072Z"
   },
   {
    "duration": 11,
    "start_time": "2022-12-19T18:37:16.109Z"
   },
   {
    "duration": 13,
    "start_time": "2022-12-19T18:37:31.330Z"
   },
   {
    "duration": 17,
    "start_time": "2022-12-19T18:37:45.792Z"
   },
   {
    "duration": 3,
    "start_time": "2022-12-19T18:37:52.076Z"
   },
   {
    "duration": 72,
    "start_time": "2022-12-19T18:37:52.082Z"
   },
   {
    "duration": 14,
    "start_time": "2022-12-19T18:37:52.155Z"
   },
   {
    "duration": 19,
    "start_time": "2022-12-19T18:37:52.171Z"
   },
   {
    "duration": 22,
    "start_time": "2022-12-19T18:37:52.205Z"
   },
   {
    "duration": 15,
    "start_time": "2022-12-19T18:37:52.229Z"
   },
   {
    "duration": 13,
    "start_time": "2022-12-19T18:37:52.245Z"
   },
   {
    "duration": 4,
    "start_time": "2022-12-19T18:37:52.260Z"
   },
   {
    "duration": 11,
    "start_time": "2022-12-19T18:37:52.266Z"
   },
   {
    "duration": 26,
    "start_time": "2022-12-19T18:37:52.279Z"
   },
   {
    "duration": 10,
    "start_time": "2022-12-19T18:37:52.307Z"
   },
   {
    "duration": 8,
    "start_time": "2022-12-19T18:37:52.318Z"
   },
   {
    "duration": 5,
    "start_time": "2022-12-19T18:37:52.327Z"
   },
   {
    "duration": 7,
    "start_time": "2022-12-19T18:37:52.334Z"
   },
   {
    "duration": 22,
    "start_time": "2022-12-19T18:37:52.342Z"
   },
   {
    "duration": 169,
    "start_time": "2022-12-19T18:37:52.366Z"
   },
   {
    "duration": 5,
    "start_time": "2022-12-19T18:37:52.537Z"
   },
   {
    "duration": 8,
    "start_time": "2022-12-19T18:37:52.544Z"
   },
   {
    "duration": 10,
    "start_time": "2022-12-19T18:37:52.553Z"
   },
   {
    "duration": 1720,
    "start_time": "2022-12-19T18:37:52.564Z"
   },
   {
    "duration": 503,
    "start_time": "2022-12-19T18:37:54.285Z"
   },
   {
    "duration": 295,
    "start_time": "2022-12-19T18:37:54.790Z"
   },
   {
    "duration": 12,
    "start_time": "2022-12-19T18:37:55.087Z"
   },
   {
    "duration": 999,
    "start_time": "2022-12-19T18:37:55.103Z"
   },
   {
    "duration": 245,
    "start_time": "2022-12-19T18:37:56.118Z"
   },
   {
    "duration": 15,
    "start_time": "2022-12-19T18:37:56.364Z"
   },
   {
    "duration": 26,
    "start_time": "2022-12-19T18:37:56.381Z"
   },
   {
    "duration": 18,
    "start_time": "2022-12-19T18:37:56.408Z"
   },
   {
    "duration": 12,
    "start_time": "2022-12-19T18:37:56.428Z"
   },
   {
    "duration": 13,
    "start_time": "2022-12-19T18:37:56.442Z"
   },
   {
    "duration": 46,
    "start_time": "2022-12-19T18:37:56.456Z"
   },
   {
    "duration": 16,
    "start_time": "2022-12-19T18:37:56.503Z"
   },
   {
    "duration": 16,
    "start_time": "2022-12-19T18:37:56.520Z"
   },
   {
    "duration": 4,
    "start_time": "2022-12-19T18:37:56.537Z"
   },
   {
    "duration": 19,
    "start_time": "2022-12-19T18:37:56.542Z"
   },
   {
    "duration": 42,
    "start_time": "2022-12-19T18:37:56.562Z"
   },
   {
    "duration": 17,
    "start_time": "2022-12-19T18:37:56.606Z"
   },
   {
    "duration": 11,
    "start_time": "2022-12-19T18:37:56.625Z"
   },
   {
    "duration": 17,
    "start_time": "2022-12-19T18:37:56.638Z"
   },
   {
    "duration": 42,
    "start_time": "2022-12-19T18:37:56.657Z"
   },
   {
    "duration": 122,
    "start_time": "2022-12-19T18:51:39.876Z"
   },
   {
    "duration": 40,
    "start_time": "2022-12-19T18:51:53.493Z"
   },
   {
    "duration": 3,
    "start_time": "2022-12-19T18:52:01.522Z"
   },
   {
    "duration": 71,
    "start_time": "2022-12-19T18:52:01.527Z"
   },
   {
    "duration": 13,
    "start_time": "2022-12-19T18:52:01.600Z"
   },
   {
    "duration": 38,
    "start_time": "2022-12-19T18:52:01.614Z"
   },
   {
    "duration": 15,
    "start_time": "2022-12-19T18:52:01.654Z"
   },
   {
    "duration": 27,
    "start_time": "2022-12-19T18:52:01.671Z"
   },
   {
    "duration": 16,
    "start_time": "2022-12-19T18:52:01.700Z"
   },
   {
    "duration": 9,
    "start_time": "2022-12-19T18:52:01.717Z"
   },
   {
    "duration": 29,
    "start_time": "2022-12-19T18:52:01.727Z"
   },
   {
    "duration": 55,
    "start_time": "2022-12-19T18:52:01.757Z"
   },
   {
    "duration": 13,
    "start_time": "2022-12-19T18:52:01.814Z"
   },
   {
    "duration": 13,
    "start_time": "2022-12-19T18:52:01.828Z"
   },
   {
    "duration": 12,
    "start_time": "2022-12-19T18:52:01.843Z"
   },
   {
    "duration": 31,
    "start_time": "2022-12-19T18:52:01.857Z"
   },
   {
    "duration": 32,
    "start_time": "2022-12-19T18:52:01.890Z"
   },
   {
    "duration": 146,
    "start_time": "2022-12-19T18:52:01.924Z"
   },
   {
    "duration": 5,
    "start_time": "2022-12-19T18:52:02.072Z"
   },
   {
    "duration": 20,
    "start_time": "2022-12-19T18:52:02.079Z"
   },
   {
    "duration": 9,
    "start_time": "2022-12-19T18:52:02.100Z"
   },
   {
    "duration": 1607,
    "start_time": "2022-12-19T18:52:02.111Z"
   },
   {
    "duration": 545,
    "start_time": "2022-12-19T18:52:03.720Z"
   },
   {
    "duration": 248,
    "start_time": "2022-12-19T18:52:04.266Z"
   },
   {
    "duration": 5,
    "start_time": "2022-12-19T18:52:04.516Z"
   },
   {
    "duration": 784,
    "start_time": "2022-12-19T18:52:04.522Z"
   },
   {
    "duration": 254,
    "start_time": "2022-12-19T18:52:05.308Z"
   },
   {
    "duration": 43,
    "start_time": "2022-12-19T18:52:05.564Z"
   },
   {
    "duration": 30,
    "start_time": "2022-12-19T18:52:05.609Z"
   },
   {
    "duration": 21,
    "start_time": "2022-12-19T18:52:05.640Z"
   },
   {
    "duration": 38,
    "start_time": "2022-12-19T18:52:05.664Z"
   },
   {
    "duration": 14,
    "start_time": "2022-12-19T18:52:05.704Z"
   },
   {
    "duration": 15,
    "start_time": "2022-12-19T18:52:05.719Z"
   },
   {
    "duration": 23,
    "start_time": "2022-12-19T18:52:05.735Z"
   },
   {
    "duration": 56,
    "start_time": "2022-12-19T18:52:05.760Z"
   },
   {
    "duration": 6,
    "start_time": "2022-12-19T18:52:05.819Z"
   },
   {
    "duration": 20,
    "start_time": "2022-12-19T18:52:05.827Z"
   },
   {
    "duration": 14,
    "start_time": "2022-12-19T18:52:05.849Z"
   },
   {
    "duration": 50,
    "start_time": "2022-12-19T18:52:05.865Z"
   },
   {
    "duration": 11,
    "start_time": "2022-12-19T18:52:05.917Z"
   },
   {
    "duration": 48,
    "start_time": "2022-12-19T18:52:05.930Z"
   },
   {
    "duration": 18,
    "start_time": "2022-12-19T18:52:05.980Z"
   },
   {
    "duration": 130,
    "start_time": "2022-12-19T18:57:26.754Z"
   },
   {
    "duration": 8,
    "start_time": "2022-12-19T19:05:18.172Z"
   },
   {
    "duration": 1584,
    "start_time": "2022-12-19T19:05:56.544Z"
   },
   {
    "duration": 1584,
    "start_time": "2022-12-19T19:11:20.181Z"
   },
   {
    "duration": 218,
    "start_time": "2022-12-19T19:11:40.211Z"
   },
   {
    "duration": 1481,
    "start_time": "2022-12-19T19:11:51.261Z"
   },
   {
    "duration": 14,
    "start_time": "2022-12-19T19:16:56.727Z"
   },
   {
    "duration": 243,
    "start_time": "2022-12-19T19:17:10.424Z"
   },
   {
    "duration": 4,
    "start_time": "2022-12-19T19:21:42.778Z"
   },
   {
    "duration": 28,
    "start_time": "2022-12-19T20:17:31.494Z"
   },
   {
    "duration": 21,
    "start_time": "2022-12-19T20:17:43.223Z"
   },
   {
    "duration": 20,
    "start_time": "2022-12-19T20:23:12.511Z"
   },
   {
    "duration": 14,
    "start_time": "2022-12-19T20:23:40.638Z"
   },
   {
    "duration": 15,
    "start_time": "2022-12-19T20:23:43.289Z"
   },
   {
    "duration": 15,
    "start_time": "2022-12-19T20:23:57.286Z"
   },
   {
    "duration": 359,
    "start_time": "2022-12-19T20:36:19.146Z"
   },
   {
    "duration": 42,
    "start_time": "2022-12-19T20:37:46.952Z"
   },
   {
    "duration": 245,
    "start_time": "2022-12-19T20:48:43.627Z"
   },
   {
    "duration": 291,
    "start_time": "2022-12-19T20:48:52.866Z"
   },
   {
    "duration": 258,
    "start_time": "2022-12-19T20:49:06.447Z"
   },
   {
    "duration": 260,
    "start_time": "2022-12-19T20:50:02.124Z"
   },
   {
    "duration": 237,
    "start_time": "2022-12-19T20:50:47.627Z"
   },
   {
    "duration": 18,
    "start_time": "2022-12-19T20:57:09.695Z"
   },
   {
    "duration": 4,
    "start_time": "2022-12-19T21:13:45.479Z"
   },
   {
    "duration": 71,
    "start_time": "2022-12-19T21:13:45.485Z"
   },
   {
    "duration": 18,
    "start_time": "2022-12-19T21:13:45.557Z"
   },
   {
    "duration": 26,
    "start_time": "2022-12-19T21:13:45.578Z"
   },
   {
    "duration": 21,
    "start_time": "2022-12-19T21:13:45.606Z"
   },
   {
    "duration": 23,
    "start_time": "2022-12-19T21:13:45.629Z"
   },
   {
    "duration": 20,
    "start_time": "2022-12-19T21:13:45.654Z"
   },
   {
    "duration": 24,
    "start_time": "2022-12-19T21:13:45.676Z"
   },
   {
    "duration": 123,
    "start_time": "2022-12-19T21:13:45.703Z"
   },
   {
    "duration": 10,
    "start_time": "2022-12-19T21:13:45.827Z"
   },
   {
    "duration": 8,
    "start_time": "2022-12-19T21:13:45.839Z"
   },
   {
    "duration": 7,
    "start_time": "2022-12-19T21:13:45.849Z"
   },
   {
    "duration": 7,
    "start_time": "2022-12-19T21:13:45.858Z"
   },
   {
    "duration": 10,
    "start_time": "2022-12-19T21:13:45.866Z"
   },
   {
    "duration": 31,
    "start_time": "2022-12-19T21:13:45.878Z"
   },
   {
    "duration": 182,
    "start_time": "2022-12-19T21:13:45.911Z"
   },
   {
    "duration": 5,
    "start_time": "2022-12-19T21:13:46.095Z"
   },
   {
    "duration": 11,
    "start_time": "2022-12-19T21:13:46.101Z"
   },
   {
    "duration": 10,
    "start_time": "2022-12-19T21:13:46.113Z"
   },
   {
    "duration": 1637,
    "start_time": "2022-12-19T21:13:46.127Z"
   },
   {
    "duration": 516,
    "start_time": "2022-12-19T21:13:47.765Z"
   },
   {
    "duration": 229,
    "start_time": "2022-12-19T21:13:48.282Z"
   },
   {
    "duration": 5,
    "start_time": "2022-12-19T21:13:48.512Z"
   },
   {
    "duration": 838,
    "start_time": "2022-12-19T21:13:48.520Z"
   },
   {
    "duration": 265,
    "start_time": "2022-12-19T21:13:49.360Z"
   },
   {
    "duration": 18,
    "start_time": "2022-12-19T21:13:49.626Z"
   },
   {
    "duration": 30,
    "start_time": "2022-12-19T21:13:49.646Z"
   },
   {
    "duration": 30,
    "start_time": "2022-12-19T21:13:49.698Z"
   },
   {
    "duration": 19,
    "start_time": "2022-12-19T21:13:49.730Z"
   },
   {
    "duration": 21,
    "start_time": "2022-12-19T21:13:49.751Z"
   },
   {
    "duration": 308,
    "start_time": "2022-12-19T21:13:49.773Z"
   },
   {
    "duration": 27,
    "start_time": "2022-12-19T21:13:50.084Z"
   },
   {
    "duration": 32,
    "start_time": "2022-12-19T21:13:50.113Z"
   },
   {
    "duration": 35,
    "start_time": "2022-12-19T21:13:50.147Z"
   },
   {
    "duration": 17,
    "start_time": "2022-12-19T21:13:50.183Z"
   },
   {
    "duration": 38,
    "start_time": "2022-12-19T21:13:50.201Z"
   },
   {
    "duration": 30,
    "start_time": "2022-12-19T21:13:50.241Z"
   },
   {
    "duration": 20,
    "start_time": "2022-12-19T21:13:50.272Z"
   },
   {
    "duration": 29,
    "start_time": "2022-12-19T21:13:50.294Z"
   },
   {
    "duration": 36,
    "start_time": "2022-12-19T21:13:50.325Z"
   },
   {
    "duration": 14,
    "start_time": "2022-12-19T21:13:50.363Z"
   },
   {
    "duration": 63,
    "start_time": "2023-06-23T23:27:07.086Z"
   }
  ],
  "kernelspec": {
   "display_name": "Python 3 (ipykernel)",
   "language": "python",
   "name": "python3"
  },
  "language_info": {
   "codemirror_mode": {
    "name": "ipython",
    "version": 3
   },
   "file_extension": ".py",
   "mimetype": "text/x-python",
   "name": "python",
   "nbconvert_exporter": "python",
   "pygments_lexer": "ipython3",
   "version": "3.9.5"
  },
  "toc": {
   "base_numbering": 1,
   "nav_menu": {},
   "number_sections": true,
   "sideBar": true,
   "skip_h1_title": true,
   "title_cell": "Table of Contents",
   "title_sidebar": "Contents",
   "toc_cell": false,
   "toc_position": {},
   "toc_section_display": true,
   "toc_window_display": false
  }
 },
 "nbformat": 4,
 "nbformat_minor": 2
}
