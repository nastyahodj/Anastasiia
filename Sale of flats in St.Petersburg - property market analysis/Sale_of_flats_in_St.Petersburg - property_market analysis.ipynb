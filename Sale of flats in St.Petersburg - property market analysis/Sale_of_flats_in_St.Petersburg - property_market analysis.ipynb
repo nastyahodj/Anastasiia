{
 "cells": [
  {
   "cell_type": "markdown",
   "metadata": {},
   "source": [
    "# Исследование объявлений о продаже квартир в Санкт-Петербурге"
   ]
  },
  {
   "cell_type": "markdown",
   "metadata": {},
   "source": [
    "**Цель исследования:**\n",
    "         \n",
    "1. Определить рыночную стоимость объектов недвижимости\n",
    "2. Построить атоматизированную систему, которая отследит аномалии и мошенническую деятельность\n",
    "3. Установить, какие факторы влияют на ценообразование стоимости квартир"
   ]
  },
  {
   "cell_type": "markdown",
   "metadata": {},
   "source": [
    "**Исследование состоит из следующих этапов:** \n",
    "1. Обзор данных\n",
    "2. Предобработка данных\n",
    "3. Расчеты и добавление результатов в таблицу\n",
    "4. Проведение анализа для Санкт-Петербурга и области.\n",
    "5. Анализ факторов, которые влияют на ценообразование стоимости квартир\n",
    "6. Написание общего вывода "
   ]
  },
  {
   "cell_type": "markdown",
   "metadata": {},
   "source": [
    "## Откройте файл с данными и изучите общую информацию."
   ]
  },
  {
   "cell_type": "code",
   "execution_count": 2,
   "metadata": {},
   "outputs": [],
   "source": [
    "import pandas as pd\n",
    "import matplotlib.pyplot as plt\n",
    "import seaborn as sns\n",
    "import seaborn as sb"
   ]
  },
  {
   "cell_type": "code",
   "execution_count": 3,
   "metadata": {},
   "outputs": [],
   "source": [
    "try:\n",
    "    data = pd.read_csv('/datasets/real_estate_data.csv', sep ='\\t')\n",
    "except:\n",
    "    data = pd.read_csv('https://code.s3.yandex.net//datasets/real_estate_data.csv', sep ='\\t')"
   ]
  },
  {
   "cell_type": "code",
   "execution_count": 4,
   "metadata": {},
   "outputs": [
    {
     "name": "stdout",
     "output_type": "stream",
     "text": [
      "<class 'pandas.core.frame.DataFrame'>\n",
      "RangeIndex: 23699 entries, 0 to 23698\n",
      "Data columns (total 22 columns):\n",
      " #   Column                Non-Null Count  Dtype  \n",
      "---  ------                --------------  -----  \n",
      " 0   total_images          23699 non-null  int64  \n",
      " 1   last_price            23699 non-null  float64\n",
      " 2   total_area            23699 non-null  float64\n",
      " 3   first_day_exposition  23699 non-null  object \n",
      " 4   rooms                 23699 non-null  int64  \n",
      " 5   ceiling_height        14504 non-null  float64\n",
      " 6   floors_total          23613 non-null  float64\n",
      " 7   living_area           21796 non-null  float64\n",
      " 8   floor                 23699 non-null  int64  \n",
      " 9   is_apartment          2775 non-null   object \n",
      " 10  studio                23699 non-null  bool   \n",
      " 11  open_plan             23699 non-null  bool   \n",
      " 12  kitchen_area          21421 non-null  float64\n",
      " 13  balcony               12180 non-null  float64\n",
      " 14  locality_name         23650 non-null  object \n",
      " 15  airports_nearest      18157 non-null  float64\n",
      " 16  cityCenters_nearest   18180 non-null  float64\n",
      " 17  parks_around3000      18181 non-null  float64\n",
      " 18  parks_nearest         8079 non-null   float64\n",
      " 19  ponds_around3000      18181 non-null  float64\n",
      " 20  ponds_nearest         9110 non-null   float64\n",
      " 21  days_exposition       20518 non-null  float64\n",
      "dtypes: bool(2), float64(14), int64(3), object(3)\n",
      "memory usage: 3.7+ MB\n"
     ]
    },
    {
     "data": {
      "text/html": [
       "<div>\n",
       "<style scoped>\n",
       "    .dataframe tbody tr th:only-of-type {\n",
       "        vertical-align: middle;\n",
       "    }\n",
       "\n",
       "    .dataframe tbody tr th {\n",
       "        vertical-align: top;\n",
       "    }\n",
       "\n",
       "    .dataframe thead th {\n",
       "        text-align: right;\n",
       "    }\n",
       "</style>\n",
       "<table border=\"1\" class=\"dataframe\">\n",
       "  <thead>\n",
       "    <tr style=\"text-align: right;\">\n",
       "      <th></th>\n",
       "      <th>total_images</th>\n",
       "      <th>last_price</th>\n",
       "      <th>total_area</th>\n",
       "      <th>first_day_exposition</th>\n",
       "      <th>rooms</th>\n",
       "      <th>ceiling_height</th>\n",
       "      <th>floors_total</th>\n",
       "      <th>living_area</th>\n",
       "      <th>floor</th>\n",
       "      <th>is_apartment</th>\n",
       "      <th>...</th>\n",
       "      <th>kitchen_area</th>\n",
       "      <th>balcony</th>\n",
       "      <th>locality_name</th>\n",
       "      <th>airports_nearest</th>\n",
       "      <th>cityCenters_nearest</th>\n",
       "      <th>parks_around3000</th>\n",
       "      <th>parks_nearest</th>\n",
       "      <th>ponds_around3000</th>\n",
       "      <th>ponds_nearest</th>\n",
       "      <th>days_exposition</th>\n",
       "    </tr>\n",
       "  </thead>\n",
       "  <tbody>\n",
       "    <tr>\n",
       "      <th>0</th>\n",
       "      <td>20</td>\n",
       "      <td>13000000.0</td>\n",
       "      <td>108.00</td>\n",
       "      <td>2019-03-07T00:00:00</td>\n",
       "      <td>3</td>\n",
       "      <td>2.70</td>\n",
       "      <td>16.0</td>\n",
       "      <td>51.00</td>\n",
       "      <td>8</td>\n",
       "      <td>NaN</td>\n",
       "      <td>...</td>\n",
       "      <td>25.00</td>\n",
       "      <td>NaN</td>\n",
       "      <td>Санкт-Петербург</td>\n",
       "      <td>18863.0</td>\n",
       "      <td>16028.0</td>\n",
       "      <td>1.0</td>\n",
       "      <td>482.0</td>\n",
       "      <td>2.0</td>\n",
       "      <td>755.0</td>\n",
       "      <td>NaN</td>\n",
       "    </tr>\n",
       "    <tr>\n",
       "      <th>1</th>\n",
       "      <td>7</td>\n",
       "      <td>3350000.0</td>\n",
       "      <td>40.40</td>\n",
       "      <td>2018-12-04T00:00:00</td>\n",
       "      <td>1</td>\n",
       "      <td>NaN</td>\n",
       "      <td>11.0</td>\n",
       "      <td>18.60</td>\n",
       "      <td>1</td>\n",
       "      <td>NaN</td>\n",
       "      <td>...</td>\n",
       "      <td>11.00</td>\n",
       "      <td>2.0</td>\n",
       "      <td>посёлок Шушары</td>\n",
       "      <td>12817.0</td>\n",
       "      <td>18603.0</td>\n",
       "      <td>0.0</td>\n",
       "      <td>NaN</td>\n",
       "      <td>0.0</td>\n",
       "      <td>NaN</td>\n",
       "      <td>81.0</td>\n",
       "    </tr>\n",
       "    <tr>\n",
       "      <th>2</th>\n",
       "      <td>10</td>\n",
       "      <td>5196000.0</td>\n",
       "      <td>56.00</td>\n",
       "      <td>2015-08-20T00:00:00</td>\n",
       "      <td>2</td>\n",
       "      <td>NaN</td>\n",
       "      <td>5.0</td>\n",
       "      <td>34.30</td>\n",
       "      <td>4</td>\n",
       "      <td>NaN</td>\n",
       "      <td>...</td>\n",
       "      <td>8.30</td>\n",
       "      <td>0.0</td>\n",
       "      <td>Санкт-Петербург</td>\n",
       "      <td>21741.0</td>\n",
       "      <td>13933.0</td>\n",
       "      <td>1.0</td>\n",
       "      <td>90.0</td>\n",
       "      <td>2.0</td>\n",
       "      <td>574.0</td>\n",
       "      <td>558.0</td>\n",
       "    </tr>\n",
       "    <tr>\n",
       "      <th>3</th>\n",
       "      <td>0</td>\n",
       "      <td>64900000.0</td>\n",
       "      <td>159.00</td>\n",
       "      <td>2015-07-24T00:00:00</td>\n",
       "      <td>3</td>\n",
       "      <td>NaN</td>\n",
       "      <td>14.0</td>\n",
       "      <td>NaN</td>\n",
       "      <td>9</td>\n",
       "      <td>NaN</td>\n",
       "      <td>...</td>\n",
       "      <td>NaN</td>\n",
       "      <td>0.0</td>\n",
       "      <td>Санкт-Петербург</td>\n",
       "      <td>28098.0</td>\n",
       "      <td>6800.0</td>\n",
       "      <td>2.0</td>\n",
       "      <td>84.0</td>\n",
       "      <td>3.0</td>\n",
       "      <td>234.0</td>\n",
       "      <td>424.0</td>\n",
       "    </tr>\n",
       "    <tr>\n",
       "      <th>4</th>\n",
       "      <td>2</td>\n",
       "      <td>10000000.0</td>\n",
       "      <td>100.00</td>\n",
       "      <td>2018-06-19T00:00:00</td>\n",
       "      <td>2</td>\n",
       "      <td>3.03</td>\n",
       "      <td>14.0</td>\n",
       "      <td>32.00</td>\n",
       "      <td>13</td>\n",
       "      <td>NaN</td>\n",
       "      <td>...</td>\n",
       "      <td>41.00</td>\n",
       "      <td>NaN</td>\n",
       "      <td>Санкт-Петербург</td>\n",
       "      <td>31856.0</td>\n",
       "      <td>8098.0</td>\n",
       "      <td>2.0</td>\n",
       "      <td>112.0</td>\n",
       "      <td>1.0</td>\n",
       "      <td>48.0</td>\n",
       "      <td>121.0</td>\n",
       "    </tr>\n",
       "    <tr>\n",
       "      <th>5</th>\n",
       "      <td>10</td>\n",
       "      <td>2890000.0</td>\n",
       "      <td>30.40</td>\n",
       "      <td>2018-09-10T00:00:00</td>\n",
       "      <td>1</td>\n",
       "      <td>NaN</td>\n",
       "      <td>12.0</td>\n",
       "      <td>14.40</td>\n",
       "      <td>5</td>\n",
       "      <td>NaN</td>\n",
       "      <td>...</td>\n",
       "      <td>9.10</td>\n",
       "      <td>NaN</td>\n",
       "      <td>городской посёлок Янино-1</td>\n",
       "      <td>NaN</td>\n",
       "      <td>NaN</td>\n",
       "      <td>NaN</td>\n",
       "      <td>NaN</td>\n",
       "      <td>NaN</td>\n",
       "      <td>NaN</td>\n",
       "      <td>55.0</td>\n",
       "    </tr>\n",
       "    <tr>\n",
       "      <th>6</th>\n",
       "      <td>6</td>\n",
       "      <td>3700000.0</td>\n",
       "      <td>37.30</td>\n",
       "      <td>2017-11-02T00:00:00</td>\n",
       "      <td>1</td>\n",
       "      <td>NaN</td>\n",
       "      <td>26.0</td>\n",
       "      <td>10.60</td>\n",
       "      <td>6</td>\n",
       "      <td>NaN</td>\n",
       "      <td>...</td>\n",
       "      <td>14.40</td>\n",
       "      <td>1.0</td>\n",
       "      <td>посёлок Парголово</td>\n",
       "      <td>52996.0</td>\n",
       "      <td>19143.0</td>\n",
       "      <td>0.0</td>\n",
       "      <td>NaN</td>\n",
       "      <td>0.0</td>\n",
       "      <td>NaN</td>\n",
       "      <td>155.0</td>\n",
       "    </tr>\n",
       "    <tr>\n",
       "      <th>7</th>\n",
       "      <td>5</td>\n",
       "      <td>7915000.0</td>\n",
       "      <td>71.60</td>\n",
       "      <td>2019-04-18T00:00:00</td>\n",
       "      <td>2</td>\n",
       "      <td>NaN</td>\n",
       "      <td>24.0</td>\n",
       "      <td>NaN</td>\n",
       "      <td>22</td>\n",
       "      <td>NaN</td>\n",
       "      <td>...</td>\n",
       "      <td>18.90</td>\n",
       "      <td>2.0</td>\n",
       "      <td>Санкт-Петербург</td>\n",
       "      <td>23982.0</td>\n",
       "      <td>11634.0</td>\n",
       "      <td>0.0</td>\n",
       "      <td>NaN</td>\n",
       "      <td>0.0</td>\n",
       "      <td>NaN</td>\n",
       "      <td>NaN</td>\n",
       "    </tr>\n",
       "    <tr>\n",
       "      <th>8</th>\n",
       "      <td>20</td>\n",
       "      <td>2900000.0</td>\n",
       "      <td>33.16</td>\n",
       "      <td>2018-05-23T00:00:00</td>\n",
       "      <td>1</td>\n",
       "      <td>NaN</td>\n",
       "      <td>27.0</td>\n",
       "      <td>15.43</td>\n",
       "      <td>26</td>\n",
       "      <td>NaN</td>\n",
       "      <td>...</td>\n",
       "      <td>8.81</td>\n",
       "      <td>NaN</td>\n",
       "      <td>посёлок Мурино</td>\n",
       "      <td>NaN</td>\n",
       "      <td>NaN</td>\n",
       "      <td>NaN</td>\n",
       "      <td>NaN</td>\n",
       "      <td>NaN</td>\n",
       "      <td>NaN</td>\n",
       "      <td>189.0</td>\n",
       "    </tr>\n",
       "    <tr>\n",
       "      <th>9</th>\n",
       "      <td>18</td>\n",
       "      <td>5400000.0</td>\n",
       "      <td>61.00</td>\n",
       "      <td>2017-02-26T00:00:00</td>\n",
       "      <td>3</td>\n",
       "      <td>2.50</td>\n",
       "      <td>9.0</td>\n",
       "      <td>43.60</td>\n",
       "      <td>7</td>\n",
       "      <td>NaN</td>\n",
       "      <td>...</td>\n",
       "      <td>6.50</td>\n",
       "      <td>2.0</td>\n",
       "      <td>Санкт-Петербург</td>\n",
       "      <td>50898.0</td>\n",
       "      <td>15008.0</td>\n",
       "      <td>0.0</td>\n",
       "      <td>NaN</td>\n",
       "      <td>0.0</td>\n",
       "      <td>NaN</td>\n",
       "      <td>289.0</td>\n",
       "    </tr>\n",
       "    <tr>\n",
       "      <th>10</th>\n",
       "      <td>5</td>\n",
       "      <td>5050000.0</td>\n",
       "      <td>39.60</td>\n",
       "      <td>2017-11-16T00:00:00</td>\n",
       "      <td>1</td>\n",
       "      <td>2.67</td>\n",
       "      <td>12.0</td>\n",
       "      <td>20.30</td>\n",
       "      <td>3</td>\n",
       "      <td>NaN</td>\n",
       "      <td>...</td>\n",
       "      <td>8.50</td>\n",
       "      <td>NaN</td>\n",
       "      <td>Санкт-Петербург</td>\n",
       "      <td>38357.0</td>\n",
       "      <td>13878.0</td>\n",
       "      <td>1.0</td>\n",
       "      <td>310.0</td>\n",
       "      <td>2.0</td>\n",
       "      <td>553.0</td>\n",
       "      <td>137.0</td>\n",
       "    </tr>\n",
       "    <tr>\n",
       "      <th>11</th>\n",
       "      <td>9</td>\n",
       "      <td>3300000.0</td>\n",
       "      <td>44.00</td>\n",
       "      <td>2018-08-27T00:00:00</td>\n",
       "      <td>2</td>\n",
       "      <td>NaN</td>\n",
       "      <td>5.0</td>\n",
       "      <td>31.00</td>\n",
       "      <td>4</td>\n",
       "      <td>False</td>\n",
       "      <td>...</td>\n",
       "      <td>6.00</td>\n",
       "      <td>1.0</td>\n",
       "      <td>Ломоносов</td>\n",
       "      <td>48252.0</td>\n",
       "      <td>51677.0</td>\n",
       "      <td>0.0</td>\n",
       "      <td>NaN</td>\n",
       "      <td>0.0</td>\n",
       "      <td>NaN</td>\n",
       "      <td>7.0</td>\n",
       "    </tr>\n",
       "    <tr>\n",
       "      <th>12</th>\n",
       "      <td>10</td>\n",
       "      <td>3890000.0</td>\n",
       "      <td>54.00</td>\n",
       "      <td>2016-06-30T00:00:00</td>\n",
       "      <td>2</td>\n",
       "      <td>NaN</td>\n",
       "      <td>5.0</td>\n",
       "      <td>30.00</td>\n",
       "      <td>5</td>\n",
       "      <td>NaN</td>\n",
       "      <td>...</td>\n",
       "      <td>9.00</td>\n",
       "      <td>0.0</td>\n",
       "      <td>Сертолово</td>\n",
       "      <td>NaN</td>\n",
       "      <td>NaN</td>\n",
       "      <td>NaN</td>\n",
       "      <td>NaN</td>\n",
       "      <td>NaN</td>\n",
       "      <td>NaN</td>\n",
       "      <td>90.0</td>\n",
       "    </tr>\n",
       "    <tr>\n",
       "      <th>13</th>\n",
       "      <td>20</td>\n",
       "      <td>3550000.0</td>\n",
       "      <td>42.80</td>\n",
       "      <td>2017-07-01T00:00:00</td>\n",
       "      <td>2</td>\n",
       "      <td>2.56</td>\n",
       "      <td>5.0</td>\n",
       "      <td>27.00</td>\n",
       "      <td>5</td>\n",
       "      <td>NaN</td>\n",
       "      <td>...</td>\n",
       "      <td>5.20</td>\n",
       "      <td>1.0</td>\n",
       "      <td>Петергоф</td>\n",
       "      <td>37868.0</td>\n",
       "      <td>33058.0</td>\n",
       "      <td>1.0</td>\n",
       "      <td>294.0</td>\n",
       "      <td>3.0</td>\n",
       "      <td>298.0</td>\n",
       "      <td>366.0</td>\n",
       "    </tr>\n",
       "    <tr>\n",
       "      <th>14</th>\n",
       "      <td>1</td>\n",
       "      <td>4400000.0</td>\n",
       "      <td>36.00</td>\n",
       "      <td>2016-06-23T00:00:00</td>\n",
       "      <td>1</td>\n",
       "      <td>NaN</td>\n",
       "      <td>6.0</td>\n",
       "      <td>17.00</td>\n",
       "      <td>1</td>\n",
       "      <td>NaN</td>\n",
       "      <td>...</td>\n",
       "      <td>8.00</td>\n",
       "      <td>0.0</td>\n",
       "      <td>Пушкин</td>\n",
       "      <td>20782.0</td>\n",
       "      <td>30759.0</td>\n",
       "      <td>0.0</td>\n",
       "      <td>NaN</td>\n",
       "      <td>1.0</td>\n",
       "      <td>96.0</td>\n",
       "      <td>203.0</td>\n",
       "    </tr>\n",
       "    <tr>\n",
       "      <th>15</th>\n",
       "      <td>16</td>\n",
       "      <td>4650000.0</td>\n",
       "      <td>39.00</td>\n",
       "      <td>2017-11-18T00:00:00</td>\n",
       "      <td>1</td>\n",
       "      <td>NaN</td>\n",
       "      <td>14.0</td>\n",
       "      <td>20.50</td>\n",
       "      <td>5</td>\n",
       "      <td>NaN</td>\n",
       "      <td>...</td>\n",
       "      <td>7.60</td>\n",
       "      <td>1.0</td>\n",
       "      <td>Санкт-Петербург</td>\n",
       "      <td>12900.0</td>\n",
       "      <td>14259.0</td>\n",
       "      <td>1.0</td>\n",
       "      <td>590.0</td>\n",
       "      <td>1.0</td>\n",
       "      <td>296.0</td>\n",
       "      <td>19.0</td>\n",
       "    </tr>\n",
       "    <tr>\n",
       "      <th>16</th>\n",
       "      <td>11</td>\n",
       "      <td>6700000.0</td>\n",
       "      <td>82.00</td>\n",
       "      <td>2017-11-23T00:00:00</td>\n",
       "      <td>3</td>\n",
       "      <td>3.05</td>\n",
       "      <td>5.0</td>\n",
       "      <td>55.60</td>\n",
       "      <td>1</td>\n",
       "      <td>NaN</td>\n",
       "      <td>...</td>\n",
       "      <td>9.00</td>\n",
       "      <td>NaN</td>\n",
       "      <td>Санкт-Петербург</td>\n",
       "      <td>22108.0</td>\n",
       "      <td>10698.0</td>\n",
       "      <td>3.0</td>\n",
       "      <td>420.0</td>\n",
       "      <td>0.0</td>\n",
       "      <td>NaN</td>\n",
       "      <td>397.0</td>\n",
       "    </tr>\n",
       "    <tr>\n",
       "      <th>17</th>\n",
       "      <td>6</td>\n",
       "      <td>4180000.0</td>\n",
       "      <td>36.00</td>\n",
       "      <td>2016-09-09T00:00:00</td>\n",
       "      <td>1</td>\n",
       "      <td>NaN</td>\n",
       "      <td>17.0</td>\n",
       "      <td>16.50</td>\n",
       "      <td>7</td>\n",
       "      <td>NaN</td>\n",
       "      <td>...</td>\n",
       "      <td>11.00</td>\n",
       "      <td>1.0</td>\n",
       "      <td>Санкт-Петербург</td>\n",
       "      <td>33564.0</td>\n",
       "      <td>14616.0</td>\n",
       "      <td>0.0</td>\n",
       "      <td>NaN</td>\n",
       "      <td>1.0</td>\n",
       "      <td>859.0</td>\n",
       "      <td>571.0</td>\n",
       "    </tr>\n",
       "    <tr>\n",
       "      <th>18</th>\n",
       "      <td>8</td>\n",
       "      <td>3250000.0</td>\n",
       "      <td>31.00</td>\n",
       "      <td>2017-01-27T00:00:00</td>\n",
       "      <td>1</td>\n",
       "      <td>2.50</td>\n",
       "      <td>5.0</td>\n",
       "      <td>19.40</td>\n",
       "      <td>2</td>\n",
       "      <td>NaN</td>\n",
       "      <td>...</td>\n",
       "      <td>5.60</td>\n",
       "      <td>1.0</td>\n",
       "      <td>Санкт-Петербург</td>\n",
       "      <td>44060.0</td>\n",
       "      <td>10842.0</td>\n",
       "      <td>1.0</td>\n",
       "      <td>759.0</td>\n",
       "      <td>0.0</td>\n",
       "      <td>NaN</td>\n",
       "      <td>168.0</td>\n",
       "    </tr>\n",
       "    <tr>\n",
       "      <th>19</th>\n",
       "      <td>16</td>\n",
       "      <td>14200000.0</td>\n",
       "      <td>121.00</td>\n",
       "      <td>2019-01-09T00:00:00</td>\n",
       "      <td>3</td>\n",
       "      <td>2.75</td>\n",
       "      <td>16.0</td>\n",
       "      <td>76.00</td>\n",
       "      <td>8</td>\n",
       "      <td>NaN</td>\n",
       "      <td>...</td>\n",
       "      <td>12.00</td>\n",
       "      <td>NaN</td>\n",
       "      <td>Санкт-Петербург</td>\n",
       "      <td>38900.0</td>\n",
       "      <td>12843.0</td>\n",
       "      <td>0.0</td>\n",
       "      <td>NaN</td>\n",
       "      <td>0.0</td>\n",
       "      <td>NaN</td>\n",
       "      <td>97.0</td>\n",
       "    </tr>\n",
       "  </tbody>\n",
       "</table>\n",
       "<p>20 rows × 22 columns</p>\n",
       "</div>"
      ],
      "text/plain": [
       "    total_images  last_price  total_area first_day_exposition  rooms  \\\n",
       "0             20  13000000.0      108.00  2019-03-07T00:00:00      3   \n",
       "1              7   3350000.0       40.40  2018-12-04T00:00:00      1   \n",
       "2             10   5196000.0       56.00  2015-08-20T00:00:00      2   \n",
       "3              0  64900000.0      159.00  2015-07-24T00:00:00      3   \n",
       "4              2  10000000.0      100.00  2018-06-19T00:00:00      2   \n",
       "5             10   2890000.0       30.40  2018-09-10T00:00:00      1   \n",
       "6              6   3700000.0       37.30  2017-11-02T00:00:00      1   \n",
       "7              5   7915000.0       71.60  2019-04-18T00:00:00      2   \n",
       "8             20   2900000.0       33.16  2018-05-23T00:00:00      1   \n",
       "9             18   5400000.0       61.00  2017-02-26T00:00:00      3   \n",
       "10             5   5050000.0       39.60  2017-11-16T00:00:00      1   \n",
       "11             9   3300000.0       44.00  2018-08-27T00:00:00      2   \n",
       "12            10   3890000.0       54.00  2016-06-30T00:00:00      2   \n",
       "13            20   3550000.0       42.80  2017-07-01T00:00:00      2   \n",
       "14             1   4400000.0       36.00  2016-06-23T00:00:00      1   \n",
       "15            16   4650000.0       39.00  2017-11-18T00:00:00      1   \n",
       "16            11   6700000.0       82.00  2017-11-23T00:00:00      3   \n",
       "17             6   4180000.0       36.00  2016-09-09T00:00:00      1   \n",
       "18             8   3250000.0       31.00  2017-01-27T00:00:00      1   \n",
       "19            16  14200000.0      121.00  2019-01-09T00:00:00      3   \n",
       "\n",
       "    ceiling_height  floors_total  living_area  floor is_apartment  ...  \\\n",
       "0             2.70          16.0        51.00      8          NaN  ...   \n",
       "1              NaN          11.0        18.60      1          NaN  ...   \n",
       "2              NaN           5.0        34.30      4          NaN  ...   \n",
       "3              NaN          14.0          NaN      9          NaN  ...   \n",
       "4             3.03          14.0        32.00     13          NaN  ...   \n",
       "5              NaN          12.0        14.40      5          NaN  ...   \n",
       "6              NaN          26.0        10.60      6          NaN  ...   \n",
       "7              NaN          24.0          NaN     22          NaN  ...   \n",
       "8              NaN          27.0        15.43     26          NaN  ...   \n",
       "9             2.50           9.0        43.60      7          NaN  ...   \n",
       "10            2.67          12.0        20.30      3          NaN  ...   \n",
       "11             NaN           5.0        31.00      4        False  ...   \n",
       "12             NaN           5.0        30.00      5          NaN  ...   \n",
       "13            2.56           5.0        27.00      5          NaN  ...   \n",
       "14             NaN           6.0        17.00      1          NaN  ...   \n",
       "15             NaN          14.0        20.50      5          NaN  ...   \n",
       "16            3.05           5.0        55.60      1          NaN  ...   \n",
       "17             NaN          17.0        16.50      7          NaN  ...   \n",
       "18            2.50           5.0        19.40      2          NaN  ...   \n",
       "19            2.75          16.0        76.00      8          NaN  ...   \n",
       "\n",
       "    kitchen_area  balcony              locality_name  airports_nearest  \\\n",
       "0          25.00      NaN            Санкт-Петербург           18863.0   \n",
       "1          11.00      2.0             посёлок Шушары           12817.0   \n",
       "2           8.30      0.0            Санкт-Петербург           21741.0   \n",
       "3            NaN      0.0            Санкт-Петербург           28098.0   \n",
       "4          41.00      NaN            Санкт-Петербург           31856.0   \n",
       "5           9.10      NaN  городской посёлок Янино-1               NaN   \n",
       "6          14.40      1.0          посёлок Парголово           52996.0   \n",
       "7          18.90      2.0            Санкт-Петербург           23982.0   \n",
       "8           8.81      NaN             посёлок Мурино               NaN   \n",
       "9           6.50      2.0            Санкт-Петербург           50898.0   \n",
       "10          8.50      NaN            Санкт-Петербург           38357.0   \n",
       "11          6.00      1.0                  Ломоносов           48252.0   \n",
       "12          9.00      0.0                  Сертолово               NaN   \n",
       "13          5.20      1.0                   Петергоф           37868.0   \n",
       "14          8.00      0.0                     Пушкин           20782.0   \n",
       "15          7.60      1.0            Санкт-Петербург           12900.0   \n",
       "16          9.00      NaN            Санкт-Петербург           22108.0   \n",
       "17         11.00      1.0            Санкт-Петербург           33564.0   \n",
       "18          5.60      1.0            Санкт-Петербург           44060.0   \n",
       "19         12.00      NaN            Санкт-Петербург           38900.0   \n",
       "\n",
       "   cityCenters_nearest  parks_around3000  parks_nearest  ponds_around3000  \\\n",
       "0              16028.0               1.0          482.0               2.0   \n",
       "1              18603.0               0.0            NaN               0.0   \n",
       "2              13933.0               1.0           90.0               2.0   \n",
       "3               6800.0               2.0           84.0               3.0   \n",
       "4               8098.0               2.0          112.0               1.0   \n",
       "5                  NaN               NaN            NaN               NaN   \n",
       "6              19143.0               0.0            NaN               0.0   \n",
       "7              11634.0               0.0            NaN               0.0   \n",
       "8                  NaN               NaN            NaN               NaN   \n",
       "9              15008.0               0.0            NaN               0.0   \n",
       "10             13878.0               1.0          310.0               2.0   \n",
       "11             51677.0               0.0            NaN               0.0   \n",
       "12                 NaN               NaN            NaN               NaN   \n",
       "13             33058.0               1.0          294.0               3.0   \n",
       "14             30759.0               0.0            NaN               1.0   \n",
       "15             14259.0               1.0          590.0               1.0   \n",
       "16             10698.0               3.0          420.0               0.0   \n",
       "17             14616.0               0.0            NaN               1.0   \n",
       "18             10842.0               1.0          759.0               0.0   \n",
       "19             12843.0               0.0            NaN               0.0   \n",
       "\n",
       "    ponds_nearest  days_exposition  \n",
       "0           755.0              NaN  \n",
       "1             NaN             81.0  \n",
       "2           574.0            558.0  \n",
       "3           234.0            424.0  \n",
       "4            48.0            121.0  \n",
       "5             NaN             55.0  \n",
       "6             NaN            155.0  \n",
       "7             NaN              NaN  \n",
       "8             NaN            189.0  \n",
       "9             NaN            289.0  \n",
       "10          553.0            137.0  \n",
       "11            NaN              7.0  \n",
       "12            NaN             90.0  \n",
       "13          298.0            366.0  \n",
       "14           96.0            203.0  \n",
       "15          296.0             19.0  \n",
       "16            NaN            397.0  \n",
       "17          859.0            571.0  \n",
       "18            NaN            168.0  \n",
       "19            NaN             97.0  \n",
       "\n",
       "[20 rows x 22 columns]"
      ]
     },
     "execution_count": 4,
     "metadata": {},
     "output_type": "execute_result"
    }
   ],
   "source": [
    "data.info()\n",
    "data.head(20)"
   ]
  },
  {
   "cell_type": "code",
   "execution_count": 5,
   "metadata": {},
   "outputs": [
    {
     "data": {
      "text/plain": [
       "array([[<AxesSubplot:title={'center':'total_images'}>,\n",
       "        <AxesSubplot:title={'center':'last_price'}>,\n",
       "        <AxesSubplot:title={'center':'total_area'}>,\n",
       "        <AxesSubplot:title={'center':'rooms'}>],\n",
       "       [<AxesSubplot:title={'center':'ceiling_height'}>,\n",
       "        <AxesSubplot:title={'center':'floors_total'}>,\n",
       "        <AxesSubplot:title={'center':'living_area'}>,\n",
       "        <AxesSubplot:title={'center':'floor'}>],\n",
       "       [<AxesSubplot:title={'center':'kitchen_area'}>,\n",
       "        <AxesSubplot:title={'center':'balcony'}>,\n",
       "        <AxesSubplot:title={'center':'airports_nearest'}>,\n",
       "        <AxesSubplot:title={'center':'cityCenters_nearest'}>],\n",
       "       [<AxesSubplot:title={'center':'parks_around3000'}>,\n",
       "        <AxesSubplot:title={'center':'parks_nearest'}>,\n",
       "        <AxesSubplot:title={'center':'ponds_around3000'}>,\n",
       "        <AxesSubplot:title={'center':'ponds_nearest'}>],\n",
       "       [<AxesSubplot:title={'center':'days_exposition'}>, <AxesSubplot:>,\n",
       "        <AxesSubplot:>, <AxesSubplot:>]], dtype=object)"
      ]
     },
     "execution_count": 5,
     "metadata": {},
     "output_type": "execute_result"
    },
    {
     "data": {
      "image/png": "[encoded data removed]",
      "text/plain": [
       "<Figure size 1080x1440 with 20 Axes>"
      ]
     },
     "metadata": {
      "needs_background": "light"
     },
     "output_type": "display_data"
    }
   ],
   "source": [
    "data.hist(figsize=(15, 20))"
   ]
  },
  {
   "cell_type": "markdown",
   "metadata": {},
   "source": [
    "## Предобработка данных"
   ]
  },
  {
   "cell_type": "markdown",
   "metadata": {},
   "source": [
    "Определим, в каких столбцах есть пропуски. \n",
    "P.S. Если нет никаких зацепок для того, чтобы их заполнить, а удалять не хочется, потому что данные других столбцов потеряются - то лучше оставить пустыми\n",
    "\n",
    "Посмотрим строки с пропущенными значениями по определённому столбцу \n",
    "locality_name "
   ]
  },
  {
   "cell_type": "code",
   "execution_count": 6,
   "metadata": {},
   "outputs": [
    {
     "data": {
      "text/plain": [
       "49"
      ]
     },
     "execution_count": 6,
     "metadata": {},
     "output_type": "execute_result"
    }
   ],
   "source": [
    "data['locality_name'].isna().sum()"
   ]
  },
  {
   "cell_type": "code",
   "execution_count": 7,
   "metadata": {},
   "outputs": [],
   "source": [
    " #удалим строки где пропущены значения в столбце locality_name - всего их 49\n",
    "data = data.dropna(subset=['locality_name']).reset_index(drop=True)"
   ]
  },
  {
   "cell_type": "code",
   "execution_count": 8,
   "metadata": {},
   "outputs": [
    {
     "data": {
      "text/plain": [
       "0"
      ]
     },
     "execution_count": 8,
     "metadata": {},
     "output_type": "execute_result"
    }
   ],
   "source": [
    "#проверим, остались ли пропущенные значения\n",
    "data['locality_name'].isna().sum()"
   ]
  },
  {
   "cell_type": "code",
   "execution_count": 9,
   "metadata": {},
   "outputs": [
    {
     "data": {
      "text/plain": [
       "11513"
      ]
     },
     "execution_count": 9,
     "metadata": {},
     "output_type": "execute_result"
    }
   ],
   "source": [
    "data['balcony'].isna().sum()"
   ]
  },
  {
   "cell_type": "markdown",
   "metadata": {},
   "source": [
    "Если продавец не указал число балконов, то, скорее всего, в его квартире их нет. Такие пропуски заменим на 0 и изменим тип данных на int."
   ]
  },
  {
   "cell_type": "code",
   "execution_count": 10,
   "metadata": {},
   "outputs": [],
   "source": [
    "data['balcony'] = data['balcony'].fillna(0)\n",
    "data['balcony'] = data['balcony'].astype('int')"
   ]
  },
  {
   "cell_type": "code",
   "execution_count": 11,
   "metadata": {},
   "outputs": [
    {
     "data": {
      "text/plain": [
       "2.50     3515\n",
       "2.60     1645\n",
       "2.70     1572\n",
       "3.00     1109\n",
       "2.80      993\n",
       "         ... \n",
       "4.25        1\n",
       "3.39        1\n",
       "3.93        1\n",
       "10.30       1\n",
       "4.65        1\n",
       "Name: ceiling_height, Length: 183, dtype: int64"
      ]
     },
     "execution_count": 11,
     "metadata": {},
     "output_type": "execute_result"
    }
   ],
   "source": [
    "#посмотрим значения в столбцах для выявления нестандартных значений на первый взгляд и ошибок, \n",
    "data['ceiling_height'].value_counts()"
   ]
  },
  {
   "cell_type": "code",
   "execution_count": 12,
   "metadata": {},
   "outputs": [
    {
     "data": {
      "text/plain": [
       "2.50     3515\n",
       "2.60     1645\n",
       "2.70     1572\n",
       "3.00     1109\n",
       "2.80      993\n",
       "         ... \n",
       "4.25        1\n",
       "3.39        1\n",
       "3.93        1\n",
       "10.30       1\n",
       "4.65        1\n",
       "Name: ceiling_height, Length: 183, dtype: int64"
      ]
     },
     "execution_count": 12,
     "metadata": {},
     "output_type": "execute_result"
    }
   ],
   "source": [
    "#посмотрим параметр ceiling_height, видим что есть необоснованно большие значения но пока оставим их как есть\n",
    "data['ceiling_height'].value_counts()"
   ]
  },
  {
   "cell_type": "code",
   "execution_count": 13,
   "metadata": {},
   "outputs": [
    {
     "data": {
      "text/plain": [
       "count    14490.000000\n",
       "mean         2.771287\n",
       "std          1.261593\n",
       "min          1.000000\n",
       "25%          2.520000\n",
       "50%          2.650000\n",
       "75%          2.800000\n",
       "max        100.000000\n",
       "Name: ceiling_height, dtype: float64"
      ]
     },
     "execution_count": 13,
     "metadata": {},
     "output_type": "execute_result"
    }
   ],
   "source": [
    "data['ceiling_height'].describe()"
   ]
  },
  {
   "cell_type": "code",
   "execution_count": 14,
   "metadata": {},
   "outputs": [
    {
     "data": {
      "text/html": [
       "<div>\n",
       "<style scoped>\n",
       "    .dataframe tbody tr th:only-of-type {\n",
       "        vertical-align: middle;\n",
       "    }\n",
       "\n",
       "    .dataframe tbody tr th {\n",
       "        vertical-align: top;\n",
       "    }\n",
       "\n",
       "    .dataframe thead th {\n",
       "        text-align: right;\n",
       "    }\n",
       "</style>\n",
       "<table border=\"1\" class=\"dataframe\">\n",
       "  <thead>\n",
       "    <tr style=\"text-align: right;\">\n",
       "      <th></th>\n",
       "      <th>total_images</th>\n",
       "      <th>last_price</th>\n",
       "      <th>total_area</th>\n",
       "      <th>first_day_exposition</th>\n",
       "      <th>rooms</th>\n",
       "      <th>ceiling_height</th>\n",
       "      <th>floors_total</th>\n",
       "      <th>living_area</th>\n",
       "      <th>floor</th>\n",
       "      <th>is_apartment</th>\n",
       "      <th>...</th>\n",
       "      <th>kitchen_area</th>\n",
       "      <th>balcony</th>\n",
       "      <th>locality_name</th>\n",
       "      <th>airports_nearest</th>\n",
       "      <th>cityCenters_nearest</th>\n",
       "      <th>parks_around3000</th>\n",
       "      <th>parks_nearest</th>\n",
       "      <th>ponds_around3000</th>\n",
       "      <th>ponds_nearest</th>\n",
       "      <th>days_exposition</th>\n",
       "    </tr>\n",
       "  </thead>\n",
       "  <tbody>\n",
       "    <tr>\n",
       "      <th>3470</th>\n",
       "      <td>3</td>\n",
       "      <td>1400000.0</td>\n",
       "      <td>30.0</td>\n",
       "      <td>2018-03-16T00:00:00</td>\n",
       "      <td>1</td>\n",
       "      <td>8.0</td>\n",
       "      <td>5.0</td>\n",
       "      <td>15.3</td>\n",
       "      <td>2</td>\n",
       "      <td>False</td>\n",
       "      <td>...</td>\n",
       "      <td>7.3</td>\n",
       "      <td>0</td>\n",
       "      <td>деревня Нурма</td>\n",
       "      <td>NaN</td>\n",
       "      <td>NaN</td>\n",
       "      <td>NaN</td>\n",
       "      <td>NaN</td>\n",
       "      <td>NaN</td>\n",
       "      <td>NaN</td>\n",
       "      <td>125.0</td>\n",
       "    </tr>\n",
       "    <tr>\n",
       "      <th>17412</th>\n",
       "      <td>0</td>\n",
       "      <td>5350000.0</td>\n",
       "      <td>54.0</td>\n",
       "      <td>2015-06-16T00:00:00</td>\n",
       "      <td>2</td>\n",
       "      <td>8.0</td>\n",
       "      <td>5.0</td>\n",
       "      <td>29.0</td>\n",
       "      <td>2</td>\n",
       "      <td>NaN</td>\n",
       "      <td>...</td>\n",
       "      <td>NaN</td>\n",
       "      <td>1</td>\n",
       "      <td>Красное Село</td>\n",
       "      <td>24638.0</td>\n",
       "      <td>28062.0</td>\n",
       "      <td>0.0</td>\n",
       "      <td>NaN</td>\n",
       "      <td>0.0</td>\n",
       "      <td>NaN</td>\n",
       "      <td>469.0</td>\n",
       "    </tr>\n",
       "    <tr>\n",
       "      <th>15717</th>\n",
       "      <td>14</td>\n",
       "      <td>5600000.0</td>\n",
       "      <td>67.0</td>\n",
       "      <td>2016-11-11T00:00:00</td>\n",
       "      <td>3</td>\n",
       "      <td>8.0</td>\n",
       "      <td>16.0</td>\n",
       "      <td>41.0</td>\n",
       "      <td>1</td>\n",
       "      <td>NaN</td>\n",
       "      <td>...</td>\n",
       "      <td>8.0</td>\n",
       "      <td>0</td>\n",
       "      <td>Санкт-Петербург</td>\n",
       "      <td>32691.0</td>\n",
       "      <td>11035.0</td>\n",
       "      <td>1.0</td>\n",
       "      <td>723.0</td>\n",
       "      <td>0.0</td>\n",
       "      <td>NaN</td>\n",
       "      <td>474.0</td>\n",
       "    </tr>\n",
       "    <tr>\n",
       "      <th>5853</th>\n",
       "      <td>20</td>\n",
       "      <td>5650000.0</td>\n",
       "      <td>45.0</td>\n",
       "      <td>2018-08-15T00:00:00</td>\n",
       "      <td>1</td>\n",
       "      <td>8.3</td>\n",
       "      <td>16.0</td>\n",
       "      <td>19.3</td>\n",
       "      <td>14</td>\n",
       "      <td>NaN</td>\n",
       "      <td>...</td>\n",
       "      <td>8.3</td>\n",
       "      <td>1</td>\n",
       "      <td>Санкт-Петербург</td>\n",
       "      <td>13069.0</td>\n",
       "      <td>10763.0</td>\n",
       "      <td>0.0</td>\n",
       "      <td>NaN</td>\n",
       "      <td>1.0</td>\n",
       "      <td>613.0</td>\n",
       "      <td>14.0</td>\n",
       "    </tr>\n",
       "    <tr>\n",
       "      <th>22264</th>\n",
       "      <td>20</td>\n",
       "      <td>5300000.0</td>\n",
       "      <td>45.0</td>\n",
       "      <td>2017-09-30T00:00:00</td>\n",
       "      <td>1</td>\n",
       "      <td>10.3</td>\n",
       "      <td>16.0</td>\n",
       "      <td>15.5</td>\n",
       "      <td>15</td>\n",
       "      <td>NaN</td>\n",
       "      <td>...</td>\n",
       "      <td>NaN</td>\n",
       "      <td>0</td>\n",
       "      <td>Санкт-Петербург</td>\n",
       "      <td>36353.0</td>\n",
       "      <td>11936.0</td>\n",
       "      <td>2.0</td>\n",
       "      <td>440.0</td>\n",
       "      <td>2.0</td>\n",
       "      <td>450.0</td>\n",
       "      <td>136.0</td>\n",
       "    </tr>\n",
       "    <tr>\n",
       "      <th>15036</th>\n",
       "      <td>19</td>\n",
       "      <td>5600000.0</td>\n",
       "      <td>56.4</td>\n",
       "      <td>2018-05-11T00:00:00</td>\n",
       "      <td>2</td>\n",
       "      <td>14.0</td>\n",
       "      <td>14.0</td>\n",
       "      <td>32.4</td>\n",
       "      <td>5</td>\n",
       "      <td>NaN</td>\n",
       "      <td>...</td>\n",
       "      <td>9.1</td>\n",
       "      <td>2</td>\n",
       "      <td>Санкт-Петербург</td>\n",
       "      <td>14814.0</td>\n",
       "      <td>13610.0</td>\n",
       "      <td>0.0</td>\n",
       "      <td>NaN</td>\n",
       "      <td>0.0</td>\n",
       "      <td>NaN</td>\n",
       "      <td>315.0</td>\n",
       "    </tr>\n",
       "    <tr>\n",
       "      <th>17466</th>\n",
       "      <td>15</td>\n",
       "      <td>6700000.0</td>\n",
       "      <td>92.9</td>\n",
       "      <td>2019-02-19T00:00:00</td>\n",
       "      <td>3</td>\n",
       "      <td>20.0</td>\n",
       "      <td>17.0</td>\n",
       "      <td>53.2</td>\n",
       "      <td>14</td>\n",
       "      <td>NaN</td>\n",
       "      <td>...</td>\n",
       "      <td>12.0</td>\n",
       "      <td>5</td>\n",
       "      <td>Санкт-Петербург</td>\n",
       "      <td>16295.0</td>\n",
       "      <td>15092.0</td>\n",
       "      <td>1.0</td>\n",
       "      <td>967.0</td>\n",
       "      <td>0.0</td>\n",
       "      <td>NaN</td>\n",
       "      <td>NaN</td>\n",
       "    </tr>\n",
       "    <tr>\n",
       "      <th>20469</th>\n",
       "      <td>12</td>\n",
       "      <td>5950000.0</td>\n",
       "      <td>60.0</td>\n",
       "      <td>2018-02-19T00:00:00</td>\n",
       "      <td>2</td>\n",
       "      <td>22.6</td>\n",
       "      <td>14.0</td>\n",
       "      <td>35.0</td>\n",
       "      <td>11</td>\n",
       "      <td>NaN</td>\n",
       "      <td>...</td>\n",
       "      <td>13.0</td>\n",
       "      <td>1</td>\n",
       "      <td>Санкт-Петербург</td>\n",
       "      <td>27028.0</td>\n",
       "      <td>12570.0</td>\n",
       "      <td>0.0</td>\n",
       "      <td>NaN</td>\n",
       "      <td>0.0</td>\n",
       "      <td>NaN</td>\n",
       "      <td>40.0</td>\n",
       "    </tr>\n",
       "    <tr>\n",
       "      <th>5068</th>\n",
       "      <td>0</td>\n",
       "      <td>3850000.0</td>\n",
       "      <td>30.5</td>\n",
       "      <td>2018-10-03T00:00:00</td>\n",
       "      <td>1</td>\n",
       "      <td>24.0</td>\n",
       "      <td>5.0</td>\n",
       "      <td>19.5</td>\n",
       "      <td>1</td>\n",
       "      <td>True</td>\n",
       "      <td>...</td>\n",
       "      <td>5.5</td>\n",
       "      <td>0</td>\n",
       "      <td>Санкт-Петербург</td>\n",
       "      <td>29686.0</td>\n",
       "      <td>8389.0</td>\n",
       "      <td>3.0</td>\n",
       "      <td>397.0</td>\n",
       "      <td>1.0</td>\n",
       "      <td>578.0</td>\n",
       "      <td>7.0</td>\n",
       "    </tr>\n",
       "    <tr>\n",
       "      <th>355</th>\n",
       "      <td>17</td>\n",
       "      <td>3600000.0</td>\n",
       "      <td>55.2</td>\n",
       "      <td>2018-07-12T00:00:00</td>\n",
       "      <td>2</td>\n",
       "      <td>25.0</td>\n",
       "      <td>5.0</td>\n",
       "      <td>32.0</td>\n",
       "      <td>2</td>\n",
       "      <td>False</td>\n",
       "      <td>...</td>\n",
       "      <td>NaN</td>\n",
       "      <td>2</td>\n",
       "      <td>Гатчина</td>\n",
       "      <td>NaN</td>\n",
       "      <td>NaN</td>\n",
       "      <td>NaN</td>\n",
       "      <td>NaN</td>\n",
       "      <td>NaN</td>\n",
       "      <td>NaN</td>\n",
       "      <td>259.0</td>\n",
       "    </tr>\n",
       "    <tr>\n",
       "      <th>18512</th>\n",
       "      <td>6</td>\n",
       "      <td>3750000.0</td>\n",
       "      <td>43.0</td>\n",
       "      <td>2019-03-18T00:00:00</td>\n",
       "      <td>2</td>\n",
       "      <td>25.0</td>\n",
       "      <td>5.0</td>\n",
       "      <td>29.0</td>\n",
       "      <td>3</td>\n",
       "      <td>False</td>\n",
       "      <td>...</td>\n",
       "      <td>NaN</td>\n",
       "      <td>0</td>\n",
       "      <td>Санкт-Петербург</td>\n",
       "      <td>27054.0</td>\n",
       "      <td>8033.0</td>\n",
       "      <td>1.0</td>\n",
       "      <td>540.0</td>\n",
       "      <td>0.0</td>\n",
       "      <td>NaN</td>\n",
       "      <td>12.0</td>\n",
       "    </tr>\n",
       "    <tr>\n",
       "      <th>11266</th>\n",
       "      <td>0</td>\n",
       "      <td>1950000.0</td>\n",
       "      <td>37.0</td>\n",
       "      <td>2019-03-20T00:00:00</td>\n",
       "      <td>1</td>\n",
       "      <td>25.0</td>\n",
       "      <td>5.0</td>\n",
       "      <td>17.0</td>\n",
       "      <td>4</td>\n",
       "      <td>False</td>\n",
       "      <td>...</td>\n",
       "      <td>9.0</td>\n",
       "      <td>2</td>\n",
       "      <td>Луга</td>\n",
       "      <td>NaN</td>\n",
       "      <td>NaN</td>\n",
       "      <td>NaN</td>\n",
       "      <td>NaN</td>\n",
       "      <td>NaN</td>\n",
       "      <td>NaN</td>\n",
       "      <td>18.0</td>\n",
       "    </tr>\n",
       "    <tr>\n",
       "      <th>14357</th>\n",
       "      <td>9</td>\n",
       "      <td>1700000.0</td>\n",
       "      <td>35.0</td>\n",
       "      <td>2015-12-04T00:00:00</td>\n",
       "      <td>1</td>\n",
       "      <td>25.0</td>\n",
       "      <td>5.0</td>\n",
       "      <td>20.0</td>\n",
       "      <td>2</td>\n",
       "      <td>False</td>\n",
       "      <td>...</td>\n",
       "      <td>8.0</td>\n",
       "      <td>1</td>\n",
       "      <td>поселок Новый Свет</td>\n",
       "      <td>NaN</td>\n",
       "      <td>NaN</td>\n",
       "      <td>NaN</td>\n",
       "      <td>NaN</td>\n",
       "      <td>NaN</td>\n",
       "      <td>NaN</td>\n",
       "      <td>206.0</td>\n",
       "    </tr>\n",
       "    <tr>\n",
       "      <th>9363</th>\n",
       "      <td>5</td>\n",
       "      <td>3950000.0</td>\n",
       "      <td>42.0</td>\n",
       "      <td>2017-03-26T00:00:00</td>\n",
       "      <td>3</td>\n",
       "      <td>25.0</td>\n",
       "      <td>5.0</td>\n",
       "      <td>30.0</td>\n",
       "      <td>2</td>\n",
       "      <td>NaN</td>\n",
       "      <td>...</td>\n",
       "      <td>5.2</td>\n",
       "      <td>0</td>\n",
       "      <td>Санкт-Петербург</td>\n",
       "      <td>11647.0</td>\n",
       "      <td>13581.0</td>\n",
       "      <td>0.0</td>\n",
       "      <td>NaN</td>\n",
       "      <td>0.0</td>\n",
       "      <td>NaN</td>\n",
       "      <td>NaN</td>\n",
       "    </tr>\n",
       "    <tr>\n",
       "      <th>6236</th>\n",
       "      <td>6</td>\n",
       "      <td>3300000.0</td>\n",
       "      <td>44.4</td>\n",
       "      <td>2019-03-25T00:00:00</td>\n",
       "      <td>2</td>\n",
       "      <td>25.0</td>\n",
       "      <td>5.0</td>\n",
       "      <td>31.3</td>\n",
       "      <td>5</td>\n",
       "      <td>NaN</td>\n",
       "      <td>...</td>\n",
       "      <td>5.7</td>\n",
       "      <td>0</td>\n",
       "      <td>Кронштадт</td>\n",
       "      <td>68923.0</td>\n",
       "      <td>50649.0</td>\n",
       "      <td>1.0</td>\n",
       "      <td>417.0</td>\n",
       "      <td>2.0</td>\n",
       "      <td>73.0</td>\n",
       "      <td>NaN</td>\n",
       "    </tr>\n",
       "    <tr>\n",
       "      <th>4636</th>\n",
       "      <td>0</td>\n",
       "      <td>4300000.0</td>\n",
       "      <td>45.0</td>\n",
       "      <td>2018-02-01T00:00:00</td>\n",
       "      <td>2</td>\n",
       "      <td>25.0</td>\n",
       "      <td>9.0</td>\n",
       "      <td>30.0</td>\n",
       "      <td>2</td>\n",
       "      <td>NaN</td>\n",
       "      <td>...</td>\n",
       "      <td>7.0</td>\n",
       "      <td>1</td>\n",
       "      <td>Санкт-Петербург</td>\n",
       "      <td>12016.0</td>\n",
       "      <td>13256.0</td>\n",
       "      <td>1.0</td>\n",
       "      <td>658.0</td>\n",
       "      <td>1.0</td>\n",
       "      <td>331.0</td>\n",
       "      <td>181.0</td>\n",
       "    </tr>\n",
       "    <tr>\n",
       "      <th>5660</th>\n",
       "      <td>4</td>\n",
       "      <td>4400000.0</td>\n",
       "      <td>50.0</td>\n",
       "      <td>2017-08-08T00:00:00</td>\n",
       "      <td>2</td>\n",
       "      <td>26.0</td>\n",
       "      <td>9.0</td>\n",
       "      <td>21.3</td>\n",
       "      <td>3</td>\n",
       "      <td>NaN</td>\n",
       "      <td>...</td>\n",
       "      <td>7.0</td>\n",
       "      <td>2</td>\n",
       "      <td>Санкт-Петербург</td>\n",
       "      <td>28981.0</td>\n",
       "      <td>10912.0</td>\n",
       "      <td>1.0</td>\n",
       "      <td>305.0</td>\n",
       "      <td>0.0</td>\n",
       "      <td>NaN</td>\n",
       "      <td>267.0</td>\n",
       "    </tr>\n",
       "    <tr>\n",
       "      <th>5797</th>\n",
       "      <td>17</td>\n",
       "      <td>8150000.0</td>\n",
       "      <td>80.0</td>\n",
       "      <td>2019-01-09T00:00:00</td>\n",
       "      <td>2</td>\n",
       "      <td>27.0</td>\n",
       "      <td>36.0</td>\n",
       "      <td>41.0</td>\n",
       "      <td>13</td>\n",
       "      <td>NaN</td>\n",
       "      <td>...</td>\n",
       "      <td>12.0</td>\n",
       "      <td>5</td>\n",
       "      <td>Санкт-Петербург</td>\n",
       "      <td>18732.0</td>\n",
       "      <td>20444.0</td>\n",
       "      <td>0.0</td>\n",
       "      <td>NaN</td>\n",
       "      <td>3.0</td>\n",
       "      <td>80.0</td>\n",
       "      <td>38.0</td>\n",
       "    </tr>\n",
       "    <tr>\n",
       "      <th>5238</th>\n",
       "      <td>0</td>\n",
       "      <td>2500000.0</td>\n",
       "      <td>54.0</td>\n",
       "      <td>2017-10-13T00:00:00</td>\n",
       "      <td>2</td>\n",
       "      <td>27.0</td>\n",
       "      <td>5.0</td>\n",
       "      <td>30.0</td>\n",
       "      <td>3</td>\n",
       "      <td>NaN</td>\n",
       "      <td>...</td>\n",
       "      <td>9.0</td>\n",
       "      <td>2</td>\n",
       "      <td>деревня Мины</td>\n",
       "      <td>NaN</td>\n",
       "      <td>NaN</td>\n",
       "      <td>NaN</td>\n",
       "      <td>NaN</td>\n",
       "      <td>NaN</td>\n",
       "      <td>NaN</td>\n",
       "      <td>540.0</td>\n",
       "    </tr>\n",
       "    <tr>\n",
       "      <th>17825</th>\n",
       "      <td>1</td>\n",
       "      <td>3900000.0</td>\n",
       "      <td>56.0</td>\n",
       "      <td>2017-12-22T00:00:00</td>\n",
       "      <td>3</td>\n",
       "      <td>27.0</td>\n",
       "      <td>5.0</td>\n",
       "      <td>33.0</td>\n",
       "      <td>4</td>\n",
       "      <td>False</td>\n",
       "      <td>...</td>\n",
       "      <td>NaN</td>\n",
       "      <td>0</td>\n",
       "      <td>Санкт-Петербург</td>\n",
       "      <td>41030.0</td>\n",
       "      <td>15543.0</td>\n",
       "      <td>0.0</td>\n",
       "      <td>NaN</td>\n",
       "      <td>0.0</td>\n",
       "      <td>NaN</td>\n",
       "      <td>73.0</td>\n",
       "    </tr>\n",
       "    <tr>\n",
       "      <th>4868</th>\n",
       "      <td>7</td>\n",
       "      <td>3000000.0</td>\n",
       "      <td>25.0</td>\n",
       "      <td>2017-09-27T00:00:00</td>\n",
       "      <td>0</td>\n",
       "      <td>27.0</td>\n",
       "      <td>25.0</td>\n",
       "      <td>17.0</td>\n",
       "      <td>17</td>\n",
       "      <td>NaN</td>\n",
       "      <td>...</td>\n",
       "      <td>NaN</td>\n",
       "      <td>2</td>\n",
       "      <td>посёлок Мурино</td>\n",
       "      <td>NaN</td>\n",
       "      <td>NaN</td>\n",
       "      <td>NaN</td>\n",
       "      <td>NaN</td>\n",
       "      <td>NaN</td>\n",
       "      <td>NaN</td>\n",
       "      <td>28.0</td>\n",
       "    </tr>\n",
       "    <tr>\n",
       "      <th>20440</th>\n",
       "      <td>11</td>\n",
       "      <td>8000000.0</td>\n",
       "      <td>45.0</td>\n",
       "      <td>2017-07-18T00:00:00</td>\n",
       "      <td>1</td>\n",
       "      <td>27.0</td>\n",
       "      <td>4.0</td>\n",
       "      <td>22.0</td>\n",
       "      <td>2</td>\n",
       "      <td>NaN</td>\n",
       "      <td>...</td>\n",
       "      <td>10.0</td>\n",
       "      <td>1</td>\n",
       "      <td>Санкт-Петербург</td>\n",
       "      <td>18975.0</td>\n",
       "      <td>3246.0</td>\n",
       "      <td>0.0</td>\n",
       "      <td>NaN</td>\n",
       "      <td>3.0</td>\n",
       "      <td>449.0</td>\n",
       "      <td>429.0</td>\n",
       "    </tr>\n",
       "    <tr>\n",
       "      <th>21780</th>\n",
       "      <td>20</td>\n",
       "      <td>2450000.0</td>\n",
       "      <td>44.0</td>\n",
       "      <td>2019-02-12T00:00:00</td>\n",
       "      <td>2</td>\n",
       "      <td>27.0</td>\n",
       "      <td>2.0</td>\n",
       "      <td>38.0</td>\n",
       "      <td>2</td>\n",
       "      <td>False</td>\n",
       "      <td>...</td>\n",
       "      <td>8.6</td>\n",
       "      <td>2</td>\n",
       "      <td>городской поселок Большая Ижора</td>\n",
       "      <td>NaN</td>\n",
       "      <td>NaN</td>\n",
       "      <td>NaN</td>\n",
       "      <td>NaN</td>\n",
       "      <td>NaN</td>\n",
       "      <td>NaN</td>\n",
       "      <td>NaN</td>\n",
       "    </tr>\n",
       "    <tr>\n",
       "      <th>10755</th>\n",
       "      <td>8</td>\n",
       "      <td>3800000.0</td>\n",
       "      <td>58.0</td>\n",
       "      <td>2017-10-13T00:00:00</td>\n",
       "      <td>2</td>\n",
       "      <td>27.0</td>\n",
       "      <td>10.0</td>\n",
       "      <td>30.1</td>\n",
       "      <td>3</td>\n",
       "      <td>False</td>\n",
       "      <td>...</td>\n",
       "      <td>8.1</td>\n",
       "      <td>2</td>\n",
       "      <td>посёлок Мурино</td>\n",
       "      <td>NaN</td>\n",
       "      <td>NaN</td>\n",
       "      <td>NaN</td>\n",
       "      <td>NaN</td>\n",
       "      <td>NaN</td>\n",
       "      <td>NaN</td>\n",
       "      <td>71.0</td>\n",
       "    </tr>\n",
       "    <tr>\n",
       "      <th>22890</th>\n",
       "      <td>14</td>\n",
       "      <td>4000000.0</td>\n",
       "      <td>98.0</td>\n",
       "      <td>2018-03-15T00:00:00</td>\n",
       "      <td>4</td>\n",
       "      <td>27.0</td>\n",
       "      <td>2.0</td>\n",
       "      <td>73.0</td>\n",
       "      <td>2</td>\n",
       "      <td>True</td>\n",
       "      <td>...</td>\n",
       "      <td>9.0</td>\n",
       "      <td>1</td>\n",
       "      <td>деревня Нижняя</td>\n",
       "      <td>NaN</td>\n",
       "      <td>NaN</td>\n",
       "      <td>NaN</td>\n",
       "      <td>NaN</td>\n",
       "      <td>NaN</td>\n",
       "      <td>NaN</td>\n",
       "      <td>27.0</td>\n",
       "    </tr>\n",
       "    <tr>\n",
       "      <th>21334</th>\n",
       "      <td>19</td>\n",
       "      <td>4900000.0</td>\n",
       "      <td>42.0</td>\n",
       "      <td>2017-04-18T00:00:00</td>\n",
       "      <td>1</td>\n",
       "      <td>27.5</td>\n",
       "      <td>24.0</td>\n",
       "      <td>37.7</td>\n",
       "      <td>19</td>\n",
       "      <td>False</td>\n",
       "      <td>...</td>\n",
       "      <td>11.0</td>\n",
       "      <td>2</td>\n",
       "      <td>Санкт-Петербург</td>\n",
       "      <td>42742.0</td>\n",
       "      <td>9760.0</td>\n",
       "      <td>0.0</td>\n",
       "      <td>NaN</td>\n",
       "      <td>0.0</td>\n",
       "      <td>NaN</td>\n",
       "      <td>61.0</td>\n",
       "    </tr>\n",
       "    <tr>\n",
       "      <th>3144</th>\n",
       "      <td>14</td>\n",
       "      <td>2900000.0</td>\n",
       "      <td>75.0</td>\n",
       "      <td>2018-11-12T00:00:00</td>\n",
       "      <td>3</td>\n",
       "      <td>32.0</td>\n",
       "      <td>3.0</td>\n",
       "      <td>53.0</td>\n",
       "      <td>2</td>\n",
       "      <td>NaN</td>\n",
       "      <td>...</td>\n",
       "      <td>8.0</td>\n",
       "      <td>0</td>\n",
       "      <td>Волхов</td>\n",
       "      <td>NaN</td>\n",
       "      <td>NaN</td>\n",
       "      <td>NaN</td>\n",
       "      <td>NaN</td>\n",
       "      <td>NaN</td>\n",
       "      <td>NaN</td>\n",
       "      <td>NaN</td>\n",
       "    </tr>\n",
       "    <tr>\n",
       "      <th>22291</th>\n",
       "      <td>19</td>\n",
       "      <td>9999000.0</td>\n",
       "      <td>92.4</td>\n",
       "      <td>2019-04-05T00:00:00</td>\n",
       "      <td>2</td>\n",
       "      <td>32.0</td>\n",
       "      <td>6.0</td>\n",
       "      <td>55.5</td>\n",
       "      <td>5</td>\n",
       "      <td>False</td>\n",
       "      <td>...</td>\n",
       "      <td>16.5</td>\n",
       "      <td>4</td>\n",
       "      <td>Санкт-Петербург</td>\n",
       "      <td>18838.0</td>\n",
       "      <td>3506.0</td>\n",
       "      <td>0.0</td>\n",
       "      <td>NaN</td>\n",
       "      <td>3.0</td>\n",
       "      <td>511.0</td>\n",
       "      <td>NaN</td>\n",
       "    </tr>\n",
       "    <tr>\n",
       "      <th>22822</th>\n",
       "      <td>0</td>\n",
       "      <td>15000000.0</td>\n",
       "      <td>25.0</td>\n",
       "      <td>2018-07-25T00:00:00</td>\n",
       "      <td>1</td>\n",
       "      <td>100.0</td>\n",
       "      <td>5.0</td>\n",
       "      <td>14.0</td>\n",
       "      <td>5</td>\n",
       "      <td>True</td>\n",
       "      <td>...</td>\n",
       "      <td>11.0</td>\n",
       "      <td>5</td>\n",
       "      <td>Санкт-Петербург</td>\n",
       "      <td>34963.0</td>\n",
       "      <td>8283.0</td>\n",
       "      <td>1.0</td>\n",
       "      <td>223.0</td>\n",
       "      <td>3.0</td>\n",
       "      <td>30.0</td>\n",
       "      <td>19.0</td>\n",
       "    </tr>\n",
       "  </tbody>\n",
       "</table>\n",
       "<p>29 rows × 22 columns</p>\n",
       "</div>"
      ],
      "text/plain": [
       "       total_images  last_price  total_area first_day_exposition  rooms  \\\n",
       "3470              3   1400000.0        30.0  2018-03-16T00:00:00      1   \n",
       "17412             0   5350000.0        54.0  2015-06-16T00:00:00      2   \n",
       "15717            14   5600000.0        67.0  2016-11-11T00:00:00      3   \n",
       "5853             20   5650000.0        45.0  2018-08-15T00:00:00      1   \n",
       "22264            20   5300000.0        45.0  2017-09-30T00:00:00      1   \n",
       "15036            19   5600000.0        56.4  2018-05-11T00:00:00      2   \n",
       "17466            15   6700000.0        92.9  2019-02-19T00:00:00      3   \n",
       "20469            12   5950000.0        60.0  2018-02-19T00:00:00      2   \n",
       "5068              0   3850000.0        30.5  2018-10-03T00:00:00      1   \n",
       "355              17   3600000.0        55.2  2018-07-12T00:00:00      2   \n",
       "18512             6   3750000.0        43.0  2019-03-18T00:00:00      2   \n",
       "11266             0   1950000.0        37.0  2019-03-20T00:00:00      1   \n",
       "14357             9   1700000.0        35.0  2015-12-04T00:00:00      1   \n",
       "9363              5   3950000.0        42.0  2017-03-26T00:00:00      3   \n",
       "6236              6   3300000.0        44.4  2019-03-25T00:00:00      2   \n",
       "4636              0   4300000.0        45.0  2018-02-01T00:00:00      2   \n",
       "5660              4   4400000.0        50.0  2017-08-08T00:00:00      2   \n",
       "5797             17   8150000.0        80.0  2019-01-09T00:00:00      2   \n",
       "5238              0   2500000.0        54.0  2017-10-13T00:00:00      2   \n",
       "17825             1   3900000.0        56.0  2017-12-22T00:00:00      3   \n",
       "4868              7   3000000.0        25.0  2017-09-27T00:00:00      0   \n",
       "20440            11   8000000.0        45.0  2017-07-18T00:00:00      1   \n",
       "21780            20   2450000.0        44.0  2019-02-12T00:00:00      2   \n",
       "10755             8   3800000.0        58.0  2017-10-13T00:00:00      2   \n",
       "22890            14   4000000.0        98.0  2018-03-15T00:00:00      4   \n",
       "21334            19   4900000.0        42.0  2017-04-18T00:00:00      1   \n",
       "3144             14   2900000.0        75.0  2018-11-12T00:00:00      3   \n",
       "22291            19   9999000.0        92.4  2019-04-05T00:00:00      2   \n",
       "22822             0  15000000.0        25.0  2018-07-25T00:00:00      1   \n",
       "\n",
       "       ceiling_height  floors_total  living_area  floor is_apartment  ...  \\\n",
       "3470              8.0           5.0         15.3      2        False  ...   \n",
       "17412             8.0           5.0         29.0      2          NaN  ...   \n",
       "15717             8.0          16.0         41.0      1          NaN  ...   \n",
       "5853              8.3          16.0         19.3     14          NaN  ...   \n",
       "22264            10.3          16.0         15.5     15          NaN  ...   \n",
       "15036            14.0          14.0         32.4      5          NaN  ...   \n",
       "17466            20.0          17.0         53.2     14          NaN  ...   \n",
       "20469            22.6          14.0         35.0     11          NaN  ...   \n",
       "5068             24.0           5.0         19.5      1         True  ...   \n",
       "355              25.0           5.0         32.0      2        False  ...   \n",
       "18512            25.0           5.0         29.0      3        False  ...   \n",
       "11266            25.0           5.0         17.0      4        False  ...   \n",
       "14357            25.0           5.0         20.0      2        False  ...   \n",
       "9363             25.0           5.0         30.0      2          NaN  ...   \n",
       "6236             25.0           5.0         31.3      5          NaN  ...   \n",
       "4636             25.0           9.0         30.0      2          NaN  ...   \n",
       "5660             26.0           9.0         21.3      3          NaN  ...   \n",
       "5797             27.0          36.0         41.0     13          NaN  ...   \n",
       "5238             27.0           5.0         30.0      3          NaN  ...   \n",
       "17825            27.0           5.0         33.0      4        False  ...   \n",
       "4868             27.0          25.0         17.0     17          NaN  ...   \n",
       "20440            27.0           4.0         22.0      2          NaN  ...   \n",
       "21780            27.0           2.0         38.0      2        False  ...   \n",
       "10755            27.0          10.0         30.1      3        False  ...   \n",
       "22890            27.0           2.0         73.0      2         True  ...   \n",
       "21334            27.5          24.0         37.7     19        False  ...   \n",
       "3144             32.0           3.0         53.0      2          NaN  ...   \n",
       "22291            32.0           6.0         55.5      5        False  ...   \n",
       "22822           100.0           5.0         14.0      5         True  ...   \n",
       "\n",
       "       kitchen_area  balcony                    locality_name  \\\n",
       "3470            7.3        0                    деревня Нурма   \n",
       "17412           NaN        1                     Красное Село   \n",
       "15717           8.0        0                  Санкт-Петербург   \n",
       "5853            8.3        1                  Санкт-Петербург   \n",
       "22264           NaN        0                  Санкт-Петербург   \n",
       "15036           9.1        2                  Санкт-Петербург   \n",
       "17466          12.0        5                  Санкт-Петербург   \n",
       "20469          13.0        1                  Санкт-Петербург   \n",
       "5068            5.5        0                  Санкт-Петербург   \n",
       "355             NaN        2                          Гатчина   \n",
       "18512           NaN        0                  Санкт-Петербург   \n",
       "11266           9.0        2                             Луга   \n",
       "14357           8.0        1               поселок Новый Свет   \n",
       "9363            5.2        0                  Санкт-Петербург   \n",
       "6236            5.7        0                        Кронштадт   \n",
       "4636            7.0        1                  Санкт-Петербург   \n",
       "5660            7.0        2                  Санкт-Петербург   \n",
       "5797           12.0        5                  Санкт-Петербург   \n",
       "5238            9.0        2                     деревня Мины   \n",
       "17825           NaN        0                  Санкт-Петербург   \n",
       "4868            NaN        2                   посёлок Мурино   \n",
       "20440          10.0        1                  Санкт-Петербург   \n",
       "21780           8.6        2  городской поселок Большая Ижора   \n",
       "10755           8.1        2                   посёлок Мурино   \n",
       "22890           9.0        1                   деревня Нижняя   \n",
       "21334          11.0        2                  Санкт-Петербург   \n",
       "3144            8.0        0                           Волхов   \n",
       "22291          16.5        4                  Санкт-Петербург   \n",
       "22822          11.0        5                  Санкт-Петербург   \n",
       "\n",
       "       airports_nearest cityCenters_nearest  parks_around3000  parks_nearest  \\\n",
       "3470                NaN                 NaN               NaN            NaN   \n",
       "17412           24638.0             28062.0               0.0            NaN   \n",
       "15717           32691.0             11035.0               1.0          723.0   \n",
       "5853            13069.0             10763.0               0.0            NaN   \n",
       "22264           36353.0             11936.0               2.0          440.0   \n",
       "15036           14814.0             13610.0               0.0            NaN   \n",
       "17466           16295.0             15092.0               1.0          967.0   \n",
       "20469           27028.0             12570.0               0.0            NaN   \n",
       "5068            29686.0              8389.0               3.0          397.0   \n",
       "355                 NaN                 NaN               NaN            NaN   \n",
       "18512           27054.0              8033.0               1.0          540.0   \n",
       "11266               NaN                 NaN               NaN            NaN   \n",
       "14357               NaN                 NaN               NaN            NaN   \n",
       "9363            11647.0             13581.0               0.0            NaN   \n",
       "6236            68923.0             50649.0               1.0          417.0   \n",
       "4636            12016.0             13256.0               1.0          658.0   \n",
       "5660            28981.0             10912.0               1.0          305.0   \n",
       "5797            18732.0             20444.0               0.0            NaN   \n",
       "5238                NaN                 NaN               NaN            NaN   \n",
       "17825           41030.0             15543.0               0.0            NaN   \n",
       "4868                NaN                 NaN               NaN            NaN   \n",
       "20440           18975.0              3246.0               0.0            NaN   \n",
       "21780               NaN                 NaN               NaN            NaN   \n",
       "10755               NaN                 NaN               NaN            NaN   \n",
       "22890               NaN                 NaN               NaN            NaN   \n",
       "21334           42742.0              9760.0               0.0            NaN   \n",
       "3144                NaN                 NaN               NaN            NaN   \n",
       "22291           18838.0              3506.0               0.0            NaN   \n",
       "22822           34963.0              8283.0               1.0          223.0   \n",
       "\n",
       "       ponds_around3000  ponds_nearest  days_exposition  \n",
       "3470                NaN            NaN            125.0  \n",
       "17412               0.0            NaN            469.0  \n",
       "15717               0.0            NaN            474.0  \n",
       "5853                1.0          613.0             14.0  \n",
       "22264               2.0          450.0            136.0  \n",
       "15036               0.0            NaN            315.0  \n",
       "17466               0.0            NaN              NaN  \n",
       "20469               0.0            NaN             40.0  \n",
       "5068                1.0          578.0              7.0  \n",
       "355                 NaN            NaN            259.0  \n",
       "18512               0.0            NaN             12.0  \n",
       "11266               NaN            NaN             18.0  \n",
       "14357               NaN            NaN            206.0  \n",
       "9363                0.0            NaN              NaN  \n",
       "6236                2.0           73.0              NaN  \n",
       "4636                1.0          331.0            181.0  \n",
       "5660                0.0            NaN            267.0  \n",
       "5797                3.0           80.0             38.0  \n",
       "5238                NaN            NaN            540.0  \n",
       "17825               0.0            NaN             73.0  \n",
       "4868                NaN            NaN             28.0  \n",
       "20440               3.0          449.0            429.0  \n",
       "21780               NaN            NaN              NaN  \n",
       "10755               NaN            NaN             71.0  \n",
       "22890               NaN            NaN             27.0  \n",
       "21334               0.0            NaN             61.0  \n",
       "3144                NaN            NaN              NaN  \n",
       "22291               3.0          511.0              NaN  \n",
       "22822               3.0           30.0             19.0  \n",
       "\n",
       "[29 rows x 22 columns]"
      ]
     },
     "execution_count": 14,
     "metadata": {},
     "output_type": "execute_result"
    }
   ],
   "source": [
    "#медиана от среднего отличается не сильно из-за этих выбросов во всей выборке\n",
    "#проверим сколько данных с высотой потолков выше 6 метров\n",
    "data[data['ceiling_height'] > 6].sort_values('ceiling_height')"
   ]
  },
  {
   "cell_type": "markdown",
   "metadata": {},
   "source": [
    "Тут явно есть ошибки. Высота потолков в среднем составляет 2,77 м, медиана 2,65 м.\n",
    "Высота потолков в 1 или 100 метров. О данных значениях мы спросим у сотрудников, предоставивших нам выборку данных, для общего изучения данных. Там, где высота потолков больше 20м, видимо пропущена точка, потолки в 10 раз ниже - поделим их на 10."
   ]
  },
  {
   "cell_type": "code",
   "execution_count": 15,
   "metadata": {},
   "outputs": [
    {
     "data": {
      "text/plain": [
       "array([ 2.7 ,   nan,  3.03,  2.5 ,  2.67,  2.56,  3.05,  2.75,  2.6 ,\n",
       "        2.9 ,  2.8 ,  2.55,  3.  ,  2.65,  3.2 ,  2.61,  3.25,  3.45,\n",
       "        2.77,  2.85,  2.64,  2.57,  4.15,  3.5 ,  3.3 ,  2.71,  4.  ,\n",
       "        2.47,  2.73,  2.84,  3.1 ,  2.34,  3.4 ,  3.06,  2.72,  2.54,\n",
       "        2.51,  2.78,  2.76,  2.58,  3.7 ,  2.52,  5.2 ,  2.87,  2.66,\n",
       "        2.59,  2.  ,  2.45,  3.6 ,  2.92,  3.11,  3.13,  3.8 ,  3.15,\n",
       "        3.55,  3.16,  3.62,  3.12,  2.53,  2.74,  2.96,  2.46,  5.3 ,\n",
       "        5.  ,  2.79,  2.95,  4.06,  2.94,  3.82,  3.54,  3.53,  2.83,\n",
       "        4.7 ,  2.4 ,  3.38,  3.01,  5.6 ,  3.65,  3.9 ,  3.18,  3.35,\n",
       "        2.3 ,  3.57,  2.48,  2.62,  2.82,  3.98,  2.63,  3.83,  3.52,\n",
       "        3.95,  3.75,  2.88,  3.67,  3.87,  3.66,  3.85,  3.86,  4.19,\n",
       "        3.24,  4.8 ,  4.5 ,  4.2 ,  3.36,  3.08,  3.68,  3.07,  3.37,\n",
       "        3.09,  8.  ,  3.26,  3.34,  2.81,  3.44,  2.97,  3.14,  4.37,\n",
       "        2.68,  3.22,  3.27,  4.1 ,  2.93,  3.46,  3.47,  3.33,  3.63,\n",
       "        3.32,  1.2 ,  8.3 ,  2.98,  2.86,  3.17,  4.4 ,  3.28,  3.04,\n",
       "        4.45,  5.5 ,  3.84,  3.23,  3.02,  3.21,  3.43,  3.78,  4.3 ,\n",
       "        3.39,  2.69,  3.31,  4.65,  3.56,  2.2 ,  3.51,  3.93,  3.42,\n",
       "        2.99,  3.49, 14.  ,  4.14,  2.91,  3.88,  1.75,  4.25,  3.29,\n",
       "        2.25,  3.76,  3.69,  6.  ,  2.26,  2.89,  3.58,  5.8 ,  2.49,\n",
       "        4.9 ,  3.48, 10.3 ,  1.  , 10.  ,  3.59])"
      ]
     },
     "execution_count": 15,
     "metadata": {},
     "output_type": "execute_result"
    }
   ],
   "source": [
    "data.loc[data['ceiling_height'] >= 20, 'ceiling_height'] = data.loc[data['ceiling_height'] >= 20, 'ceiling_height'] / 10\n",
    "data['ceiling_height'].unique()"
   ]
  },
  {
   "cell_type": "code",
   "execution_count": 16,
   "metadata": {},
   "outputs": [
    {
     "data": {
      "text/plain": [
       "9160"
      ]
     },
     "execution_count": 16,
     "metadata": {},
     "output_type": "execute_result"
    }
   ],
   "source": [
    "#проверим сколько пропущенных значений\n",
    "data['ceiling_height'].isna().sum()"
   ]
  },
  {
   "cell_type": "code",
   "execution_count": 17,
   "metadata": {},
   "outputs": [
    {
     "data": {
      "text/plain": [
       "0"
      ]
     },
     "execution_count": 17,
     "metadata": {},
     "output_type": "execute_result"
    }
   ],
   "source": [
    "#много, заполним пропуски медианой \n",
    "data.loc[data['ceiling_height'].isna(), 'ceiling_height'] = data['ceiling_height'].median()\n",
    "data['ceiling_height'].isna().sum()"
   ]
  },
  {
   "cell_type": "code",
   "execution_count": 18,
   "metadata": {},
   "outputs": [],
   "source": [
    "#заменим пропуски в days_exposition и заменим тип данных\n",
    "data['days_exposition'] = data['days_exposition'].fillna(0).astype('int')"
   ]
  },
  {
   "cell_type": "code",
   "execution_count": 19,
   "metadata": {},
   "outputs": [],
   "source": [
    "#переведем столбец с датой в формат даты без времени, т.к. время не указано\n",
    "data['first_day_exposition'] = pd.to_datetime(data['first_day_exposition'], format = '%Y-%m-%d')"
   ]
  },
  {
   "cell_type": "code",
   "execution_count": 20,
   "metadata": {},
   "outputs": [
    {
     "data": {
      "text/plain": [
       "20890"
      ]
     },
     "execution_count": 20,
     "metadata": {},
     "output_type": "execute_result"
    }
   ],
   "source": [
    "#проверим столбец is_apartment. Какое количество пропущенных значений здесь.\n",
    "data['is_apartment'].isna().sum()"
   ]
  },
  {
   "cell_type": "markdown",
   "metadata": {},
   "source": [
    "Много пропущенных значений. Cтолбец апартаменты возможно появился не вместе с началом ведения записей, все пропущенные значения заменим на False"
   ]
  },
  {
   "cell_type": "code",
   "execution_count": 21,
   "metadata": {},
   "outputs": [],
   "source": [
    "data['is_apartment'] = data['is_apartment'].fillna(False)"
   ]
  },
  {
   "cell_type": "code",
   "execution_count": 22,
   "metadata": {},
   "outputs": [
    {
     "data": {
      "text/plain": [
       "False    23600\n",
       "True        50\n",
       "Name: is_apartment, dtype: int64"
      ]
     },
     "execution_count": 22,
     "metadata": {},
     "output_type": "execute_result"
    }
   ],
   "source": [
    "#проверим значения столбца \n",
    "data['is_apartment'].value_counts()"
   ]
  },
  {
   "cell_type": "code",
   "execution_count": 23,
   "metadata": {},
   "outputs": [
    {
     "data": {
      "text/plain": [
       "0        13000000\n",
       "1         3350000\n",
       "2         5196000\n",
       "3        64900000\n",
       "4        10000000\n",
       "           ...   \n",
       "23645     9700000\n",
       "23646     3100000\n",
       "23647     2500000\n",
       "23648    11475000\n",
       "23649     1350000\n",
       "Name: last_price, Length: 23650, dtype: int64"
      ]
     },
     "execution_count": 23,
     "metadata": {},
     "output_type": "execute_result"
    }
   ],
   "source": [
    "#изменим цену на тип int для удобства просмотра\n",
    "data['last_price'] = data['last_price'].astype('int')\n",
    "data['last_price']"
   ]
  },
  {
   "cell_type": "code",
   "execution_count": 24,
   "metadata": {},
   "outputs": [
    {
     "data": {
      "text/plain": [
       "count        23650.00\n",
       "mean       6541126.90\n",
       "std       10896399.18\n",
       "min          12190.00\n",
       "25%        3400000.00\n",
       "50%        4650000.00\n",
       "75%        6799000.00\n",
       "max      763000000.00\n",
       "Name: last_price, dtype: object"
      ]
     },
     "execution_count": 24,
     "metadata": {},
     "output_type": "execute_result"
    }
   ],
   "source": [
    "data['last_price'].describe().apply(lambda x: '{:.2f}'.format(x))"
   ]
  },
  {
   "cell_type": "code",
   "execution_count": 25,
   "metadata": {},
   "outputs": [
    {
     "data": {
      "text/plain": [
       "count    21752.000000\n",
       "mean        34.448356\n",
       "std         22.037664\n",
       "min          2.000000\n",
       "25%         18.600000\n",
       "50%         30.000000\n",
       "75%         42.300000\n",
       "max        409.700000\n",
       "Name: living_area, dtype: float64"
      ]
     },
     "execution_count": 25,
     "metadata": {},
     "output_type": "execute_result"
    }
   ],
   "source": [
    "data['living_area'].describe()"
   ]
  },
  {
   "cell_type": "code",
   "execution_count": 26,
   "metadata": {},
   "outputs": [
    {
     "data": {
      "text/plain": [
       "1898"
      ]
     },
     "execution_count": 26,
     "metadata": {},
     "output_type": "execute_result"
    }
   ],
   "source": [
    "data['living_area'].isna().sum()"
   ]
  },
  {
   "cell_type": "markdown",
   "metadata": {},
   "source": [
    "Пропущенных значения в столбце жилой площади много. Можем заполнить эти данные медианными значениями по группам общей площади квартир (общая площащь квартир связана с жилой). Можно вычесть из общей площади площадь кухни - но во многих строках нет и этих данных. Сложность заключается еще в том, что в общую площадь входит площадь коридора и ванной комнаты, которые мы не знаем. "
   ]
  },
  {
   "cell_type": "code",
   "execution_count": 27,
   "metadata": {},
   "outputs": [
    {
     "data": {
      "text/plain": [
       "0"
      ]
     },
     "execution_count": 27,
     "metadata": {},
     "output_type": "execute_result"
    }
   ],
   "source": [
    "data['total_area'].isna().sum()"
   ]
  },
  {
   "cell_type": "markdown",
   "metadata": {},
   "source": [
    "Пропущенных значений в total_area нет, уже хорошо.\n",
    "\n",
    "Можно рассмотреть вариант для заполнения пропусков кухонных площадей: total_area - living_area, а для жилых площадей: total_area - kitchen_area.\n",
    "Если пропущены и living_area и kitchen_area, то лучше заменить значения медианными по группам: по площади квартир. Пусть квартиры с площадью до 50м будут в категории малая, от 50 до 100м - средняя, а выше 100м - большая. Создадим функцию и применим ее к столбцу total_area. Далее с помощью цикла пройдемся по каждой из 3х категорий и заполним пропуски в столбце kitchen_area медианными значениями."
   ]
  },
  {
   "cell_type": "code",
   "execution_count": 28,
   "metadata": {},
   "outputs": [
    {
     "data": {
      "text/plain": [
       "0"
      ]
     },
     "execution_count": 28,
     "metadata": {},
     "output_type": "execute_result"
    }
   ],
   "source": [
    "def categorize_area(area):\n",
    "    try:\n",
    "        if area <= 50:\n",
    "            return 'малая'\n",
    "        elif 50 < area <= 100:\n",
    "            return 'средняя'\n",
    "        elif area > 100:\n",
    "            return 'большая'\n",
    "    except:\n",
    "        pass\n",
    "data['total_area_category'] = data['total_area'].apply(categorize_area)\n",
    "\n",
    "for area in data['total_area_category'].unique():\n",
    "    data.loc[(data['kitchen_area'].isna()) & (data['total_area_category'] == area), 'kitchen_area'] = data.loc[data['total_area_category'] == area, 'kitchen_area'].median()\n",
    "\n",
    "data['kitchen_area'].isna().sum()"
   ]
  },
  {
   "cell_type": "code",
   "execution_count": 29,
   "metadata": {},
   "outputs": [],
   "source": [
    "data = data.query('~(total_area < (living_area + kitchen_area))')"
   ]
  },
  {
   "cell_type": "code",
   "execution_count": 30,
   "metadata": {},
   "outputs": [
    {
     "data": {
      "text/plain": [
       "1898"
      ]
     },
     "execution_count": 30,
     "metadata": {},
     "output_type": "execute_result"
    }
   ],
   "source": [
    "#Проверим пропущенные значения в living_area:\n",
    "data['living_area'].isna().sum()"
   ]
  },
  {
   "cell_type": "code",
   "execution_count": 31,
   "metadata": {},
   "outputs": [
    {
     "data": {
      "text/plain": [
       "0"
      ]
     },
     "execution_count": 31,
     "metadata": {},
     "output_type": "execute_result"
    }
   ],
   "source": [
    "#используем функцию def categorize_area(area), которую использовали при заполнеии пропущенных значениях в столбце kitchen_area:\n",
    "for area in data['total_area_category'].unique():\n",
    "    data.loc[(data['living_area'].isna()) & (data['total_area_category'] == area), 'living_area'] = data.loc[data['total_area_category'] == area, 'living_area'].median()\n",
    "\n",
    "data['living_area'].isna().sum()"
   ]
  },
  {
   "cell_type": "code",
   "execution_count": 32,
   "metadata": {},
   "outputs": [
    {
     "data": {
      "text/html": [
       "<div>\n",
       "<style scoped>\n",
       "    .dataframe tbody tr th:only-of-type {\n",
       "        vertical-align: middle;\n",
       "    }\n",
       "\n",
       "    .dataframe tbody tr th {\n",
       "        vertical-align: top;\n",
       "    }\n",
       "\n",
       "    .dataframe thead th {\n",
       "        text-align: right;\n",
       "    }\n",
       "</style>\n",
       "<table border=\"1\" class=\"dataframe\">\n",
       "  <thead>\n",
       "    <tr style=\"text-align: right;\">\n",
       "      <th></th>\n",
       "      <th>total_images</th>\n",
       "      <th>last_price</th>\n",
       "      <th>total_area</th>\n",
       "      <th>first_day_exposition</th>\n",
       "      <th>rooms</th>\n",
       "      <th>ceiling_height</th>\n",
       "      <th>floors_total</th>\n",
       "      <th>living_area</th>\n",
       "      <th>floor</th>\n",
       "      <th>is_apartment</th>\n",
       "      <th>...</th>\n",
       "      <th>balcony</th>\n",
       "      <th>locality_name</th>\n",
       "      <th>airports_nearest</th>\n",
       "      <th>cityCenters_nearest</th>\n",
       "      <th>parks_around3000</th>\n",
       "      <th>parks_nearest</th>\n",
       "      <th>ponds_around3000</th>\n",
       "      <th>ponds_nearest</th>\n",
       "      <th>days_exposition</th>\n",
       "      <th>total_area_category</th>\n",
       "    </tr>\n",
       "  </thead>\n",
       "  <tbody>\n",
       "    <tr>\n",
       "      <th>322</th>\n",
       "      <td>6</td>\n",
       "      <td>2000000</td>\n",
       "      <td>25.00</td>\n",
       "      <td>2017-02-07</td>\n",
       "      <td>1</td>\n",
       "      <td>2.65</td>\n",
       "      <td>5.0</td>\n",
       "      <td>18.4</td>\n",
       "      <td>5</td>\n",
       "      <td>False</td>\n",
       "      <td>...</td>\n",
       "      <td>0</td>\n",
       "      <td>Выборг</td>\n",
       "      <td>NaN</td>\n",
       "      <td>NaN</td>\n",
       "      <td>NaN</td>\n",
       "      <td>NaN</td>\n",
       "      <td>NaN</td>\n",
       "      <td>NaN</td>\n",
       "      <td>45</td>\n",
       "      <td>малая</td>\n",
       "    </tr>\n",
       "    <tr>\n",
       "      <th>546</th>\n",
       "      <td>0</td>\n",
       "      <td>6000001</td>\n",
       "      <td>25.00</td>\n",
       "      <td>2018-11-16</td>\n",
       "      <td>1</td>\n",
       "      <td>3.00</td>\n",
       "      <td>5.0</td>\n",
       "      <td>18.4</td>\n",
       "      <td>5</td>\n",
       "      <td>False</td>\n",
       "      <td>...</td>\n",
       "      <td>0</td>\n",
       "      <td>Санкт-Петербург</td>\n",
       "      <td>25169.0</td>\n",
       "      <td>3871.0</td>\n",
       "      <td>1.0</td>\n",
       "      <td>207.0</td>\n",
       "      <td>1.0</td>\n",
       "      <td>776.0</td>\n",
       "      <td>17</td>\n",
       "      <td>малая</td>\n",
       "    </tr>\n",
       "    <tr>\n",
       "      <th>608</th>\n",
       "      <td>2</td>\n",
       "      <td>1850000</td>\n",
       "      <td>25.00</td>\n",
       "      <td>2019-02-20</td>\n",
       "      <td>0</td>\n",
       "      <td>2.65</td>\n",
       "      <td>10.0</td>\n",
       "      <td>18.4</td>\n",
       "      <td>7</td>\n",
       "      <td>False</td>\n",
       "      <td>...</td>\n",
       "      <td>0</td>\n",
       "      <td>посёлок Шушары</td>\n",
       "      <td>NaN</td>\n",
       "      <td>NaN</td>\n",
       "      <td>NaN</td>\n",
       "      <td>NaN</td>\n",
       "      <td>NaN</td>\n",
       "      <td>NaN</td>\n",
       "      <td>29</td>\n",
       "      <td>малая</td>\n",
       "    </tr>\n",
       "    <tr>\n",
       "      <th>780</th>\n",
       "      <td>9</td>\n",
       "      <td>2600000</td>\n",
       "      <td>26.10</td>\n",
       "      <td>2018-02-20</td>\n",
       "      <td>0</td>\n",
       "      <td>2.65</td>\n",
       "      <td>18.0</td>\n",
       "      <td>18.4</td>\n",
       "      <td>8</td>\n",
       "      <td>False</td>\n",
       "      <td>...</td>\n",
       "      <td>1</td>\n",
       "      <td>посёлок Мурино</td>\n",
       "      <td>NaN</td>\n",
       "      <td>NaN</td>\n",
       "      <td>NaN</td>\n",
       "      <td>NaN</td>\n",
       "      <td>NaN</td>\n",
       "      <td>NaN</td>\n",
       "      <td>45</td>\n",
       "      <td>малая</td>\n",
       "    </tr>\n",
       "    <tr>\n",
       "      <th>1607</th>\n",
       "      <td>12</td>\n",
       "      <td>2150000</td>\n",
       "      <td>20.10</td>\n",
       "      <td>2019-01-30</td>\n",
       "      <td>1</td>\n",
       "      <td>2.65</td>\n",
       "      <td>9.0</td>\n",
       "      <td>18.4</td>\n",
       "      <td>1</td>\n",
       "      <td>True</td>\n",
       "      <td>...</td>\n",
       "      <td>0</td>\n",
       "      <td>Санкт-Петербург</td>\n",
       "      <td>26646.0</td>\n",
       "      <td>12147.0</td>\n",
       "      <td>0.0</td>\n",
       "      <td>NaN</td>\n",
       "      <td>0.0</td>\n",
       "      <td>NaN</td>\n",
       "      <td>13</td>\n",
       "      <td>малая</td>\n",
       "    </tr>\n",
       "    <tr>\n",
       "      <th>...</th>\n",
       "      <td>...</td>\n",
       "      <td>...</td>\n",
       "      <td>...</td>\n",
       "      <td>...</td>\n",
       "      <td>...</td>\n",
       "      <td>...</td>\n",
       "      <td>...</td>\n",
       "      <td>...</td>\n",
       "      <td>...</td>\n",
       "      <td>...</td>\n",
       "      <td>...</td>\n",
       "      <td>...</td>\n",
       "      <td>...</td>\n",
       "      <td>...</td>\n",
       "      <td>...</td>\n",
       "      <td>...</td>\n",
       "      <td>...</td>\n",
       "      <td>...</td>\n",
       "      <td>...</td>\n",
       "      <td>...</td>\n",
       "      <td>...</td>\n",
       "    </tr>\n",
       "    <tr>\n",
       "      <th>21674</th>\n",
       "      <td>11</td>\n",
       "      <td>2540000</td>\n",
       "      <td>23.00</td>\n",
       "      <td>2018-03-22</td>\n",
       "      <td>1</td>\n",
       "      <td>2.65</td>\n",
       "      <td>5.0</td>\n",
       "      <td>18.4</td>\n",
       "      <td>1</td>\n",
       "      <td>False</td>\n",
       "      <td>...</td>\n",
       "      <td>0</td>\n",
       "      <td>Санкт-Петербург</td>\n",
       "      <td>27289.0</td>\n",
       "      <td>7997.0</td>\n",
       "      <td>0.0</td>\n",
       "      <td>NaN</td>\n",
       "      <td>1.0</td>\n",
       "      <td>698.0</td>\n",
       "      <td>45</td>\n",
       "      <td>малая</td>\n",
       "    </tr>\n",
       "    <tr>\n",
       "      <th>22134</th>\n",
       "      <td>10</td>\n",
       "      <td>3644640</td>\n",
       "      <td>50.62</td>\n",
       "      <td>2018-12-14</td>\n",
       "      <td>2</td>\n",
       "      <td>2.65</td>\n",
       "      <td>15.0</td>\n",
       "      <td>39.5</td>\n",
       "      <td>1</td>\n",
       "      <td>False</td>\n",
       "      <td>...</td>\n",
       "      <td>0</td>\n",
       "      <td>посёлок Новогорелово</td>\n",
       "      <td>NaN</td>\n",
       "      <td>NaN</td>\n",
       "      <td>NaN</td>\n",
       "      <td>NaN</td>\n",
       "      <td>NaN</td>\n",
       "      <td>NaN</td>\n",
       "      <td>10</td>\n",
       "      <td>средняя</td>\n",
       "    </tr>\n",
       "    <tr>\n",
       "      <th>22311</th>\n",
       "      <td>6</td>\n",
       "      <td>2050000</td>\n",
       "      <td>17.20</td>\n",
       "      <td>2019-01-13</td>\n",
       "      <td>1</td>\n",
       "      <td>2.77</td>\n",
       "      <td>23.0</td>\n",
       "      <td>18.4</td>\n",
       "      <td>1</td>\n",
       "      <td>False</td>\n",
       "      <td>...</td>\n",
       "      <td>0</td>\n",
       "      <td>Санкт-Петербург</td>\n",
       "      <td>33645.0</td>\n",
       "      <td>13513.0</td>\n",
       "      <td>0.0</td>\n",
       "      <td>NaN</td>\n",
       "      <td>0.0</td>\n",
       "      <td>NaN</td>\n",
       "      <td>7</td>\n",
       "      <td>малая</td>\n",
       "    </tr>\n",
       "    <tr>\n",
       "      <th>22615</th>\n",
       "      <td>6</td>\n",
       "      <td>3150000</td>\n",
       "      <td>24.00</td>\n",
       "      <td>2019-04-16</td>\n",
       "      <td>1</td>\n",
       "      <td>2.65</td>\n",
       "      <td>5.0</td>\n",
       "      <td>18.4</td>\n",
       "      <td>3</td>\n",
       "      <td>False</td>\n",
       "      <td>...</td>\n",
       "      <td>0</td>\n",
       "      <td>Санкт-Петербург</td>\n",
       "      <td>26737.0</td>\n",
       "      <td>5235.0</td>\n",
       "      <td>1.0</td>\n",
       "      <td>359.0</td>\n",
       "      <td>1.0</td>\n",
       "      <td>964.0</td>\n",
       "      <td>0</td>\n",
       "      <td>малая</td>\n",
       "    </tr>\n",
       "    <tr>\n",
       "      <th>23505</th>\n",
       "      <td>15</td>\n",
       "      <td>3350000</td>\n",
       "      <td>26.00</td>\n",
       "      <td>2018-09-07</td>\n",
       "      <td>0</td>\n",
       "      <td>2.65</td>\n",
       "      <td>19.0</td>\n",
       "      <td>18.4</td>\n",
       "      <td>8</td>\n",
       "      <td>False</td>\n",
       "      <td>...</td>\n",
       "      <td>0</td>\n",
       "      <td>Санкт-Петербург</td>\n",
       "      <td>18090.0</td>\n",
       "      <td>17092.0</td>\n",
       "      <td>0.0</td>\n",
       "      <td>NaN</td>\n",
       "      <td>2.0</td>\n",
       "      <td>112.0</td>\n",
       "      <td>31</td>\n",
       "      <td>малая</td>\n",
       "    </tr>\n",
       "  </tbody>\n",
       "</table>\n",
       "<p>68 rows × 23 columns</p>\n",
       "</div>"
      ],
      "text/plain": [
       "       total_images  last_price  total_area first_day_exposition  rooms  \\\n",
       "322               6     2000000       25.00           2017-02-07      1   \n",
       "546               0     6000001       25.00           2018-11-16      1   \n",
       "608               2     1850000       25.00           2019-02-20      0   \n",
       "780               9     2600000       26.10           2018-02-20      0   \n",
       "1607             12     2150000       20.10           2019-01-30      1   \n",
       "...             ...         ...         ...                  ...    ...   \n",
       "21674            11     2540000       23.00           2018-03-22      1   \n",
       "22134            10     3644640       50.62           2018-12-14      2   \n",
       "22311             6     2050000       17.20           2019-01-13      1   \n",
       "22615             6     3150000       24.00           2019-04-16      1   \n",
       "23505            15     3350000       26.00           2018-09-07      0   \n",
       "\n",
       "       ceiling_height  floors_total  living_area  floor  is_apartment  ...  \\\n",
       "322              2.65           5.0         18.4      5         False  ...   \n",
       "546              3.00           5.0         18.4      5         False  ...   \n",
       "608              2.65          10.0         18.4      7         False  ...   \n",
       "780              2.65          18.0         18.4      8         False  ...   \n",
       "1607             2.65           9.0         18.4      1          True  ...   \n",
       "...               ...           ...          ...    ...           ...  ...   \n",
       "21674            2.65           5.0         18.4      1         False  ...   \n",
       "22134            2.65          15.0         39.5      1         False  ...   \n",
       "22311            2.77          23.0         18.4      1         False  ...   \n",
       "22615            2.65           5.0         18.4      3         False  ...   \n",
       "23505            2.65          19.0         18.4      8         False  ...   \n",
       "\n",
       "       balcony         locality_name  airports_nearest  cityCenters_nearest  \\\n",
       "322          0                Выборг               NaN                  NaN   \n",
       "546          0       Санкт-Петербург           25169.0               3871.0   \n",
       "608          0        посёлок Шушары               NaN                  NaN   \n",
       "780          1        посёлок Мурино               NaN                  NaN   \n",
       "1607         0       Санкт-Петербург           26646.0              12147.0   \n",
       "...        ...                   ...               ...                  ...   \n",
       "21674        0       Санкт-Петербург           27289.0               7997.0   \n",
       "22134        0  посёлок Новогорелово               NaN                  NaN   \n",
       "22311        0       Санкт-Петербург           33645.0              13513.0   \n",
       "22615        0       Санкт-Петербург           26737.0               5235.0   \n",
       "23505        0       Санкт-Петербург           18090.0              17092.0   \n",
       "\n",
       "      parks_around3000  parks_nearest  ponds_around3000  ponds_nearest  \\\n",
       "322                NaN            NaN               NaN            NaN   \n",
       "546                1.0          207.0               1.0          776.0   \n",
       "608                NaN            NaN               NaN            NaN   \n",
       "780                NaN            NaN               NaN            NaN   \n",
       "1607               0.0            NaN               0.0            NaN   \n",
       "...                ...            ...               ...            ...   \n",
       "21674              0.0            NaN               1.0          698.0   \n",
       "22134              NaN            NaN               NaN            NaN   \n",
       "22311              0.0            NaN               0.0            NaN   \n",
       "22615              1.0          359.0               1.0          964.0   \n",
       "23505              0.0            NaN               2.0          112.0   \n",
       "\n",
       "       days_exposition  total_area_category  \n",
       "322                 45                малая  \n",
       "546                 17                малая  \n",
       "608                 29                малая  \n",
       "780                 45                малая  \n",
       "1607                13                малая  \n",
       "...                ...                  ...  \n",
       "21674               45                малая  \n",
       "22134               10              средняя  \n",
       "22311                7                малая  \n",
       "22615                0                малая  \n",
       "23505               31                малая  \n",
       "\n",
       "[68 rows x 23 columns]"
      ]
     },
     "execution_count": 32,
     "metadata": {},
     "output_type": "execute_result"
    }
   ],
   "source": [
    "# Проверим сколько квартир где общая площадь меньше, чем сумма жилой и кухни.\n",
    "data.query('total_area < (living_area + kitchen_area)')"
   ]
  },
  {
   "cell_type": "markdown",
   "metadata": {},
   "source": [
    "Не так много. Можем удалить строки, где общая площадь меньше, чем сумма жилой и кухни. Перезапишем таблицу."
   ]
  },
  {
   "cell_type": "code",
   "execution_count": 33,
   "metadata": {},
   "outputs": [],
   "source": [
    "data = data.query('~(total_area < (living_area + kitchen_area))')"
   ]
  },
  {
   "cell_type": "code",
   "execution_count": 34,
   "metadata": {},
   "outputs": [],
   "source": [
    "#уменьшим размер жилой площади до 90% общей площади \n",
    "data.loc[data['living_area'] > (data['total_area'] * 0.9), 'living_area'] = data.loc[data['living_area'] > (data['total_area'] * 0.9), 'total_area'] * 0.9"
   ]
  },
  {
   "cell_type": "code",
   "execution_count": 35,
   "metadata": {},
   "outputs": [
    {
     "data": {
      "text/plain": [
       "78"
      ]
     },
     "execution_count": 35,
     "metadata": {},
     "output_type": "execute_result"
    }
   ],
   "source": [
    "#проверим пропущенные значения в столбце floors_total\n",
    "data['floors_total'].isna().sum()"
   ]
  },
  {
   "cell_type": "code",
   "execution_count": 36,
   "metadata": {},
   "outputs": [
    {
     "data": {
      "text/plain": [
       "count    23276.000000\n",
       "mean        10.628373\n",
       "std          6.565023\n",
       "min          1.000000\n",
       "25%          5.000000\n",
       "50%          9.000000\n",
       "75%         16.000000\n",
       "max         60.000000\n",
       "Name: floors_total, dtype: float64"
      ]
     },
     "execution_count": 36,
     "metadata": {},
     "output_type": "execute_result"
    }
   ],
   "source": [
    "data['floors_total'].describe()"
   ]
  },
  {
   "cell_type": "markdown",
   "metadata": {},
   "source": [
    "Из описания по столбцу количества всех этажей в зданиях видно, что максимальное количество - 60. Но 37этажное здание Князь Александр Невский», на сегодняшний день является самым высоким жилым домом Санкт-Петербурга. Нужно проверить все значения в этом столбце."
   ]
  },
  {
   "cell_type": "code",
   "execution_count": 37,
   "metadata": {},
   "outputs": [
    {
     "data": {
      "text/plain": [
       "Text(0, 0.5, 'Number of houses with the specified number of storeys')"
      ]
     },
     "execution_count": 37,
     "metadata": {},
     "output_type": "execute_result"
    },
    {
     "data": {
      "image/png": "[encoded data removed]",
      "text/plain": [
       "<Figure size 1080x720 with 1 Axes>"
      ]
     },
     "metadata": {
      "needs_background": "light"
     },
     "output_type": "display_data"
    }
   ],
   "source": [
    "data.pivot_table(index='floors_total', values='total_area', aggfunc='count').plot(kind='bar', grid=True, figsize=(15,10));\n",
    "plt.title('Floor distribution')\n",
    "plt.xlabel('Number of floors in the house')\n",
    "plt.ylabel('Number of houses with the specified number of storeys')"
   ]
  },
  {
   "cell_type": "markdown",
   "metadata": {},
   "source": [
    "Судя по графику, квартиры находятся в зданиях, не превышающих 37 этажей. Проверим с помощью среза данных, количество этажей больше 37:"
   ]
  },
  {
   "cell_type": "code",
   "execution_count": 38,
   "metadata": {},
   "outputs": [
    {
     "data": {
      "text/html": [
       "<div>\n",
       "<style scoped>\n",
       "    .dataframe tbody tr th:only-of-type {\n",
       "        vertical-align: middle;\n",
       "    }\n",
       "\n",
       "    .dataframe tbody tr th {\n",
       "        vertical-align: top;\n",
       "    }\n",
       "\n",
       "    .dataframe thead th {\n",
       "        text-align: right;\n",
       "    }\n",
       "</style>\n",
       "<table border=\"1\" class=\"dataframe\">\n",
       "  <thead>\n",
       "    <tr style=\"text-align: right;\">\n",
       "      <th></th>\n",
       "      <th>total_images</th>\n",
       "      <th>last_price</th>\n",
       "      <th>total_area</th>\n",
       "      <th>first_day_exposition</th>\n",
       "      <th>rooms</th>\n",
       "      <th>ceiling_height</th>\n",
       "      <th>floors_total</th>\n",
       "      <th>living_area</th>\n",
       "      <th>floor</th>\n",
       "      <th>is_apartment</th>\n",
       "      <th>...</th>\n",
       "      <th>balcony</th>\n",
       "      <th>locality_name</th>\n",
       "      <th>airports_nearest</th>\n",
       "      <th>cityCenters_nearest</th>\n",
       "      <th>parks_around3000</th>\n",
       "      <th>parks_nearest</th>\n",
       "      <th>ponds_around3000</th>\n",
       "      <th>ponds_nearest</th>\n",
       "      <th>days_exposition</th>\n",
       "      <th>total_area_category</th>\n",
       "    </tr>\n",
       "  </thead>\n",
       "  <tbody>\n",
       "    <tr>\n",
       "      <th>2251</th>\n",
       "      <td>12</td>\n",
       "      <td>3800000</td>\n",
       "      <td>45.5</td>\n",
       "      <td>2018-06-28</td>\n",
       "      <td>2</td>\n",
       "      <td>2.88</td>\n",
       "      <td>60.0</td>\n",
       "      <td>27.4</td>\n",
       "      <td>4</td>\n",
       "      <td>False</td>\n",
       "      <td>...</td>\n",
       "      <td>0</td>\n",
       "      <td>Кронштадт</td>\n",
       "      <td>67763.0</td>\n",
       "      <td>49488.0</td>\n",
       "      <td>2.0</td>\n",
       "      <td>342.0</td>\n",
       "      <td>3.0</td>\n",
       "      <td>614.0</td>\n",
       "      <td>166</td>\n",
       "      <td>малая</td>\n",
       "    </tr>\n",
       "    <tr>\n",
       "      <th>16701</th>\n",
       "      <td>9</td>\n",
       "      <td>3978000</td>\n",
       "      <td>40.0</td>\n",
       "      <td>2018-09-24</td>\n",
       "      <td>1</td>\n",
       "      <td>2.65</td>\n",
       "      <td>52.0</td>\n",
       "      <td>10.5</td>\n",
       "      <td>18</td>\n",
       "      <td>False</td>\n",
       "      <td>...</td>\n",
       "      <td>0</td>\n",
       "      <td>Санкт-Петербург</td>\n",
       "      <td>20728.0</td>\n",
       "      <td>12978.0</td>\n",
       "      <td>1.0</td>\n",
       "      <td>793.0</td>\n",
       "      <td>0.0</td>\n",
       "      <td>NaN</td>\n",
       "      <td>45</td>\n",
       "      <td>малая</td>\n",
       "    </tr>\n",
       "  </tbody>\n",
       "</table>\n",
       "<p>2 rows × 23 columns</p>\n",
       "</div>"
      ],
      "text/plain": [
       "       total_images  last_price  total_area first_day_exposition  rooms  \\\n",
       "2251             12     3800000        45.5           2018-06-28      2   \n",
       "16701             9     3978000        40.0           2018-09-24      1   \n",
       "\n",
       "       ceiling_height  floors_total  living_area  floor  is_apartment  ...  \\\n",
       "2251             2.88          60.0         27.4      4         False  ...   \n",
       "16701            2.65          52.0         10.5     18         False  ...   \n",
       "\n",
       "       balcony    locality_name  airports_nearest  cityCenters_nearest  \\\n",
       "2251         0        Кронштадт           67763.0              49488.0   \n",
       "16701        0  Санкт-Петербург           20728.0              12978.0   \n",
       "\n",
       "      parks_around3000  parks_nearest  ponds_around3000  ponds_nearest  \\\n",
       "2251               2.0          342.0               3.0          614.0   \n",
       "16701              1.0          793.0               0.0            NaN   \n",
       "\n",
       "       days_exposition  total_area_category  \n",
       "2251               166                малая  \n",
       "16701               45                малая  \n",
       "\n",
       "[2 rows x 23 columns]"
      ]
     },
     "execution_count": 38,
     "metadata": {},
     "output_type": "execute_result"
    }
   ],
   "source": [
    "data.query('floors_total > 37')"
   ]
  },
  {
   "cell_type": "code",
   "execution_count": 39,
   "metadata": {},
   "outputs": [],
   "source": [
    "#удалим эти строки\n",
    "data = data[data.floors_total < 38]"
   ]
  },
  {
   "cell_type": "markdown",
   "metadata": {},
   "source": [
    "Исправим значения в столбце floors_total: если этаж квартиры больше количества этажей в доме, то перезапишем этажность дома по этажу квартиры. "
   ]
  },
  {
   "cell_type": "code",
   "execution_count": 40,
   "metadata": {},
   "outputs": [],
   "source": [
    "data.loc[data['floors_total'] < data['floor'], 'floors_total'] = data.loc[data['floors_total'] < data['floor'], 'floor']"
   ]
  },
  {
   "cell_type": "code",
   "execution_count": 41,
   "metadata": {},
   "outputs": [
    {
     "data": {
      "text/html": [
       "<div>\n",
       "<style scoped>\n",
       "    .dataframe tbody tr th:only-of-type {\n",
       "        vertical-align: middle;\n",
       "    }\n",
       "\n",
       "    .dataframe tbody tr th {\n",
       "        vertical-align: top;\n",
       "    }\n",
       "\n",
       "    .dataframe thead th {\n",
       "        text-align: right;\n",
       "    }\n",
       "</style>\n",
       "<table border=\"1\" class=\"dataframe\">\n",
       "  <thead>\n",
       "    <tr style=\"text-align: right;\">\n",
       "      <th></th>\n",
       "      <th>total_images</th>\n",
       "      <th>last_price</th>\n",
       "      <th>total_area</th>\n",
       "      <th>first_day_exposition</th>\n",
       "      <th>rooms</th>\n",
       "      <th>ceiling_height</th>\n",
       "      <th>floors_total</th>\n",
       "      <th>living_area</th>\n",
       "      <th>floor</th>\n",
       "      <th>is_apartment</th>\n",
       "      <th>...</th>\n",
       "      <th>balcony</th>\n",
       "      <th>locality_name</th>\n",
       "      <th>airports_nearest</th>\n",
       "      <th>cityCenters_nearest</th>\n",
       "      <th>parks_around3000</th>\n",
       "      <th>parks_nearest</th>\n",
       "      <th>ponds_around3000</th>\n",
       "      <th>ponds_nearest</th>\n",
       "      <th>days_exposition</th>\n",
       "      <th>total_area_category</th>\n",
       "    </tr>\n",
       "  </thead>\n",
       "  <tbody>\n",
       "  </tbody>\n",
       "</table>\n",
       "<p>0 rows × 23 columns</p>\n",
       "</div>"
      ],
      "text/plain": [
       "Empty DataFrame\n",
       "Columns: [total_images, last_price, total_area, first_day_exposition, rooms, ceiling_height, floors_total, living_area, floor, is_apartment, studio, open_plan, kitchen_area, balcony, locality_name, airports_nearest, cityCenters_nearest, parks_around3000, parks_nearest, ponds_around3000, ponds_nearest, days_exposition, total_area_category]\n",
       "Index: []\n",
       "\n",
       "[0 rows x 23 columns]"
      ]
     },
     "execution_count": 41,
     "metadata": {},
     "output_type": "execute_result"
    }
   ],
   "source": [
    "#проверить, есть ли у нас квартиры, которые удовлетворяют неправильному условию:\n",
    "data[data['floors_total'] < data['floor']]"
   ]
  },
  {
   "cell_type": "markdown",
   "metadata": {},
   "source": [
    "Заменим пропущенные значения в столбцах 'airports_nearest', 'cityCenters_nearest', 'parks_around3000', 'parks_nearest', 'ponds_around3000', 'ponds_nearest'.\n",
    "Cоздадим фильтр в цикл, чтобы замены производились только там, где пустые значения есть одновременно в четырёх столбцах."
   ]
  },
  {
   "cell_type": "code",
   "execution_count": 106,
   "metadata": {},
   "outputs": [],
   "source": [
    "columns = ['airports_nearest', 'cityCenters_nearest', 'parks_around3000', 'parks_nearest', 'ponds_around3000', 'ponds_nearest']\n",
    "\n",
    "for column in columns:\n",
    "    for location in data['locality_name'].unique():\n",
    "        data.loc[(data['airports_nearest'].isna()) &\n",
    "                    (data['cityCenters_nearest'].isna()) &\n",
    "                    (data['parks_around3000'].isna()) &\n",
    "                    (data['ponds_around3000'].isna()) &\n",
    "                    (data[column].isna()) &\n",
    "                    (data['locality_name'] == location), column] =\\\n",
    "                    data.loc[data['locality_name'] == location, column].median()\n",
    "#import warnings\n",
    "#warnings.filterwarnings(\"ignore\")"
   ]
  },
  {
   "cell_type": "code",
   "execution_count": 43,
   "metadata": {
    "scrolled": false
   },
   "outputs": [
    {
     "data": {
      "text/plain": [
       "array(['Санкт-Петербург', 'посёлок Шушары', 'городской посёлок Янино-1',\n",
       "       'посёлок Парголово', 'посёлок Мурино', 'Ломоносов', 'Сертолово',\n",
       "       'Петергоф', 'Пушкин', 'деревня Кудрово', 'Коммунар', 'Колпино',\n",
       "       'поселок городского типа Красный Бор', 'Гатчина', 'поселок Мурино',\n",
       "       'деревня Фёдоровское', 'Выборг', 'Кронштадт', 'Кировск',\n",
       "       'деревня Новое Девяткино', 'посёлок Металлострой',\n",
       "       'посёлок городского типа Лебяжье',\n",
       "       'посёлок городского типа Сиверский', 'поселок Молодцово',\n",
       "       'поселок городского типа Кузьмоловский',\n",
       "       'садовое товарищество Новая Ропша', 'Павловск',\n",
       "       'деревня Пикколово', 'Всеволожск', 'Волхов', 'Кингисепп',\n",
       "       'Приозерск', 'Сестрорецк', 'деревня Куттузи', 'посёлок Аннино',\n",
       "       'поселок городского типа Ефимовский', 'посёлок Плодовое',\n",
       "       'деревня Заклинье', 'поселок Торковичи', 'поселок Первомайское',\n",
       "       'Красное Село', 'посёлок Понтонный', 'Сясьстрой', 'деревня Старая',\n",
       "       'деревня Лесколово', 'посёлок Новый Свет', 'Сланцы',\n",
       "       'село Путилово', 'Ивангород', 'Мурино', 'Шлиссельбург',\n",
       "       'Никольское', 'Зеленогорск', 'Сосновый Бор', 'поселок Новый Свет',\n",
       "       'деревня Оржицы', 'деревня Кальтино', 'Кудрово',\n",
       "       'поселок Романовка', 'посёлок Бугры', 'поселок Бугры',\n",
       "       'поселок городского типа Рощино', 'Кириши', 'Луга', 'Волосово',\n",
       "       'Отрадное', 'село Павлово', 'поселок Оредеж', 'село Копорье',\n",
       "       'посёлок городского типа Красный Бор', 'посёлок Молодёжное',\n",
       "       'Тихвин', 'посёлок Победа', 'деревня Нурма',\n",
       "       'поселок городского типа Синявино', 'Тосно',\n",
       "       'посёлок городского типа Кузьмоловский', 'посёлок Стрельна',\n",
       "       'Бокситогорск', 'посёлок Александровская', 'деревня Лопухинка',\n",
       "       'Пикалёво', 'поселок Терволово',\n",
       "       'поселок городского типа Советский', 'Подпорожье',\n",
       "       'посёлок Петровское', 'посёлок городского типа Токсово',\n",
       "       'поселок Сельцо', 'посёлок городского типа Вырица',\n",
       "       'деревня Кипень', 'деревня Келози', 'деревня Вартемяги',\n",
       "       'посёлок Тельмана', 'поселок Севастьяново',\n",
       "       'городской поселок Большая Ижора', 'городской посёлок Павлово',\n",
       "       'деревня Агалатово', 'посёлок Новогорелово',\n",
       "       'городской посёлок Лесогорский', 'деревня Лаголово',\n",
       "       'поселок Цвелодубово', 'поселок городского типа Рахья',\n",
       "       'поселок городского типа Вырица', 'деревня Белогорка',\n",
       "       'поселок Заводской', 'городской посёлок Новоселье',\n",
       "       'деревня Большие Колпаны', 'деревня Горбунки', 'деревня Батово',\n",
       "       'деревня Заневка', 'деревня Иссад', 'Приморск',\n",
       "       'городской посёлок Фёдоровское', 'деревня Мистолово',\n",
       "       'Новая Ладога', 'поселок Зимитицы', 'поселок Барышево',\n",
       "       'деревня Разметелево', 'поселок городского типа имени Свердлова',\n",
       "       'деревня Пеники', 'поселок Рябово', 'деревня Пудомяги',\n",
       "       'поселок станции Корнево', 'деревня Низино', 'деревня Бегуницы',\n",
       "       'посёлок Поляны', 'городской посёлок Мга', 'поселок Елизаветино',\n",
       "       'посёлок городского типа Кузнечное', 'деревня Колтуши',\n",
       "       'поселок Запорожское', 'посёлок городского типа Рощино',\n",
       "       'деревня Гостилицы', 'деревня Малое Карлино',\n",
       "       'посёлок Мичуринское', 'посёлок городского типа имени Морозова',\n",
       "       'посёлок Песочный', 'посёлок Сосново', 'деревня Аро',\n",
       "       'поселок Ильичёво', 'посёлок городского типа Тайцы',\n",
       "       'деревня Малое Верево', 'деревня Извара', 'поселок станции Вещево',\n",
       "       'село Паша', 'деревня Калитино',\n",
       "       'посёлок городского типа Ульяновка', 'деревня Чудской Бор',\n",
       "       'поселок городского типа Дубровка', 'деревня Мины',\n",
       "       'поселок Войсковицы', 'посёлок городского типа имени Свердлова',\n",
       "       'деревня Коркино', 'посёлок Ропша',\n",
       "       'поселок городского типа Приладожский', 'посёлок Щеглово',\n",
       "       'посёлок Гаврилово', 'Лодейное Поле', 'деревня Рабитицы',\n",
       "       'поселок городского типа Никольский', 'деревня Кузьмолово',\n",
       "       'деревня Малые Колпаны', 'поселок Тельмана',\n",
       "       'посёлок Петро-Славянка', 'городской посёлок Назия',\n",
       "       'посёлок Репино', 'посёлок Ильичёво', 'поселок Углово',\n",
       "       'поселок Старая Малукса', 'садовое товарищество Рахья',\n",
       "       'поселок Аннино', 'поселок Победа', 'деревня Меньково',\n",
       "       'деревня Старые Бегуницы', 'посёлок Сапёрный', 'поселок Семрино',\n",
       "       'поселок Гаврилово', 'поселок Глажево', 'поселок Кобринское',\n",
       "       'деревня Гарболово', 'деревня Юкки',\n",
       "       'поселок станции Приветнинское', 'деревня Мануйлово',\n",
       "       'деревня Пчева', 'поселок Поляны', 'поселок Цвылёво',\n",
       "       'поселок Мельниково', 'посёлок Пудость', 'посёлок Усть-Луга',\n",
       "       'Светогорск', 'поселок Селезнёво',\n",
       "       'поселок городского типа Рябово', 'Каменногорск', 'деревня Кривко',\n",
       "       'поселок Глебычево', 'деревня Парицы', 'поселок Жилпосёлок',\n",
       "       'посёлок городского типа Мга', 'городской поселок Янино-1',\n",
       "       'посёлок Войскорово', 'село Никольское', 'посёлок Терволово',\n",
       "       'поселок Стеклянный', 'посёлок городского типа Важины',\n",
       "       'посёлок Мыза-Ивановка', 'село Русско-Высоцкое',\n",
       "       'поселок городского типа Лебяжье',\n",
       "       'поселок городского типа Форносово', 'село Старая Ладога',\n",
       "       'поселок Житково', 'городской посёлок Виллози', 'деревня Лампово',\n",
       "       'деревня Шпаньково', 'деревня Лаврики', 'посёлок Сумино',\n",
       "       'посёлок Возрождение', 'деревня Старосиверская',\n",
       "       'посёлок Кикерино', 'поселок Возрождение',\n",
       "       'деревня Старое Хинколово', 'посёлок Пригородный',\n",
       "       'посёлок Торфяное', 'Любань', 'городской посёлок Будогощь',\n",
       "       'поселок Суходолье', 'поселок Красная Долина', 'деревня Хапо-Ое',\n",
       "       'поселок городского типа Дружная Горка', 'поселок Лисий Нос',\n",
       "       'деревня Яльгелево', 'посёлок Стеклянный', 'село Рождествено',\n",
       "       'деревня Старополье', 'посёлок Левашово', 'деревня Сяськелево',\n",
       "       'деревня Камышовка',\n",
       "       'садоводческое некоммерческое товарищество Лесная Поляна',\n",
       "       'деревня Хязельки', 'поселок Жилгородок',\n",
       "       'посёлок городского типа Павлово', 'деревня Ялгино',\n",
       "       'поселок Новый Учхоз', 'городской посёлок Рощино',\n",
       "       'поселок Гончарово', 'поселок Почап', 'посёлок Сапёрное',\n",
       "       'посёлок Платформа 69-й километр', 'поселок Каложицы',\n",
       "       'деревня Фалилеево', 'деревня Пельгора',\n",
       "       'поселок городского типа Лесогорский', 'деревня Торошковичи',\n",
       "       'посёлок Белоостров', 'посёлок Алексеевка', 'поселок Серебрянский',\n",
       "       'поселок Лукаши', 'поселок Петровское', 'деревня Щеглово',\n",
       "       'поселок Мичуринское', 'деревня Тарасово', 'поселок Кингисеппский',\n",
       "       'посёлок при железнодорожной станции Вещево', 'поселок Ушаки',\n",
       "       'деревня Котлы', 'деревня Сижно', 'деревня Торосово',\n",
       "       'посёлок Форт Красная Горка', 'деревня Новолисино',\n",
       "       'посёлок станции Громово', 'деревня Глинка', 'посёлок Мельниково',\n",
       "       'поселок городского типа Назия', 'деревня Старая Пустошь',\n",
       "       'поселок Коммунары', 'поселок Починок',\n",
       "       'посёлок городского типа Вознесенье', 'деревня Разбегаево',\n",
       "       'посёлок городского типа Рябово', 'поселок Гладкое',\n",
       "       'посёлок при железнодорожной станции Приветнинское',\n",
       "       'поселок Тёсово-4', 'посёлок Жилгородок', 'деревня Бор',\n",
       "       'посёлок Коробицыно', 'деревня Большая Вруда', 'деревня Курковицы',\n",
       "       'посёлок Лисий Нос', 'городской посёлок Советский',\n",
       "       'посёлок Кобралово', 'деревня Суоранда', 'поселок Кобралово',\n",
       "       'поселок городского типа Кондратьево',\n",
       "       'коттеджный поселок Счастье', 'поселок Любань', 'деревня Реброво',\n",
       "       'деревня Зимитицы', 'деревня Тойворово', 'поселок Семиозерье',\n",
       "       'поселок Лесное', 'поселок Совхозный', 'поселок Усть-Луга',\n",
       "       'посёлок Ленинское', 'посёлок Суйда',\n",
       "       'посёлок городского типа Форносово', 'деревня Нижние Осельки',\n",
       "       'посёлок станции Свирь', 'поселок Перово', 'Высоцк',\n",
       "       'поселок Гарболово', 'село Шум', 'поселок Котельский',\n",
       "       'поселок станции Лужайка', 'деревня Большая Пустомержа',\n",
       "       'поселок Красносельское', 'деревня Вахнова Кара', 'деревня Пижма',\n",
       "       'коттеджный поселок Кивеннапа Север', 'поселок Коробицыно',\n",
       "       'поселок Ромашки', 'посёлок Перово', 'деревня Каськово',\n",
       "       'деревня Куровицы', 'посёлок Плоское', 'поселок Сумино',\n",
       "       'поселок городского типа Большая Ижора', 'поселок Кирпичное',\n",
       "       'деревня Ям-Тесово', 'деревня Раздолье', 'деревня Терпилицы',\n",
       "       'поселок городского типа Токсово', 'посёлок Шугозеро',\n",
       "       'деревня Ваганово', 'поселок Пушное', 'садовое товарищество Садко',\n",
       "       'посёлок Усть-Ижора', 'деревня Выскатка',\n",
       "       'городской посёлок Свирьстрой', 'поселок Громово',\n",
       "       'деревня Кисельня', 'посёлок Старая Малукса',\n",
       "       'деревня Трубников Бор', 'поселок Калитино',\n",
       "       'посёлок Высокоключевой', 'садовое товарищество Приладожский',\n",
       "       'посёлок Пансионат Зелёный Бор', 'деревня Ненимяки',\n",
       "       'поселок Пансионат Зелёный Бор', 'деревня Снегирёвка',\n",
       "       'деревня Рапполово', 'деревня Пустынка', 'поселок Рабитицы',\n",
       "       'деревня Большой Сабск', 'деревня Русско', 'деревня Лупполово',\n",
       "       'деревня Большое Рейзино', 'деревня Малая Романовка',\n",
       "       'поселок Дружноселье', 'поселок Пчевжа', 'поселок Володарское',\n",
       "       'деревня Нижняя', 'коттеджный посёлок Лесное', 'деревня Тихковицы',\n",
       "       'деревня Борисова Грива', 'посёлок Дзержинского'], dtype=object)"
      ]
     },
     "execution_count": 43,
     "metadata": {},
     "output_type": "execute_result"
    }
   ],
   "source": [
    "#посмотрим какие значения есть в столбце locality_name\n",
    "data['locality_name'].unique()"
   ]
  },
  {
   "cell_type": "markdown",
   "metadata": {},
   "source": [
    "Очищаем все наши наименования от \"ё\" и приводим к нижнему регистру - это поможет нам частично избавиться от \"человеческого\" фактора, где один пользователь написал с ё, другой с е, либо в разных регистрах"
   ]
  },
  {
   "cell_type": "code",
   "execution_count": 44,
   "metadata": {},
   "outputs": [],
   "source": [
    "data['locality_name'] = data['locality_name'].str.lower().str.replace('ё', 'е')"
   ]
  },
  {
   "cell_type": "markdown",
   "metadata": {},
   "source": [
    "Изменим названия в столбце locality_name, чтобы привести их к конкретным категориям, с помощью функции"
   ]
  },
  {
   "cell_type": "code",
   "execution_count": 45,
   "metadata": {
    "scrolled": true
   },
   "outputs": [],
   "source": [
    "def get_locality_type(row):\n",
    "    if pd.isna(row):\n",
    "        return 'unknown'\n",
    "    if 'поселок городского типа' in row or 'городской поселок' in row:\n",
    "        return 'пгт'\n",
    "    elif 'деревня' in row:\n",
    "        return 'деревня'\n",
    "    elif 'поселок' in row:\n",
    "        return 'поселок'\n",
    "    elif 'поселок при железнодорожной станции' in row:\n",
    "        return 'поселок'\n",
    "    elif 'село' in row:\n",
    "        return 'село'\n",
    "    elif 'садоводческое некоммерческое товарищество' in row:\n",
    "        return 'садоводческое товарищество'\n",
    "    elif 'садоводческое товарищество' in row:\n",
    "        return 'садоводческое товарищество'\n",
    "    elif 'санкт' in row or 'Санкт' in row:\n",
    "        return 'Санкт-Петербург'\n",
    "    else:\n",
    "        return 'прочее'\n",
    "    \n",
    "data['locality_type'] = data['locality_name'].apply(get_locality_type)"
   ]
  },
  {
   "cell_type": "code",
   "execution_count": 46,
   "metadata": {},
   "outputs": [],
   "source": [
    "#очищаем наши наименования от типов и запишем их в новый столбец locality_clean_name\n",
    "def cleaning_name_type(column):\n",
    "    clean_names_column = column.str.replace(\"|\".join([\"поселок\", \n",
    "                                                      \"деревня\", \n",
    "                                                      \"городского\", \n",
    "                                                      \"типа\", \n",
    "                                                      \"имени\", \n",
    "                                                      \"садоводческое\", \n",
    "                                                      \"товарищество\", \n",
    "                                                      \"некоммерческое\",\n",
    "                                                      \"при\", \n",
    "                                                      \"железнодорожной\", \n",
    "                                                      \"станции\"    \n",
    "                                                     ]), \"\", regex=True).str.strip()\n",
    "    return clean_names_column\n",
    "data.insert(loc=15, column='locality_clean_name', value=cleaning_name_type(data['locality_name']))"
   ]
  },
  {
   "cell_type": "markdown",
   "metadata": {},
   "source": [
    " Насколько проще код! Спасибо)"
   ]
  },
  {
   "cell_type": "code",
   "execution_count": 47,
   "metadata": {},
   "outputs": [
    {
     "data": {
      "text/html": [
       "<div>\n",
       "<style scoped>\n",
       "    .dataframe tbody tr th:only-of-type {\n",
       "        vertical-align: middle;\n",
       "    }\n",
       "\n",
       "    .dataframe tbody tr th {\n",
       "        vertical-align: top;\n",
       "    }\n",
       "\n",
       "    .dataframe thead th {\n",
       "        text-align: right;\n",
       "    }\n",
       "</style>\n",
       "<table border=\"1\" class=\"dataframe\">\n",
       "  <thead>\n",
       "    <tr style=\"text-align: right;\">\n",
       "      <th></th>\n",
       "      <th>total_images</th>\n",
       "      <th>last_price</th>\n",
       "      <th>total_area</th>\n",
       "      <th>first_day_exposition</th>\n",
       "      <th>rooms</th>\n",
       "      <th>ceiling_height</th>\n",
       "      <th>floors_total</th>\n",
       "      <th>living_area</th>\n",
       "      <th>floor</th>\n",
       "      <th>is_apartment</th>\n",
       "      <th>...</th>\n",
       "      <th>locality_clean_name</th>\n",
       "      <th>airports_nearest</th>\n",
       "      <th>cityCenters_nearest</th>\n",
       "      <th>parks_around3000</th>\n",
       "      <th>parks_nearest</th>\n",
       "      <th>ponds_around3000</th>\n",
       "      <th>ponds_nearest</th>\n",
       "      <th>days_exposition</th>\n",
       "      <th>total_area_category</th>\n",
       "      <th>locality_type</th>\n",
       "    </tr>\n",
       "  </thead>\n",
       "  <tbody>\n",
       "    <tr>\n",
       "      <th>0</th>\n",
       "      <td>20</td>\n",
       "      <td>13000000</td>\n",
       "      <td>108.0</td>\n",
       "      <td>2019-03-07</td>\n",
       "      <td>3</td>\n",
       "      <td>2.70</td>\n",
       "      <td>16.0</td>\n",
       "      <td>51.0</td>\n",
       "      <td>8</td>\n",
       "      <td>False</td>\n",
       "      <td>...</td>\n",
       "      <td>санкт-петербург</td>\n",
       "      <td>18863.0</td>\n",
       "      <td>16028.0</td>\n",
       "      <td>1.0</td>\n",
       "      <td>482.0</td>\n",
       "      <td>2.0</td>\n",
       "      <td>755.0</td>\n",
       "      <td>0</td>\n",
       "      <td>большая</td>\n",
       "      <td>Санкт-Петербург</td>\n",
       "    </tr>\n",
       "    <tr>\n",
       "      <th>1</th>\n",
       "      <td>7</td>\n",
       "      <td>3350000</td>\n",
       "      <td>40.4</td>\n",
       "      <td>2018-12-04</td>\n",
       "      <td>1</td>\n",
       "      <td>2.65</td>\n",
       "      <td>11.0</td>\n",
       "      <td>18.6</td>\n",
       "      <td>1</td>\n",
       "      <td>False</td>\n",
       "      <td>...</td>\n",
       "      <td>шушары</td>\n",
       "      <td>12817.0</td>\n",
       "      <td>18603.0</td>\n",
       "      <td>0.0</td>\n",
       "      <td>NaN</td>\n",
       "      <td>0.0</td>\n",
       "      <td>NaN</td>\n",
       "      <td>81</td>\n",
       "      <td>малая</td>\n",
       "      <td>поселок</td>\n",
       "    </tr>\n",
       "    <tr>\n",
       "      <th>2</th>\n",
       "      <td>10</td>\n",
       "      <td>5196000</td>\n",
       "      <td>56.0</td>\n",
       "      <td>2015-08-20</td>\n",
       "      <td>2</td>\n",
       "      <td>2.65</td>\n",
       "      <td>5.0</td>\n",
       "      <td>34.3</td>\n",
       "      <td>4</td>\n",
       "      <td>False</td>\n",
       "      <td>...</td>\n",
       "      <td>санкт-петербург</td>\n",
       "      <td>21741.0</td>\n",
       "      <td>13933.0</td>\n",
       "      <td>1.0</td>\n",
       "      <td>90.0</td>\n",
       "      <td>2.0</td>\n",
       "      <td>574.0</td>\n",
       "      <td>558</td>\n",
       "      <td>средняя</td>\n",
       "      <td>Санкт-Петербург</td>\n",
       "    </tr>\n",
       "    <tr>\n",
       "      <th>3</th>\n",
       "      <td>0</td>\n",
       "      <td>64900000</td>\n",
       "      <td>159.0</td>\n",
       "      <td>2015-07-24</td>\n",
       "      <td>3</td>\n",
       "      <td>2.65</td>\n",
       "      <td>14.0</td>\n",
       "      <td>75.2</td>\n",
       "      <td>9</td>\n",
       "      <td>False</td>\n",
       "      <td>...</td>\n",
       "      <td>санкт-петербург</td>\n",
       "      <td>28098.0</td>\n",
       "      <td>6800.0</td>\n",
       "      <td>2.0</td>\n",
       "      <td>84.0</td>\n",
       "      <td>3.0</td>\n",
       "      <td>234.0</td>\n",
       "      <td>424</td>\n",
       "      <td>большая</td>\n",
       "      <td>Санкт-Петербург</td>\n",
       "    </tr>\n",
       "    <tr>\n",
       "      <th>4</th>\n",
       "      <td>2</td>\n",
       "      <td>10000000</td>\n",
       "      <td>100.0</td>\n",
       "      <td>2018-06-19</td>\n",
       "      <td>2</td>\n",
       "      <td>3.03</td>\n",
       "      <td>14.0</td>\n",
       "      <td>32.0</td>\n",
       "      <td>13</td>\n",
       "      <td>False</td>\n",
       "      <td>...</td>\n",
       "      <td>санкт-петербург</td>\n",
       "      <td>31856.0</td>\n",
       "      <td>8098.0</td>\n",
       "      <td>2.0</td>\n",
       "      <td>112.0</td>\n",
       "      <td>1.0</td>\n",
       "      <td>48.0</td>\n",
       "      <td>121</td>\n",
       "      <td>средняя</td>\n",
       "      <td>Санкт-Петербург</td>\n",
       "    </tr>\n",
       "    <tr>\n",
       "      <th>5</th>\n",
       "      <td>10</td>\n",
       "      <td>2890000</td>\n",
       "      <td>30.4</td>\n",
       "      <td>2018-09-10</td>\n",
       "      <td>1</td>\n",
       "      <td>2.65</td>\n",
       "      <td>12.0</td>\n",
       "      <td>14.4</td>\n",
       "      <td>5</td>\n",
       "      <td>False</td>\n",
       "      <td>...</td>\n",
       "      <td>городской  янино-1</td>\n",
       "      <td>NaN</td>\n",
       "      <td>NaN</td>\n",
       "      <td>NaN</td>\n",
       "      <td>NaN</td>\n",
       "      <td>NaN</td>\n",
       "      <td>NaN</td>\n",
       "      <td>55</td>\n",
       "      <td>малая</td>\n",
       "      <td>пгт</td>\n",
       "    </tr>\n",
       "    <tr>\n",
       "      <th>6</th>\n",
       "      <td>6</td>\n",
       "      <td>3700000</td>\n",
       "      <td>37.3</td>\n",
       "      <td>2017-11-02</td>\n",
       "      <td>1</td>\n",
       "      <td>2.65</td>\n",
       "      <td>26.0</td>\n",
       "      <td>10.6</td>\n",
       "      <td>6</td>\n",
       "      <td>False</td>\n",
       "      <td>...</td>\n",
       "      <td>парголово</td>\n",
       "      <td>52996.0</td>\n",
       "      <td>19143.0</td>\n",
       "      <td>0.0</td>\n",
       "      <td>NaN</td>\n",
       "      <td>0.0</td>\n",
       "      <td>NaN</td>\n",
       "      <td>155</td>\n",
       "      <td>малая</td>\n",
       "      <td>поселок</td>\n",
       "    </tr>\n",
       "  </tbody>\n",
       "</table>\n",
       "<p>7 rows × 25 columns</p>\n",
       "</div>"
      ],
      "text/plain": [
       "   total_images  last_price  total_area first_day_exposition  rooms  \\\n",
       "0            20    13000000       108.0           2019-03-07      3   \n",
       "1             7     3350000        40.4           2018-12-04      1   \n",
       "2            10     5196000        56.0           2015-08-20      2   \n",
       "3             0    64900000       159.0           2015-07-24      3   \n",
       "4             2    10000000       100.0           2018-06-19      2   \n",
       "5            10     2890000        30.4           2018-09-10      1   \n",
       "6             6     3700000        37.3           2017-11-02      1   \n",
       "\n",
       "   ceiling_height  floors_total  living_area  floor  is_apartment  ...  \\\n",
       "0            2.70          16.0         51.0      8         False  ...   \n",
       "1            2.65          11.0         18.6      1         False  ...   \n",
       "2            2.65           5.0         34.3      4         False  ...   \n",
       "3            2.65          14.0         75.2      9         False  ...   \n",
       "4            3.03          14.0         32.0     13         False  ...   \n",
       "5            2.65          12.0         14.4      5         False  ...   \n",
       "6            2.65          26.0         10.6      6         False  ...   \n",
       "\n",
       "   locality_clean_name  airports_nearest  cityCenters_nearest  \\\n",
       "0      санкт-петербург           18863.0              16028.0   \n",
       "1               шушары           12817.0              18603.0   \n",
       "2      санкт-петербург           21741.0              13933.0   \n",
       "3      санкт-петербург           28098.0               6800.0   \n",
       "4      санкт-петербург           31856.0               8098.0   \n",
       "5   городской  янино-1               NaN                  NaN   \n",
       "6            парголово           52996.0              19143.0   \n",
       "\n",
       "   parks_around3000 parks_nearest ponds_around3000  ponds_nearest  \\\n",
       "0               1.0         482.0              2.0          755.0   \n",
       "1               0.0           NaN              0.0            NaN   \n",
       "2               1.0          90.0              2.0          574.0   \n",
       "3               2.0          84.0              3.0          234.0   \n",
       "4               2.0         112.0              1.0           48.0   \n",
       "5               NaN           NaN              NaN            NaN   \n",
       "6               0.0           NaN              0.0            NaN   \n",
       "\n",
       "   days_exposition  total_area_category    locality_type  \n",
       "0                0              большая  Санкт-Петербург  \n",
       "1               81                малая          поселок  \n",
       "2              558              средняя  Санкт-Петербург  \n",
       "3              424              большая  Санкт-Петербург  \n",
       "4              121              средняя  Санкт-Петербург  \n",
       "5               55                малая              пгт  \n",
       "6              155                малая          поселок  \n",
       "\n",
       "[7 rows x 25 columns]"
      ]
     },
     "execution_count": 47,
     "metadata": {},
     "output_type": "execute_result"
    }
   ],
   "source": [
    "data.head(7)"
   ]
  },
  {
   "cell_type": "code",
   "execution_count": 48,
   "metadata": {},
   "outputs": [
    {
     "data": {
      "text/plain": [
       "parks_nearest           15306\n",
       "ponds_nearest           14340\n",
       "cityCenters_nearest      5384\n",
       "ponds_around3000         5383\n",
       "parks_around3000         5383\n",
       "airports_nearest         5341\n",
       "total_images                0\n",
       "balcony                     0\n",
       "total_area_category         0\n",
       "days_exposition             0\n",
       "locality_clean_name         0\n",
       "locality_name               0\n",
       "kitchen_area                0\n",
       "last_price                  0\n",
       "open_plan                   0\n",
       "studio                      0\n",
       "is_apartment                0\n",
       "floor                       0\n",
       "living_area                 0\n",
       "floors_total                0\n",
       "ceiling_height              0\n",
       "rooms                       0\n",
       "first_day_exposition        0\n",
       "total_area                  0\n",
       "locality_type               0\n",
       "dtype: int64"
      ]
     },
     "execution_count": 48,
     "metadata": {},
     "output_type": "execute_result"
    }
   ],
   "source": [
    "#проверим какие пропущенные значения остались\n",
    "data.isna().sum().sort_values(ascending=False)"
   ]
  },
  {
   "cell_type": "code",
   "execution_count": 49,
   "metadata": {},
   "outputs": [],
   "source": [
    "#заполним зачения где комнаты = 0 единицами - это будут студии\n",
    "data.loc[data['rooms'] == 0, 'rooms'] = 1"
   ]
  },
  {
   "cell_type": "code",
   "execution_count": 50,
   "metadata": {},
   "outputs": [],
   "source": [
    "#изменим тип данных в floors_total на int\n",
    "data['floors_total'] = data['floors_total'].astype(int)"
   ]
  },
  {
   "cell_type": "code",
   "execution_count": 51,
   "metadata": {},
   "outputs": [
    {
     "name": "stdout",
     "output_type": "stream",
     "text": [
      "<class 'pandas.core.frame.DataFrame'>\n",
      "Int64Index: 23274 entries, 0 to 23649\n",
      "Data columns (total 25 columns):\n",
      " #   Column                Non-Null Count  Dtype         \n",
      "---  ------                --------------  -----         \n",
      " 0   total_images          23274 non-null  int64         \n",
      " 1   last_price            23274 non-null  int64         \n",
      " 2   total_area            23274 non-null  float64       \n",
      " 3   first_day_exposition  23274 non-null  datetime64[ns]\n",
      " 4   rooms                 23274 non-null  int64         \n",
      " 5   ceiling_height        23274 non-null  float64       \n",
      " 6   floors_total          23274 non-null  int64         \n",
      " 7   living_area           23274 non-null  float64       \n",
      " 8   floor                 23274 non-null  int64         \n",
      " 9   is_apartment          23274 non-null  bool          \n",
      " 10  studio                23274 non-null  bool          \n",
      " 11  open_plan             23274 non-null  bool          \n",
      " 12  kitchen_area          23274 non-null  float64       \n",
      " 13  balcony               23274 non-null  int64         \n",
      " 14  locality_name         23274 non-null  object        \n",
      " 15  locality_clean_name   23274 non-null  object        \n",
      " 16  airports_nearest      17933 non-null  float64       \n",
      " 17  cityCenters_nearest   17890 non-null  float64       \n",
      " 18  parks_around3000      17891 non-null  float64       \n",
      " 19  parks_nearest         7968 non-null   float64       \n",
      " 20  ponds_around3000      17891 non-null  float64       \n",
      " 21  ponds_nearest         8934 non-null   float64       \n",
      " 22  days_exposition       23274 non-null  int64         \n",
      " 23  total_area_category   23274 non-null  object        \n",
      " 24  locality_type         23274 non-null  object        \n",
      "dtypes: bool(3), datetime64[ns](1), float64(10), int64(7), object(4)\n",
      "memory usage: 4.2+ MB\n"
     ]
    }
   ],
   "source": [
    "#Рассмотрим типы данных в каждом столбце еще раз, осталось ли что-то еще для изменения\n",
    "data.info()"
   ]
  },
  {
   "cell_type": "markdown",
   "metadata": {},
   "source": [
    "## Посчитайте и добавьте в таблицу новые столбцы"
   ]
  },
  {
   "cell_type": "markdown",
   "metadata": {},
   "source": [
    "цена одного квадратного метра;\n",
    "день недели публикации объявления (0 — понедельник, 1 — вторник и так далее);\n",
    "месяц публикации объявления;\n",
    "год публикации объявления;\n",
    "тип этажа квартиры (значения — «‎первый», «последний», «другой»);\n",
    "расстояние до центра города в километрах (переведите из м в км и округлите до целых значений)."
   ]
  },
  {
   "cell_type": "code",
   "execution_count": 52,
   "metadata": {},
   "outputs": [],
   "source": [
    "#Посчитаем цену одного квадратного метра и изменим тип данных на int.\n",
    "data['price_1m'] = (data['last_price'] / data['total_area']).astype('int')"
   ]
  },
  {
   "cell_type": "code",
   "execution_count": 53,
   "metadata": {},
   "outputs": [],
   "source": [
    "#добавим день недели публикации объявления (0 — понедельник, 1 — вторник и так далее);\n",
    "#правильный атрибут для поиска дня недели .dt.weekday, \n",
    "#также можно использовать метод .dt.day_name(), чтобы вывести словами название дня недели.\n",
    "data['weekday'] = data['first_day_exposition'].dt.weekday"
   ]
  },
  {
   "cell_type": "code",
   "execution_count": 54,
   "metadata": {},
   "outputs": [],
   "source": [
    "#добавим месяц публикации объявления\n",
    "data['month'] = data['first_day_exposition'].dt.month"
   ]
  },
  {
   "cell_type": "code",
   "execution_count": 55,
   "metadata": {},
   "outputs": [],
   "source": [
    "#добавим год публикации объявления\n",
    "data['year'] = data['first_day_exposition'].dt.year"
   ]
  },
  {
   "cell_type": "code",
   "execution_count": 56,
   "metadata": {},
   "outputs": [],
   "source": [
    "#добавим тип этажа квартиры (значения — «первый», «последний», «другой») с помощью функции\n",
    "def categorize_floor(floor, floors_total):\n",
    "    if floor == 1:\n",
    "        return 'первый'\n",
    "    elif floor == floors_total:\n",
    "        return 'последний'\n",
    "    else:\n",
    "        return 'другой'\n",
    "\n",
    "data['floor_type'] = data.apply(lambda x: categorize_floor(x['floor'], x['floors_total']), axis=1)"
   ]
  },
  {
   "cell_type": "code",
   "execution_count": 57,
   "metadata": {},
   "outputs": [],
   "source": [
    "#добавим расстояние до центра города в километрах, переведем из м в км и округлим до целых значений.\n",
    "data['km_to_city_center'] = data['cityCenters_nearest'] / 1000\n",
    "data['km_to_city_center'] = data['km_to_city_center'].fillna(value=0).astype(int)"
   ]
  },
  {
   "cell_type": "code",
   "execution_count": 58,
   "metadata": {
    "scrolled": true
   },
   "outputs": [
    {
     "data": {
      "text/html": [
       "<div>\n",
       "<style scoped>\n",
       "    .dataframe tbody tr th:only-of-type {\n",
       "        vertical-align: middle;\n",
       "    }\n",
       "\n",
       "    .dataframe tbody tr th {\n",
       "        vertical-align: top;\n",
       "    }\n",
       "\n",
       "    .dataframe thead th {\n",
       "        text-align: right;\n",
       "    }\n",
       "</style>\n",
       "<table border=\"1\" class=\"dataframe\">\n",
       "  <thead>\n",
       "    <tr style=\"text-align: right;\">\n",
       "      <th></th>\n",
       "      <th>total_images</th>\n",
       "      <th>last_price</th>\n",
       "      <th>total_area</th>\n",
       "      <th>first_day_exposition</th>\n",
       "      <th>rooms</th>\n",
       "      <th>ceiling_height</th>\n",
       "      <th>floors_total</th>\n",
       "      <th>living_area</th>\n",
       "      <th>floor</th>\n",
       "      <th>is_apartment</th>\n",
       "      <th>...</th>\n",
       "      <th>ponds_nearest</th>\n",
       "      <th>days_exposition</th>\n",
       "      <th>total_area_category</th>\n",
       "      <th>locality_type</th>\n",
       "      <th>price_1m</th>\n",
       "      <th>weekday</th>\n",
       "      <th>month</th>\n",
       "      <th>year</th>\n",
       "      <th>floor_type</th>\n",
       "      <th>km_to_city_center</th>\n",
       "    </tr>\n",
       "  </thead>\n",
       "  <tbody>\n",
       "    <tr>\n",
       "      <th>0</th>\n",
       "      <td>20</td>\n",
       "      <td>13000000</td>\n",
       "      <td>108.0</td>\n",
       "      <td>2019-03-07</td>\n",
       "      <td>3</td>\n",
       "      <td>2.70</td>\n",
       "      <td>16</td>\n",
       "      <td>51.0</td>\n",
       "      <td>8</td>\n",
       "      <td>False</td>\n",
       "      <td>...</td>\n",
       "      <td>755.0</td>\n",
       "      <td>0</td>\n",
       "      <td>большая</td>\n",
       "      <td>Санкт-Петербург</td>\n",
       "      <td>120370</td>\n",
       "      <td>3</td>\n",
       "      <td>3</td>\n",
       "      <td>2019</td>\n",
       "      <td>другой</td>\n",
       "      <td>16</td>\n",
       "    </tr>\n",
       "    <tr>\n",
       "      <th>1</th>\n",
       "      <td>7</td>\n",
       "      <td>3350000</td>\n",
       "      <td>40.4</td>\n",
       "      <td>2018-12-04</td>\n",
       "      <td>1</td>\n",
       "      <td>2.65</td>\n",
       "      <td>11</td>\n",
       "      <td>18.6</td>\n",
       "      <td>1</td>\n",
       "      <td>False</td>\n",
       "      <td>...</td>\n",
       "      <td>NaN</td>\n",
       "      <td>81</td>\n",
       "      <td>малая</td>\n",
       "      <td>поселок</td>\n",
       "      <td>82920</td>\n",
       "      <td>1</td>\n",
       "      <td>12</td>\n",
       "      <td>2018</td>\n",
       "      <td>первый</td>\n",
       "      <td>18</td>\n",
       "    </tr>\n",
       "    <tr>\n",
       "      <th>2</th>\n",
       "      <td>10</td>\n",
       "      <td>5196000</td>\n",
       "      <td>56.0</td>\n",
       "      <td>2015-08-20</td>\n",
       "      <td>2</td>\n",
       "      <td>2.65</td>\n",
       "      <td>5</td>\n",
       "      <td>34.3</td>\n",
       "      <td>4</td>\n",
       "      <td>False</td>\n",
       "      <td>...</td>\n",
       "      <td>574.0</td>\n",
       "      <td>558</td>\n",
       "      <td>средняя</td>\n",
       "      <td>Санкт-Петербург</td>\n",
       "      <td>92785</td>\n",
       "      <td>3</td>\n",
       "      <td>8</td>\n",
       "      <td>2015</td>\n",
       "      <td>другой</td>\n",
       "      <td>13</td>\n",
       "    </tr>\n",
       "    <tr>\n",
       "      <th>3</th>\n",
       "      <td>0</td>\n",
       "      <td>64900000</td>\n",
       "      <td>159.0</td>\n",
       "      <td>2015-07-24</td>\n",
       "      <td>3</td>\n",
       "      <td>2.65</td>\n",
       "      <td>14</td>\n",
       "      <td>75.2</td>\n",
       "      <td>9</td>\n",
       "      <td>False</td>\n",
       "      <td>...</td>\n",
       "      <td>234.0</td>\n",
       "      <td>424</td>\n",
       "      <td>большая</td>\n",
       "      <td>Санкт-Петербург</td>\n",
       "      <td>408176</td>\n",
       "      <td>4</td>\n",
       "      <td>7</td>\n",
       "      <td>2015</td>\n",
       "      <td>другой</td>\n",
       "      <td>6</td>\n",
       "    </tr>\n",
       "    <tr>\n",
       "      <th>4</th>\n",
       "      <td>2</td>\n",
       "      <td>10000000</td>\n",
       "      <td>100.0</td>\n",
       "      <td>2018-06-19</td>\n",
       "      <td>2</td>\n",
       "      <td>3.03</td>\n",
       "      <td>14</td>\n",
       "      <td>32.0</td>\n",
       "      <td>13</td>\n",
       "      <td>False</td>\n",
       "      <td>...</td>\n",
       "      <td>48.0</td>\n",
       "      <td>121</td>\n",
       "      <td>средняя</td>\n",
       "      <td>Санкт-Петербург</td>\n",
       "      <td>100000</td>\n",
       "      <td>1</td>\n",
       "      <td>6</td>\n",
       "      <td>2018</td>\n",
       "      <td>другой</td>\n",
       "      <td>8</td>\n",
       "    </tr>\n",
       "  </tbody>\n",
       "</table>\n",
       "<p>5 rows × 31 columns</p>\n",
       "</div>"
      ],
      "text/plain": [
       "   total_images  last_price  total_area first_day_exposition  rooms  \\\n",
       "0            20    13000000       108.0           2019-03-07      3   \n",
       "1             7     3350000        40.4           2018-12-04      1   \n",
       "2            10     5196000        56.0           2015-08-20      2   \n",
       "3             0    64900000       159.0           2015-07-24      3   \n",
       "4             2    10000000       100.0           2018-06-19      2   \n",
       "\n",
       "   ceiling_height  floors_total  living_area  floor  is_apartment  ...  \\\n",
       "0            2.70            16         51.0      8         False  ...   \n",
       "1            2.65            11         18.6      1         False  ...   \n",
       "2            2.65             5         34.3      4         False  ...   \n",
       "3            2.65            14         75.2      9         False  ...   \n",
       "4            3.03            14         32.0     13         False  ...   \n",
       "\n",
       "   ponds_nearest  days_exposition  total_area_category    locality_type  \\\n",
       "0          755.0                0              большая  Санкт-Петербург   \n",
       "1            NaN               81                малая          поселок   \n",
       "2          574.0              558              средняя  Санкт-Петербург   \n",
       "3          234.0              424              большая  Санкт-Петербург   \n",
       "4           48.0              121              средняя  Санкт-Петербург   \n",
       "\n",
       "  price_1m weekday  month  year  floor_type  km_to_city_center  \n",
       "0   120370       3      3  2019      другой                 16  \n",
       "1    82920       1     12  2018      первый                 18  \n",
       "2    92785       3      8  2015      другой                 13  \n",
       "3   408176       4      7  2015      другой                  6  \n",
       "4   100000       1      6  2018      другой                  8  \n",
       "\n",
       "[5 rows x 31 columns]"
      ]
     },
     "execution_count": 58,
     "metadata": {},
     "output_type": "execute_result"
    }
   ],
   "source": [
    "data.head()"
   ]
  },
  {
   "cell_type": "markdown",
   "metadata": {},
   "source": [
    "## Проведите исследовательский анализ данных"
   ]
  },
  {
   "cell_type": "markdown",
   "metadata": {},
   "source": [
    "### Параметры объектов"
   ]
  },
  {
   "cell_type": "markdown",
   "metadata": {},
   "source": [
    "Построим диграмму размаха по общей площади."
   ]
  },
  {
   "cell_type": "code",
   "execution_count": 59,
   "metadata": {},
   "outputs": [
    {
     "data": {
      "image/png": "[encoded data removed]",
      "text/plain": [
       "<Figure size 432x288 with 1 Axes>"
      ]
     },
     "metadata": {
      "needs_background": "light"
     },
     "output_type": "display_data"
    },
    {
     "data": {
      "text/plain": [
       "count    23274.000000\n",
       "mean        60.649747\n",
       "std         35.678700\n",
       "min         14.000000\n",
       "25%         40.200000\n",
       "50%         52.000000\n",
       "75%         70.000000\n",
       "max        900.000000\n",
       "Name: total_area, dtype: float64"
      ]
     },
     "execution_count": 59,
     "metadata": {},
     "output_type": "execute_result"
    }
   ],
   "source": [
    "plt.ylim(0, 400)\n",
    "data.boxplot(['total_area'])\n",
    "plt.show()\n",
    "data['total_area'].describe()"
   ]
  },
  {
   "cell_type": "markdown",
   "metadata": {},
   "source": [
    "Средняя площадь объектов недвижимости - 60,65 кв.м.\n",
    "Медианное значение - 52 кв.м. Получается есть квартиры с очень большой площадью, которые смещают среднее ввверх. \n",
    "первый квартиль Q1 — 40 кв.м.(25% элементов меньше, а 75% — больше него)\n",
    "третий квартиль Q3 — 70 кв.м.(75% элементов меньше и 25% элементов больше него)\n",
    "Минимальная площадь - 14 кв.м. Максимальная - 900 кв.м. Такие объекты недвижимости действительно могут быть, можно убедиться проверив в Циан. Идем дальше."
   ]
  },
  {
   "cell_type": "code",
   "execution_count": 60,
   "metadata": {},
   "outputs": [
    {
     "name": "stdout",
     "output_type": "stream",
     "text": [
      "Общая площадь до 40 кв.м:  5470\n",
      "Общая площадь от 40 до 60 кв.м:  8689\n",
      "Общая площадь более 60 кв.м:  8457\n"
     ]
    },
    {
     "data": {
      "image/png": "[encoded data removed]",
      "text/plain": [
       "<Figure size 432x288 with 1 Axes>"
      ]
     },
     "metadata": {
      "needs_background": "light"
     },
     "output_type": "display_data"
    }
   ],
   "source": [
    "data.hist('total_area', bins=100, range=(14,100))\n",
    "print('Общая площадь до 40 кв.м: ', data.query('total_area < 40')['total_area'].count())\n",
    "print('Общая площадь от 40 до 60 кв.м: ', data.query('40 < total_area < 60')['total_area'].count())\n",
    "print('Общая площадь более 60 кв.м: ', data.query('total_area > 60')['total_area'].count())"
   ]
  },
  {
   "cell_type": "markdown",
   "metadata": {},
   "source": [
    "По гистограмме видно, что самое большое количество квартир с общей площадью 47 кв.м. - 730.\n",
    "С площадью до 40 кв.м:  5465; от 40 до 60 кв.м:  8686; более 60 кв.м:  8454.\n",
    "Чем больше общая площадь - тем меньше квартир."
   ]
  },
  {
   "cell_type": "markdown",
   "metadata": {},
   "source": [
    "**Жилая площадь**"
   ]
  },
  {
   "cell_type": "code",
   "execution_count": 61,
   "metadata": {},
   "outputs": [
    {
     "data": {
      "image/png": "[encoded data removed]",
      "text/plain": [
       "<Figure size 432x288 with 1 Axes>"
      ]
     },
     "metadata": {
      "needs_background": "light"
     },
     "output_type": "display_data"
    },
    {
     "data": {
      "text/plain": [
       "count    23274.000000\n",
       "mean        34.439807\n",
       "std         21.702893\n",
       "min          2.000000\n",
       "25%         18.400000\n",
       "50%         30.000000\n",
       "75%         42.000000\n",
       "max        409.700000\n",
       "Name: living_area, dtype: float64"
      ]
     },
     "execution_count": 61,
     "metadata": {},
     "output_type": "execute_result"
    }
   ],
   "source": [
    "plt.ylim(0, 300)\n",
    "data.boxplot(['living_area'])\n",
    "plt.show()\n",
    "data['living_area'].describe()"
   ]
  },
  {
   "cell_type": "markdown",
   "metadata": {},
   "source": [
    "Средняя жилая площадь объектов недвижимости - 34,4 кв.м.\n",
    "Медианное значение - 30 кв.м. \n",
    "первый квартиль Q1 — 18,4 кв.м.(25% элементов меньше, а 75% — больше него)\n",
    "третий квартиль Q3 — 42 кв.м.(75% элементов меньше и 25% элементов больше него)\n",
    "Минимальная площадь - 2 кв.м. Это странно. Проверим ниже все объекты с жилой площадью менше 8 кв.м.  Максимальная - 409,7 кв.м. "
   ]
  },
  {
   "cell_type": "code",
   "execution_count": 62,
   "metadata": {},
   "outputs": [
    {
     "data": {
      "text/html": [
       "<div>\n",
       "<style scoped>\n",
       "    .dataframe tbody tr th:only-of-type {\n",
       "        vertical-align: middle;\n",
       "    }\n",
       "\n",
       "    .dataframe tbody tr th {\n",
       "        vertical-align: top;\n",
       "    }\n",
       "\n",
       "    .dataframe thead th {\n",
       "        text-align: right;\n",
       "    }\n",
       "</style>\n",
       "<table border=\"1\" class=\"dataframe\">\n",
       "  <thead>\n",
       "    <tr style=\"text-align: right;\">\n",
       "      <th></th>\n",
       "      <th>total_images</th>\n",
       "      <th>last_price</th>\n",
       "      <th>total_area</th>\n",
       "      <th>first_day_exposition</th>\n",
       "      <th>rooms</th>\n",
       "      <th>ceiling_height</th>\n",
       "      <th>floors_total</th>\n",
       "      <th>living_area</th>\n",
       "      <th>floor</th>\n",
       "      <th>is_apartment</th>\n",
       "      <th>...</th>\n",
       "      <th>ponds_nearest</th>\n",
       "      <th>days_exposition</th>\n",
       "      <th>total_area_category</th>\n",
       "      <th>locality_type</th>\n",
       "      <th>price_1m</th>\n",
       "      <th>weekday</th>\n",
       "      <th>month</th>\n",
       "      <th>year</th>\n",
       "      <th>floor_type</th>\n",
       "      <th>km_to_city_center</th>\n",
       "    </tr>\n",
       "  </thead>\n",
       "  <tbody>\n",
       "    <tr>\n",
       "      <th>3238</th>\n",
       "      <td>7</td>\n",
       "      <td>4440000</td>\n",
       "      <td>41.0</td>\n",
       "      <td>2017-07-02</td>\n",
       "      <td>1</td>\n",
       "      <td>2.65</td>\n",
       "      <td>17</td>\n",
       "      <td>3.0</td>\n",
       "      <td>17</td>\n",
       "      <td>False</td>\n",
       "      <td>...</td>\n",
       "      <td>NaN</td>\n",
       "      <td>216</td>\n",
       "      <td>малая</td>\n",
       "      <td>Санкт-Петербург</td>\n",
       "      <td>108292</td>\n",
       "      <td>6</td>\n",
       "      <td>7</td>\n",
       "      <td>2017</td>\n",
       "      <td>последний</td>\n",
       "      <td>13</td>\n",
       "    </tr>\n",
       "    <tr>\n",
       "      <th>13892</th>\n",
       "      <td>20</td>\n",
       "      <td>6350000</td>\n",
       "      <td>52.0</td>\n",
       "      <td>2018-02-06</td>\n",
       "      <td>2</td>\n",
       "      <td>3.00</td>\n",
       "      <td>6</td>\n",
       "      <td>2.0</td>\n",
       "      <td>2</td>\n",
       "      <td>False</td>\n",
       "      <td>...</td>\n",
       "      <td>1012.0</td>\n",
       "      <td>91</td>\n",
       "      <td>средняя</td>\n",
       "      <td>Санкт-Петербург</td>\n",
       "      <td>122115</td>\n",
       "      <td>1</td>\n",
       "      <td>2</td>\n",
       "      <td>2018</td>\n",
       "      <td>другой</td>\n",
       "      <td>6</td>\n",
       "    </tr>\n",
       "    <tr>\n",
       "      <th>16404</th>\n",
       "      <td>13</td>\n",
       "      <td>3799000</td>\n",
       "      <td>31.0</td>\n",
       "      <td>2018-04-12</td>\n",
       "      <td>1</td>\n",
       "      <td>2.60</td>\n",
       "      <td>5</td>\n",
       "      <td>6.0</td>\n",
       "      <td>1</td>\n",
       "      <td>False</td>\n",
       "      <td>...</td>\n",
       "      <td>NaN</td>\n",
       "      <td>168</td>\n",
       "      <td>малая</td>\n",
       "      <td>Санкт-Петербург</td>\n",
       "      <td>122548</td>\n",
       "      <td>3</td>\n",
       "      <td>4</td>\n",
       "      <td>2018</td>\n",
       "      <td>первый</td>\n",
       "      <td>4</td>\n",
       "    </tr>\n",
       "    <tr>\n",
       "      <th>17551</th>\n",
       "      <td>11</td>\n",
       "      <td>2680000</td>\n",
       "      <td>22.0</td>\n",
       "      <td>2018-08-11</td>\n",
       "      <td>1</td>\n",
       "      <td>2.65</td>\n",
       "      <td>25</td>\n",
       "      <td>5.0</td>\n",
       "      <td>8</td>\n",
       "      <td>False</td>\n",
       "      <td>...</td>\n",
       "      <td>652.0</td>\n",
       "      <td>70</td>\n",
       "      <td>малая</td>\n",
       "      <td>Санкт-Петербург</td>\n",
       "      <td>121818</td>\n",
       "      <td>5</td>\n",
       "      <td>8</td>\n",
       "      <td>2018</td>\n",
       "      <td>другой</td>\n",
       "      <td>11</td>\n",
       "    </tr>\n",
       "    <tr>\n",
       "      <th>19216</th>\n",
       "      <td>19</td>\n",
       "      <td>4050000</td>\n",
       "      <td>33.0</td>\n",
       "      <td>2018-10-15</td>\n",
       "      <td>1</td>\n",
       "      <td>2.50</td>\n",
       "      <td>22</td>\n",
       "      <td>6.5</td>\n",
       "      <td>21</td>\n",
       "      <td>False</td>\n",
       "      <td>...</td>\n",
       "      <td>NaN</td>\n",
       "      <td>44</td>\n",
       "      <td>малая</td>\n",
       "      <td>Санкт-Петербург</td>\n",
       "      <td>122727</td>\n",
       "      <td>0</td>\n",
       "      <td>10</td>\n",
       "      <td>2018</td>\n",
       "      <td>другой</td>\n",
       "      <td>10</td>\n",
       "    </tr>\n",
       "    <tr>\n",
       "      <th>21714</th>\n",
       "      <td>0</td>\n",
       "      <td>2330000</td>\n",
       "      <td>23.0</td>\n",
       "      <td>2018-01-01</td>\n",
       "      <td>1</td>\n",
       "      <td>2.65</td>\n",
       "      <td>24</td>\n",
       "      <td>2.0</td>\n",
       "      <td>22</td>\n",
       "      <td>False</td>\n",
       "      <td>...</td>\n",
       "      <td>NaN</td>\n",
       "      <td>66</td>\n",
       "      <td>малая</td>\n",
       "      <td>поселок</td>\n",
       "      <td>101304</td>\n",
       "      <td>0</td>\n",
       "      <td>1</td>\n",
       "      <td>2018</td>\n",
       "      <td>другой</td>\n",
       "      <td>0</td>\n",
       "    </tr>\n",
       "    <tr>\n",
       "      <th>21898</th>\n",
       "      <td>15</td>\n",
       "      <td>6100000</td>\n",
       "      <td>77.6</td>\n",
       "      <td>2019-02-28</td>\n",
       "      <td>4</td>\n",
       "      <td>2.50</td>\n",
       "      <td>9</td>\n",
       "      <td>5.4</td>\n",
       "      <td>1</td>\n",
       "      <td>False</td>\n",
       "      <td>...</td>\n",
       "      <td>NaN</td>\n",
       "      <td>33</td>\n",
       "      <td>средняя</td>\n",
       "      <td>Санкт-Петербург</td>\n",
       "      <td>78608</td>\n",
       "      <td>3</td>\n",
       "      <td>2</td>\n",
       "      <td>2019</td>\n",
       "      <td>первый</td>\n",
       "      <td>11</td>\n",
       "    </tr>\n",
       "    <tr>\n",
       "      <th>23525</th>\n",
       "      <td>14</td>\n",
       "      <td>64990000</td>\n",
       "      <td>139.0</td>\n",
       "      <td>2015-11-24</td>\n",
       "      <td>3</td>\n",
       "      <td>3.00</td>\n",
       "      <td>8</td>\n",
       "      <td>3.0</td>\n",
       "      <td>8</td>\n",
       "      <td>False</td>\n",
       "      <td>...</td>\n",
       "      <td>100.0</td>\n",
       "      <td>280</td>\n",
       "      <td>большая</td>\n",
       "      <td>Санкт-Петербург</td>\n",
       "      <td>467553</td>\n",
       "      <td>1</td>\n",
       "      <td>11</td>\n",
       "      <td>2015</td>\n",
       "      <td>последний</td>\n",
       "      <td>5</td>\n",
       "    </tr>\n",
       "  </tbody>\n",
       "</table>\n",
       "<p>8 rows × 31 columns</p>\n",
       "</div>"
      ],
      "text/plain": [
       "       total_images  last_price  total_area first_day_exposition  rooms  \\\n",
       "3238              7     4440000        41.0           2017-07-02      1   \n",
       "13892            20     6350000        52.0           2018-02-06      2   \n",
       "16404            13     3799000        31.0           2018-04-12      1   \n",
       "17551            11     2680000        22.0           2018-08-11      1   \n",
       "19216            19     4050000        33.0           2018-10-15      1   \n",
       "21714             0     2330000        23.0           2018-01-01      1   \n",
       "21898            15     6100000        77.6           2019-02-28      4   \n",
       "23525            14    64990000       139.0           2015-11-24      3   \n",
       "\n",
       "       ceiling_height  floors_total  living_area  floor  is_apartment  ...  \\\n",
       "3238             2.65            17          3.0     17         False  ...   \n",
       "13892            3.00             6          2.0      2         False  ...   \n",
       "16404            2.60             5          6.0      1         False  ...   \n",
       "17551            2.65            25          5.0      8         False  ...   \n",
       "19216            2.50            22          6.5     21         False  ...   \n",
       "21714            2.65            24          2.0     22         False  ...   \n",
       "21898            2.50             9          5.4      1         False  ...   \n",
       "23525            3.00             8          3.0      8         False  ...   \n",
       "\n",
       "       ponds_nearest  days_exposition  total_area_category    locality_type  \\\n",
       "3238             NaN              216                малая  Санкт-Петербург   \n",
       "13892         1012.0               91              средняя  Санкт-Петербург   \n",
       "16404            NaN              168                малая  Санкт-Петербург   \n",
       "17551          652.0               70                малая  Санкт-Петербург   \n",
       "19216            NaN               44                малая  Санкт-Петербург   \n",
       "21714            NaN               66                малая          поселок   \n",
       "21898            NaN               33              средняя  Санкт-Петербург   \n",
       "23525          100.0              280              большая  Санкт-Петербург   \n",
       "\n",
       "      price_1m weekday  month  year  floor_type  km_to_city_center  \n",
       "3238    108292       6      7  2017   последний                 13  \n",
       "13892   122115       1      2  2018      другой                  6  \n",
       "16404   122548       3      4  2018      первый                  4  \n",
       "17551   121818       5      8  2018      другой                 11  \n",
       "19216   122727       0     10  2018      другой                 10  \n",
       "21714   101304       0      1  2018      другой                  0  \n",
       "21898    78608       3      2  2019      первый                 11  \n",
       "23525   467553       1     11  2015   последний                  5  \n",
       "\n",
       "[8 rows x 31 columns]"
      ]
     },
     "execution_count": 62,
     "metadata": {},
     "output_type": "execute_result"
    }
   ],
   "source": [
    "data.query('living_area < 8')"
   ]
  },
  {
   "cell_type": "code",
   "execution_count": 63,
   "metadata": {},
   "outputs": [],
   "source": [
    "#Удалим эти объекты\n",
    "data = data.query('living_area > 8')"
   ]
  },
  {
   "cell_type": "code",
   "execution_count": 64,
   "metadata": {},
   "outputs": [
    {
     "name": "stdout",
     "output_type": "stream",
     "text": [
      "Жилая площадь до 20 кв.м:  6902\n",
      "Жилая площадь от 20 до 40 кв.м:  9332\n",
      "Жилая площадь более 40 кв.м:  6340\n"
     ]
    },
    {
     "data": {
      "image/png": "[encoded data removed]",
      "text/plain": [
       "<Figure size 432x288 with 1 Axes>"
      ]
     },
     "metadata": {
      "needs_background": "light"
     },
     "output_type": "display_data"
    }
   ],
   "source": [
    "data.hist('living_area', bins=100, range=(8,100))\n",
    "print('Жилая площадь до 20 кв.м: ', data.query('living_area < 20')['living_area'].count())\n",
    "print('Жилая площадь от 20 до 40 кв.м: ', data.query('20 < living_area < 40')['living_area'].count())\n",
    "print('Жилая площадь более 40 кв.м: ', data.query('living_area > 40')['living_area'].count())"
   ]
  },
  {
   "cell_type": "markdown",
   "metadata": {},
   "source": [
    "Видно, что больше всего квартир с жилой площадью 15-19 кв.м и 39 кв.м (от 600 до 1650) так же в диапазоне от 25 до 35 кв.м (до 1000). А объектов с жилой площадью более 40 кв.м. всего 6340 и количество уменьшается с увеличением жилой площади. Есть небольшой пик на 75к.в. - таких квартир 200."
   ]
  },
  {
   "cell_type": "markdown",
   "metadata": {},
   "source": [
    "**Площащь кухни**"
   ]
  },
  {
   "cell_type": "code",
   "execution_count": 65,
   "metadata": {},
   "outputs": [
    {
     "data": {
      "image/png": "[encoded data removed]",
      "text/plain": [
       "<Figure size 432x288 with 1 Axes>"
      ]
     },
     "metadata": {
      "needs_background": "light"
     },
     "output_type": "display_data"
    },
    {
     "data": {
      "text/plain": [
       "count    23264.000000\n",
       "mean        10.447632\n",
       "std          5.655600\n",
       "min          1.300000\n",
       "25%          7.300000\n",
       "50%          9.100000\n",
       "75%         11.600000\n",
       "max        112.000000\n",
       "Name: kitchen_area, dtype: float64"
      ]
     },
     "execution_count": 65,
     "metadata": {},
     "output_type": "execute_result"
    }
   ],
   "source": [
    "plt.ylim(0, 60)\n",
    "data.boxplot(['kitchen_area'])\n",
    "plt.show()\n",
    "data['kitchen_area'].describe()"
   ]
  },
  {
   "cell_type": "markdown",
   "metadata": {},
   "source": [
    "Среднняя и медианная площадь кухни: 9,1 и 10,4 кв.м. соответственно. Минимальная 1 кв.м. Максимальная площадь 112 кв.м \n",
    "первый квартиль Q1 — 7,3 кв.м.(25% элементов меньше, а 75% — больше него)\n",
    "третий квартиль Q3 — 11,6 кв.м.(75% элементов меньше и 25% элементов больше него)"
   ]
  },
  {
   "cell_type": "code",
   "execution_count": 66,
   "metadata": {},
   "outputs": [
    {
     "name": "stdout",
     "output_type": "stream",
     "text": [
      "Площадь кухни до 10 кв.м:  12662\n",
      "Площадь кухни от 10 до 15 кв.м:  5671\n",
      "Площадь кухни более 15 кв.м:  2496\n"
     ]
    },
    {
     "data": {
      "image/png": "[encoded data removed]",
      "text/plain": [
       "<Figure size 432x288 with 1 Axes>"
      ]
     },
     "metadata": {
      "needs_background": "light"
     },
     "output_type": "display_data"
    }
   ],
   "source": [
    "data.hist('kitchen_area', bins=50, range=(1,50))\n",
    "print('Площадь кухни до 10 кв.м: ', data.query('kitchen_area < 10')['kitchen_area'].count())\n",
    "print('Площадь кухни от 10 до 15 кв.м: ', data.query('10 < kitchen_area < 15')['kitchen_area'].count())\n",
    "print('Площадь кухни более 15 кв.м: ', data.query('kitchen_area > 15')['kitchen_area'].count())"
   ]
  },
  {
   "cell_type": "markdown",
   "metadata": {},
   "source": [
    "**Цена объекта**"
   ]
  },
  {
   "cell_type": "markdown",
   "metadata": {},
   "source": [
    "По гистограмме видно, что больше всего объектов с площадью кухни от 5 до 10 кв.м (от 1000 до 3600 квартир). \n",
    "Пик приходит на 8 кв.м. (3600 квартир). "
   ]
  },
  {
   "cell_type": "code",
   "execution_count": 67,
   "metadata": {},
   "outputs": [
    {
     "data": {
      "text/plain": [
       "count    2.326400e+04\n",
       "mean     6.566932e+06\n",
       "std      1.092540e+07\n",
       "min      1.219000e+04\n",
       "25%      3.450000e+06\n",
       "50%      4.650000e+06\n",
       "75%      6.800000e+06\n",
       "max      7.630000e+08\n",
       "Name: last_price, dtype: float64"
      ]
     },
     "execution_count": 67,
     "metadata": {},
     "output_type": "execute_result"
    }
   ],
   "source": [
    "data['last_price'].describe()"
   ]
  },
  {
   "cell_type": "code",
   "execution_count": 68,
   "metadata": {},
   "outputs": [
    {
     "data": {
      "text/plain": [
       "count        23264.00\n",
       "mean       6566931.85\n",
       "std       10925403.21\n",
       "min          12190.00\n",
       "25%        3450000.00\n",
       "50%        4650000.00\n",
       "75%        6800000.00\n",
       "max      763000000.00\n",
       "Name: last_price, dtype: object"
      ]
     },
     "execution_count": 68,
     "metadata": {},
     "output_type": "execute_result"
    }
   ],
   "source": [
    "data['last_price'].describe().apply(lambda x: '{:.2f}'.format(x))"
   ]
  },
  {
   "cell_type": "markdown",
   "metadata": {},
   "source": [
    "Среднее значение почти на 2 млн больше чем медианноое. Значит есть очень дорогие квартиры, которые смещают среднюю вверх. \n",
    "Сразу бросается в глаза минимальная стоимость жилья - 12190р слишком маленькая цена. Проверим, что это за объект. Возьмем срез сразу меньше 500тыс.р"
   ]
  },
  {
   "cell_type": "code",
   "execution_count": 69,
   "metadata": {
    "scrolled": false
   },
   "outputs": [
    {
     "data": {
      "text/html": [
       "<div>\n",
       "<style scoped>\n",
       "    .dataframe tbody tr th:only-of-type {\n",
       "        vertical-align: middle;\n",
       "    }\n",
       "\n",
       "    .dataframe tbody tr th {\n",
       "        vertical-align: top;\n",
       "    }\n",
       "\n",
       "    .dataframe thead th {\n",
       "        text-align: right;\n",
       "    }\n",
       "</style>\n",
       "<table border=\"1\" class=\"dataframe\">\n",
       "  <thead>\n",
       "    <tr style=\"text-align: right;\">\n",
       "      <th></th>\n",
       "      <th>total_images</th>\n",
       "      <th>last_price</th>\n",
       "      <th>total_area</th>\n",
       "      <th>first_day_exposition</th>\n",
       "      <th>rooms</th>\n",
       "      <th>ceiling_height</th>\n",
       "      <th>floors_total</th>\n",
       "      <th>living_area</th>\n",
       "      <th>floor</th>\n",
       "      <th>is_apartment</th>\n",
       "      <th>...</th>\n",
       "      <th>ponds_nearest</th>\n",
       "      <th>days_exposition</th>\n",
       "      <th>total_area_category</th>\n",
       "      <th>locality_type</th>\n",
       "      <th>price_1m</th>\n",
       "      <th>weekday</th>\n",
       "      <th>month</th>\n",
       "      <th>year</th>\n",
       "      <th>floor_type</th>\n",
       "      <th>km_to_city_center</th>\n",
       "    </tr>\n",
       "  </thead>\n",
       "  <tbody>\n",
       "    <tr>\n",
       "      <th>8778</th>\n",
       "      <td>7</td>\n",
       "      <td>12190</td>\n",
       "      <td>109.0</td>\n",
       "      <td>2019-03-20</td>\n",
       "      <td>2</td>\n",
       "      <td>2.75</td>\n",
       "      <td>25</td>\n",
       "      <td>32.0</td>\n",
       "      <td>25</td>\n",
       "      <td>False</td>\n",
       "      <td>...</td>\n",
       "      <td>NaN</td>\n",
       "      <td>8</td>\n",
       "      <td>большая</td>\n",
       "      <td>Санкт-Петербург</td>\n",
       "      <td>111</td>\n",
       "      <td>2</td>\n",
       "      <td>3</td>\n",
       "      <td>2019</td>\n",
       "      <td>последний</td>\n",
       "      <td>9</td>\n",
       "    </tr>\n",
       "    <tr>\n",
       "      <th>14886</th>\n",
       "      <td>5</td>\n",
       "      <td>430000</td>\n",
       "      <td>54.0</td>\n",
       "      <td>2018-06-26</td>\n",
       "      <td>2</td>\n",
       "      <td>2.65</td>\n",
       "      <td>3</td>\n",
       "      <td>39.5</td>\n",
       "      <td>3</td>\n",
       "      <td>False</td>\n",
       "      <td>...</td>\n",
       "      <td>NaN</td>\n",
       "      <td>44</td>\n",
       "      <td>средняя</td>\n",
       "      <td>поселок</td>\n",
       "      <td>7962</td>\n",
       "      <td>1</td>\n",
       "      <td>6</td>\n",
       "      <td>2018</td>\n",
       "      <td>последний</td>\n",
       "      <td>0</td>\n",
       "    </tr>\n",
       "    <tr>\n",
       "      <th>17426</th>\n",
       "      <td>7</td>\n",
       "      <td>430000</td>\n",
       "      <td>30.4</td>\n",
       "      <td>2019-04-22</td>\n",
       "      <td>1</td>\n",
       "      <td>2.65</td>\n",
       "      <td>2</td>\n",
       "      <td>16.0</td>\n",
       "      <td>1</td>\n",
       "      <td>False</td>\n",
       "      <td>...</td>\n",
       "      <td>NaN</td>\n",
       "      <td>0</td>\n",
       "      <td>малая</td>\n",
       "      <td>прочее</td>\n",
       "      <td>14144</td>\n",
       "      <td>0</td>\n",
       "      <td>4</td>\n",
       "      <td>2019</td>\n",
       "      <td>первый</td>\n",
       "      <td>0</td>\n",
       "    </tr>\n",
       "    <tr>\n",
       "      <th>16247</th>\n",
       "      <td>18</td>\n",
       "      <td>440000</td>\n",
       "      <td>40.0</td>\n",
       "      <td>2018-07-10</td>\n",
       "      <td>1</td>\n",
       "      <td>2.65</td>\n",
       "      <td>5</td>\n",
       "      <td>18.4</td>\n",
       "      <td>1</td>\n",
       "      <td>False</td>\n",
       "      <td>...</td>\n",
       "      <td>NaN</td>\n",
       "      <td>45</td>\n",
       "      <td>малая</td>\n",
       "      <td>деревня</td>\n",
       "      <td>11000</td>\n",
       "      <td>1</td>\n",
       "      <td>7</td>\n",
       "      <td>2018</td>\n",
       "      <td>первый</td>\n",
       "      <td>0</td>\n",
       "    </tr>\n",
       "    <tr>\n",
       "      <th>5689</th>\n",
       "      <td>7</td>\n",
       "      <td>450000</td>\n",
       "      <td>42.0</td>\n",
       "      <td>2017-07-31</td>\n",
       "      <td>2</td>\n",
       "      <td>2.65</td>\n",
       "      <td>1</td>\n",
       "      <td>23.0</td>\n",
       "      <td>1</td>\n",
       "      <td>False</td>\n",
       "      <td>...</td>\n",
       "      <td>NaN</td>\n",
       "      <td>233</td>\n",
       "      <td>малая</td>\n",
       "      <td>пгт</td>\n",
       "      <td>10714</td>\n",
       "      <td>0</td>\n",
       "      <td>7</td>\n",
       "      <td>2017</td>\n",
       "      <td>первый</td>\n",
       "      <td>0</td>\n",
       "    </tr>\n",
       "    <tr>\n",
       "      <th>9565</th>\n",
       "      <td>7</td>\n",
       "      <td>450000</td>\n",
       "      <td>43.4</td>\n",
       "      <td>2018-08-31</td>\n",
       "      <td>2</td>\n",
       "      <td>2.65</td>\n",
       "      <td>5</td>\n",
       "      <td>30.3</td>\n",
       "      <td>3</td>\n",
       "      <td>False</td>\n",
       "      <td>...</td>\n",
       "      <td>NaN</td>\n",
       "      <td>96</td>\n",
       "      <td>малая</td>\n",
       "      <td>деревня</td>\n",
       "      <td>10368</td>\n",
       "      <td>4</td>\n",
       "      <td>8</td>\n",
       "      <td>2018</td>\n",
       "      <td>другой</td>\n",
       "      <td>0</td>\n",
       "    </tr>\n",
       "    <tr>\n",
       "      <th>16192</th>\n",
       "      <td>14</td>\n",
       "      <td>450000</td>\n",
       "      <td>38.5</td>\n",
       "      <td>2018-07-11</td>\n",
       "      <td>2</td>\n",
       "      <td>2.65</td>\n",
       "      <td>2</td>\n",
       "      <td>18.4</td>\n",
       "      <td>1</td>\n",
       "      <td>False</td>\n",
       "      <td>...</td>\n",
       "      <td>NaN</td>\n",
       "      <td>45</td>\n",
       "      <td>малая</td>\n",
       "      <td>деревня</td>\n",
       "      <td>11688</td>\n",
       "      <td>2</td>\n",
       "      <td>7</td>\n",
       "      <td>2018</td>\n",
       "      <td>первый</td>\n",
       "      <td>0</td>\n",
       "    </tr>\n",
       "    <tr>\n",
       "      <th>17645</th>\n",
       "      <td>0</td>\n",
       "      <td>450000</td>\n",
       "      <td>36.5</td>\n",
       "      <td>2018-02-01</td>\n",
       "      <td>1</td>\n",
       "      <td>2.65</td>\n",
       "      <td>5</td>\n",
       "      <td>17.3</td>\n",
       "      <td>4</td>\n",
       "      <td>False</td>\n",
       "      <td>...</td>\n",
       "      <td>NaN</td>\n",
       "      <td>120</td>\n",
       "      <td>малая</td>\n",
       "      <td>деревня</td>\n",
       "      <td>12328</td>\n",
       "      <td>3</td>\n",
       "      <td>2</td>\n",
       "      <td>2018</td>\n",
       "      <td>другой</td>\n",
       "      <td>0</td>\n",
       "    </tr>\n",
       "    <tr>\n",
       "      <th>18834</th>\n",
       "      <td>1</td>\n",
       "      <td>470000</td>\n",
       "      <td>41.0</td>\n",
       "      <td>2018-02-11</td>\n",
       "      <td>1</td>\n",
       "      <td>2.65</td>\n",
       "      <td>5</td>\n",
       "      <td>32.0</td>\n",
       "      <td>3</td>\n",
       "      <td>False</td>\n",
       "      <td>...</td>\n",
       "      <td>NaN</td>\n",
       "      <td>46</td>\n",
       "      <td>малая</td>\n",
       "      <td>деревня</td>\n",
       "      <td>11463</td>\n",
       "      <td>6</td>\n",
       "      <td>2</td>\n",
       "      <td>2018</td>\n",
       "      <td>другой</td>\n",
       "      <td>0</td>\n",
       "    </tr>\n",
       "    <tr>\n",
       "      <th>21867</th>\n",
       "      <td>0</td>\n",
       "      <td>470000</td>\n",
       "      <td>37.0</td>\n",
       "      <td>2018-02-18</td>\n",
       "      <td>1</td>\n",
       "      <td>2.65</td>\n",
       "      <td>3</td>\n",
       "      <td>18.4</td>\n",
       "      <td>3</td>\n",
       "      <td>False</td>\n",
       "      <td>...</td>\n",
       "      <td>NaN</td>\n",
       "      <td>45</td>\n",
       "      <td>малая</td>\n",
       "      <td>поселок</td>\n",
       "      <td>12702</td>\n",
       "      <td>6</td>\n",
       "      <td>2</td>\n",
       "      <td>2018</td>\n",
       "      <td>последний</td>\n",
       "      <td>0</td>\n",
       "    </tr>\n",
       "    <tr>\n",
       "      <th>23435</th>\n",
       "      <td>11</td>\n",
       "      <td>470000</td>\n",
       "      <td>44.5</td>\n",
       "      <td>2018-07-02</td>\n",
       "      <td>2</td>\n",
       "      <td>2.65</td>\n",
       "      <td>2</td>\n",
       "      <td>28.0</td>\n",
       "      <td>2</td>\n",
       "      <td>False</td>\n",
       "      <td>...</td>\n",
       "      <td>NaN</td>\n",
       "      <td>298</td>\n",
       "      <td>малая</td>\n",
       "      <td>прочее</td>\n",
       "      <td>10561</td>\n",
       "      <td>0</td>\n",
       "      <td>7</td>\n",
       "      <td>2018</td>\n",
       "      <td>последний</td>\n",
       "      <td>0</td>\n",
       "    </tr>\n",
       "    <tr>\n",
       "      <th>16005</th>\n",
       "      <td>8</td>\n",
       "      <td>480000</td>\n",
       "      <td>32.0</td>\n",
       "      <td>2019-01-06</td>\n",
       "      <td>1</td>\n",
       "      <td>2.65</td>\n",
       "      <td>2</td>\n",
       "      <td>16.0</td>\n",
       "      <td>1</td>\n",
       "      <td>False</td>\n",
       "      <td>...</td>\n",
       "      <td>NaN</td>\n",
       "      <td>83</td>\n",
       "      <td>малая</td>\n",
       "      <td>прочее</td>\n",
       "      <td>15000</td>\n",
       "      <td>6</td>\n",
       "      <td>1</td>\n",
       "      <td>2019</td>\n",
       "      <td>первый</td>\n",
       "      <td>0</td>\n",
       "    </tr>\n",
       "    <tr>\n",
       "      <th>6848</th>\n",
       "      <td>6</td>\n",
       "      <td>490000</td>\n",
       "      <td>40.0</td>\n",
       "      <td>2017-12-11</td>\n",
       "      <td>1</td>\n",
       "      <td>2.65</td>\n",
       "      <td>5</td>\n",
       "      <td>18.4</td>\n",
       "      <td>3</td>\n",
       "      <td>False</td>\n",
       "      <td>...</td>\n",
       "      <td>NaN</td>\n",
       "      <td>43</td>\n",
       "      <td>малая</td>\n",
       "      <td>деревня</td>\n",
       "      <td>12250</td>\n",
       "      <td>0</td>\n",
       "      <td>12</td>\n",
       "      <td>2017</td>\n",
       "      <td>другой</td>\n",
       "      <td>0</td>\n",
       "    </tr>\n",
       "    <tr>\n",
       "      <th>10764</th>\n",
       "      <td>3</td>\n",
       "      <td>490000</td>\n",
       "      <td>29.1</td>\n",
       "      <td>2016-05-05</td>\n",
       "      <td>1</td>\n",
       "      <td>2.50</td>\n",
       "      <td>5</td>\n",
       "      <td>17.0</td>\n",
       "      <td>5</td>\n",
       "      <td>False</td>\n",
       "      <td>...</td>\n",
       "      <td>NaN</td>\n",
       "      <td>719</td>\n",
       "      <td>малая</td>\n",
       "      <td>прочее</td>\n",
       "      <td>16838</td>\n",
       "      <td>3</td>\n",
       "      <td>5</td>\n",
       "      <td>2016</td>\n",
       "      <td>последний</td>\n",
       "      <td>0</td>\n",
       "    </tr>\n",
       "  </tbody>\n",
       "</table>\n",
       "<p>14 rows × 31 columns</p>\n",
       "</div>"
      ],
      "text/plain": [
       "       total_images  last_price  total_area first_day_exposition  rooms  \\\n",
       "8778              7       12190       109.0           2019-03-20      2   \n",
       "14886             5      430000        54.0           2018-06-26      2   \n",
       "17426             7      430000        30.4           2019-04-22      1   \n",
       "16247            18      440000        40.0           2018-07-10      1   \n",
       "5689              7      450000        42.0           2017-07-31      2   \n",
       "9565              7      450000        43.4           2018-08-31      2   \n",
       "16192            14      450000        38.5           2018-07-11      2   \n",
       "17645             0      450000        36.5           2018-02-01      1   \n",
       "18834             1      470000        41.0           2018-02-11      1   \n",
       "21867             0      470000        37.0           2018-02-18      1   \n",
       "23435            11      470000        44.5           2018-07-02      2   \n",
       "16005             8      480000        32.0           2019-01-06      1   \n",
       "6848              6      490000        40.0           2017-12-11      1   \n",
       "10764             3      490000        29.1           2016-05-05      1   \n",
       "\n",
       "       ceiling_height  floors_total  living_area  floor  is_apartment  ...  \\\n",
       "8778             2.75            25         32.0     25         False  ...   \n",
       "14886            2.65             3         39.5      3         False  ...   \n",
       "17426            2.65             2         16.0      1         False  ...   \n",
       "16247            2.65             5         18.4      1         False  ...   \n",
       "5689             2.65             1         23.0      1         False  ...   \n",
       "9565             2.65             5         30.3      3         False  ...   \n",
       "16192            2.65             2         18.4      1         False  ...   \n",
       "17645            2.65             5         17.3      4         False  ...   \n",
       "18834            2.65             5         32.0      3         False  ...   \n",
       "21867            2.65             3         18.4      3         False  ...   \n",
       "23435            2.65             2         28.0      2         False  ...   \n",
       "16005            2.65             2         16.0      1         False  ...   \n",
       "6848             2.65             5         18.4      3         False  ...   \n",
       "10764            2.50             5         17.0      5         False  ...   \n",
       "\n",
       "       ponds_nearest  days_exposition  total_area_category    locality_type  \\\n",
       "8778             NaN                8              большая  Санкт-Петербург   \n",
       "14886            NaN               44              средняя          поселок   \n",
       "17426            NaN                0                малая           прочее   \n",
       "16247            NaN               45                малая          деревня   \n",
       "5689             NaN              233                малая              пгт   \n",
       "9565             NaN               96                малая          деревня   \n",
       "16192            NaN               45                малая          деревня   \n",
       "17645            NaN              120                малая          деревня   \n",
       "18834            NaN               46                малая          деревня   \n",
       "21867            NaN               45                малая          поселок   \n",
       "23435            NaN              298                малая           прочее   \n",
       "16005            NaN               83                малая           прочее   \n",
       "6848             NaN               43                малая          деревня   \n",
       "10764            NaN              719                малая           прочее   \n",
       "\n",
       "      price_1m weekday  month  year  floor_type  km_to_city_center  \n",
       "8778       111       2      3  2019   последний                  9  \n",
       "14886     7962       1      6  2018   последний                  0  \n",
       "17426    14144       0      4  2019      первый                  0  \n",
       "16247    11000       1      7  2018      первый                  0  \n",
       "5689     10714       0      7  2017      первый                  0  \n",
       "9565     10368       4      8  2018      другой                  0  \n",
       "16192    11688       2      7  2018      первый                  0  \n",
       "17645    12328       3      2  2018      другой                  0  \n",
       "18834    11463       6      2  2018      другой                  0  \n",
       "21867    12702       6      2  2018   последний                  0  \n",
       "23435    10561       0      7  2018   последний                  0  \n",
       "16005    15000       6      1  2019      первый                  0  \n",
       "6848     12250       0     12  2017      другой                  0  \n",
       "10764    16838       3      5  2016   последний                  0  \n",
       "\n",
       "[14 rows x 31 columns]"
      ]
     },
     "execution_count": 69,
     "metadata": {},
     "output_type": "execute_result"
    }
   ],
   "source": [
    "data.query('last_price < 500000').sort_values(by='last_price')"
   ]
  },
  {
   "cell_type": "markdown",
   "metadata": {},
   "source": [
    "Однозначно здесь ошибка. В других объектах недвижимости, стоимость которых менее 500тыс.р, цена оправдана. Они находятся в деревнях и поселках, и площадь маленькая. Удалим эту строку."
   ]
  },
  {
   "cell_type": "code",
   "execution_count": 70,
   "metadata": {},
   "outputs": [],
   "source": [
    "data = data.drop(index=[8778])"
   ]
  },
  {
   "cell_type": "code",
   "execution_count": 71,
   "metadata": {
    "scrolled": true
   },
   "outputs": [
    {
     "data": {
      "text/plain": [
       "<AxesSubplot:title={'center':'last_price'}, ylabel='Frequency'>"
      ]
     },
     "execution_count": 71,
     "metadata": {},
     "output_type": "execute_result"
    },
    {
     "data": {
      "image/png": "[encoded data removed]",
      "text/plain": [
       "<Figure size 432x288 with 1 Axes>"
      ]
     },
     "metadata": {
      "needs_background": "light"
     },
     "output_type": "display_data"
    }
   ],
   "source": [
    "data.plot(y='last_price', kind='hist', bins=60, grid=True, title='last_price', range=(0,15000000), figsize=(6,4))"
   ]
  },
  {
   "cell_type": "markdown",
   "metadata": {},
   "source": [
    "Из гистограммы видно, что самое большое количество квартир стоимостью от 3 до 5 млн.р. Пик приходится на 3,8-4 млн.р. От 6 млн.р менее 600 вариантов за каждую цену."
   ]
  },
  {
   "cell_type": "markdown",
   "metadata": {},
   "source": [
    "**Количество комнат**"
   ]
  },
  {
   "cell_type": "code",
   "execution_count": 72,
   "metadata": {},
   "outputs": [
    {
     "data": {
      "text/plain": [
       "1     7950\n",
       "2     7862\n",
       "3     5764\n",
       "4     1171\n",
       "5      324\n",
       "6      103\n",
       "7       59\n",
       "8       11\n",
       "9        8\n",
       "10       3\n",
       "11       2\n",
       "14       2\n",
       "16       1\n",
       "19       1\n",
       "12       1\n",
       "15       1\n",
       "Name: rooms, dtype: int64"
      ]
     },
     "execution_count": 72,
     "metadata": {},
     "output_type": "execute_result"
    },
    {
     "data": {
      "image/png": "[encoded data removed]",
      "text/plain": [
       "<Figure size 432x288 with 1 Axes>"
      ]
     },
     "metadata": {
      "needs_background": "light"
     },
     "output_type": "display_data"
    }
   ],
   "source": [
    "data.hist('rooms', bins=10, range=(1,10))\n",
    "data['rooms'].value_counts()"
   ]
  },
  {
   "cell_type": "markdown",
   "metadata": {},
   "source": [
    "Больше всего однокомнатных квартир - 7950, потом идут двухкомнатные - 7862, трехкомнатные - 5764.\n",
    "Чем больше комнат, тем меньше квартир. "
   ]
  },
  {
   "cell_type": "markdown",
   "metadata": {},
   "source": [
    "**Типы этажей"
   ]
  },
  {
   "cell_type": "code",
   "execution_count": 73,
   "metadata": {
    "scrolled": true
   },
   "outputs": [
    {
     "data": {
      "image/png": "[encoded data removed]",
      "text/plain": [
       "<Figure size 432x288 with 1 Axes>"
      ]
     },
     "metadata": {
      "needs_background": "light"
     },
     "output_type": "display_data"
    },
    {
     "name": "stdout",
     "output_type": "stream",
     "text": [
      "Number of floor types:\n",
      "другой       17103\n",
      "последний     3292\n",
      "первый        2868\n",
      "Name: floor_type, dtype: int64\n"
     ]
    }
   ],
   "source": [
    "data.groupby('floor_type')[['floor_type']].count().plot(kind='bar')\n",
    "plt.title('floors')\n",
    "plt.xlabel('floor_type')\n",
    "plt.ylabel('number')\n",
    "plt.show()\n",
    "print('Number of floor types:')\n",
    "print(data['floor_type'].value_counts())"
   ]
  },
  {
   "cell_type": "markdown",
   "metadata": {},
   "source": [
    "На первых этажах расположено 2868 квартир, на последнем - 3292. На других - 17103"
   ]
  },
  {
   "cell_type": "markdown",
   "metadata": {},
   "source": [
    "**Расстояние до центра города в метрах**"
   ]
  },
  {
   "cell_type": "code",
   "execution_count": 74,
   "metadata": {},
   "outputs": [
    {
     "data": {
      "text/plain": [
       "<AxesSubplot:>"
      ]
     },
     "execution_count": 74,
     "metadata": {},
     "output_type": "execute_result"
    },
    {
     "data": {
      "image/png": "[encoded data removed]",
      "text/plain": [
       "<Figure size 432x288 with 1 Axes>"
      ]
     },
     "metadata": {
      "needs_background": "light"
     },
     "output_type": "display_data"
    }
   ],
   "source": [
    "data['cityCenters_nearest'].hist(bins=50)"
   ]
  },
  {
   "cell_type": "code",
   "execution_count": 75,
   "metadata": {},
   "outputs": [
    {
     "data": {
      "image/png": "[encoded data removed]",
      "text/plain": [
       "<Figure size 432x288 with 1 Axes>"
      ]
     },
     "metadata": {
      "needs_background": "light"
     },
     "output_type": "display_data"
    },
    {
     "data": {
      "text/plain": [
       "count    17880.000000\n",
       "mean     14205.296868\n",
       "std       8628.654271\n",
       "min        181.000000\n",
       "25%       9238.000000\n",
       "50%      13101.000000\n",
       "75%      16293.000000\n",
       "max      65968.000000\n",
       "Name: cityCenters_nearest, dtype: float64"
      ]
     },
     "execution_count": 75,
     "metadata": {},
     "output_type": "execute_result"
    }
   ],
   "source": [
    "data.boxplot(['cityCenters_nearest'])\n",
    "plt.show()\n",
    "data['cityCenters_nearest'].describe()"
   ]
  },
  {
   "cell_type": "markdown",
   "metadata": {},
   "source": [
    "Среднее расстояние до центра 14,2 км. Медианное - 13,1 км. Первый квартиль - 9,2 км. Третий - 16,3 км.\n",
    "Максимальная удаленность от центра - 65,6 км. Минимальная - 181 м.\n",
    "Из гистограммы видно, что максимальное количество квартир от 11 до 18 км до центра (более 1000). Резко уменьшается количество квартир от 18 км от центра."
   ]
  },
  {
   "cell_type": "markdown",
   "metadata": {},
   "source": [
    "**Расстояние до аэропорта**"
   ]
  },
  {
   "cell_type": "code",
   "execution_count": 76,
   "metadata": {},
   "outputs": [
    {
     "data": {
      "text/plain": [
       "count    17923.000000\n",
       "mean     28818.061318\n",
       "std      12622.604955\n",
       "min          0.000000\n",
       "25%      18590.500000\n",
       "50%      26784.000000\n",
       "75%      37273.000000\n",
       "max      84869.000000\n",
       "Name: airports_nearest, dtype: float64"
      ]
     },
     "execution_count": 76,
     "metadata": {},
     "output_type": "execute_result"
    },
    {
     "data": {
      "image/png": "[encoded data removed]",
      "text/plain": [
       "<Figure size 432x288 with 1 Axes>"
      ]
     },
     "metadata": {
      "needs_background": "light"
     },
     "output_type": "display_data"
    }
   ],
   "source": [
    "data['airports_nearest'].hist(bins=50)\n",
    "data['airports_nearest'].describe()"
   ]
  },
  {
   "cell_type": "markdown",
   "metadata": {},
   "source": [
    "Самое большое количество квартир находится на расстоянии от 10 до 36 км до аэропорта (550-1100 на каждый километр). От 40 км - количество квартир заметно снижается (менее 500 квартир на каждый км.) Среднее значение - 28,8 км. Медианное 26,8 км. Максимальное расстояние - 84,9 км. "
   ]
  },
  {
   "cell_type": "code",
   "execution_count": 77,
   "metadata": {},
   "outputs": [
    {
     "data": {
      "text/plain": [
       "count    7960.000000\n",
       "mean      490.532538\n",
       "std       341.211846\n",
       "min         1.000000\n",
       "25%       288.000000\n",
       "50%       455.000000\n",
       "75%       612.000000\n",
       "max      3190.000000\n",
       "Name: parks_nearest, dtype: float64"
      ]
     },
     "execution_count": 77,
     "metadata": {},
     "output_type": "execute_result"
    },
    {
     "data": {
      "image/png": "[encoded data removed]",
      "text/plain": [
       "<Figure size 432x288 with 1 Axes>"
      ]
     },
     "metadata": {
      "needs_background": "light"
     },
     "output_type": "display_data"
    }
   ],
   "source": [
    "data['parks_nearest'].hist(bins=50)\n",
    "data['parks_nearest'].describe()"
   ]
  },
  {
   "cell_type": "markdown",
   "metadata": {},
   "source": [
    "Самое большое количество квартир находятся на расстоянии от 200 до 700 м до парка (300-900 на каждый метр). От 750 м - количество квартир заметно снижается (менее 300 квартир на каждый метр). Среднее значение - 28,8 км. Медианное 26,8 км. Максимальное расстояние - 84,9 км. "
   ]
  },
  {
   "cell_type": "markdown",
   "metadata": {},
   "source": [
    "**Год публикации объявления**"
   ]
  },
  {
   "cell_type": "code",
   "execution_count": 78,
   "metadata": {
    "scrolled": true
   },
   "outputs": [
    {
     "data": {
      "image/png": "[encoded data removed]",
      "text/plain": [
       "<Figure size 720x432 with 1 Axes>"
      ]
     },
     "metadata": {
      "needs_background": "light"
     },
     "output_type": "display_data"
    }
   ],
   "source": [
    "#построим столбиковый график, он лучше подходит для категориальных величин.\n",
    "data.pivot_table(index='year', values='total_area', aggfunc='count').plot(kind='bar', figsize=(10,6));\n",
    "plt.xlabel('year')\n",
    "plt.ylabel('number')\n",
    "plt.show()"
   ]
  },
  {
   "cell_type": "markdown",
   "metadata": {},
   "source": [
    "Здесь видно, что больше всего объявлений было в 2017-2018 годах (более 8000). Потом идут 2016 и 2019 (уже значительно меньше: 2500). Меньше всего в 2014 году. "
   ]
  },
  {
   "cell_type": "markdown",
   "metadata": {},
   "source": [
    "**День публикации объявления**"
   ]
  },
  {
   "cell_type": "code",
   "execution_count": 79,
   "metadata": {
    "scrolled": true
   },
   "outputs": [
    {
     "data": {
      "text/plain": [
       "<AxesSubplot:xlabel='weekday'>"
      ]
     },
     "execution_count": 79,
     "metadata": {},
     "output_type": "execute_result"
    },
    {
     "data": {
      "image/png": "[encoded data removed]",
      "text/plain": [
       "<Figure size 576x216 with 1 Axes>"
      ]
     },
     "metadata": {
      "needs_background": "light"
     },
     "output_type": "display_data"
    }
   ],
   "source": [
    "temp = data.groupby('weekday')['weekday'].count()\n",
    "plt.figure(figsize=(8, 3))\n",
    "temp.plot()"
   ]
  },
  {
   "cell_type": "markdown",
   "metadata": {},
   "source": [
    "Меньше всего объявлений публикуют в выходные. В субботу менее 2000. В воскресенье менее 1000. Возможно из-за того, что люди отдыхают в эти дни. Самое большое количество во вторник и четверг (более 4000 в каждый из дней)."
   ]
  },
  {
   "cell_type": "markdown",
   "metadata": {},
   "source": [
    "**Месяц публикации объявления**"
   ]
  },
  {
   "cell_type": "code",
   "execution_count": 80,
   "metadata": {},
   "outputs": [
    {
     "data": {
      "text/plain": [
       "<AxesSubplot:xlabel='month'>"
      ]
     },
     "execution_count": 80,
     "metadata": {},
     "output_type": "execute_result"
    },
    {
     "data": {
      "image/png": "[encoded data removed]",
      "text/plain": [
       "<Figure size 576x216 with 1 Axes>"
      ]
     },
     "metadata": {
      "needs_background": "light"
     },
     "output_type": "display_data"
    }
   ],
   "source": [
    "temp = data.groupby('month')['month'].count()\n",
    "plt.figure(figsize=(8, 3))\n",
    "temp.plot()"
   ]
  },
  {
   "cell_type": "markdown",
   "metadata": {},
   "source": [
    "Меньше всего объявялений с мая по август. Меннее 1700 за каждый месяц. Видимо это связано с сезонностью, летом многие уезжают отдыхать на дачу или заграницу. Минимум в мае месяце - всего около 1200 объявлений. Так же мало объявлений в декабре и январе. Это может быть связано с новогодними праздниками.  Самое большое количество объявление в феврале и ноябре - от 2200 за каждый месяц."
   ]
  },
  {
   "cell_type": "markdown",
   "metadata": {},
   "source": [
    "**Посмотрим какая зависимость общей и жилой площади**"
   ]
  },
  {
   "cell_type": "code",
   "execution_count": 81,
   "metadata": {},
   "outputs": [
    {
     "data": {
      "text/plain": [
       "Text(0, 0.5, 'living_area')"
      ]
     },
     "execution_count": 81,
     "metadata": {},
     "output_type": "execute_result"
    },
    {
     "data": {
      "image/png": "[encoded data removed]",
      "text/plain": [
       "<Figure size 432x288 with 1 Axes>"
      ]
     },
     "metadata": {
      "needs_background": "light"
     },
     "output_type": "display_data"
    }
   ],
   "source": [
    "#Если есть линейная зависимость между двумя величинами, то она хорошо просматривается по диаграмме рассеяния:\n",
    "plt.scatter(x=data['total_area'], y=data['living_area'], alpha=0.7)\n",
    "plt.xlabel('total_area')\n",
    "plt.ylabel('living_area')"
   ]
  },
  {
   "cell_type": "markdown",
   "metadata": {},
   "source": [
    "При увеличении общей площади увеличивается и жилая площадь."
   ]
  },
  {
   "cell_type": "code",
   "execution_count": 82,
   "metadata": {},
   "outputs": [
    {
     "data": {
      "text/plain": [
       "0.9159559627687386"
      ]
     },
     "execution_count": 82,
     "metadata": {},
     "output_type": "execute_result"
    }
   ],
   "source": [
    "data['total_area'].corr(data['living_area'])"
   ]
  },
  {
   "cell_type": "markdown",
   "metadata": {},
   "source": [
    "Корреляция большая."
   ]
  },
  {
   "cell_type": "markdown",
   "metadata": {},
   "source": [
    "Теперь построим какая зависимость общей площади и кухни"
   ]
  },
  {
   "cell_type": "code",
   "execution_count": 83,
   "metadata": {},
   "outputs": [
    {
     "data": {
      "text/plain": [
       "Text(0, 0.5, 'kitchen_area')"
      ]
     },
     "execution_count": 83,
     "metadata": {},
     "output_type": "execute_result"
    },
    {
     "data": {
      "image/png": "[encoded data removed]",
      "text/plain": [
       "<Figure size 432x288 with 1 Axes>"
      ]
     },
     "metadata": {
      "needs_background": "light"
     },
     "output_type": "display_data"
    }
   ],
   "source": [
    "plt.scatter(x=data['total_area'], y=data['kitchen_area'], alpha=0.7)\n",
    "plt.xlabel('total_area')\n",
    "plt.ylabel('kitchen_area')"
   ]
  },
  {
   "cell_type": "code",
   "execution_count": 84,
   "metadata": {},
   "outputs": [
    {
     "data": {
      "text/plain": [
       "0.6057872642772328"
      ]
     },
     "execution_count": 84,
     "metadata": {},
     "output_type": "execute_result"
    }
   ],
   "source": [
    "data['total_area'].corr(data['kitchen_area'])"
   ]
  },
  {
   "cell_type": "markdown",
   "metadata": {},
   "source": [
    "Здесь уже корреляция не такая большая. Но в целом видно, что в большистве квартир чем больше общая площадь, тем больше площадь кухни."
   ]
  },
  {
   "cell_type": "markdown",
   "metadata": {},
   "source": [
    "###  Как быстро продавались квартиры (столбец days_exposition)."
   ]
  },
  {
   "cell_type": "code",
   "execution_count": 85,
   "metadata": {},
   "outputs": [
    {
     "data": {
      "text/plain": [
       "Text(0, 0.5, 'number')"
      ]
     },
     "execution_count": 85,
     "metadata": {},
     "output_type": "execute_result"
    },
    {
     "data": {
      "image/png": "[encoded data removed]",
      "text/plain": [
       "<Figure size 720x360 with 1 Axes>"
      ]
     },
     "metadata": {
      "needs_background": "light"
     },
     "output_type": "display_data"
    }
   ],
   "source": [
    "#построим гистограмму\n",
    "data['days_exposition'].hist(bins=100, figsize=(10,5), range=(1,1580))\n",
    "plt.xlabel('days_exposition')\n",
    "plt.ylabel('number')"
   ]
  },
  {
   "cell_type": "markdown",
   "metadata": {},
   "source": [
    "Видно, что большее количество квартир продается до 100 дней. Особенно до 50 дней. Чем дольше 100 дней, тем меньше таких квартир. "
   ]
  },
  {
   "cell_type": "code",
   "execution_count": 86,
   "metadata": {
    "scrolled": true
   },
   "outputs": [
    {
     "data": {
      "text/plain": [
       "count    23263.000000\n",
       "mean       156.953445\n",
       "std        213.963685\n",
       "min          0.000000\n",
       "25%         22.000000\n",
       "50%         74.000000\n",
       "75%        199.000000\n",
       "max       1580.000000\n",
       "Name: days_exposition, dtype: float64"
      ]
     },
     "execution_count": 86,
     "metadata": {},
     "output_type": "execute_result"
    },
    {
     "data": {
      "image/png": "[encoded data removed]",
      "text/plain": [
       "<Figure size 720x576 with 1 Axes>"
      ]
     },
     "metadata": {
      "needs_background": "light"
     },
     "output_type": "display_data"
    }
   ],
   "source": [
    "data.boxplot(column='days_exposition', figsize=(10,8))\n",
    "data['days_exposition'].describe()"
   ]
  },
  {
   "cell_type": "markdown",
   "metadata": {},
   "source": [
    " Среднее количество дней размещения объеявлений - 157. Медианное - 74 дня. \n",
    " Первый квартиль - 22 дня. Третий - 199 дней. Максимальное количество - 1580 дней.\n",
    " Примерно около 470 дней и выше - это выбросы, значения которые находятся далеко от статистически значимой части данных."
   ]
  },
  {
   "cell_type": "code",
   "execution_count": 87,
   "metadata": {},
   "outputs": [
    {
     "data": {
      "text/html": [
       "<div>\n",
       "<style scoped>\n",
       "    .dataframe tbody tr th:only-of-type {\n",
       "        vertical-align: middle;\n",
       "    }\n",
       "\n",
       "    .dataframe tbody tr th {\n",
       "        vertical-align: top;\n",
       "    }\n",
       "\n",
       "    .dataframe thead th {\n",
       "        text-align: right;\n",
       "    }\n",
       "</style>\n",
       "<table border=\"1\" class=\"dataframe\">\n",
       "  <thead>\n",
       "    <tr style=\"text-align: right;\">\n",
       "      <th></th>\n",
       "      <th>total_images</th>\n",
       "      <th>last_price</th>\n",
       "      <th>total_area</th>\n",
       "      <th>first_day_exposition</th>\n",
       "      <th>rooms</th>\n",
       "      <th>ceiling_height</th>\n",
       "      <th>floors_total</th>\n",
       "      <th>living_area</th>\n",
       "      <th>floor</th>\n",
       "      <th>is_apartment</th>\n",
       "      <th>...</th>\n",
       "      <th>ponds_nearest</th>\n",
       "      <th>days_exposition</th>\n",
       "      <th>total_area_category</th>\n",
       "      <th>locality_type</th>\n",
       "      <th>price_1m</th>\n",
       "      <th>weekday</th>\n",
       "      <th>month</th>\n",
       "      <th>year</th>\n",
       "      <th>floor_type</th>\n",
       "      <th>km_to_city_center</th>\n",
       "    </tr>\n",
       "  </thead>\n",
       "  <tbody>\n",
       "    <tr>\n",
       "      <th>0</th>\n",
       "      <td>20</td>\n",
       "      <td>13000000</td>\n",
       "      <td>108.00</td>\n",
       "      <td>2019-03-07</td>\n",
       "      <td>3</td>\n",
       "      <td>2.70</td>\n",
       "      <td>16</td>\n",
       "      <td>51.0</td>\n",
       "      <td>8</td>\n",
       "      <td>False</td>\n",
       "      <td>...</td>\n",
       "      <td>755.0</td>\n",
       "      <td>0</td>\n",
       "      <td>большая</td>\n",
       "      <td>Санкт-Петербург</td>\n",
       "      <td>120370</td>\n",
       "      <td>3</td>\n",
       "      <td>3</td>\n",
       "      <td>2019</td>\n",
       "      <td>другой</td>\n",
       "      <td>16</td>\n",
       "    </tr>\n",
       "    <tr>\n",
       "      <th>7</th>\n",
       "      <td>5</td>\n",
       "      <td>7915000</td>\n",
       "      <td>71.60</td>\n",
       "      <td>2019-04-18</td>\n",
       "      <td>2</td>\n",
       "      <td>2.65</td>\n",
       "      <td>24</td>\n",
       "      <td>39.5</td>\n",
       "      <td>22</td>\n",
       "      <td>False</td>\n",
       "      <td>...</td>\n",
       "      <td>NaN</td>\n",
       "      <td>0</td>\n",
       "      <td>средняя</td>\n",
       "      <td>Санкт-Петербург</td>\n",
       "      <td>110544</td>\n",
       "      <td>3</td>\n",
       "      <td>4</td>\n",
       "      <td>2019</td>\n",
       "      <td>другой</td>\n",
       "      <td>11</td>\n",
       "    </tr>\n",
       "    <tr>\n",
       "      <th>44</th>\n",
       "      <td>13</td>\n",
       "      <td>5350000</td>\n",
       "      <td>40.00</td>\n",
       "      <td>2018-11-18</td>\n",
       "      <td>1</td>\n",
       "      <td>2.65</td>\n",
       "      <td>22</td>\n",
       "      <td>18.4</td>\n",
       "      <td>3</td>\n",
       "      <td>False</td>\n",
       "      <td>...</td>\n",
       "      <td>1152.0</td>\n",
       "      <td>0</td>\n",
       "      <td>малая</td>\n",
       "      <td>Санкт-Петербург</td>\n",
       "      <td>133750</td>\n",
       "      <td>6</td>\n",
       "      <td>11</td>\n",
       "      <td>2018</td>\n",
       "      <td>другой</td>\n",
       "      <td>11</td>\n",
       "    </tr>\n",
       "    <tr>\n",
       "      <th>45</th>\n",
       "      <td>17</td>\n",
       "      <td>5200000</td>\n",
       "      <td>50.60</td>\n",
       "      <td>2018-12-02</td>\n",
       "      <td>2</td>\n",
       "      <td>2.65</td>\n",
       "      <td>9</td>\n",
       "      <td>30.3</td>\n",
       "      <td>7</td>\n",
       "      <td>False</td>\n",
       "      <td>...</td>\n",
       "      <td>NaN</td>\n",
       "      <td>0</td>\n",
       "      <td>средняя</td>\n",
       "      <td>Санкт-Петербург</td>\n",
       "      <td>102766</td>\n",
       "      <td>6</td>\n",
       "      <td>12</td>\n",
       "      <td>2018</td>\n",
       "      <td>другой</td>\n",
       "      <td>12</td>\n",
       "    </tr>\n",
       "    <tr>\n",
       "      <th>46</th>\n",
       "      <td>17</td>\n",
       "      <td>6600000</td>\n",
       "      <td>52.10</td>\n",
       "      <td>2019-01-31</td>\n",
       "      <td>2</td>\n",
       "      <td>2.60</td>\n",
       "      <td>24</td>\n",
       "      <td>29.7</td>\n",
       "      <td>9</td>\n",
       "      <td>False</td>\n",
       "      <td>...</td>\n",
       "      <td>NaN</td>\n",
       "      <td>0</td>\n",
       "      <td>средняя</td>\n",
       "      <td>Санкт-Петербург</td>\n",
       "      <td>126679</td>\n",
       "      <td>3</td>\n",
       "      <td>1</td>\n",
       "      <td>2019</td>\n",
       "      <td>другой</td>\n",
       "      <td>12</td>\n",
       "    </tr>\n",
       "    <tr>\n",
       "      <th>...</th>\n",
       "      <td>...</td>\n",
       "      <td>...</td>\n",
       "      <td>...</td>\n",
       "      <td>...</td>\n",
       "      <td>...</td>\n",
       "      <td>...</td>\n",
       "      <td>...</td>\n",
       "      <td>...</td>\n",
       "      <td>...</td>\n",
       "      <td>...</td>\n",
       "      <td>...</td>\n",
       "      <td>...</td>\n",
       "      <td>...</td>\n",
       "      <td>...</td>\n",
       "      <td>...</td>\n",
       "      <td>...</td>\n",
       "      <td>...</td>\n",
       "      <td>...</td>\n",
       "      <td>...</td>\n",
       "      <td>...</td>\n",
       "      <td>...</td>\n",
       "    </tr>\n",
       "    <tr>\n",
       "      <th>23635</th>\n",
       "      <td>20</td>\n",
       "      <td>21400000</td>\n",
       "      <td>145.00</td>\n",
       "      <td>2018-11-02</td>\n",
       "      <td>4</td>\n",
       "      <td>3.00</td>\n",
       "      <td>26</td>\n",
       "      <td>71.4</td>\n",
       "      <td>17</td>\n",
       "      <td>False</td>\n",
       "      <td>...</td>\n",
       "      <td>NaN</td>\n",
       "      <td>0</td>\n",
       "      <td>большая</td>\n",
       "      <td>Санкт-Петербург</td>\n",
       "      <td>147586</td>\n",
       "      <td>4</td>\n",
       "      <td>11</td>\n",
       "      <td>2018</td>\n",
       "      <td>другой</td>\n",
       "      <td>11</td>\n",
       "    </tr>\n",
       "    <tr>\n",
       "      <th>23636</th>\n",
       "      <td>15</td>\n",
       "      <td>2490000</td>\n",
       "      <td>31.00</td>\n",
       "      <td>2019-01-24</td>\n",
       "      <td>1</td>\n",
       "      <td>2.50</td>\n",
       "      <td>5</td>\n",
       "      <td>17.3</td>\n",
       "      <td>5</td>\n",
       "      <td>False</td>\n",
       "      <td>...</td>\n",
       "      <td>NaN</td>\n",
       "      <td>0</td>\n",
       "      <td>малая</td>\n",
       "      <td>прочее</td>\n",
       "      <td>80322</td>\n",
       "      <td>3</td>\n",
       "      <td>1</td>\n",
       "      <td>2019</td>\n",
       "      <td>последний</td>\n",
       "      <td>51</td>\n",
       "    </tr>\n",
       "    <tr>\n",
       "      <th>23645</th>\n",
       "      <td>9</td>\n",
       "      <td>9700000</td>\n",
       "      <td>133.81</td>\n",
       "      <td>2017-03-21</td>\n",
       "      <td>3</td>\n",
       "      <td>3.70</td>\n",
       "      <td>5</td>\n",
       "      <td>73.3</td>\n",
       "      <td>3</td>\n",
       "      <td>False</td>\n",
       "      <td>...</td>\n",
       "      <td>381.0</td>\n",
       "      <td>0</td>\n",
       "      <td>большая</td>\n",
       "      <td>Санкт-Петербург</td>\n",
       "      <td>72490</td>\n",
       "      <td>1</td>\n",
       "      <td>3</td>\n",
       "      <td>2017</td>\n",
       "      <td>другой</td>\n",
       "      <td>4</td>\n",
       "    </tr>\n",
       "    <tr>\n",
       "      <th>23647</th>\n",
       "      <td>18</td>\n",
       "      <td>2500000</td>\n",
       "      <td>56.70</td>\n",
       "      <td>2018-02-11</td>\n",
       "      <td>2</td>\n",
       "      <td>2.65</td>\n",
       "      <td>3</td>\n",
       "      <td>29.7</td>\n",
       "      <td>1</td>\n",
       "      <td>False</td>\n",
       "      <td>...</td>\n",
       "      <td>NaN</td>\n",
       "      <td>0</td>\n",
       "      <td>средняя</td>\n",
       "      <td>село</td>\n",
       "      <td>44091</td>\n",
       "      <td>6</td>\n",
       "      <td>2</td>\n",
       "      <td>2018</td>\n",
       "      <td>первый</td>\n",
       "      <td>0</td>\n",
       "    </tr>\n",
       "    <tr>\n",
       "      <th>23649</th>\n",
       "      <td>4</td>\n",
       "      <td>1350000</td>\n",
       "      <td>32.30</td>\n",
       "      <td>2017-07-21</td>\n",
       "      <td>1</td>\n",
       "      <td>2.50</td>\n",
       "      <td>5</td>\n",
       "      <td>12.3</td>\n",
       "      <td>1</td>\n",
       "      <td>False</td>\n",
       "      <td>...</td>\n",
       "      <td>NaN</td>\n",
       "      <td>0</td>\n",
       "      <td>малая</td>\n",
       "      <td>поселок</td>\n",
       "      <td>41795</td>\n",
       "      <td>4</td>\n",
       "      <td>7</td>\n",
       "      <td>2017</td>\n",
       "      <td>первый</td>\n",
       "      <td>0</td>\n",
       "    </tr>\n",
       "  </tbody>\n",
       "</table>\n",
       "<p>3144 rows × 31 columns</p>\n",
       "</div>"
      ],
      "text/plain": [
       "       total_images  last_price  total_area first_day_exposition  rooms  \\\n",
       "0                20    13000000      108.00           2019-03-07      3   \n",
       "7                 5     7915000       71.60           2019-04-18      2   \n",
       "44               13     5350000       40.00           2018-11-18      1   \n",
       "45               17     5200000       50.60           2018-12-02      2   \n",
       "46               17     6600000       52.10           2019-01-31      2   \n",
       "...             ...         ...         ...                  ...    ...   \n",
       "23635            20    21400000      145.00           2018-11-02      4   \n",
       "23636            15     2490000       31.00           2019-01-24      1   \n",
       "23645             9     9700000      133.81           2017-03-21      3   \n",
       "23647            18     2500000       56.70           2018-02-11      2   \n",
       "23649             4     1350000       32.30           2017-07-21      1   \n",
       "\n",
       "       ceiling_height  floors_total  living_area  floor  is_apartment  ...  \\\n",
       "0                2.70            16         51.0      8         False  ...   \n",
       "7                2.65            24         39.5     22         False  ...   \n",
       "44               2.65            22         18.4      3         False  ...   \n",
       "45               2.65             9         30.3      7         False  ...   \n",
       "46               2.60            24         29.7      9         False  ...   \n",
       "...               ...           ...          ...    ...           ...  ...   \n",
       "23635            3.00            26         71.4     17         False  ...   \n",
       "23636            2.50             5         17.3      5         False  ...   \n",
       "23645            3.70             5         73.3      3         False  ...   \n",
       "23647            2.65             3         29.7      1         False  ...   \n",
       "23649            2.50             5         12.3      1         False  ...   \n",
       "\n",
       "       ponds_nearest  days_exposition  total_area_category    locality_type  \\\n",
       "0              755.0                0              большая  Санкт-Петербург   \n",
       "7                NaN                0              средняя  Санкт-Петербург   \n",
       "44            1152.0                0                малая  Санкт-Петербург   \n",
       "45               NaN                0              средняя  Санкт-Петербург   \n",
       "46               NaN                0              средняя  Санкт-Петербург   \n",
       "...              ...              ...                  ...              ...   \n",
       "23635            NaN                0              большая  Санкт-Петербург   \n",
       "23636            NaN                0                малая           прочее   \n",
       "23645          381.0                0              большая  Санкт-Петербург   \n",
       "23647            NaN                0              средняя             село   \n",
       "23649            NaN                0                малая          поселок   \n",
       "\n",
       "      price_1m weekday  month  year  floor_type  km_to_city_center  \n",
       "0       120370       3      3  2019      другой                 16  \n",
       "7       110544       3      4  2019      другой                 11  \n",
       "44      133750       6     11  2018      другой                 11  \n",
       "45      102766       6     12  2018      другой                 12  \n",
       "46      126679       3      1  2019      другой                 12  \n",
       "...        ...     ...    ...   ...         ...                ...  \n",
       "23635   147586       4     11  2018      другой                 11  \n",
       "23636    80322       3      1  2019   последний                 51  \n",
       "23645    72490       1      3  2017      другой                  4  \n",
       "23647    44091       6      2  2018      первый                  0  \n",
       "23649    41795       4      7  2017      первый                  0  \n",
       "\n",
       "[3144 rows x 31 columns]"
      ]
     },
     "execution_count": 87,
     "metadata": {},
     "output_type": "execute_result"
    }
   ],
   "source": [
    "#посмотрим сколько квартир не продано\n",
    "data.query('days_exposition == 0')"
   ]
  },
  {
   "cell_type": "markdown",
   "metadata": {},
   "source": [
    "Если days_exposition = 0 - значит квартира еще не продана. Таких 3144 квартир."
   ]
  },
  {
   "cell_type": "code",
   "execution_count": 88,
   "metadata": {},
   "outputs": [
    {
     "data": {
      "text/plain": [
       "Text(0, 0.5, 'number')"
      ]
     },
     "execution_count": 88,
     "metadata": {},
     "output_type": "execute_result"
    },
    {
     "data": {
      "image/png": "[encoded data removed]",
      "text/plain": [
       "<Figure size 720x360 with 1 Axes>"
      ]
     },
     "metadata": {
      "needs_background": "light"
     },
     "output_type": "display_data"
    }
   ],
   "source": [
    "#построим гистограмму еще раз уже без выбросов\n",
    "data['days_exposition'].hist(bins=100, figsize=(10,5), range=(1,500))\n",
    "plt.xlabel('days_exposition')\n",
    "plt.ylabel('number')"
   ]
  },
  {
   "cell_type": "markdown",
   "metadata": {},
   "source": [
    "Исходя из графиков можно предположить, что быстрые продажи - это до 80 дней. А необычно долгие это более 150-200 дней.\n",
    "\n",
    "Переходим к следующему шагу: Определим какие факторы влияют на стоимость квартиры."
   ]
  },
  {
   "cell_type": "markdown",
   "metadata": {},
   "source": [
    "### Какие факторы больше всего влияют на общую (полную) стоимость объекта?"
   ]
  },
  {
   "cell_type": "markdown",
   "metadata": {},
   "source": [
    "**Зависимость общей площади, жилой площади, кухни и стоимости объектов недвижимости**"
   ]
  },
  {
   "cell_type": "markdown",
   "metadata": {},
   "source": [
    "Возьмем квартиры, стоимость которых менее 200 млн р для наглядности. Квартир дороже 200 млн р. совсем немного."
   ]
  },
  {
   "cell_type": "code",
   "execution_count": 89,
   "metadata": {},
   "outputs": [
    {
     "data": {
      "text/html": [
       "<div>\n",
       "<style scoped>\n",
       "    .dataframe tbody tr th:only-of-type {\n",
       "        vertical-align: middle;\n",
       "    }\n",
       "\n",
       "    .dataframe tbody tr th {\n",
       "        vertical-align: top;\n",
       "    }\n",
       "\n",
       "    .dataframe thead th {\n",
       "        text-align: right;\n",
       "    }\n",
       "</style>\n",
       "<table border=\"1\" class=\"dataframe\">\n",
       "  <thead>\n",
       "    <tr style=\"text-align: right;\">\n",
       "      <th></th>\n",
       "      <th>total_images</th>\n",
       "      <th>last_price</th>\n",
       "      <th>total_area</th>\n",
       "      <th>first_day_exposition</th>\n",
       "      <th>rooms</th>\n",
       "      <th>ceiling_height</th>\n",
       "      <th>floors_total</th>\n",
       "      <th>living_area</th>\n",
       "      <th>floor</th>\n",
       "      <th>is_apartment</th>\n",
       "      <th>...</th>\n",
       "      <th>ponds_nearest</th>\n",
       "      <th>days_exposition</th>\n",
       "      <th>total_area_category</th>\n",
       "      <th>locality_type</th>\n",
       "      <th>price_1m</th>\n",
       "      <th>weekday</th>\n",
       "      <th>month</th>\n",
       "      <th>year</th>\n",
       "      <th>floor_type</th>\n",
       "      <th>km_to_city_center</th>\n",
       "    </tr>\n",
       "  </thead>\n",
       "  <tbody>\n",
       "    <tr>\n",
       "      <th>1435</th>\n",
       "      <td>19</td>\n",
       "      <td>330000000</td>\n",
       "      <td>190.0</td>\n",
       "      <td>2018-04-04</td>\n",
       "      <td>3</td>\n",
       "      <td>3.50</td>\n",
       "      <td>7</td>\n",
       "      <td>95.0</td>\n",
       "      <td>5</td>\n",
       "      <td>False</td>\n",
       "      <td>...</td>\n",
       "      <td>285.0</td>\n",
       "      <td>233</td>\n",
       "      <td>большая</td>\n",
       "      <td>Санкт-Петербург</td>\n",
       "      <td>1736842</td>\n",
       "      <td>2</td>\n",
       "      <td>4</td>\n",
       "      <td>2018</td>\n",
       "      <td>другой</td>\n",
       "      <td>1</td>\n",
       "    </tr>\n",
       "    <tr>\n",
       "      <th>5883</th>\n",
       "      <td>3</td>\n",
       "      <td>230000000</td>\n",
       "      <td>500.0</td>\n",
       "      <td>2017-05-31</td>\n",
       "      <td>6</td>\n",
       "      <td>2.65</td>\n",
       "      <td>7</td>\n",
       "      <td>75.2</td>\n",
       "      <td>7</td>\n",
       "      <td>False</td>\n",
       "      <td>...</td>\n",
       "      <td>198.0</td>\n",
       "      <td>50</td>\n",
       "      <td>большая</td>\n",
       "      <td>Санкт-Петербург</td>\n",
       "      <td>460000</td>\n",
       "      <td>2</td>\n",
       "      <td>5</td>\n",
       "      <td>2017</td>\n",
       "      <td>последний</td>\n",
       "      <td>5</td>\n",
       "    </tr>\n",
       "    <tr>\n",
       "      <th>12950</th>\n",
       "      <td>19</td>\n",
       "      <td>763000000</td>\n",
       "      <td>400.0</td>\n",
       "      <td>2017-09-30</td>\n",
       "      <td>7</td>\n",
       "      <td>2.65</td>\n",
       "      <td>10</td>\n",
       "      <td>250.0</td>\n",
       "      <td>10</td>\n",
       "      <td>False</td>\n",
       "      <td>...</td>\n",
       "      <td>756.0</td>\n",
       "      <td>33</td>\n",
       "      <td>большая</td>\n",
       "      <td>Санкт-Петербург</td>\n",
       "      <td>1907500</td>\n",
       "      <td>5</td>\n",
       "      <td>9</td>\n",
       "      <td>2017</td>\n",
       "      <td>последний</td>\n",
       "      <td>3</td>\n",
       "    </tr>\n",
       "    <tr>\n",
       "      <th>13726</th>\n",
       "      <td>7</td>\n",
       "      <td>240000000</td>\n",
       "      <td>410.0</td>\n",
       "      <td>2017-04-01</td>\n",
       "      <td>6</td>\n",
       "      <td>3.40</td>\n",
       "      <td>7</td>\n",
       "      <td>218.0</td>\n",
       "      <td>7</td>\n",
       "      <td>False</td>\n",
       "      <td>...</td>\n",
       "      <td>198.0</td>\n",
       "      <td>199</td>\n",
       "      <td>большая</td>\n",
       "      <td>Санкт-Петербург</td>\n",
       "      <td>585365</td>\n",
       "      <td>5</td>\n",
       "      <td>4</td>\n",
       "      <td>2017</td>\n",
       "      <td>последний</td>\n",
       "      <td>5</td>\n",
       "    </tr>\n",
       "    <tr>\n",
       "      <th>14681</th>\n",
       "      <td>15</td>\n",
       "      <td>401300000</td>\n",
       "      <td>401.0</td>\n",
       "      <td>2016-02-20</td>\n",
       "      <td>5</td>\n",
       "      <td>2.65</td>\n",
       "      <td>9</td>\n",
       "      <td>204.0</td>\n",
       "      <td>9</td>\n",
       "      <td>False</td>\n",
       "      <td>...</td>\n",
       "      <td>478.0</td>\n",
       "      <td>393</td>\n",
       "      <td>большая</td>\n",
       "      <td>Санкт-Петербург</td>\n",
       "      <td>1000748</td>\n",
       "      <td>5</td>\n",
       "      <td>2</td>\n",
       "      <td>2016</td>\n",
       "      <td>последний</td>\n",
       "      <td>2</td>\n",
       "    </tr>\n",
       "    <tr>\n",
       "      <th>15626</th>\n",
       "      <td>20</td>\n",
       "      <td>300000000</td>\n",
       "      <td>618.0</td>\n",
       "      <td>2017-12-18</td>\n",
       "      <td>7</td>\n",
       "      <td>3.40</td>\n",
       "      <td>7</td>\n",
       "      <td>258.0</td>\n",
       "      <td>5</td>\n",
       "      <td>False</td>\n",
       "      <td>...</td>\n",
       "      <td>198.0</td>\n",
       "      <td>111</td>\n",
       "      <td>большая</td>\n",
       "      <td>Санкт-Петербург</td>\n",
       "      <td>485436</td>\n",
       "      <td>0</td>\n",
       "      <td>12</td>\n",
       "      <td>2017</td>\n",
       "      <td>другой</td>\n",
       "      <td>5</td>\n",
       "    </tr>\n",
       "    <tr>\n",
       "      <th>16434</th>\n",
       "      <td>17</td>\n",
       "      <td>245000000</td>\n",
       "      <td>285.7</td>\n",
       "      <td>2017-04-10</td>\n",
       "      <td>6</td>\n",
       "      <td>3.35</td>\n",
       "      <td>7</td>\n",
       "      <td>182.8</td>\n",
       "      <td>4</td>\n",
       "      <td>False</td>\n",
       "      <td>...</td>\n",
       "      <td>140.0</td>\n",
       "      <td>249</td>\n",
       "      <td>большая</td>\n",
       "      <td>Санкт-Петербург</td>\n",
       "      <td>857542</td>\n",
       "      <td>0</td>\n",
       "      <td>4</td>\n",
       "      <td>2017</td>\n",
       "      <td>другой</td>\n",
       "      <td>6</td>\n",
       "    </tr>\n",
       "    <tr>\n",
       "      <th>19505</th>\n",
       "      <td>8</td>\n",
       "      <td>420000000</td>\n",
       "      <td>900.0</td>\n",
       "      <td>2017-12-06</td>\n",
       "      <td>12</td>\n",
       "      <td>2.80</td>\n",
       "      <td>25</td>\n",
       "      <td>409.7</td>\n",
       "      <td>25</td>\n",
       "      <td>False</td>\n",
       "      <td>...</td>\n",
       "      <td>318.0</td>\n",
       "      <td>106</td>\n",
       "      <td>большая</td>\n",
       "      <td>Санкт-Петербург</td>\n",
       "      <td>466666</td>\n",
       "      <td>2</td>\n",
       "      <td>12</td>\n",
       "      <td>2017</td>\n",
       "      <td>последний</td>\n",
       "      <td>7</td>\n",
       "    </tr>\n",
       "    <tr>\n",
       "      <th>22784</th>\n",
       "      <td>18</td>\n",
       "      <td>289238400</td>\n",
       "      <td>187.5</td>\n",
       "      <td>2019-03-19</td>\n",
       "      <td>2</td>\n",
       "      <td>3.37</td>\n",
       "      <td>6</td>\n",
       "      <td>63.7</td>\n",
       "      <td>6</td>\n",
       "      <td>False</td>\n",
       "      <td>...</td>\n",
       "      <td>188.0</td>\n",
       "      <td>0</td>\n",
       "      <td>большая</td>\n",
       "      <td>Санкт-Петербург</td>\n",
       "      <td>1542604</td>\n",
       "      <td>1</td>\n",
       "      <td>3</td>\n",
       "      <td>2019</td>\n",
       "      <td>последний</td>\n",
       "      <td>1</td>\n",
       "    </tr>\n",
       "  </tbody>\n",
       "</table>\n",
       "<p>9 rows × 31 columns</p>\n",
       "</div>"
      ],
      "text/plain": [
       "       total_images  last_price  total_area first_day_exposition  rooms  \\\n",
       "1435             19   330000000       190.0           2018-04-04      3   \n",
       "5883              3   230000000       500.0           2017-05-31      6   \n",
       "12950            19   763000000       400.0           2017-09-30      7   \n",
       "13726             7   240000000       410.0           2017-04-01      6   \n",
       "14681            15   401300000       401.0           2016-02-20      5   \n",
       "15626            20   300000000       618.0           2017-12-18      7   \n",
       "16434            17   245000000       285.7           2017-04-10      6   \n",
       "19505             8   420000000       900.0           2017-12-06     12   \n",
       "22784            18   289238400       187.5           2019-03-19      2   \n",
       "\n",
       "       ceiling_height  floors_total  living_area  floor  is_apartment  ...  \\\n",
       "1435             3.50             7         95.0      5         False  ...   \n",
       "5883             2.65             7         75.2      7         False  ...   \n",
       "12950            2.65            10        250.0     10         False  ...   \n",
       "13726            3.40             7        218.0      7         False  ...   \n",
       "14681            2.65             9        204.0      9         False  ...   \n",
       "15626            3.40             7        258.0      5         False  ...   \n",
       "16434            3.35             7        182.8      4         False  ...   \n",
       "19505            2.80            25        409.7     25         False  ...   \n",
       "22784            3.37             6         63.7      6         False  ...   \n",
       "\n",
       "       ponds_nearest  days_exposition  total_area_category    locality_type  \\\n",
       "1435           285.0              233              большая  Санкт-Петербург   \n",
       "5883           198.0               50              большая  Санкт-Петербург   \n",
       "12950          756.0               33              большая  Санкт-Петербург   \n",
       "13726          198.0              199              большая  Санкт-Петербург   \n",
       "14681          478.0              393              большая  Санкт-Петербург   \n",
       "15626          198.0              111              большая  Санкт-Петербург   \n",
       "16434          140.0              249              большая  Санкт-Петербург   \n",
       "19505          318.0              106              большая  Санкт-Петербург   \n",
       "22784          188.0                0              большая  Санкт-Петербург   \n",
       "\n",
       "      price_1m weekday  month  year  floor_type  km_to_city_center  \n",
       "1435   1736842       2      4  2018      другой                  1  \n",
       "5883    460000       2      5  2017   последний                  5  \n",
       "12950  1907500       5      9  2017   последний                  3  \n",
       "13726   585365       5      4  2017   последний                  5  \n",
       "14681  1000748       5      2  2016   последний                  2  \n",
       "15626   485436       0     12  2017      другой                  5  \n",
       "16434   857542       0      4  2017      другой                  6  \n",
       "19505   466666       2     12  2017   последний                  7  \n",
       "22784  1542604       1      3  2019   последний                  1  \n",
       "\n",
       "[9 rows x 31 columns]"
      ]
     },
     "execution_count": 89,
     "metadata": {},
     "output_type": "execute_result"
    }
   ],
   "source": [
    "data.query('last_price > 200000000')"
   ]
  },
  {
   "cell_type": "code",
   "execution_count": 90,
   "metadata": {},
   "outputs": [
    {
     "data": {
      "image/png": "[encoded data removed]",
      "text/plain": [
       "<Figure size 360x360 with 1 Axes>"
      ]
     },
     "metadata": {
      "needs_background": "light"
     },
     "output_type": "display_data"
    },
    {
     "data": {
      "image/png": "[encoded data removed]",
      "text/plain": [
       "<Figure size 360x360 with 1 Axes>"
      ]
     },
     "metadata": {
      "needs_background": "light"
     },
     "output_type": "display_data"
    },
    {
     "data": {
      "image/png": "[encoded data removed]",
      "text/plain": [
       "<Figure size 360x360 with 1 Axes>"
      ]
     },
     "metadata": {
      "needs_background": "light"
     },
     "output_type": "display_data"
    }
   ],
   "source": [
    "#построим диаграммы рассеивания сразу для 3х столбцов с помощью цикла\n",
    "price_less2 = data.query('last_price < 200000000')\n",
    "price_area = price_less2.pivot_table(index='last_price', values=(['total_area', 'living_area', 'kitchen_area']), aggfunc='median').reset_index()\n",
    "for row in ['total_area', 'living_area', 'kitchen_area']:\n",
    "    sns.relplot(data=price_area, x=row, y='last_price', kind='scatter')\n",
    "   "
   ]
  },
  {
   "cell_type": "code",
   "execution_count": 91,
   "metadata": {},
   "outputs": [
    {
     "data": {
      "text/plain": [
       "0.6538604605146484"
      ]
     },
     "execution_count": 91,
     "metadata": {},
     "output_type": "execute_result"
    }
   ],
   "source": [
    "data['last_price'].corr(data['total_area'])"
   ]
  },
  {
   "cell_type": "code",
   "execution_count": 92,
   "metadata": {},
   "outputs": [
    {
     "data": {
      "text/plain": [
       "0.5607812428333907"
      ]
     },
     "execution_count": 92,
     "metadata": {},
     "output_type": "execute_result"
    }
   ],
   "source": [
    "data['last_price'].corr(data['living_area'])"
   ]
  },
  {
   "cell_type": "code",
   "execution_count": 93,
   "metadata": {},
   "outputs": [
    {
     "data": {
      "text/plain": [
       "0.4655891606749222"
      ]
     },
     "execution_count": 93,
     "metadata": {},
     "output_type": "execute_result"
    }
   ],
   "source": [
    "data['last_price'].corr(data['kitchen_area'])"
   ]
  },
  {
   "cell_type": "markdown",
   "metadata": {},
   "source": [
    "**Зависимость цены от количества комнат**"
   ]
  },
  {
   "cell_type": "code",
   "execution_count": 94,
   "metadata": {},
   "outputs": [
    {
     "data": {
      "text/plain": [
       "<AxesSubplot:xlabel='rooms'>"
      ]
     },
     "execution_count": 94,
     "metadata": {},
     "output_type": "execute_result"
    },
    {
     "data": {
      "image/png": "[encoded data removed]",
      "text/plain": [
       "<Figure size 432x288 with 1 Axes>"
      ]
     },
     "metadata": {
      "needs_background": "light"
     },
     "output_type": "display_data"
    }
   ],
   "source": [
    "(data.pivot_table(index='rooms',values='last_price',aggfunc='median')\n",
    " .plot(y='last_price', style='o-', grid=True)\n",
    ")"
   ]
  },
  {
   "cell_type": "markdown",
   "metadata": {},
   "source": [
    "Здесь видна зависимость. Чем больше количество комнат, ты выше цена. Но явно выбивается квартира с 12 комнатами. Посмотрим, что это за объект. "
   ]
  },
  {
   "cell_type": "code",
   "execution_count": 95,
   "metadata": {
    "scrolled": true
   },
   "outputs": [
    {
     "data": {
      "text/html": [
       "<div>\n",
       "<style scoped>\n",
       "    .dataframe tbody tr th:only-of-type {\n",
       "        vertical-align: middle;\n",
       "    }\n",
       "\n",
       "    .dataframe tbody tr th {\n",
       "        vertical-align: top;\n",
       "    }\n",
       "\n",
       "    .dataframe thead th {\n",
       "        text-align: right;\n",
       "    }\n",
       "</style>\n",
       "<table border=\"1\" class=\"dataframe\">\n",
       "  <thead>\n",
       "    <tr style=\"text-align: right;\">\n",
       "      <th></th>\n",
       "      <th>total_images</th>\n",
       "      <th>last_price</th>\n",
       "      <th>total_area</th>\n",
       "      <th>first_day_exposition</th>\n",
       "      <th>rooms</th>\n",
       "      <th>ceiling_height</th>\n",
       "      <th>floors_total</th>\n",
       "      <th>living_area</th>\n",
       "      <th>floor</th>\n",
       "      <th>is_apartment</th>\n",
       "      <th>...</th>\n",
       "      <th>ponds_nearest</th>\n",
       "      <th>days_exposition</th>\n",
       "      <th>total_area_category</th>\n",
       "      <th>locality_type</th>\n",
       "      <th>price_1m</th>\n",
       "      <th>weekday</th>\n",
       "      <th>month</th>\n",
       "      <th>year</th>\n",
       "      <th>floor_type</th>\n",
       "      <th>km_to_city_center</th>\n",
       "    </tr>\n",
       "  </thead>\n",
       "  <tbody>\n",
       "    <tr>\n",
       "      <th>19505</th>\n",
       "      <td>8</td>\n",
       "      <td>420000000</td>\n",
       "      <td>900.0</td>\n",
       "      <td>2017-12-06</td>\n",
       "      <td>12</td>\n",
       "      <td>2.8</td>\n",
       "      <td>25</td>\n",
       "      <td>409.7</td>\n",
       "      <td>25</td>\n",
       "      <td>False</td>\n",
       "      <td>...</td>\n",
       "      <td>318.0</td>\n",
       "      <td>106</td>\n",
       "      <td>большая</td>\n",
       "      <td>Санкт-Петербург</td>\n",
       "      <td>466666</td>\n",
       "      <td>2</td>\n",
       "      <td>12</td>\n",
       "      <td>2017</td>\n",
       "      <td>последний</td>\n",
       "      <td>7</td>\n",
       "    </tr>\n",
       "  </tbody>\n",
       "</table>\n",
       "<p>1 rows × 31 columns</p>\n",
       "</div>"
      ],
      "text/plain": [
       "       total_images  last_price  total_area first_day_exposition  rooms  \\\n",
       "19505             8   420000000       900.0           2017-12-06     12   \n",
       "\n",
       "       ceiling_height  floors_total  living_area  floor  is_apartment  ...  \\\n",
       "19505             2.8            25        409.7     25         False  ...   \n",
       "\n",
       "       ponds_nearest  days_exposition  total_area_category    locality_type  \\\n",
       "19505          318.0              106              большая  Санкт-Петербург   \n",
       "\n",
       "      price_1m weekday  month  year  floor_type  km_to_city_center  \n",
       "19505   466666       2     12  2017   последний                  7  \n",
       "\n",
       "[1 rows x 31 columns]"
      ]
     },
     "execution_count": 95,
     "metadata": {},
     "output_type": "execute_result"
    }
   ],
   "source": [
    "data.query('rooms == 12')"
   ]
  },
  {
   "cell_type": "markdown",
   "metadata": {},
   "source": [
    "построим линейный график еще раз, только возьмем количество комнат до 12"
   ]
  },
  {
   "cell_type": "code",
   "execution_count": 96,
   "metadata": {},
   "outputs": [
    {
     "data": {
      "text/plain": [
       "0.3624487151726607"
      ]
     },
     "execution_count": 96,
     "metadata": {},
     "output_type": "execute_result"
    },
    {
     "data": {
      "image/png": "[encoded data removed]",
      "text/plain": [
       "<Figure size 432x288 with 1 Axes>"
      ]
     },
     "metadata": {
      "needs_background": "light"
     },
     "output_type": "display_data"
    }
   ],
   "source": [
    "rooms11 = data.query('rooms < 12')\n",
    "(rooms11.pivot_table(index='rooms', values='last_price',aggfunc='median')\n",
    " .plot(y='last_price', style='o-', grid=True)\n",
    ")\n",
    "data['last_price'].corr(data['rooms'])"
   ]
  },
  {
   "cell_type": "markdown",
   "metadata": {},
   "source": [
    "Из графика видно, что зависимость между количеством комнат и ценой квартиры есть, особенно до 7 комнат. Корреляция небольшая, всего 0,362."
   ]
  },
  {
   "cell_type": "code",
   "execution_count": 97,
   "metadata": {},
   "outputs": [
    {
     "data": {
      "text/plain": [
       "<AxesSubplot:xlabel='floor_type'>"
      ]
     },
     "execution_count": 97,
     "metadata": {},
     "output_type": "execute_result"
    },
    {
     "data": {
      "image/png": "[encoded data removed]",
      "text/plain": [
       "<Figure size 432x288 with 1 Axes>"
      ]
     },
     "metadata": {
      "needs_background": "light"
     },
     "output_type": "display_data"
    }
   ],
   "source": [
    "data.pivot_table(index='floor_type', values='price_1m', aggfunc='median').plot(style='o-')"
   ]
  },
  {
   "cell_type": "markdown",
   "metadata": {},
   "source": [
    "Стоимость 1 кв.м квартир на первом этаже самая низкая, медианная - ниже 82500р, а на последнем - 87500р. Медианная стоимость 1 кв.м на других этажах 97500р."
   ]
  },
  {
   "cell_type": "markdown",
   "metadata": {},
   "source": [
    " **Зависимость цены от даты рамещения(день недели, месяц, год) \n",
    " возьмем стоимость 1 кв.м**"
   ]
  },
  {
   "cell_type": "code",
   "execution_count": 98,
   "metadata": {
    "scrolled": true
   },
   "outputs": [
    {
     "data": {
      "text/plain": [
       "-0.042155730854134994"
      ]
     },
     "execution_count": 98,
     "metadata": {},
     "output_type": "execute_result"
    },
    {
     "data": {
      "image/png": "[encoded data removed]",
      "text/plain": [
       "<Figure size 432x288 with 1 Axes>"
      ]
     },
     "metadata": {
      "needs_background": "light"
     },
     "output_type": "display_data"
    }
   ],
   "source": [
    "data.pivot_table(index='year', values='price_1m', aggfunc='median').plot(style='o-')\n",
    "data['last_price'].corr(data['year'])"
   ]
  },
  {
   "cell_type": "markdown",
   "metadata": {},
   "source": [
    "Стоимость 1 кв.м в 2014 была самой высокой в диапазоне 2014-2019. И медианное значение составяло 107500р. После было снижение цены до 2016г - медианное значение в этом году ниже 92500р. После 2016г пошел небольшой рост цен на жилье вплоть до 2019г. Заметный рост был с 2018 до 2019 (примерно с 95000 до 102500р)."
   ]
  },
  {
   "cell_type": "markdown",
   "metadata": {},
   "source": []
  },
  {
   "cell_type": "code",
   "execution_count": 99,
   "metadata": {},
   "outputs": [
    {
     "data": {
      "text/plain": [
       "0.0019127637864586413"
      ]
     },
     "execution_count": 99,
     "metadata": {},
     "output_type": "execute_result"
    },
    {
     "data": {
      "image/png": "[encoded data removed]",
      "text/plain": [
       "<Figure size 432x288 with 1 Axes>"
      ]
     },
     "metadata": {
      "needs_background": "light"
     },
     "output_type": "display_data"
    }
   ],
   "source": [
    "#тут построим столбчатый график методом группирования\n",
    "data.pivot_table(index='month', values='price_1m', aggfunc='median').plot(style='o-')\n",
    "data['last_price'].corr(data['month'])"
   ]
  },
  {
   "cell_type": "markdown",
   "metadata": {},
   "source": [
    "Самая низкая цена в объявлениях размещенных в мае и июне - медианное значение чуть ниже и выше 92500р соответственно. Самая высокая цена за 1кв.м у квартир, размещенных в апреле, медианное занчение - 96000р. Даллее идут месяцы с июля по сентябрь и ноябрь (медианное значение около 95000р)."
   ]
  },
  {
   "cell_type": "code",
   "execution_count": 100,
   "metadata": {},
   "outputs": [
    {
     "data": {
      "text/plain": [
       "0.0017864754636739216"
      ]
     },
     "execution_count": 100,
     "metadata": {},
     "output_type": "execute_result"
    },
    {
     "data": {
      "image/png": "[encoded data removed]",
      "text/plain": [
       "<Figure size 432x288 with 1 Axes>"
      ]
     },
     "metadata": {
      "needs_background": "light"
     },
     "output_type": "display_data"
    }
   ],
   "source": [
    "data.pivot_table(index='weekday', values='price_1m', aggfunc='median').plot(style='o-')\n",
    "data['last_price'].corr(data['weekday'])"
   ]
  },
  {
   "cell_type": "markdown",
   "metadata": {},
   "source": [
    "Самая низкая цена в объявлениях размещенных в субботу - медианное значение 93500р. Максимальная - во вторник и среду, медианное значение чуть меньше 95550р за 1 кв.м."
   ]
  },
  {
   "cell_type": "markdown",
   "metadata": {},
   "source": [
    "Корреляция Пирсона цены от даты рамещения(день недели, месяц, год) очень низкая, зависимости нет."
   ]
  },
  {
   "cell_type": "markdown",
   "metadata": {},
   "source": [
    "### Cредняя цена одного квадратного метра в 10 населённых пунктах с наибольшим числом объявлений. "
   ]
  },
  {
   "cell_type": "markdown",
   "metadata": {},
   "source": [
    "<div class=\"alert alert-info\"> Посмотрим Топ 10 населённых пунктах с наибольшим числом объявлений и среднюю стоимость 1 кв.м. <div"
   ]
  },
  {
   "cell_type": "code",
   "execution_count": 101,
   "metadata": {},
   "outputs": [
    {
     "data": {
      "text/html": [
       "<div>\n",
       "<style scoped>\n",
       "    .dataframe tbody tr th:only-of-type {\n",
       "        vertical-align: middle;\n",
       "    }\n",
       "\n",
       "    .dataframe tbody tr th {\n",
       "        vertical-align: top;\n",
       "    }\n",
       "\n",
       "    .dataframe thead th {\n",
       "        text-align: right;\n",
       "    }\n",
       "</style>\n",
       "<table border=\"1\" class=\"dataframe\">\n",
       "  <thead>\n",
       "    <tr style=\"text-align: right;\">\n",
       "      <th></th>\n",
       "      <th>mean price for 1sq m</th>\n",
       "      <th>number of ads</th>\n",
       "    </tr>\n",
       "    <tr>\n",
       "      <th>locality_clean_name</th>\n",
       "      <th></th>\n",
       "      <th></th>\n",
       "    </tr>\n",
       "  </thead>\n",
       "  <tbody>\n",
       "    <tr>\n",
       "      <th>санкт-петербург</th>\n",
       "      <td>114664</td>\n",
       "      <td>15476</td>\n",
       "    </tr>\n",
       "    <tr>\n",
       "      <th>мурино</th>\n",
       "      <td>85415</td>\n",
       "      <td>547</td>\n",
       "    </tr>\n",
       "    <tr>\n",
       "      <th>кудрово</th>\n",
       "      <td>94909</td>\n",
       "      <td>446</td>\n",
       "    </tr>\n",
       "    <tr>\n",
       "      <th>шушары</th>\n",
       "      <td>78326</td>\n",
       "      <td>434</td>\n",
       "    </tr>\n",
       "    <tr>\n",
       "      <th>всеволожск</th>\n",
       "      <td>68638</td>\n",
       "      <td>390</td>\n",
       "    </tr>\n",
       "    <tr>\n",
       "      <th>пушкин</th>\n",
       "      <td>103125</td>\n",
       "      <td>369</td>\n",
       "    </tr>\n",
       "    <tr>\n",
       "      <th>колпино</th>\n",
       "      <td>75387</td>\n",
       "      <td>336</td>\n",
       "    </tr>\n",
       "    <tr>\n",
       "      <th>парголово</th>\n",
       "      <td>90135</td>\n",
       "      <td>326</td>\n",
       "    </tr>\n",
       "    <tr>\n",
       "      <th>гатчина</th>\n",
       "      <td>68625</td>\n",
       "      <td>303</td>\n",
       "    </tr>\n",
       "    <tr>\n",
       "      <th>выборг</th>\n",
       "      <td>57813</td>\n",
       "      <td>234</td>\n",
       "    </tr>\n",
       "  </tbody>\n",
       "</table>\n",
       "</div>"
      ],
      "text/plain": [
       "                     mean price for 1sq m  number of ads\n",
       "locality_clean_name                                     \n",
       "санкт-петербург                    114664          15476\n",
       "мурино                              85415            547\n",
       "кудрово                             94909            446\n",
       "шушары                              78326            434\n",
       "всеволожск                          68638            390\n",
       "пушкин                             103125            369\n",
       "колпино                             75387            336\n",
       "парголово                           90135            326\n",
       "гатчина                             68625            303\n",
       "выборг                              57813            234"
      ]
     },
     "execution_count": 101,
     "metadata": {},
     "output_type": "execute_result"
    }
   ],
   "source": [
    "(data\n",
    "    .pivot_table(index='locality_clean_name', values='price_1m', aggfunc=[lambda x: round(x.mean()), 'count']).droplevel(level=1, axis=1)\n",
    "    .sort_values('count', ascending=False).rename(columns={'<lambda>': 'mean price for 1sq m', 'count': 'number of ads'})\n",
    "   .head(10)\n",
    ")"
   ]
  },
  {
   "cell_type": "markdown",
   "metadata": {},
   "source": [
    "Самое большое количество объявлений в Санкт_Петербурге - 15476. Меньше всего в Топ 10 в Выборге - 234."
   ]
  },
  {
   "cell_type": "code",
   "execution_count": 107,
   "metadata": {},
   "outputs": [
    {
     "data": {
      "image/png": "[encoded data removed]",
      "text/plain": [
       "<Figure size 1080x720 with 1 Axes>"
      ]
     },
     "metadata": {
      "needs_background": "light"
     },
     "output_type": "display_data"
    }
   ],
   "source": [
    "(data\n",
    "    .pivot_table(index='locality_clean_name', values='price_1m', aggfunc=[lambda x: round(x.mean()), 'count']).droplevel(level=1, axis=1)\n",
    "    .sort_values('count', ascending=False).rename(columns={'<lambda>': 'mean price for 1sq m', 'count': 'number of ads'})\n",
    "   .head(10)\n",
    ").plot(y='mean price for 1sq m', kind='bar', figsize=(15,10))\n",
    "plt.title('Mean Price for 1sq.m. in Top10 ads')\n",
    "plt.xlabel('Top 10')\n",
    "plt.ylabel('Price for 1sq.m, rub')\n",
    "plt.show()"
   ]
  },
  {
   "cell_type": "markdown",
   "metadata": {},
   "source": [
    "<div class=\"alert alert-info\"> Самая высокая стоимость 1 кв.м в Санкт-Петербурге - средняя 114664р. Далее идет город Пушкин: 103125р. Затем Парголов, стоимсть 90135р. Меньше всего из Топ10 в Выборге - средняя стоимость 1 кв.м здесь 57813р. \n",
    "    <div"
   ]
  },
  {
   "cell_type": "markdown",
   "metadata": {},
   "source": [
    "А если взять все данные? Посмотрим Топ10 по средней цене за 1 кв.м."
   ]
  },
  {
   "cell_type": "code",
   "execution_count": 103,
   "metadata": {},
   "outputs": [
    {
     "data": {
      "text/html": [
       "<div>\n",
       "<style scoped>\n",
       "    .dataframe tbody tr th:only-of-type {\n",
       "        vertical-align: middle;\n",
       "    }\n",
       "\n",
       "    .dataframe tbody tr th {\n",
       "        vertical-align: top;\n",
       "    }\n",
       "\n",
       "    .dataframe thead th {\n",
       "        text-align: right;\n",
       "    }\n",
       "</style>\n",
       "<table border=\"1\" class=\"dataframe\">\n",
       "  <thead>\n",
       "    <tr style=\"text-align: right;\">\n",
       "      <th></th>\n",
       "      <th>price_1m</th>\n",
       "    </tr>\n",
       "    <tr>\n",
       "      <th>locality_clean_name</th>\n",
       "      <th></th>\n",
       "    </tr>\n",
       "  </thead>\n",
       "  <tbody>\n",
       "    <tr>\n",
       "      <th>зеленогорск</th>\n",
       "      <td>115122.500000</td>\n",
       "    </tr>\n",
       "    <tr>\n",
       "      <th>санкт-петербург</th>\n",
       "      <td>114664.078509</td>\n",
       "    </tr>\n",
       "    <tr>\n",
       "      <th>репино</th>\n",
       "      <td>104238.500000</td>\n",
       "    </tr>\n",
       "    <tr>\n",
       "      <th>пушкин</th>\n",
       "      <td>103125.373984</td>\n",
       "    </tr>\n",
       "    <tr>\n",
       "      <th>сестрорецк</th>\n",
       "      <td>101693.560440</td>\n",
       "    </tr>\n",
       "    <tr>\n",
       "      <th>лисий нос</th>\n",
       "      <td>100660.333333</td>\n",
       "    </tr>\n",
       "    <tr>\n",
       "      <th>мистолово</th>\n",
       "      <td>98549.545455</td>\n",
       "    </tr>\n",
       "    <tr>\n",
       "      <th>левашово</th>\n",
       "      <td>96997.000000</td>\n",
       "    </tr>\n",
       "    <tr>\n",
       "      <th>кудрово</th>\n",
       "      <td>94908.533632</td>\n",
       "    </tr>\n",
       "    <tr>\n",
       "      <th>парголово</th>\n",
       "      <td>90134.650307</td>\n",
       "    </tr>\n",
       "  </tbody>\n",
       "</table>\n",
       "</div>"
      ],
      "text/plain": [
       "                          price_1m\n",
       "locality_clean_name               \n",
       "зеленогорск          115122.500000\n",
       "санкт-петербург      114664.078509\n",
       "репино               104238.500000\n",
       "пушкин               103125.373984\n",
       "сестрорецк           101693.560440\n",
       "лисий нос            100660.333333\n",
       "мистолово             98549.545455\n",
       "левашово              96997.000000\n",
       "кудрово               94908.533632\n",
       "парголово             90134.650307"
      ]
     },
     "execution_count": 103,
     "metadata": {},
     "output_type": "execute_result"
    }
   ],
   "source": [
    "data.pivot_table(index='locality_clean_name', values='price_1m', aggfunc='mean').sort_values('price_1m', ascending=False).head(10)"
   ]
  },
  {
   "cell_type": "markdown",
   "metadata": {},
   "source": [
    "Тут в топе находится уже город Зеленогорск, затем Санкт-Петербург, Репино, Пушкин, Сестрорецк. А десятку замыкает Парголово."
   ]
  },
  {
   "cell_type": "markdown",
   "metadata": {},
   "source": [
    "### Среднняя цена каждого километра. Как стоимость объектов зависит от расстояния до центра города."
   ]
  },
  {
   "cell_type": "code",
   "execution_count": 104,
   "metadata": {},
   "outputs": [
    {
     "data": {
      "text/plain": [
       "Text(0, 0.5, 'Mean price, mil.r')"
      ]
     },
     "execution_count": 104,
     "metadata": {},
     "output_type": "execute_result"
    },
    {
     "data": {
      "image/png": "[encoded data removed]",
      "text/plain": [
       "<Figure size 864x720 with 1 Axes>"
      ]
     },
     "metadata": {
      "needs_background": "light"
     },
     "output_type": "display_data"
    }
   ],
   "source": [
    "data[data['locality_name'] == 'санкт-петербург'].pivot_table(index='km_to_city_center', values='last_price', aggfunc='mean').plot(kind='bar', figsize=(12,10))\n",
    "plt.title('Dependence of the price on the distance to the center of St. Petersburg')\n",
    "plt.xlabel('Distance to the center, km.')\n",
    "plt.ylabel('Mean price, mil.r')"
   ]
  },
  {
   "cell_type": "markdown",
   "metadata": {},
   "source": [
    "Чем ближе к центру, тем выше стоимость 1 кв.м. Средння стоимость 1 кв.м квартир, которые находятся до 2км от центра, превышает 1,6 млн руб. Заметно ниже стоимость у квартир от 8 км до центра (800 тыс.р) - идет плавное снижение до 19 км. \n",
    "Из графика выбиваются объекты, которые находятся до 27 км от центра. Посмотрим их."
   ]
  },
  {
   "cell_type": "code",
   "execution_count": 105,
   "metadata": {},
   "outputs": [
    {
     "data": {
      "text/html": [
       "<div>\n",
       "<style scoped>\n",
       "    .dataframe tbody tr th:only-of-type {\n",
       "        vertical-align: middle;\n",
       "    }\n",
       "\n",
       "    .dataframe tbody tr th {\n",
       "        vertical-align: top;\n",
       "    }\n",
       "\n",
       "    .dataframe thead th {\n",
       "        text-align: right;\n",
       "    }\n",
       "</style>\n",
       "<table border=\"1\" class=\"dataframe\">\n",
       "  <thead>\n",
       "    <tr style=\"text-align: right;\">\n",
       "      <th></th>\n",
       "      <th>total_images</th>\n",
       "      <th>last_price</th>\n",
       "      <th>total_area</th>\n",
       "      <th>first_day_exposition</th>\n",
       "      <th>rooms</th>\n",
       "      <th>ceiling_height</th>\n",
       "      <th>floors_total</th>\n",
       "      <th>living_area</th>\n",
       "      <th>floor</th>\n",
       "      <th>is_apartment</th>\n",
       "      <th>...</th>\n",
       "      <th>ponds_nearest</th>\n",
       "      <th>days_exposition</th>\n",
       "      <th>total_area_category</th>\n",
       "      <th>locality_type</th>\n",
       "      <th>price_1m</th>\n",
       "      <th>weekday</th>\n",
       "      <th>month</th>\n",
       "      <th>year</th>\n",
       "      <th>floor_type</th>\n",
       "      <th>km_to_city_center</th>\n",
       "    </tr>\n",
       "  </thead>\n",
       "  <tbody>\n",
       "    <tr>\n",
       "      <th>748</th>\n",
       "      <td>13</td>\n",
       "      <td>14350000</td>\n",
       "      <td>74.0</td>\n",
       "      <td>2017-11-28</td>\n",
       "      <td>2</td>\n",
       "      <td>3.13</td>\n",
       "      <td>5</td>\n",
       "      <td>30.0</td>\n",
       "      <td>3</td>\n",
       "      <td>False</td>\n",
       "      <td>...</td>\n",
       "      <td>NaN</td>\n",
       "      <td>128</td>\n",
       "      <td>средняя</td>\n",
       "      <td>Санкт-Петербург</td>\n",
       "      <td>193918</td>\n",
       "      <td>1</td>\n",
       "      <td>11</td>\n",
       "      <td>2017</td>\n",
       "      <td>другой</td>\n",
       "      <td>27</td>\n",
       "    </tr>\n",
       "    <tr>\n",
       "      <th>5951</th>\n",
       "      <td>6</td>\n",
       "      <td>2250000</td>\n",
       "      <td>32.0</td>\n",
       "      <td>2018-02-27</td>\n",
       "      <td>1</td>\n",
       "      <td>2.65</td>\n",
       "      <td>2</td>\n",
       "      <td>16.5</td>\n",
       "      <td>2</td>\n",
       "      <td>False</td>\n",
       "      <td>...</td>\n",
       "      <td>NaN</td>\n",
       "      <td>178</td>\n",
       "      <td>малая</td>\n",
       "      <td>Санкт-Петербург</td>\n",
       "      <td>70312</td>\n",
       "      <td>1</td>\n",
       "      <td>2</td>\n",
       "      <td>2018</td>\n",
       "      <td>последний</td>\n",
       "      <td>27</td>\n",
       "    </tr>\n",
       "  </tbody>\n",
       "</table>\n",
       "<p>2 rows × 31 columns</p>\n",
       "</div>"
      ],
      "text/plain": [
       "      total_images  last_price  total_area first_day_exposition  rooms  \\\n",
       "748             13    14350000        74.0           2017-11-28      2   \n",
       "5951             6     2250000        32.0           2018-02-27      1   \n",
       "\n",
       "      ceiling_height  floors_total  living_area  floor  is_apartment  ...  \\\n",
       "748             3.13             5         30.0      3         False  ...   \n",
       "5951            2.65             2         16.5      2         False  ...   \n",
       "\n",
       "      ponds_nearest  days_exposition  total_area_category    locality_type  \\\n",
       "748             NaN              128              средняя  Санкт-Петербург   \n",
       "5951            NaN              178                малая  Санкт-Петербург   \n",
       "\n",
       "     price_1m weekday  month  year  floor_type  km_to_city_center  \n",
       "748    193918       1     11  2017      другой                 27  \n",
       "5951    70312       1      2  2018   последний                 27  \n",
       "\n",
       "[2 rows x 31 columns]"
      ]
     },
     "execution_count": 105,
     "metadata": {},
     "output_type": "execute_result"
    }
   ],
   "source": [
    "data[(data['locality_name'] == 'санкт-петербург') & (data['km_to_city_center'] == 27)]"
   ]
  },
  {
   "cell_type": "markdown",
   "metadata": {},
   "source": [
    "Данный выброс случился из-за небольшого количества данных на 27 км (всего 2 объекта), у которых медианная цена получается завышенной: стоимость одной из них 14350000р."
   ]
  },
  {
   "cell_type": "markdown",
   "metadata": {},
   "source": [
    "### Общий вывод"
   ]
  },
  {
   "cell_type": "markdown",
   "metadata": {},
   "source": [
    "В нашем расположении данные сервиса Яндекс Недвижимость — архив объявлений за несколько лет о продаже квартир в Санкт-Петербурге и соседних населённых пунктах. Была выполнена предобработка данных, а именно: заполнены пропущенные значения, где это возможно и указаны причины, которые могли привести к пропускм в данных. Изменены типы данных, где это было необходимо. Устранены редкие и выбивающиеся значения. Добавлены новые данные: цена одного квадратного метра; день недели, месяц и год публикации объявления; тип этажа квартиры (значения — \"первый», «последний», «другой»); расстояние до центра города в километрах. \n",
    "Проведен исследовательский анализ данных. Изучены параметры, добавленные пользователем и картографические. Например, к первому типу относятся площадь квартиры, её этаж и количество балконов, ко второму — расстояния до центра города, аэропорта и ближайшего парка. Посчитана средняя цена одного квадратного метра в 10 населённых пунктах с наибольшим числом объявлений. Самая высокая стоимость 1 кв.м в Санкт-Петербурге - средняя 114664р. Далее идет город Пушкин: 103125р. И посчитана средняя цена каждого километра.\n",
    "\n",
    "Исходя из данных предположили, что быстрые продажи квартир - это до 80 дней. А необычно долгие занимают более 150-200 дней. \n",
    "Всего не продано 3144 квартир. Самое большое количество квартир стоимостью от 3 до 5 млн.р. Пик приходится на 3,8-4 млн.р. От 6 млн.р количество  квартир плавно уменьшается. Больше всего однокомнатных квартир - 7950, потом идут двухкомнатные - 7862, трехкомнатные - 5764.\n",
    "Среднее расстояние до центра 14,2 км. Максимальная удаленность от центра - 65,6 км, а минимальная - 181 м.  Самое большое количество квартир находится на расстоянии от 10 до 36 км до аэропорта и  от 200 до 700 м до парка. \n",
    "\n",
    "Больше всего влияют на общую (полную) стоимость объекта – площадь квартир и удаленность от центра. "
   ]
  }
 ],
 "metadata": {
  "ExecuteTimeLog": [
   {
    "duration": 1231,
    "start_time": "2022-12-01T22:04:21.689Z"
   },
   {
    "duration": 97,
    "start_time": "2022-12-01T22:04:22.922Z"
   },
   {
    "duration": 61,
    "start_time": "2022-12-01T22:04:23.021Z"
   },
   {
    "duration": 7,
    "start_time": "2022-12-01T22:04:23.083Z"
   },
   {
    "duration": 35,
    "start_time": "2022-12-01T22:04:23.092Z"
   },
   {
    "duration": 6,
    "start_time": "2022-12-01T22:04:23.129Z"
   },
   {
    "duration": 22,
    "start_time": "2022-12-01T22:04:23.137Z"
   },
   {
    "duration": 30,
    "start_time": "2022-12-01T22:04:23.161Z"
   },
   {
    "duration": 14,
    "start_time": "2022-12-01T22:04:23.192Z"
   },
   {
    "duration": 19,
    "start_time": "2022-12-01T22:04:23.207Z"
   },
   {
    "duration": 32,
    "start_time": "2022-12-01T22:04:23.228Z"
   },
   {
    "duration": 67,
    "start_time": "2022-12-01T22:04:23.262Z"
   },
   {
    "duration": 10,
    "start_time": "2022-12-01T22:04:23.331Z"
   },
   {
    "duration": 5,
    "start_time": "2022-12-01T22:04:23.344Z"
   },
   {
    "duration": 29,
    "start_time": "2022-12-01T22:04:23.350Z"
   },
   {
    "duration": 10,
    "start_time": "2022-12-01T22:04:23.381Z"
   },
   {
    "duration": 27,
    "start_time": "2022-12-01T22:04:23.393Z"
   },
   {
    "duration": 25,
    "start_time": "2022-12-01T22:04:23.422Z"
   },
   {
    "duration": 27,
    "start_time": "2022-12-01T22:04:23.448Z"
   },
   {
    "duration": 25,
    "start_time": "2022-12-01T22:04:23.477Z"
   },
   {
    "duration": 21,
    "start_time": "2022-12-01T22:04:23.504Z"
   },
   {
    "duration": 12,
    "start_time": "2022-12-01T22:04:23.527Z"
   },
   {
    "duration": 16,
    "start_time": "2022-12-01T22:04:23.541Z"
   },
   {
    "duration": 13,
    "start_time": "2022-12-01T22:04:23.559Z"
   },
   {
    "duration": 24,
    "start_time": "2022-12-01T22:04:23.574Z"
   },
   {
    "duration": 47,
    "start_time": "2022-12-01T22:04:23.600Z"
   },
   {
    "duration": 13,
    "start_time": "2022-12-01T22:04:23.649Z"
   },
   {
    "duration": 11,
    "start_time": "2022-12-01T22:04:23.664Z"
   },
   {
    "duration": 51,
    "start_time": "2022-12-01T22:04:23.677Z"
   },
   {
    "duration": 59,
    "start_time": "2022-12-01T22:04:23.730Z"
   },
   {
    "duration": 21,
    "start_time": "2022-12-01T22:04:23.791Z"
   },
   {
    "duration": 7,
    "start_time": "2022-12-01T22:04:23.814Z"
   },
   {
    "duration": 24,
    "start_time": "2022-12-01T22:04:23.823Z"
   },
   {
    "duration": 37,
    "start_time": "2022-12-01T22:04:23.849Z"
   },
   {
    "duration": 436,
    "start_time": "2022-12-01T22:04:23.888Z"
   },
   {
    "duration": 25,
    "start_time": "2022-12-01T22:04:24.326Z"
   },
   {
    "duration": 7,
    "start_time": "2022-12-01T22:04:24.353Z"
   },
   {
    "duration": 6,
    "start_time": "2022-12-01T22:04:24.361Z"
   },
   {
    "duration": 14,
    "start_time": "2022-12-01T22:04:24.368Z"
   },
   {
    "duration": 10358,
    "start_time": "2022-12-01T22:04:24.412Z"
   },
   {
    "duration": 7,
    "start_time": "2022-12-01T22:04:34.776Z"
   },
   {
    "duration": 43,
    "start_time": "2022-12-01T22:04:34.785Z"
   },
   {
    "duration": 27,
    "start_time": "2022-12-01T22:04:34.830Z"
   },
   {
    "duration": 59,
    "start_time": "2022-12-01T22:04:34.859Z"
   },
   {
    "duration": 32,
    "start_time": "2022-12-01T22:04:34.920Z"
   },
   {
    "duration": 23,
    "start_time": "2022-12-01T22:04:34.954Z"
   },
   {
    "duration": 20,
    "start_time": "2022-12-01T22:04:34.980Z"
   },
   {
    "duration": 27,
    "start_time": "2022-12-01T22:04:35.002Z"
   },
   {
    "duration": 38,
    "start_time": "2022-12-01T22:04:35.031Z"
   },
   {
    "duration": 9,
    "start_time": "2022-12-01T22:04:35.071Z"
   },
   {
    "duration": 27,
    "start_time": "2022-12-01T22:04:35.082Z"
   },
   {
    "duration": 32,
    "start_time": "2022-12-01T22:04:35.110Z"
   },
   {
    "duration": 19,
    "start_time": "2022-12-01T22:04:35.143Z"
   },
   {
    "duration": 296,
    "start_time": "2022-12-01T22:04:35.163Z"
   },
   {
    "duration": 6,
    "start_time": "2022-12-01T22:04:35.461Z"
   },
   {
    "duration": 44,
    "start_time": "2022-12-01T22:04:35.468Z"
   },
   {
    "duration": 139,
    "start_time": "2022-12-01T22:04:35.513Z"
   },
   {
    "duration": 273,
    "start_time": "2022-12-01T22:04:35.653Z"
   },
   {
    "duration": 202,
    "start_time": "2022-12-01T22:04:35.928Z"
   },
   {
    "duration": 25,
    "start_time": "2022-12-01T22:04:36.131Z"
   },
   {
    "duration": 10,
    "start_time": "2022-12-01T22:04:36.158Z"
   },
   {
    "duration": 380,
    "start_time": "2022-12-01T22:04:36.170Z"
   },
   {
    "duration": 132,
    "start_time": "2022-12-01T22:04:36.552Z"
   },
   {
    "duration": 223,
    "start_time": "2022-12-01T22:04:36.685Z"
   },
   {
    "duration": 9,
    "start_time": "2022-12-01T22:04:36.913Z"
   },
   {
    "duration": 18,
    "start_time": "2022-12-01T22:04:36.923Z"
   },
   {
    "duration": 31,
    "start_time": "2022-12-01T22:04:36.943Z"
   },
   {
    "duration": 9,
    "start_time": "2022-12-01T22:04:36.976Z"
   },
   {
    "duration": 277,
    "start_time": "2022-12-01T22:04:36.987Z"
   },
   {
    "duration": 169,
    "start_time": "2022-12-01T22:04:37.266Z"
   },
   {
    "duration": 163,
    "start_time": "2022-12-01T22:04:37.437Z"
   },
   {
    "duration": 216,
    "start_time": "2022-12-01T22:04:37.602Z"
   },
   {
    "duration": 128,
    "start_time": "2022-12-01T22:04:37.820Z"
   },
   {
    "duration": 284,
    "start_time": "2022-12-01T22:04:37.951Z"
   },
   {
    "duration": 193,
    "start_time": "2022-12-01T22:04:38.237Z"
   },
   {
    "duration": 183,
    "start_time": "2022-12-01T22:04:38.431Z"
   },
   {
    "duration": 133,
    "start_time": "2022-12-01T22:04:38.616Z"
   },
   {
    "duration": 140,
    "start_time": "2022-12-01T22:04:38.751Z"
   },
   {
    "duration": 195,
    "start_time": "2022-12-01T22:04:38.893Z"
   },
   {
    "duration": 6,
    "start_time": "2022-12-01T22:04:39.090Z"
   },
   {
    "duration": 187,
    "start_time": "2022-12-01T22:04:39.097Z"
   },
   {
    "duration": 6,
    "start_time": "2022-12-01T22:04:39.287Z"
   },
   {
    "duration": 283,
    "start_time": "2022-12-01T22:04:39.295Z"
   },
   {
    "duration": 176,
    "start_time": "2022-12-01T22:04:39.580Z"
   },
   {
    "duration": 37,
    "start_time": "2022-12-01T22:04:39.758Z"
   },
   {
    "duration": 381,
    "start_time": "2022-12-01T22:04:39.797Z"
   },
   {
    "duration": 975,
    "start_time": "2022-12-01T22:04:40.180Z"
   },
   {
    "duration": 157,
    "start_time": "2022-12-01T22:04:41.157Z"
   },
   {
    "duration": 23,
    "start_time": "2022-12-01T22:04:41.316Z"
   },
   {
    "duration": 160,
    "start_time": "2022-12-01T22:04:41.341Z"
   },
   {
    "duration": 168,
    "start_time": "2022-12-01T22:04:41.503Z"
   },
   {
    "duration": 174,
    "start_time": "2022-12-01T22:04:41.672Z"
   },
   {
    "duration": 172,
    "start_time": "2022-12-01T22:04:41.848Z"
   },
   {
    "duration": 20,
    "start_time": "2022-12-01T22:04:42.021Z"
   },
   {
    "duration": 221,
    "start_time": "2022-12-01T22:04:42.043Z"
   },
   {
    "duration": 21,
    "start_time": "2022-12-01T22:04:42.265Z"
   },
   {
    "duration": 203,
    "start_time": "2022-12-01T22:04:42.288Z"
   },
   {
    "duration": 374,
    "start_time": "2022-12-01T22:04:42.492Z"
   },
   {
    "duration": 26,
    "start_time": "2022-12-01T22:04:42.868Z"
   },
   {
    "duration": 1034,
    "start_time": "2022-12-01T22:08:29.938Z"
   },
   {
    "duration": 6,
    "start_time": "2022-12-01T22:08:34.777Z"
   },
   {
    "duration": 1175,
    "start_time": "2022-12-02T20:49:53.683Z"
   },
   {
    "duration": 98,
    "start_time": "2022-12-02T20:49:54.860Z"
   },
   {
    "duration": 55,
    "start_time": "2022-12-02T20:49:54.960Z"
   },
   {
    "duration": 2149,
    "start_time": "2022-12-02T20:49:55.018Z"
   },
   {
    "duration": 6,
    "start_time": "2022-12-02T20:49:57.169Z"
   },
   {
    "duration": 16,
    "start_time": "2022-12-02T20:49:57.177Z"
   },
   {
    "duration": 17,
    "start_time": "2022-12-02T20:49:57.195Z"
   },
   {
    "duration": 7,
    "start_time": "2022-12-02T20:49:57.213Z"
   },
   {
    "duration": 7,
    "start_time": "2022-12-02T20:49:57.221Z"
   },
   {
    "duration": 7,
    "start_time": "2022-12-02T20:49:57.230Z"
   },
   {
    "duration": 9,
    "start_time": "2022-12-02T20:49:57.238Z"
   },
   {
    "duration": 11,
    "start_time": "2022-12-02T20:49:57.248Z"
   },
   {
    "duration": 78,
    "start_time": "2022-12-02T20:49:57.260Z"
   },
   {
    "duration": 9,
    "start_time": "2022-12-02T20:49:57.340Z"
   },
   {
    "duration": 5,
    "start_time": "2022-12-02T20:49:57.350Z"
   },
   {
    "duration": 7,
    "start_time": "2022-12-02T20:49:57.357Z"
   },
   {
    "duration": 6,
    "start_time": "2022-12-02T20:49:57.365Z"
   },
   {
    "duration": 40,
    "start_time": "2022-12-02T20:49:57.372Z"
   },
   {
    "duration": 8,
    "start_time": "2022-12-02T20:49:57.415Z"
   },
   {
    "duration": 7,
    "start_time": "2022-12-02T20:49:57.425Z"
   },
   {
    "duration": 8,
    "start_time": "2022-12-02T20:49:57.434Z"
   },
   {
    "duration": 7,
    "start_time": "2022-12-02T20:49:57.444Z"
   },
   {
    "duration": 10,
    "start_time": "2022-12-02T20:49:57.453Z"
   },
   {
    "duration": 10,
    "start_time": "2022-12-02T20:49:57.465Z"
   },
   {
    "duration": 5,
    "start_time": "2022-12-02T20:49:57.513Z"
   },
   {
    "duration": 8,
    "start_time": "2022-12-02T20:49:57.520Z"
   },
   {
    "duration": 28,
    "start_time": "2022-12-02T20:49:57.530Z"
   },
   {
    "duration": 10,
    "start_time": "2022-12-02T20:49:57.563Z"
   },
   {
    "duration": 5,
    "start_time": "2022-12-02T20:49:57.575Z"
   },
   {
    "duration": 51,
    "start_time": "2022-12-02T20:49:57.581Z"
   },
   {
    "duration": 39,
    "start_time": "2022-12-02T20:49:57.635Z"
   },
   {
    "duration": 8,
    "start_time": "2022-12-02T20:49:57.676Z"
   },
   {
    "duration": 7,
    "start_time": "2022-12-02T20:49:57.712Z"
   },
   {
    "duration": 7,
    "start_time": "2022-12-02T20:49:57.721Z"
   },
   {
    "duration": 10,
    "start_time": "2022-12-02T20:49:57.729Z"
   },
   {
    "duration": 415,
    "start_time": "2022-12-02T20:49:57.741Z"
   },
   {
    "duration": 34,
    "start_time": "2022-12-02T20:49:58.158Z"
   },
   {
    "duration": 22,
    "start_time": "2022-12-02T20:49:58.194Z"
   },
   {
    "duration": 8,
    "start_time": "2022-12-02T20:49:58.218Z"
   },
   {
    "duration": 20,
    "start_time": "2022-12-02T20:49:58.230Z"
   },
   {
    "duration": 10546,
    "start_time": "2022-12-02T20:49:58.252Z"
   },
   {
    "duration": 15,
    "start_time": "2022-12-02T20:50:08.800Z"
   },
   {
    "duration": 21,
    "start_time": "2022-12-02T20:50:08.817Z"
   },
   {
    "duration": 21,
    "start_time": "2022-12-02T20:50:08.841Z"
   },
   {
    "duration": 53,
    "start_time": "2022-12-02T20:50:08.864Z"
   },
   {
    "duration": 29,
    "start_time": "2022-12-02T20:50:08.918Z"
   },
   {
    "duration": 11,
    "start_time": "2022-12-02T20:50:08.949Z"
   },
   {
    "duration": 3,
    "start_time": "2022-12-02T20:50:08.962Z"
   },
   {
    "duration": 6,
    "start_time": "2022-12-02T20:50:08.967Z"
   },
   {
    "duration": 48,
    "start_time": "2022-12-02T20:50:08.975Z"
   },
   {
    "duration": 5,
    "start_time": "2022-12-02T20:50:09.024Z"
   },
   {
    "duration": 10,
    "start_time": "2022-12-02T20:50:09.030Z"
   },
   {
    "duration": 6,
    "start_time": "2022-12-02T20:50:09.042Z"
   },
   {
    "duration": 6,
    "start_time": "2022-12-02T20:50:09.049Z"
   },
   {
    "duration": 315,
    "start_time": "2022-12-02T20:50:09.056Z"
   },
   {
    "duration": 5,
    "start_time": "2022-12-02T20:50:09.373Z"
   },
   {
    "duration": 33,
    "start_time": "2022-12-02T20:50:09.380Z"
   },
   {
    "duration": 128,
    "start_time": "2022-12-02T20:50:09.415Z"
   },
   {
    "duration": 268,
    "start_time": "2022-12-02T20:50:09.544Z"
   },
   {
    "duration": 124,
    "start_time": "2022-12-02T20:50:09.813Z"
   },
   {
    "duration": 24,
    "start_time": "2022-12-02T20:50:09.939Z"
   },
   {
    "duration": 8,
    "start_time": "2022-12-02T20:50:09.965Z"
   },
   {
    "duration": 392,
    "start_time": "2022-12-02T20:50:09.975Z"
   },
   {
    "duration": 120,
    "start_time": "2022-12-02T20:50:10.369Z"
   },
   {
    "duration": 211,
    "start_time": "2022-12-02T20:50:10.491Z"
   },
   {
    "duration": 15,
    "start_time": "2022-12-02T20:50:10.704Z"
   },
   {
    "duration": 10,
    "start_time": "2022-12-02T20:50:10.721Z"
   },
   {
    "duration": 53,
    "start_time": "2022-12-02T20:50:10.733Z"
   },
   {
    "duration": 9,
    "start_time": "2022-12-02T20:50:10.788Z"
   },
   {
    "duration": 275,
    "start_time": "2022-12-02T20:50:10.799Z"
   },
   {
    "duration": 166,
    "start_time": "2022-12-02T20:50:11.075Z"
   },
   {
    "duration": 152,
    "start_time": "2022-12-02T20:50:11.242Z"
   },
   {
    "duration": 201,
    "start_time": "2022-12-02T20:50:11.396Z"
   },
   {
    "duration": 127,
    "start_time": "2022-12-02T20:50:11.599Z"
   },
   {
    "duration": 189,
    "start_time": "2022-12-02T20:50:11.728Z"
   },
   {
    "duration": 191,
    "start_time": "2022-12-02T20:50:11.919Z"
   },
   {
    "duration": 292,
    "start_time": "2022-12-02T20:50:12.111Z"
   },
   {
    "duration": 132,
    "start_time": "2022-12-02T20:50:12.405Z"
   },
   {
    "duration": 141,
    "start_time": "2022-12-02T20:50:12.540Z"
   },
   {
    "duration": 190,
    "start_time": "2022-12-02T20:50:12.683Z"
   },
   {
    "duration": 6,
    "start_time": "2022-12-02T20:50:12.875Z"
   },
   {
    "duration": 185,
    "start_time": "2022-12-02T20:50:12.887Z"
   },
   {
    "duration": 6,
    "start_time": "2022-12-02T20:50:13.073Z"
   },
   {
    "duration": 280,
    "start_time": "2022-12-02T20:50:13.080Z"
   },
   {
    "duration": 161,
    "start_time": "2022-12-02T20:50:13.362Z"
   },
   {
    "duration": 37,
    "start_time": "2022-12-02T20:50:13.525Z"
   },
   {
    "duration": 281,
    "start_time": "2022-12-02T20:50:13.563Z"
   },
   {
    "duration": 26,
    "start_time": "2022-12-02T20:50:13.846Z"
   },
   {
    "duration": 1013,
    "start_time": "2022-12-02T20:50:13.874Z"
   },
   {
    "duration": 7,
    "start_time": "2022-12-02T20:50:14.889Z"
   },
   {
    "duration": 17,
    "start_time": "2022-12-02T20:50:14.897Z"
   },
   {
    "duration": 5,
    "start_time": "2022-12-02T20:50:14.916Z"
   },
   {
    "duration": 171,
    "start_time": "2022-12-02T20:50:14.923Z"
   },
   {
    "duration": 29,
    "start_time": "2022-12-02T20:50:15.095Z"
   },
   {
    "duration": 285,
    "start_time": "2022-12-02T20:50:15.125Z"
   },
   {
    "duration": 178,
    "start_time": "2022-12-02T20:50:15.412Z"
   },
   {
    "duration": 167,
    "start_time": "2022-12-02T20:50:15.592Z"
   },
   {
    "duration": 179,
    "start_time": "2022-12-02T20:50:15.760Z"
   },
   {
    "duration": 185,
    "start_time": "2022-12-02T20:50:15.942Z"
   },
   {
    "duration": 54,
    "start_time": "2022-12-02T20:50:16.129Z"
   },
   {
    "duration": 363,
    "start_time": "2022-12-02T20:50:16.185Z"
   },
   {
    "duration": 23,
    "start_time": "2022-12-02T20:50:16.551Z"
   },
   {
    "duration": 366,
    "start_time": "2022-12-02T20:50:16.576Z"
   },
   {
    "duration": 28,
    "start_time": "2022-12-02T20:50:16.944Z"
   },
   {
    "duration": 86,
    "start_time": "2023-09-04T17:38:07.660Z"
   },
   {
    "duration": 1541,
    "start_time": "2023-09-04T17:38:19.925Z"
   },
   {
    "duration": 348,
    "start_time": "2023-09-04T17:38:21.468Z"
   },
   {
    "duration": 66,
    "start_time": "2023-09-04T17:38:21.818Z"
   },
   {
    "duration": 2384,
    "start_time": "2023-09-04T17:38:21.886Z"
   },
   {
    "duration": 6,
    "start_time": "2023-09-04T17:38:24.273Z"
   },
   {
    "duration": 58,
    "start_time": "2023-09-04T17:38:24.281Z"
   },
   {
    "duration": 90,
    "start_time": "2023-09-04T17:38:24.343Z"
   },
   {
    "duration": 109,
    "start_time": "2023-09-04T17:38:24.435Z"
   },
   {
    "duration": 104,
    "start_time": "2023-09-04T17:38:24.547Z"
   },
   {
    "duration": 69,
    "start_time": "2023-09-04T17:38:24.653Z"
   },
   {
    "duration": 75,
    "start_time": "2023-09-04T17:38:24.726Z"
   },
   {
    "duration": 95,
    "start_time": "2023-09-04T17:38:24.803Z"
   },
   {
    "duration": 114,
    "start_time": "2023-09-04T17:38:24.900Z"
   },
   {
    "duration": 49,
    "start_time": "2023-09-04T17:38:25.018Z"
   },
   {
    "duration": 12,
    "start_time": "2023-09-04T17:38:25.069Z"
   },
   {
    "duration": 65,
    "start_time": "2023-09-04T17:38:25.082Z"
   },
   {
    "duration": 31,
    "start_time": "2023-09-04T17:38:25.149Z"
   },
   {
    "duration": 24,
    "start_time": "2023-09-04T17:38:25.183Z"
   },
   {
    "duration": 35,
    "start_time": "2023-09-04T17:38:25.209Z"
   },
   {
    "duration": 21,
    "start_time": "2023-09-04T17:38:25.246Z"
   },
   {
    "duration": 38,
    "start_time": "2023-09-04T17:38:25.269Z"
   },
   {
    "duration": 54,
    "start_time": "2023-09-04T17:38:25.309Z"
   },
   {
    "duration": 69,
    "start_time": "2023-09-04T17:38:25.365Z"
   },
   {
    "duration": 23,
    "start_time": "2023-09-04T17:38:25.436Z"
   },
   {
    "duration": 5,
    "start_time": "2023-09-04T17:38:25.465Z"
   },
   {
    "duration": 9,
    "start_time": "2023-09-04T17:38:25.471Z"
   },
   {
    "duration": 31,
    "start_time": "2023-09-04T17:38:25.482Z"
   },
   {
    "duration": 33,
    "start_time": "2023-09-04T17:38:25.515Z"
   },
   {
    "duration": 8,
    "start_time": "2023-09-04T17:38:25.556Z"
   },
   {
    "duration": 48,
    "start_time": "2023-09-04T17:38:25.566Z"
   },
   {
    "duration": 48,
    "start_time": "2023-09-04T17:38:25.616Z"
   },
   {
    "duration": 16,
    "start_time": "2023-09-04T17:38:25.666Z"
   },
   {
    "duration": 13,
    "start_time": "2023-09-04T17:38:25.684Z"
   },
   {
    "duration": 42,
    "start_time": "2023-09-04T17:38:25.699Z"
   },
   {
    "duration": 68,
    "start_time": "2023-09-04T17:38:25.742Z"
   },
   {
    "duration": 589,
    "start_time": "2023-09-04T17:38:25.812Z"
   },
   {
    "duration": 68,
    "start_time": "2023-09-04T17:38:26.403Z"
   },
   {
    "duration": 6,
    "start_time": "2023-09-04T17:38:26.481Z"
   },
   {
    "duration": 89,
    "start_time": "2023-09-04T17:38:26.489Z"
   },
   {
    "duration": 23,
    "start_time": "2023-09-04T17:38:26.579Z"
   },
   {
    "duration": 13360,
    "start_time": "2023-09-04T17:38:26.610Z"
   },
   {
    "duration": 9,
    "start_time": "2023-09-04T17:38:39.972Z"
   },
   {
    "duration": 51,
    "start_time": "2023-09-04T17:38:39.983Z"
   },
   {
    "duration": 32,
    "start_time": "2023-09-04T17:38:40.037Z"
   },
   {
    "duration": 42,
    "start_time": "2023-09-04T17:38:40.070Z"
   },
   {
    "duration": 41,
    "start_time": "2023-09-04T17:38:40.114Z"
   },
   {
    "duration": 15,
    "start_time": "2023-09-04T17:38:40.157Z"
   },
   {
    "duration": 4,
    "start_time": "2023-09-04T17:38:40.173Z"
   },
   {
    "duration": 13,
    "start_time": "2023-09-04T17:38:40.179Z"
   },
   {
    "duration": 49,
    "start_time": "2023-09-04T17:38:40.193Z"
   },
   {
    "duration": 10,
    "start_time": "2023-09-04T17:38:40.244Z"
   },
   {
    "duration": 32,
    "start_time": "2023-09-04T17:38:40.256Z"
   },
   {
    "duration": 20,
    "start_time": "2023-09-04T17:38:40.289Z"
   },
   {
    "duration": 9,
    "start_time": "2023-09-04T17:38:40.311Z"
   },
   {
    "duration": 404,
    "start_time": "2023-09-04T17:38:40.321Z"
   },
   {
    "duration": 5,
    "start_time": "2023-09-04T17:38:40.727Z"
   },
   {
    "duration": 33,
    "start_time": "2023-09-04T17:38:40.733Z"
   },
   {
    "duration": 140,
    "start_time": "2023-09-04T17:38:40.769Z"
   },
   {
    "duration": 282,
    "start_time": "2023-09-04T17:38:40.911Z"
   },
   {
    "duration": 158,
    "start_time": "2023-09-04T17:38:41.195Z"
   },
   {
    "duration": 26,
    "start_time": "2023-09-04T17:38:41.354Z"
   },
   {
    "duration": 8,
    "start_time": "2023-09-04T17:38:41.381Z"
   },
   {
    "duration": 409,
    "start_time": "2023-09-04T17:38:41.391Z"
   },
   {
    "duration": 147,
    "start_time": "2023-09-04T17:38:41.802Z"
   },
   {
    "duration": 221,
    "start_time": "2023-09-04T17:38:41.951Z"
   },
   {
    "duration": 8,
    "start_time": "2023-09-04T17:38:42.174Z"
   },
   {
    "duration": 15,
    "start_time": "2023-09-04T17:38:42.184Z"
   },
   {
    "duration": 53,
    "start_time": "2023-09-04T17:38:42.201Z"
   },
   {
    "duration": 8,
    "start_time": "2023-09-04T17:38:42.257Z"
   },
   {
    "duration": 291,
    "start_time": "2023-09-04T17:38:42.266Z"
   },
   {
    "duration": 146,
    "start_time": "2023-09-04T17:38:42.559Z"
   },
   {
    "duration": 165,
    "start_time": "2023-09-04T17:38:42.706Z"
   },
   {
    "duration": 233,
    "start_time": "2023-09-04T17:38:42.873Z"
   },
   {
    "duration": 150,
    "start_time": "2023-09-04T17:38:43.107Z"
   },
   {
    "duration": 175,
    "start_time": "2023-09-04T17:38:43.259Z"
   },
   {
    "duration": 207,
    "start_time": "2023-09-04T17:38:43.437Z"
   },
   {
    "duration": 298,
    "start_time": "2023-09-04T17:38:43.645Z"
   },
   {
    "duration": 121,
    "start_time": "2023-09-04T17:38:43.946Z"
   },
   {
    "duration": 139,
    "start_time": "2023-09-04T17:38:44.069Z"
   },
   {
    "duration": 190,
    "start_time": "2023-09-04T17:38:44.210Z"
   },
   {
    "duration": 5,
    "start_time": "2023-09-04T17:38:44.402Z"
   },
   {
    "duration": 186,
    "start_time": "2023-09-04T17:38:44.408Z"
   },
   {
    "duration": 4,
    "start_time": "2023-09-04T17:38:44.596Z"
   },
   {
    "duration": 288,
    "start_time": "2023-09-04T17:38:44.601Z"
   },
   {
    "duration": 176,
    "start_time": "2023-09-04T17:38:44.890Z"
   },
   {
    "duration": 34,
    "start_time": "2023-09-04T17:38:45.068Z"
   },
   {
    "duration": 279,
    "start_time": "2023-09-04T17:38:45.103Z"
   },
   {
    "duration": 25,
    "start_time": "2023-09-04T17:38:45.383Z"
   },
   {
    "duration": 1088,
    "start_time": "2023-09-04T17:38:45.427Z"
   },
   {
    "duration": 9,
    "start_time": "2023-09-04T17:38:46.525Z"
   },
   {
    "duration": 85,
    "start_time": "2023-09-04T17:38:46.535Z"
   },
   {
    "duration": 9,
    "start_time": "2023-09-04T17:38:46.622Z"
   },
   {
    "duration": 210,
    "start_time": "2023-09-04T17:38:46.633Z"
   },
   {
    "duration": 22,
    "start_time": "2023-09-04T17:38:46.848Z"
   },
   {
    "duration": 292,
    "start_time": "2023-09-04T17:38:46.872Z"
   },
   {
    "duration": 167,
    "start_time": "2023-09-04T17:38:47.166Z"
   },
   {
    "duration": 168,
    "start_time": "2023-09-04T17:38:47.335Z"
   },
   {
    "duration": 162,
    "start_time": "2023-09-04T17:38:47.506Z"
   },
   {
    "duration": 196,
    "start_time": "2023-09-04T17:38:47.670Z"
   },
   {
    "duration": 71,
    "start_time": "2023-09-04T17:38:47.867Z"
   },
   {
    "duration": 273,
    "start_time": "2023-09-04T17:38:47.939Z"
   },
   {
    "duration": 37,
    "start_time": "2023-09-04T17:38:48.213Z"
   },
   {
    "duration": 344,
    "start_time": "2023-09-04T17:38:48.254Z"
   },
   {
    "duration": 41,
    "start_time": "2023-09-04T17:38:48.599Z"
   },
   {
    "duration": 10298,
    "start_time": "2023-09-04T17:38:51.400Z"
   },
   {
    "duration": 344,
    "start_time": "2023-09-04T18:11:46.930Z"
   }
  ],
  "kernelspec": {
   "display_name": "Python 3 (ipykernel)",
   "language": "python",
   "name": "python3"
  },
  "language_info": {
   "codemirror_mode": {
    "name": "ipython",
    "version": 3
   },
   "file_extension": ".py",
   "mimetype": "text/x-python",
   "name": "python",
   "nbconvert_exporter": "python",
   "pygments_lexer": "ipython3",
   "version": "3.9.5"
  },
  "toc": {
   "base_numbering": 1,
   "nav_menu": {},
   "number_sections": true,
   "sideBar": true,
   "skip_h1_title": true,
   "title_cell": "Table of Contents",
   "title_sidebar": "Contents",
   "toc_cell": false,
   "toc_position": {
    "height": "calc(100% - 180px)",
    "left": "10px",
    "top": "150px",
    "width": "165px"
   },
   "toc_section_display": true,
   "toc_window_display": true
  },
  "vscode": {
   "interpreter": {
    "hash": "3412226817ed4136e74b5e2f9f597f37e9cf508d189b6a301fec68e01fffdb83"
   }
  }
 },
 "nbformat": 4,
 "nbformat_minor": 2
}
