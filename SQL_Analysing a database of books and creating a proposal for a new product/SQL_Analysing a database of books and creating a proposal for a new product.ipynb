{
 "cells": [
  {
   "cell_type": "markdown",
   "metadata": {},
   "source": [
    "# SQL"
   ]
  },
  {
   "cell_type": "markdown",
   "metadata": {},
   "source": [
    "Коронавирус застал мир врасплох, изменив привычный порядок вещей. В свободное время жители городов больше не выходят на улицу, не посещают кафе и торговые центры. Зато стало больше времени для книг. Это заметили стартаперы — и бросились создавать приложения для тех, кто любит читать.\n",
    "\n",
    "Ваша компания решила быть на волне и купила крупный сервис для чтения книг по подписке. Ваша первая задача как аналитика — проанализировать базу данных.\n",
    "В ней — информация о книгах, издательствах, авторах, а также пользовательские обзоры книг. Эти данные помогут сформулировать ценностное предложение для нового продукта."
   ]
  },
  {
   "cell_type": "markdown",
   "metadata": {},
   "source": [
    "### Описание данных\n",
    "\n",
    "**Таблица `books`**\n",
    "\n",
    "Содержит данные о книгах:\n",
    "\n",
    "- `book_id` — идентификатор книги;\n",
    "- `author_id` — идентификатор автора;\n",
    "- `title` — название книги;\n",
    "- `num_pages` — количество страниц;\n",
    "- `publication_date` — дата публикации книги;\n",
    "- `publisher_id` — идентификатор издателя.\n",
    "\n",
    "**Таблица `authors`**\n",
    "\n",
    "Содержит данные об авторах:\n",
    "\n",
    "- `author_id` — идентификатор автора;\n",
    "- `author` — имя автора.\n",
    "\n",
    "**Таблица `publishers`**\n",
    "\n",
    "Содержит данные об издательствах:\n",
    "\n",
    "- `publisher_id` — идентификатор издательства;\n",
    "- `publisher` — название издательства;\n",
    "\n",
    "**Таблица `ratings`**\n",
    "\n",
    "Содержит данные о пользовательских оценках книг:\n",
    "\n",
    "- `rating_id` — идентификатор оценки;\n",
    "- `book_id` — идентификатор книги;\n",
    "- `username` — имя пользователя, оставившего оценку;\n",
    "- `rating` — оценка книги.\n",
    "\n",
    "**Таблица `reviews`**\n",
    "\n",
    "Содержит данные о пользовательских обзорах на книги:\n",
    "\n",
    "- `review_id` — идентификатор обзора;\n",
    "- `book_id` — идентификатор книги;\n",
    "- `username` — имя пользователя, написавшего обзор;\n",
    "- `text` — текст обзора."
   ]
  },
  {
   "cell_type": "markdown",
   "metadata": {},
   "source": [
    "### Задания\n",
    "\n",
    "- Посчитайте, сколько книг вышло после 1 января 2000 года;\n",
    "- Для каждой книги посчитайте количество обзоров и среднюю оценку;\n",
    "- Определите издательство, которое выпустило наибольшее число книг толще 50 страниц — так вы исключите из анализа брошюры;\n",
    "- Определите автора с самой высокой средней оценкой книг — учитывайте только книги с 50 и более оценками;\n",
    "- Посчитайте среднее количество обзоров от пользователей, которые поставили больше 48 оценок."
   ]
  },
  {
   "cell_type": "markdown",
   "metadata": {},
   "source": [
    "### Как выполнить задание?\n",
    "\n",
    "- Опишите цели исследования;\n",
    "- Исследуйте таблицы — выведите первые строки;\n",
    "- Сделайте по одному SQL-запросу для решения каждого задания;\n",
    "- Выведите результат каждого запроса в тетрадке;\n",
    "- Опишите выводы по каждой из решённых задач."
   ]
  },
  {
   "cell_type": "code",
   "execution_count": 1,
   "metadata": {},
   "outputs": [
    {
     "data": {
      "text/html": [
       "<div>\n",
       "<style scoped>\n",
       "    .dataframe tbody tr th:only-of-type {\n",
       "        vertical-align: middle;\n",
       "    }\n",
       "\n",
       "    .dataframe tbody tr th {\n",
       "        vertical-align: top;\n",
       "    }\n",
       "\n",
       "    .dataframe thead th {\n",
       "        text-align: right;\n",
       "    }\n",
       "</style>\n",
       "<table border=\"1\" class=\"dataframe\">\n",
       "  <thead>\n",
       "    <tr style=\"text-align: right;\">\n",
       "      <th></th>\n",
       "      <th>book_id</th>\n",
       "      <th>author_id</th>\n",
       "      <th>title</th>\n",
       "      <th>num_pages</th>\n",
       "      <th>publication_date</th>\n",
       "      <th>publisher_id</th>\n",
       "    </tr>\n",
       "  </thead>\n",
       "  <tbody>\n",
       "    <tr>\n",
       "      <th>0</th>\n",
       "      <td>1</td>\n",
       "      <td>546</td>\n",
       "      <td>'Salem's Lot</td>\n",
       "      <td>594</td>\n",
       "      <td>2005-11-01</td>\n",
       "      <td>93</td>\n",
       "    </tr>\n",
       "    <tr>\n",
       "      <th>1</th>\n",
       "      <td>2</td>\n",
       "      <td>465</td>\n",
       "      <td>1 000 Places to See Before You Die</td>\n",
       "      <td>992</td>\n",
       "      <td>2003-05-22</td>\n",
       "      <td>336</td>\n",
       "    </tr>\n",
       "    <tr>\n",
       "      <th>2</th>\n",
       "      <td>3</td>\n",
       "      <td>407</td>\n",
       "      <td>13 Little Blue Envelopes (Little Blue Envelope...</td>\n",
       "      <td>322</td>\n",
       "      <td>2010-12-21</td>\n",
       "      <td>135</td>\n",
       "    </tr>\n",
       "    <tr>\n",
       "      <th>3</th>\n",
       "      <td>4</td>\n",
       "      <td>82</td>\n",
       "      <td>1491: New Revelations of the Americas Before C...</td>\n",
       "      <td>541</td>\n",
       "      <td>2006-10-10</td>\n",
       "      <td>309</td>\n",
       "    </tr>\n",
       "    <tr>\n",
       "      <th>4</th>\n",
       "      <td>5</td>\n",
       "      <td>125</td>\n",
       "      <td>1776</td>\n",
       "      <td>386</td>\n",
       "      <td>2006-07-04</td>\n",
       "      <td>268</td>\n",
       "    </tr>\n",
       "  </tbody>\n",
       "</table>\n",
       "</div>"
      ],
      "text/plain": [
       "   book_id  author_id                                              title  \\\n",
       "0        1        546                                       'Salem's Lot   \n",
       "1        2        465                 1 000 Places to See Before You Die   \n",
       "2        3        407  13 Little Blue Envelopes (Little Blue Envelope...   \n",
       "3        4         82  1491: New Revelations of the Americas Before C...   \n",
       "4        5        125                                               1776   \n",
       "\n",
       "   num_pages publication_date  publisher_id  \n",
       "0        594       2005-11-01            93  \n",
       "1        992       2003-05-22           336  \n",
       "2        322       2010-12-21           135  \n",
       "3        541       2006-10-10           309  \n",
       "4        386       2006-07-04           268  "
      ]
     },
     "execution_count": 1,
     "metadata": {},
     "output_type": "execute_result"
    }
   ],
   "source": [
    "# импортируем библиотеки\n",
    "import pandas as pd\n",
    "from sqlalchemy import text, create_engine\n",
    "\n",
    "# устанавливаем параметры\n",
    "db_config = {'user': 'praktikum_student', # имя пользователя\n",
    "'pwd': 'Sdf4$2;d-d30pp', # пароль\n",
    "'host': 'rc1b-wcoijxj3yxfsf3fs.mdb.yandexcloud.net',\n",
    "'port': 6432, # порт подключения\n",
    "'db': 'data-analyst-final-project-db'} # название базы данных\n",
    "connection_string = 'postgresql://{user}:{pwd}@{host}:{port}/{db}'.format(**db_config)\n",
    "\n",
    "# сохраняем коннектор\n",
    "engine = create_engine(connection_string, connect_args={'sslmode':'require'})\n",
    "\n",
    "# чтобы выполнить SQL-запрос, используем Pandas\n",
    "query = '''SELECT * FROM books LIMIT 5'''\n",
    "\n",
    "con=engine.connect()\n",
    "\n",
    "pd.io.sql.read_sql(sql=text(query), con = con)"
   ]
  },
  {
   "cell_type": "markdown",
   "metadata": {},
   "source": [
    "<div class=\"alert alert-info\">\n",
    "Поняла\n",
    "</div>"
   ]
  },
  {
   "cell_type": "markdown",
   "metadata": {},
   "source": [
    "**Таблица books**"
   ]
  },
  {
   "cell_type": "code",
   "execution_count": 2,
   "metadata": {},
   "outputs": [
    {
     "data": {
      "text/html": [
       "<div>\n",
       "<style scoped>\n",
       "    .dataframe tbody tr th:only-of-type {\n",
       "        vertical-align: middle;\n",
       "    }\n",
       "\n",
       "    .dataframe tbody tr th {\n",
       "        vertical-align: top;\n",
       "    }\n",
       "\n",
       "    .dataframe thead th {\n",
       "        text-align: right;\n",
       "    }\n",
       "</style>\n",
       "<table border=\"1\" class=\"dataframe\">\n",
       "  <thead>\n",
       "    <tr style=\"text-align: right;\">\n",
       "      <th></th>\n",
       "      <th>book_id</th>\n",
       "      <th>author_id</th>\n",
       "      <th>title</th>\n",
       "      <th>num_pages</th>\n",
       "      <th>publication_date</th>\n",
       "      <th>publisher_id</th>\n",
       "    </tr>\n",
       "  </thead>\n",
       "  <tbody>\n",
       "    <tr>\n",
       "      <th>0</th>\n",
       "      <td>1</td>\n",
       "      <td>546</td>\n",
       "      <td>'Salem's Lot</td>\n",
       "      <td>594</td>\n",
       "      <td>2005-11-01</td>\n",
       "      <td>93</td>\n",
       "    </tr>\n",
       "    <tr>\n",
       "      <th>1</th>\n",
       "      <td>2</td>\n",
       "      <td>465</td>\n",
       "      <td>1 000 Places to See Before You Die</td>\n",
       "      <td>992</td>\n",
       "      <td>2003-05-22</td>\n",
       "      <td>336</td>\n",
       "    </tr>\n",
       "    <tr>\n",
       "      <th>2</th>\n",
       "      <td>3</td>\n",
       "      <td>407</td>\n",
       "      <td>13 Little Blue Envelopes (Little Blue Envelope...</td>\n",
       "      <td>322</td>\n",
       "      <td>2010-12-21</td>\n",
       "      <td>135</td>\n",
       "    </tr>\n",
       "    <tr>\n",
       "      <th>3</th>\n",
       "      <td>4</td>\n",
       "      <td>82</td>\n",
       "      <td>1491: New Revelations of the Americas Before C...</td>\n",
       "      <td>541</td>\n",
       "      <td>2006-10-10</td>\n",
       "      <td>309</td>\n",
       "    </tr>\n",
       "    <tr>\n",
       "      <th>4</th>\n",
       "      <td>5</td>\n",
       "      <td>125</td>\n",
       "      <td>1776</td>\n",
       "      <td>386</td>\n",
       "      <td>2006-07-04</td>\n",
       "      <td>268</td>\n",
       "    </tr>\n",
       "  </tbody>\n",
       "</table>\n",
       "</div>"
      ],
      "text/plain": [
       "   book_id  author_id                                              title  \\\n",
       "0        1        546                                       'Salem's Lot   \n",
       "1        2        465                 1 000 Places to See Before You Die   \n",
       "2        3        407  13 Little Blue Envelopes (Little Blue Envelope...   \n",
       "3        4         82  1491: New Revelations of the Americas Before C...   \n",
       "4        5        125                                               1776   \n",
       "\n",
       "   num_pages publication_date  publisher_id  \n",
       "0        594       2005-11-01            93  \n",
       "1        992       2003-05-22           336  \n",
       "2        322       2010-12-21           135  \n",
       "3        541       2006-10-10           309  \n",
       "4        386       2006-07-04           268  "
      ]
     },
     "execution_count": 2,
     "metadata": {},
     "output_type": "execute_result"
    }
   ],
   "source": [
    "query = '''\n",
    "            SELECT * \n",
    "            FROM books\n",
    "        '''\n",
    "books = pd.io.sql.read_sql(query, con = engine)\n",
    "books.head()"
   ]
  },
  {
   "cell_type": "code",
   "execution_count": 3,
   "metadata": {},
   "outputs": [
    {
     "name": "stdout",
     "output_type": "stream",
     "text": [
      "<class 'pandas.core.frame.DataFrame'>\n",
      "RangeIndex: 1000 entries, 0 to 999\n",
      "Data columns (total 6 columns):\n",
      " #   Column            Non-Null Count  Dtype \n",
      "---  ------            --------------  ----- \n",
      " 0   book_id           1000 non-null   int64 \n",
      " 1   author_id         1000 non-null   int64 \n",
      " 2   title             1000 non-null   object\n",
      " 3   num_pages         1000 non-null   int64 \n",
      " 4   publication_date  1000 non-null   object\n",
      " 5   publisher_id      1000 non-null   int64 \n",
      "dtypes: int64(4), object(2)\n",
      "memory usage: 47.0+ KB\n"
     ]
    }
   ],
   "source": [
    "books.info()"
   ]
  },
  {
   "cell_type": "markdown",
   "metadata": {},
   "source": [
    "**Таблица authors**"
   ]
  },
  {
   "cell_type": "code",
   "execution_count": 4,
   "metadata": {},
   "outputs": [
    {
     "data": {
      "text/html": [
       "<div>\n",
       "<style scoped>\n",
       "    .dataframe tbody tr th:only-of-type {\n",
       "        vertical-align: middle;\n",
       "    }\n",
       "\n",
       "    .dataframe tbody tr th {\n",
       "        vertical-align: top;\n",
       "    }\n",
       "\n",
       "    .dataframe thead th {\n",
       "        text-align: right;\n",
       "    }\n",
       "</style>\n",
       "<table border=\"1\" class=\"dataframe\">\n",
       "  <thead>\n",
       "    <tr style=\"text-align: right;\">\n",
       "      <th></th>\n",
       "      <th>author_id</th>\n",
       "      <th>author</th>\n",
       "    </tr>\n",
       "  </thead>\n",
       "  <tbody>\n",
       "    <tr>\n",
       "      <th>0</th>\n",
       "      <td>1</td>\n",
       "      <td>A.S. Byatt</td>\n",
       "    </tr>\n",
       "    <tr>\n",
       "      <th>1</th>\n",
       "      <td>2</td>\n",
       "      <td>Aesop/Laura Harris/Laura Gibbs</td>\n",
       "    </tr>\n",
       "    <tr>\n",
       "      <th>2</th>\n",
       "      <td>3</td>\n",
       "      <td>Agatha Christie</td>\n",
       "    </tr>\n",
       "    <tr>\n",
       "      <th>3</th>\n",
       "      <td>4</td>\n",
       "      <td>Alan Brennert</td>\n",
       "    </tr>\n",
       "    <tr>\n",
       "      <th>4</th>\n",
       "      <td>5</td>\n",
       "      <td>Alan Moore/David   Lloyd</td>\n",
       "    </tr>\n",
       "  </tbody>\n",
       "</table>\n",
       "</div>"
      ],
      "text/plain": [
       "   author_id                          author\n",
       "0          1                      A.S. Byatt\n",
       "1          2  Aesop/Laura Harris/Laura Gibbs\n",
       "2          3                 Agatha Christie\n",
       "3          4                   Alan Brennert\n",
       "4          5        Alan Moore/David   Lloyd"
      ]
     },
     "execution_count": 4,
     "metadata": {},
     "output_type": "execute_result"
    }
   ],
   "source": [
    "query = '''\n",
    "            SELECT * \n",
    "            FROM authors\n",
    "        '''\n",
    "authors = pd.io.sql.read_sql(query, con = engine)\n",
    "authors.head()"
   ]
  },
  {
   "cell_type": "code",
   "execution_count": 5,
   "metadata": {},
   "outputs": [
    {
     "name": "stdout",
     "output_type": "stream",
     "text": [
      "<class 'pandas.core.frame.DataFrame'>\n",
      "RangeIndex: 636 entries, 0 to 635\n",
      "Data columns (total 2 columns):\n",
      " #   Column     Non-Null Count  Dtype \n",
      "---  ------     --------------  ----- \n",
      " 0   author_id  636 non-null    int64 \n",
      " 1   author     636 non-null    object\n",
      "dtypes: int64(1), object(1)\n",
      "memory usage: 10.1+ KB\n"
     ]
    }
   ],
   "source": [
    "authors.info()"
   ]
  },
  {
   "cell_type": "markdown",
   "metadata": {},
   "source": [
    "**Таблица ratings**"
   ]
  },
  {
   "cell_type": "code",
   "execution_count": 6,
   "metadata": {},
   "outputs": [
    {
     "data": {
      "text/html": [
       "<div>\n",
       "<style scoped>\n",
       "    .dataframe tbody tr th:only-of-type {\n",
       "        vertical-align: middle;\n",
       "    }\n",
       "\n",
       "    .dataframe tbody tr th {\n",
       "        vertical-align: top;\n",
       "    }\n",
       "\n",
       "    .dataframe thead th {\n",
       "        text-align: right;\n",
       "    }\n",
       "</style>\n",
       "<table border=\"1\" class=\"dataframe\">\n",
       "  <thead>\n",
       "    <tr style=\"text-align: right;\">\n",
       "      <th></th>\n",
       "      <th>rating_id</th>\n",
       "      <th>book_id</th>\n",
       "      <th>username</th>\n",
       "      <th>rating</th>\n",
       "    </tr>\n",
       "  </thead>\n",
       "  <tbody>\n",
       "    <tr>\n",
       "      <th>0</th>\n",
       "      <td>1</td>\n",
       "      <td>1</td>\n",
       "      <td>ryanfranco</td>\n",
       "      <td>4</td>\n",
       "    </tr>\n",
       "    <tr>\n",
       "      <th>1</th>\n",
       "      <td>2</td>\n",
       "      <td>1</td>\n",
       "      <td>grantpatricia</td>\n",
       "      <td>2</td>\n",
       "    </tr>\n",
       "    <tr>\n",
       "      <th>2</th>\n",
       "      <td>3</td>\n",
       "      <td>1</td>\n",
       "      <td>brandtandrea</td>\n",
       "      <td>5</td>\n",
       "    </tr>\n",
       "    <tr>\n",
       "      <th>3</th>\n",
       "      <td>4</td>\n",
       "      <td>2</td>\n",
       "      <td>lorichen</td>\n",
       "      <td>3</td>\n",
       "    </tr>\n",
       "    <tr>\n",
       "      <th>4</th>\n",
       "      <td>5</td>\n",
       "      <td>2</td>\n",
       "      <td>mariokeller</td>\n",
       "      <td>2</td>\n",
       "    </tr>\n",
       "  </tbody>\n",
       "</table>\n",
       "</div>"
      ],
      "text/plain": [
       "   rating_id  book_id       username  rating\n",
       "0          1        1     ryanfranco       4\n",
       "1          2        1  grantpatricia       2\n",
       "2          3        1   brandtandrea       5\n",
       "3          4        2       lorichen       3\n",
       "4          5        2    mariokeller       2"
      ]
     },
     "execution_count": 6,
     "metadata": {},
     "output_type": "execute_result"
    }
   ],
   "source": [
    "query = '''\n",
    "            SELECT * \n",
    "            FROM ratings\n",
    "        '''\n",
    "ratings = pd.io.sql.read_sql(query, con = engine)\n",
    "ratings.head()"
   ]
  },
  {
   "cell_type": "code",
   "execution_count": 7,
   "metadata": {},
   "outputs": [
    {
     "name": "stdout",
     "output_type": "stream",
     "text": [
      "<class 'pandas.core.frame.DataFrame'>\n",
      "RangeIndex: 6456 entries, 0 to 6455\n",
      "Data columns (total 4 columns):\n",
      " #   Column     Non-Null Count  Dtype \n",
      "---  ------     --------------  ----- \n",
      " 0   rating_id  6456 non-null   int64 \n",
      " 1   book_id    6456 non-null   int64 \n",
      " 2   username   6456 non-null   object\n",
      " 3   rating     6456 non-null   int64 \n",
      "dtypes: int64(3), object(1)\n",
      "memory usage: 201.9+ KB\n"
     ]
    }
   ],
   "source": [
    "ratings.info()"
   ]
  },
  {
   "cell_type": "markdown",
   "metadata": {},
   "source": [
    "**Таблица reviews**"
   ]
  },
  {
   "cell_type": "code",
   "execution_count": 8,
   "metadata": {},
   "outputs": [
    {
     "name": "stdout",
     "output_type": "stream",
     "text": [
      "<class 'pandas.core.frame.DataFrame'>\n",
      "RangeIndex: 2793 entries, 0 to 2792\n",
      "Data columns (total 4 columns):\n",
      " #   Column     Non-Null Count  Dtype \n",
      "---  ------     --------------  ----- \n",
      " 0   review_id  2793 non-null   int64 \n",
      " 1   book_id    2793 non-null   int64 \n",
      " 2   username   2793 non-null   object\n",
      " 3   text       2793 non-null   object\n",
      "dtypes: int64(2), object(2)\n",
      "memory usage: 87.4+ KB\n"
     ]
    }
   ],
   "source": [
    "query = '''\n",
    "            SELECT * \n",
    "            FROM reviews\n",
    "        '''\n",
    "reviews = pd.io.sql.read_sql(query, con = engine)\n",
    "reviews.info()"
   ]
  },
  {
   "cell_type": "markdown",
   "metadata": {},
   "source": [
    "<div class=\"alert alert-info\">\n",
    "Поняла, спасибо\n",
    "</div>"
   ]
  },
  {
   "cell_type": "markdown",
   "metadata": {},
   "source": [
    "# Ответы на вопросы"
   ]
  },
  {
   "cell_type": "markdown",
   "metadata": {},
   "source": [
    "## Сколько книг вышло после 1 января 2000 года?"
   ]
  },
  {
   "cell_type": "code",
   "execution_count": 9,
   "metadata": {},
   "outputs": [
    {
     "data": {
      "text/html": [
       "<div>\n",
       "<style scoped>\n",
       "    .dataframe tbody tr th:only-of-type {\n",
       "        vertical-align: middle;\n",
       "    }\n",
       "\n",
       "    .dataframe tbody tr th {\n",
       "        vertical-align: top;\n",
       "    }\n",
       "\n",
       "    .dataframe thead th {\n",
       "        text-align: right;\n",
       "    }\n",
       "</style>\n",
       "<table border=\"1\" class=\"dataframe\">\n",
       "  <thead>\n",
       "    <tr style=\"text-align: right;\">\n",
       "      <th></th>\n",
       "      <th>count_of_books</th>\n",
       "    </tr>\n",
       "  </thead>\n",
       "  <tbody>\n",
       "    <tr>\n",
       "      <th>0</th>\n",
       "      <td>819</td>\n",
       "    </tr>\n",
       "  </tbody>\n",
       "</table>\n",
       "</div>"
      ],
      "text/plain": [
       "   count_of_books\n",
       "0             819"
      ]
     },
     "execution_count": 9,
     "metadata": {},
     "output_type": "execute_result"
    }
   ],
   "source": [
    "query = '''\n",
    "            SELECT COUNT(book_id) count_of_books\n",
    "            FROM books \n",
    "            WHERE publication_date > '01-01-2000'\n",
    "        '''\n",
    "pd.io.sql.read_sql(query, con = engine)"
   ]
  },
  {
   "cell_type": "markdown",
   "metadata": {},
   "source": [
    "После 1 января 2000 года было выпущено 819 книг."
   ]
  },
  {
   "cell_type": "markdown",
   "metadata": {},
   "source": [
    "## Для каждой книги посчитайте количество обзоров и среднюю оценку"
   ]
  },
  {
   "cell_type": "code",
   "execution_count": 10,
   "metadata": {
    "scrolled": true
   },
   "outputs": [
    {
     "data": {
      "text/html": [
       "<div>\n",
       "<style scoped>\n",
       "    .dataframe tbody tr th:only-of-type {\n",
       "        vertical-align: middle;\n",
       "    }\n",
       "\n",
       "    .dataframe tbody tr th {\n",
       "        vertical-align: top;\n",
       "    }\n",
       "\n",
       "    .dataframe thead th {\n",
       "        text-align: right;\n",
       "    }\n",
       "</style>\n",
       "<table border=\"1\" class=\"dataframe\">\n",
       "  <thead>\n",
       "    <tr style=\"text-align: right;\">\n",
       "      <th></th>\n",
       "      <th>title</th>\n",
       "      <th>avg_rating</th>\n",
       "      <th>review_count</th>\n",
       "    </tr>\n",
       "  </thead>\n",
       "  <tbody>\n",
       "    <tr>\n",
       "      <th>0</th>\n",
       "      <td>The Body in the Library (Miss Marple  #3)</td>\n",
       "      <td>4.500000</td>\n",
       "      <td>2.0</td>\n",
       "    </tr>\n",
       "    <tr>\n",
       "      <th>1</th>\n",
       "      <td>Galápagos</td>\n",
       "      <td>4.500000</td>\n",
       "      <td>2.0</td>\n",
       "    </tr>\n",
       "    <tr>\n",
       "      <th>2</th>\n",
       "      <td>A Tree Grows in Brooklyn</td>\n",
       "      <td>4.250000</td>\n",
       "      <td>5.0</td>\n",
       "    </tr>\n",
       "    <tr>\n",
       "      <th>3</th>\n",
       "      <td>Undaunted Courage: The Pioneering First Missio...</td>\n",
       "      <td>4.000000</td>\n",
       "      <td>2.0</td>\n",
       "    </tr>\n",
       "    <tr>\n",
       "      <th>4</th>\n",
       "      <td>The Prophet</td>\n",
       "      <td>4.285714</td>\n",
       "      <td>4.0</td>\n",
       "    </tr>\n",
       "    <tr>\n",
       "      <th>...</th>\n",
       "      <td>...</td>\n",
       "      <td>...</td>\n",
       "      <td>...</td>\n",
       "    </tr>\n",
       "    <tr>\n",
       "      <th>995</th>\n",
       "      <td>Alice in Wonderland</td>\n",
       "      <td>4.230769</td>\n",
       "      <td>4.0</td>\n",
       "    </tr>\n",
       "    <tr>\n",
       "      <th>996</th>\n",
       "      <td>A Woman of Substance (Emma Harte Saga #1)</td>\n",
       "      <td>5.000000</td>\n",
       "      <td>2.0</td>\n",
       "    </tr>\n",
       "    <tr>\n",
       "      <th>997</th>\n",
       "      <td>Christine</td>\n",
       "      <td>3.428571</td>\n",
       "      <td>3.0</td>\n",
       "    </tr>\n",
       "    <tr>\n",
       "      <th>998</th>\n",
       "      <td>The Magicians' Guild (Black Magician Trilogy  #1)</td>\n",
       "      <td>3.500000</td>\n",
       "      <td>2.0</td>\n",
       "    </tr>\n",
       "    <tr>\n",
       "      <th>999</th>\n",
       "      <td>The Plot Against America</td>\n",
       "      <td>3.000000</td>\n",
       "      <td>2.0</td>\n",
       "    </tr>\n",
       "  </tbody>\n",
       "</table>\n",
       "<p>1000 rows × 3 columns</p>\n",
       "</div>"
      ],
      "text/plain": [
       "                                                 title  avg_rating  \\\n",
       "0            The Body in the Library (Miss Marple  #3)    4.500000   \n",
       "1                                            Galápagos    4.500000   \n",
       "2                             A Tree Grows in Brooklyn    4.250000   \n",
       "3    Undaunted Courage: The Pioneering First Missio...    4.000000   \n",
       "4                                          The Prophet    4.285714   \n",
       "..                                                 ...         ...   \n",
       "995                                Alice in Wonderland    4.230769   \n",
       "996          A Woman of Substance (Emma Harte Saga #1)    5.000000   \n",
       "997                                          Christine    3.428571   \n",
       "998  The Magicians' Guild (Black Magician Trilogy  #1)    3.500000   \n",
       "999                           The Plot Against America    3.000000   \n",
       "\n",
       "     review_count  \n",
       "0             2.0  \n",
       "1             2.0  \n",
       "2             5.0  \n",
       "3             2.0  \n",
       "4             4.0  \n",
       "..            ...  \n",
       "995           4.0  \n",
       "996           2.0  \n",
       "997           3.0  \n",
       "998           2.0  \n",
       "999           2.0  \n",
       "\n",
       "[1000 rows x 3 columns]"
      ]
     },
     "execution_count": 10,
     "metadata": {},
     "output_type": "execute_result"
    }
   ],
   "source": [
    "\n",
    "query = '''\n",
    "            SELECT b.title, rat.avg_rating, rev.review_count\n",
    "            FROM books b\n",
    "            LEFT JOIN (SELECT book_id, AVG(rating) avg_rating FROM ratings GROUP BY book_id) rat ON b.book_id=rat.book_id\n",
    "            LEFT JOIN (SELECT book_id, COUNT(*) review_count FROM reviews GROUP BY book_id) rev ON b.book_id=rev.book_id\n",
    "        '''\n",
    "pd.io.sql.read_sql(query, con = engine)"
   ]
  },
  {
   "cell_type": "markdown",
   "metadata": {},
   "source": [
    "Для большинства книг было написано несколько обзоров и средние оценки варьируются."
   ]
  },
  {
   "cell_type": "markdown",
   "metadata": {},
   "source": [
    "## Определите издательство, которое выпустило наибольшее число книг толще 50 страниц — так вы исключите из анализа брошюры"
   ]
  },
  {
   "cell_type": "code",
   "execution_count": 11,
   "metadata": {},
   "outputs": [
    {
     "data": {
      "text/html": [
       "<div>\n",
       "<style scoped>\n",
       "    .dataframe tbody tr th:only-of-type {\n",
       "        vertical-align: middle;\n",
       "    }\n",
       "\n",
       "    .dataframe tbody tr th {\n",
       "        vertical-align: top;\n",
       "    }\n",
       "\n",
       "    .dataframe thead th {\n",
       "        text-align: right;\n",
       "    }\n",
       "</style>\n",
       "<table border=\"1\" class=\"dataframe\">\n",
       "  <thead>\n",
       "    <tr style=\"text-align: right;\">\n",
       "      <th></th>\n",
       "      <th>publisher_id</th>\n",
       "      <th>publisher</th>\n",
       "      <th>count_books</th>\n",
       "    </tr>\n",
       "  </thead>\n",
       "  <tbody>\n",
       "    <tr>\n",
       "      <th>0</th>\n",
       "      <td>212</td>\n",
       "      <td>Penguin Books</td>\n",
       "      <td>42</td>\n",
       "    </tr>\n",
       "  </tbody>\n",
       "</table>\n",
       "</div>"
      ],
      "text/plain": [
       "   publisher_id      publisher  count_books\n",
       "0           212  Penguin Books           42"
      ]
     },
     "execution_count": 11,
     "metadata": {},
     "output_type": "execute_result"
    }
   ],
   "source": [
    "query = '''\n",
    "            SELECT b.publisher_id, p.publisher, COUNT(*) count_books\n",
    "            FROM books b\n",
    "            LEFT JOIN publishers p ON b.publisher_id = p.publisher_id\n",
    "            WHERE num_pages > 50\n",
    "            GROUP BY b.publisher_id, p.publisher\n",
    "            ORDER BY COUNT(*) DESC\n",
    "            LIMIT 1\n",
    "        '''\n",
    "pd.io.sql.read_sql(query, con = engine)"
   ]
  },
  {
   "cell_type": "markdown",
   "metadata": {},
   "source": [
    "Издательство \"Penguin Books\" выпустило 42 книги толще 50 страниц. Это около 4% от всех книг в данных.\n",
    "\n",
    "Это Британское издательство, основанное в 1935 году в Лондоне сэром Алленом Лейном и его братьями Ричардом и Джоном. Главной заслугой издательства считают демократизацию книжного рынка, превратившую книгу из предмета роскоши в удовольствие, доступное массам. "
   ]
  },
  {
   "cell_type": "markdown",
   "metadata": {},
   "source": [
    "## Определите автора с самой высокой средней оценкой книг — учитывайте только книги с 50 и более оценками"
   ]
  },
  {
   "cell_type": "code",
   "execution_count": 12,
   "metadata": {},
   "outputs": [
    {
     "data": {
      "text/html": [
       "<div>\n",
       "<style scoped>\n",
       "    .dataframe tbody tr th:only-of-type {\n",
       "        vertical-align: middle;\n",
       "    }\n",
       "\n",
       "    .dataframe tbody tr th {\n",
       "        vertical-align: top;\n",
       "    }\n",
       "\n",
       "    .dataframe thead th {\n",
       "        text-align: right;\n",
       "    }\n",
       "</style>\n",
       "<table border=\"1\" class=\"dataframe\">\n",
       "  <thead>\n",
       "    <tr style=\"text-align: right;\">\n",
       "      <th></th>\n",
       "      <th>author</th>\n",
       "      <th>avg</th>\n",
       "    </tr>\n",
       "  </thead>\n",
       "  <tbody>\n",
       "    <tr>\n",
       "      <th>0</th>\n",
       "      <td>J.K. Rowling/Mary GrandPré</td>\n",
       "      <td>4.283844</td>\n",
       "    </tr>\n",
       "    <tr>\n",
       "      <th>1</th>\n",
       "      <td>Markus Zusak/Cao Xuân Việt Khương</td>\n",
       "      <td>4.264151</td>\n",
       "    </tr>\n",
       "    <tr>\n",
       "      <th>2</th>\n",
       "      <td>J.R.R. Tolkien</td>\n",
       "      <td>4.258446</td>\n",
       "    </tr>\n",
       "    <tr>\n",
       "      <th>3</th>\n",
       "      <td>Louisa May Alcott</td>\n",
       "      <td>4.192308</td>\n",
       "    </tr>\n",
       "    <tr>\n",
       "      <th>4</th>\n",
       "      <td>Rick Riordan</td>\n",
       "      <td>4.080645</td>\n",
       "    </tr>\n",
       "    <tr>\n",
       "      <th>5</th>\n",
       "      <td>William Golding</td>\n",
       "      <td>3.901408</td>\n",
       "    </tr>\n",
       "    <tr>\n",
       "      <th>6</th>\n",
       "      <td>J.D. Salinger</td>\n",
       "      <td>3.825581</td>\n",
       "    </tr>\n",
       "    <tr>\n",
       "      <th>7</th>\n",
       "      <td>Paulo Coelho/Alan R. Clarke/Özdemir İnce</td>\n",
       "      <td>3.789474</td>\n",
       "    </tr>\n",
       "    <tr>\n",
       "      <th>8</th>\n",
       "      <td>William Shakespeare/Paul Werstine/Barbara A. M...</td>\n",
       "      <td>3.787879</td>\n",
       "    </tr>\n",
       "    <tr>\n",
       "      <th>9</th>\n",
       "      <td>Dan Brown</td>\n",
       "      <td>3.754540</td>\n",
       "    </tr>\n",
       "    <tr>\n",
       "      <th>10</th>\n",
       "      <td>Lois Lowry</td>\n",
       "      <td>3.750000</td>\n",
       "    </tr>\n",
       "    <tr>\n",
       "      <th>11</th>\n",
       "      <td>George Orwell/Boris Grabnar/Peter Škerl</td>\n",
       "      <td>3.729730</td>\n",
       "    </tr>\n",
       "    <tr>\n",
       "      <th>12</th>\n",
       "      <td>Stephenie Meyer</td>\n",
       "      <td>3.662500</td>\n",
       "    </tr>\n",
       "    <tr>\n",
       "      <th>13</th>\n",
       "      <td>John Steinbeck</td>\n",
       "      <td>3.622951</td>\n",
       "    </tr>\n",
       "  </tbody>\n",
       "</table>\n",
       "</div>"
      ],
      "text/plain": [
       "                                               author       avg\n",
       "0                          J.K. Rowling/Mary GrandPré  4.283844\n",
       "1                   Markus Zusak/Cao Xuân Việt Khương  4.264151\n",
       "2                                      J.R.R. Tolkien  4.258446\n",
       "3                                   Louisa May Alcott  4.192308\n",
       "4                                        Rick Riordan  4.080645\n",
       "5                                     William Golding  3.901408\n",
       "6                                       J.D. Salinger  3.825581\n",
       "7            Paulo Coelho/Alan R. Clarke/Özdemir İnce  3.789474\n",
       "8   William Shakespeare/Paul Werstine/Barbara A. M...  3.787879\n",
       "9                                           Dan Brown  3.754540\n",
       "10                                         Lois Lowry  3.750000\n",
       "11            George Orwell/Boris Grabnar/Peter Škerl  3.729730\n",
       "12                                    Stephenie Meyer  3.662500\n",
       "13                                     John Steinbeck  3.622951"
      ]
     },
     "execution_count": 12,
     "metadata": {},
     "output_type": "execute_result"
    }
   ],
   "source": [
    "query = '''\n",
    "            SELECT a.author, AVG(ratings)\n",
    "            FROM (\n",
    "            SELECT book_id, AVG(rating) ratings\n",
    "            FROM ratings\n",
    "            GROUP BY book_id\n",
    "            HAVING COUNT(*) > 50\n",
    "            ) rat\n",
    "            JOIN (SELECT book_id, author_id FROM books) b ON rat.book_id=b.book_id\n",
    "            JOIN (SELECT author_id, author FROM authors) a ON b.author_id=a.author_id\n",
    "            GROUP BY a.author\n",
    "            ORDER BY avg(ratings) DESC\n",
    "\n",
    "            \n",
    "        '''\n",
    "pd.io.sql.read_sql(query, con = engine)"
   ]
  },
  {
   "cell_type": "markdown",
   "metadata": {},
   "source": [
    "Автор с самой высокой оценкой - Джоан Роулинг, автор книг о Гарри Поттере. Тут она представлена в соавторстве с иллюстратором Мэри Гранпрэ. "
   ]
  },
  {
   "cell_type": "markdown",
   "metadata": {},
   "source": [
    "## Посчитайте среднее количество обзоров от пользователей, которые поставили больше 48 оценок"
   ]
  },
  {
   "cell_type": "code",
   "execution_count": 13,
   "metadata": {},
   "outputs": [
    {
     "data": {
      "text/html": [
       "<div>\n",
       "<style scoped>\n",
       "    .dataframe tbody tr th:only-of-type {\n",
       "        vertical-align: middle;\n",
       "    }\n",
       "\n",
       "    .dataframe tbody tr th {\n",
       "        vertical-align: top;\n",
       "    }\n",
       "\n",
       "    .dataframe thead th {\n",
       "        text-align: right;\n",
       "    }\n",
       "</style>\n",
       "<table border=\"1\" class=\"dataframe\">\n",
       "  <thead>\n",
       "    <tr style=\"text-align: right;\">\n",
       "      <th></th>\n",
       "      <th>avg</th>\n",
       "    </tr>\n",
       "  </thead>\n",
       "  <tbody>\n",
       "    <tr>\n",
       "      <th>0</th>\n",
       "      <td>24.0</td>\n",
       "    </tr>\n",
       "  </tbody>\n",
       "</table>\n",
       "</div>"
      ],
      "text/plain": [
       "    avg\n",
       "0  24.0"
      ]
     },
     "execution_count": 13,
     "metadata": {},
     "output_type": "execute_result"
    }
   ],
   "source": [
    "query = '''\n",
    "            SELECT AVG(count_reviews)\n",
    "            FROM (\n",
    "            SELECT username, COUNT(*) count_reviews\n",
    "            FROM reviews\n",
    "            WHERE username IN\n",
    "            (\n",
    "            SELECT username--, COUNT(*)\n",
    "            FROM ratings\n",
    "            GROUP BY username\n",
    "            HAVING COUNT(*) > 48\n",
    "            )\n",
    "            GROUP BY username) rev\n",
    "        \n",
    "\n",
    "        '''\n",
    "pd.io.sql.read_sql(query, con = engine)\n"
   ]
  },
  {
   "cell_type": "markdown",
   "metadata": {},
   "source": [
    "Среднее количество обзоров от пользователей, которые поставили более 48 оценок - 24.\n",
    "Видимо люди, которые любят читать, так же любят поделиться своим мнением с другими любителями чтения)"
   ]
  },
  {
   "cell_type": "markdown",
   "metadata": {},
   "source": [
    "Выведи таблицу, которая будет содержать по году публикации (отобразить нужно только те года, в которых издано более 30 книг):\n",
    "- количество издательств,\n",
    "- выпущенных книг и\n",
    "- сколько всего тысяч страниц было в изданных книгах."
   ]
  },
  {
   "cell_type": "code",
   "execution_count": 14,
   "metadata": {},
   "outputs": [
    {
     "data": {
      "text/html": [
       "<div>\n",
       "<style scoped>\n",
       "    .dataframe tbody tr th:only-of-type {\n",
       "        vertical-align: middle;\n",
       "    }\n",
       "\n",
       "    .dataframe tbody tr th {\n",
       "        vertical-align: top;\n",
       "    }\n",
       "\n",
       "    .dataframe thead th {\n",
       "        text-align: right;\n",
       "    }\n",
       "</style>\n",
       "<table border=\"1\" class=\"dataframe\">\n",
       "  <thead>\n",
       "    <tr style=\"text-align: right;\">\n",
       "      <th></th>\n",
       "      <th>years</th>\n",
       "      <th>publishers</th>\n",
       "      <th>books</th>\n",
       "      <th>pages</th>\n",
       "    </tr>\n",
       "  </thead>\n",
       "  <tbody>\n",
       "    <tr>\n",
       "      <th>0</th>\n",
       "      <td>1999.0</td>\n",
       "      <td>26</td>\n",
       "      <td>41</td>\n",
       "      <td>15,763</td>\n",
       "    </tr>\n",
       "    <tr>\n",
       "      <th>1</th>\n",
       "      <td>2000.0</td>\n",
       "      <td>35</td>\n",
       "      <td>38</td>\n",
       "      <td>13,328</td>\n",
       "    </tr>\n",
       "    <tr>\n",
       "      <th>2</th>\n",
       "      <td>2001.0</td>\n",
       "      <td>41</td>\n",
       "      <td>60</td>\n",
       "      <td>21,758</td>\n",
       "    </tr>\n",
       "    <tr>\n",
       "      <th>3</th>\n",
       "      <td>2002.0</td>\n",
       "      <td>62</td>\n",
       "      <td>94</td>\n",
       "      <td>38,597</td>\n",
       "    </tr>\n",
       "    <tr>\n",
       "      <th>4</th>\n",
       "      <td>2003.0</td>\n",
       "      <td>65</td>\n",
       "      <td>105</td>\n",
       "      <td>41,423</td>\n",
       "    </tr>\n",
       "    <tr>\n",
       "      <th>5</th>\n",
       "      <td>2004.0</td>\n",
       "      <td>88</td>\n",
       "      <td>124</td>\n",
       "      <td>46,779</td>\n",
       "    </tr>\n",
       "    <tr>\n",
       "      <th>6</th>\n",
       "      <td>2005.0</td>\n",
       "      <td>89</td>\n",
       "      <td>139</td>\n",
       "      <td>55,967</td>\n",
       "    </tr>\n",
       "    <tr>\n",
       "      <th>7</th>\n",
       "      <td>2006.0</td>\n",
       "      <td>109</td>\n",
       "      <td>184</td>\n",
       "      <td>68,302</td>\n",
       "    </tr>\n",
       "    <tr>\n",
       "      <th>8</th>\n",
       "      <td>2007.0</td>\n",
       "      <td>38</td>\n",
       "      <td>50</td>\n",
       "      <td>18,258</td>\n",
       "    </tr>\n",
       "  </tbody>\n",
       "</table>\n",
       "</div>"
      ],
      "text/plain": [
       "    years  publishers  books    pages\n",
       "0  1999.0          26     41   15,763\n",
       "1  2000.0          35     38   13,328\n",
       "2  2001.0          41     60   21,758\n",
       "3  2002.0          62     94   38,597\n",
       "4  2003.0          65    105   41,423\n",
       "5  2004.0          88    124   46,779\n",
       "6  2005.0          89    139   55,967\n",
       "7  2006.0         109    184   68,302\n",
       "8  2007.0          38     50   18,258"
      ]
     },
     "execution_count": 14,
     "metadata": {},
     "output_type": "execute_result"
    }
   ],
   "source": [
    "query = '''\n",
    "            SELECT EXTRACT(YEAR FROM publication_date) years,\n",
    "            COUNT (DISTINCT publisher_id) publishers, \n",
    "            COUNT (book_id) books,\n",
    "            to_char (SUM (num_pages), '99G999D')  pages\n",
    "            FROM books \n",
    "            GROUP BY 1\n",
    "            HAVING COUNT (*) > 30\n",
    "        '''\n",
    "pd.io.sql.read_sql(query, con = engine)"
   ]
  },
  {
   "cell_type": "markdown",
   "metadata": {},
   "source": [
    "Выведи в одной таблице два числа — среднюю оценку тех книг, на которые написало отзывов более 3 человек и отдельно среднюю оценку остальных книг, сделай выводы, какой рейтинг больше."
   ]
  },
  {
   "cell_type": "markdown",
   "metadata": {},
   "source": [
    "Выведи в одной таблице два числа — среднюю оценку тех книг, на которые написало отзывов более 3 человек и отдельно среднюю оценку остальных книг, сделай выводы, какой рейтинг больше. \n",
    "- mean rating\n",
    "- where COUNT rating_id > 3 \n",
    "- mean rating  rest books"
   ]
  },
  {
   "cell_type": "raw",
   "metadata": {},
   "source": [
    "query = '''\n",
    "WITH true_books AS (\n",
    "        \n",
    "        SELECT book_id\n",
    "        FROM books AS b\n",
    "        INNER JOIN ratings AS rat ON b.book_id = rat.book_id\n",
    "        INNER JOIN reviews AS rev ON b.book_id = rev.book_id\n",
    "        GROUP BY b.book_id\n",
    "        HAVING COUNT(DISTINCT rev.review_id) > 3 \n",
    "        ORDER BY avg_rating DESC\n",
    "        ),\n",
    "        \n",
    "more_3 AS (\n",
    "        SELECT ROUND (AVG(rating),3) AS avg_rating\n",
    "        WHERE book_id IN (\n",
    "            SELECT book_id\n",
    "            FROM true_books\n",
    "        )\n",
    "        ),\n",
    "less_eq_3 AS ( \n",
    "        SELECT book_id\n",
    "        FROM books AS b              \n",
    "        WHERE book_id NOT IN (\n",
    "            SELECT book_id\n",
    "            FROM true_books)\n",
    "    )\n",
    "    \n",
    "    SELECT * \n",
    "    FROM more_3, less_eq_3;\n",
    "    \n",
    "'''\n",
    "pd.io.sql.read_sql(query, con = engine)"
   ]
  },
  {
   "cell_type": "code",
   "execution_count": 15,
   "metadata": {},
   "outputs": [
    {
     "data": {
      "text/html": [
       "<div>\n",
       "<style scoped>\n",
       "    .dataframe tbody tr th:only-of-type {\n",
       "        vertical-align: middle;\n",
       "    }\n",
       "\n",
       "    .dataframe tbody tr th {\n",
       "        vertical-align: top;\n",
       "    }\n",
       "\n",
       "    .dataframe thead th {\n",
       "        text-align: right;\n",
       "    }\n",
       "</style>\n",
       "<table border=\"1\" class=\"dataframe\">\n",
       "  <thead>\n",
       "    <tr style=\"text-align: right;\">\n",
       "      <th></th>\n",
       "      <th>rating</th>\n",
       "    </tr>\n",
       "  </thead>\n",
       "  <tbody>\n",
       "    <tr>\n",
       "      <th>0</th>\n",
       "      <td>3.949505</td>\n",
       "    </tr>\n",
       "    <tr>\n",
       "      <th>1</th>\n",
       "      <td>3.890375</td>\n",
       "    </tr>\n",
       "  </tbody>\n",
       "</table>\n",
       "</div>"
      ],
      "text/plain": [
       "     rating\n",
       "0  3.949505\n",
       "1  3.890375"
      ]
     },
     "execution_count": 15,
     "metadata": {},
     "output_type": "execute_result"
    }
   ],
   "source": [
    "query = '''\n",
    "\n",
    "WITH many_rew AS ( --в этом блоке запроса many_rew ищем книги, у которых более 3 отзыва\n",
    "    SELECT \n",
    "        book_id,\n",
    "        COUNT(DISTINCT username) as rews\n",
    "    FROM reviews\n",
    "    GROUP BY book_id\n",
    "    HAVING COUNT(DISTINCT username) > 3\n",
    ")\n",
    "SELECT AVG(rating) as rating -- в этом блоке запроса считаем рейтинг отдельно по книгам, у которых более 3 отзывов\n",
    "FROM ratings\n",
    "WHERE ratings.book_id IN (SELECT book_id FROM many_rew)\n",
    "\n",
    "UNION ALL -- с помощью UNION ALL соединяем два числа\n",
    "\n",
    "SELECT AVG(rating) as rating -- в этом блоке счтитаем рейтинг отдельно по книгам, которые не попали в предыдущий расчёт\n",
    "FROM ratings\n",
    "WHERE ratings.book_id NOT IN (SELECT book_id FROM many_rew)\n",
    "'''\n",
    "\n",
    "pd.io.sql.read_sql(query, con = engine)"
   ]
  },
  {
   "cell_type": "markdown",
   "metadata": {},
   "source": [
    "# Общий вывод"
   ]
  },
  {
   "cell_type": "markdown",
   "metadata": {},
   "source": [
    "\n",
    "1. Описали цели исследования;\n",
    "2. Исследовали таблицы; \n",
    "3. Сделали по одному SQL-запросу для решения каждого задания;\n",
    "- После 1 января 2000 года было выпущено 819 книг\n",
    "- Для каждой книги посчитали количество обзоров и среднюю оценку\n",
    "- Определили издательство, которое выпустило наибольшее число книг толще 50 страниц - Издательство \"Penguin Books\" выпустило 42 книги толще 50 страниц. Это около 4% от всех книг в данных.\n",
    "- Определили автора с самой высокой средней оценкой книг, учитывая только книги с 50 и более оценками - Джоан Роулинг, автор книг о Гарри Поттере. Тут она представлена в соавторстве с иллюстратором Мэри Гранпрэ. \n",
    "-  Посчитайли среднее количество обзоров от пользователей, которые поставили больше 48 оценок - 24.\n",
    "4. Вывели результат каждого запроса в тетрадке;\n",
    "5. Описали выводы по каждой из решённых задач.\n"
   ]
  },
 ],
 "metadata": {
  "ExecuteTimeLog": [
   {
    "duration": 5663,
    "start_time": "2023-05-19T14:48:31.874Z"
   },
   {
    "duration": 46,
    "start_time": "2023-05-19T14:51:45.309Z"
   },
   {
    "duration": 98,
    "start_time": "2023-05-19T14:51:48.273Z"
   },
   {
    "duration": 65,
    "start_time": "2023-05-19T14:51:50.941Z"
   },
   {
    "duration": 89,
    "start_time": "2023-05-19T14:52:02.391Z"
   },
   {
    "duration": 41,
    "start_time": "2023-05-19T14:52:12.502Z"
   },
   {
    "duration": 11,
    "start_time": "2023-05-19T14:52:15.028Z"
   },
   {
    "duration": 13,
    "start_time": "2023-05-19T14:52:42.121Z"
   },
   {
    "duration": 9,
    "start_time": "2023-05-19T14:53:16.101Z"
   },
   {
    "duration": 34,
    "start_time": "2023-05-19T14:53:44.306Z"
   },
   {
    "duration": 16,
    "start_time": "2023-05-19T14:54:06.569Z"
   },
   {
    "duration": 28,
    "start_time": "2023-05-19T14:54:32.846Z"
   },
   {
    "duration": 71,
    "start_time": "2023-05-19T14:54:42.243Z"
   },
   {
    "duration": 52,
    "start_time": "2023-05-20T06:56:58.312Z"
   },
   {
    "duration": 12652,
    "start_time": "2023-05-20T06:57:00.682Z"
   },
   {
    "duration": 235,
    "start_time": "2023-05-20T06:57:13.336Z"
   },
   {
    "duration": 9,
    "start_time": "2023-05-20T06:57:13.573Z"
   },
   {
    "duration": 130,
    "start_time": "2023-05-20T06:57:13.583Z"
   },
   {
    "duration": 11,
    "start_time": "2023-05-20T06:57:13.716Z"
   },
   {
    "duration": 153,
    "start_time": "2023-05-20T06:57:13.729Z"
   },
   {
    "duration": 31,
    "start_time": "2023-05-20T06:57:13.884Z"
   },
   {
    "duration": 117,
    "start_time": "2023-05-20T06:57:13.916Z"
   },
   {
    "duration": 91,
    "start_time": "2023-05-20T06:57:14.034Z"
   },
   {
    "duration": 98,
    "start_time": "2023-05-20T06:57:26.455Z"
   },
   {
    "duration": 124,
    "start_time": "2023-05-20T06:57:47.211Z"
   },
   {
    "duration": 93,
    "start_time": "2023-05-20T06:58:24.522Z"
   },
   {
    "duration": 99,
    "start_time": "2023-05-20T06:59:14.949Z"
   },
   {
    "duration": 89,
    "start_time": "2023-05-20T07:00:21.052Z"
   },
   {
    "duration": 253,
    "start_time": "2023-05-20T07:02:13.922Z"
   },
   {
    "duration": 195,
    "start_time": "2023-05-20T07:02:14.176Z"
   },
   {
    "duration": 9,
    "start_time": "2023-05-20T07:02:14.373Z"
   },
   {
    "duration": 114,
    "start_time": "2023-05-20T07:02:14.384Z"
   },
   {
    "duration": 9,
    "start_time": "2023-05-20T07:02:14.500Z"
   },
   {
    "duration": 123,
    "start_time": "2023-05-20T07:02:14.510Z"
   },
   {
    "duration": 12,
    "start_time": "2023-05-20T07:02:14.635Z"
   },
   {
    "duration": 103,
    "start_time": "2023-05-20T07:02:14.649Z"
   },
   {
    "duration": 81,
    "start_time": "2023-05-20T07:02:14.753Z"
   },
   {
    "duration": 84,
    "start_time": "2023-05-20T07:02:14.836Z"
   },
   {
    "duration": 81,
    "start_time": "2023-05-20T07:02:14.921Z"
   },
   {
    "duration": 77,
    "start_time": "2023-05-20T07:02:15.004Z"
   },
   {
    "duration": 88,
    "start_time": "2023-05-20T07:02:15.083Z"
   },
   {
    "duration": 9668,
    "start_time": "2023-05-21T07:29:39.614Z"
   },
   {
    "duration": 195,
    "start_time": "2023-05-21T07:29:49.283Z"
   },
   {
    "duration": 19,
    "start_time": "2023-05-21T07:29:49.480Z"
   },
   {
    "duration": 81,
    "start_time": "2023-05-21T07:29:49.502Z"
   },
   {
    "duration": 9,
    "start_time": "2023-05-21T07:29:49.585Z"
   },
   {
    "duration": 126,
    "start_time": "2023-05-21T07:29:49.596Z"
   },
   {
    "duration": 10,
    "start_time": "2023-05-21T07:29:49.724Z"
   },
   {
    "duration": 92,
    "start_time": "2023-05-21T07:29:49.735Z"
   },
   {
    "duration": 81,
    "start_time": "2023-05-21T07:29:49.829Z"
   },
   {
    "duration": 85,
    "start_time": "2023-05-21T07:29:49.911Z"
   },
   {
    "duration": 75,
    "start_time": "2023-05-21T07:29:49.997Z"
   },
   {
    "duration": 79,
    "start_time": "2023-05-21T07:29:50.073Z"
   },
   {
    "duration": 85,
    "start_time": "2023-05-21T07:29:50.153Z"
   },
   {
    "duration": 75,
    "start_time": "2023-05-21T07:30:08.507Z"
   },
   {
    "duration": 80,
    "start_time": "2023-05-21T07:31:47.152Z"
   },
   {
    "duration": 108,
    "start_time": "2023-05-21T07:32:50.857Z"
   },
   {
    "duration": 387,
    "start_time": "2023-05-21T08:39:43.108Z"
   },
   {
    "duration": 239,
    "start_time": "2023-05-21T08:59:23.996Z"
   },
   {
    "duration": 191,
    "start_time": "2023-05-21T08:59:24.236Z"
   },
   {
    "duration": 8,
    "start_time": "2023-05-21T08:59:24.429Z"
   },
   {
    "duration": 86,
    "start_time": "2023-05-21T08:59:24.439Z"
   },
   {
    "duration": 10,
    "start_time": "2023-05-21T08:59:24.527Z"
   },
   {
    "duration": 109,
    "start_time": "2023-05-21T08:59:24.538Z"
   },
   {
    "duration": 9,
    "start_time": "2023-05-21T08:59:24.648Z"
   },
   {
    "duration": 94,
    "start_time": "2023-05-21T08:59:24.659Z"
   },
   {
    "duration": 75,
    "start_time": "2023-05-21T08:59:24.755Z"
   },
   {
    "duration": 82,
    "start_time": "2023-05-21T08:59:24.832Z"
   },
   {
    "duration": 74,
    "start_time": "2023-05-21T08:59:24.916Z"
   },
   {
    "duration": 76,
    "start_time": "2023-05-21T08:59:24.991Z"
   },
   {
    "duration": 74,
    "start_time": "2023-05-21T08:59:25.068Z"
   },
   {
    "duration": 178,
    "start_time": "2023-05-21T08:59:25.144Z"
   },
   {
    "duration": 152,
    "start_time": "2023-05-21T08:59:45.174Z"
   },
   {
    "duration": 152,
    "start_time": "2023-05-21T08:59:54.666Z"
   },
   {
    "duration": 153,
    "start_time": "2023-05-21T09:00:55.465Z"
   },
   {
    "duration": 173,
    "start_time": "2023-05-21T09:02:07.664Z"
   },
   {
    "duration": 153,
    "start_time": "2023-05-21T09:04:09.496Z"
   },
   {
    "duration": 146,
    "start_time": "2023-05-21T09:05:53.469Z"
   },
   {
    "duration": 163,
    "start_time": "2023-05-21T09:06:17.177Z"
   },
   {
    "duration": 157,
    "start_time": "2023-05-21T09:15:49.467Z"
   },
   {
    "duration": 165,
    "start_time": "2023-05-21T09:16:53.420Z"
   },
   {
    "duration": 76,
    "start_time": "2023-05-21T09:17:17.280Z"
   },
   {
    "duration": 73,
    "start_time": "2023-05-21T09:17:31.405Z"
   },
   {
    "duration": 285,
    "start_time": "2023-05-21T09:18:34.375Z"
   },
   {
    "duration": 171,
    "start_time": "2023-05-21T09:18:34.662Z"
   },
   {
    "duration": 8,
    "start_time": "2023-05-21T09:18:34.834Z"
   },
   {
    "duration": 105,
    "start_time": "2023-05-21T09:18:34.844Z"
   },
   {
    "duration": 8,
    "start_time": "2023-05-21T09:18:34.950Z"
   },
   {
    "duration": 108,
    "start_time": "2023-05-21T09:18:34.959Z"
   },
   {
    "duration": 15,
    "start_time": "2023-05-21T09:18:35.068Z"
   },
   {
    "duration": 102,
    "start_time": "2023-05-21T09:18:35.085Z"
   },
   {
    "duration": 73,
    "start_time": "2023-05-21T09:18:35.189Z"
   },
   {
    "duration": 83,
    "start_time": "2023-05-21T09:18:35.263Z"
   },
   {
    "duration": 76,
    "start_time": "2023-05-21T09:18:35.347Z"
   },
   {
    "duration": 80,
    "start_time": "2023-05-21T09:18:35.425Z"
   },
   {
    "duration": 76,
    "start_time": "2023-05-21T09:18:35.507Z"
   },
   {
    "duration": 181,
    "start_time": "2023-05-21T09:18:35.585Z"
   },
   {
    "duration": 0,
    "start_time": "2023-05-21T09:18:35.768Z"
   },
   {
    "duration": 178,
    "start_time": "2023-05-21T09:19:08.679Z"
   },
   {
    "duration": 159,
    "start_time": "2023-05-21T09:19:24.505Z"
   },
   {
    "duration": 160,
    "start_time": "2023-05-21T09:19:43.545Z"
   },
   {
    "duration": 151,
    "start_time": "2023-05-21T09:20:14.182Z"
   },
   {
    "duration": 75,
    "start_time": "2023-05-21T09:20:22.276Z"
   },
   {
    "duration": 75,
    "start_time": "2023-05-21T09:20:34.117Z"
   },
   {
    "duration": 160,
    "start_time": "2023-05-21T09:21:06.171Z"
   },
   {
    "duration": 75,
    "start_time": "2023-05-21T09:21:13.374Z"
   },
   {
    "duration": 100,
    "start_time": "2023-05-21T09:32:23.345Z"
   },
   {
    "duration": 130,
    "start_time": "2023-05-21T09:33:01.199Z"
   },
   {
    "duration": 73,
    "start_time": "2023-05-21T09:33:07.099Z"
   },
   {
    "duration": 151,
    "start_time": "2023-05-21T09:34:25.776Z"
   },
   {
    "duration": 166,
    "start_time": "2023-05-21T09:34:38.262Z"
   },
   {
    "duration": 143,
    "start_time": "2023-05-21T09:35:19.407Z"
   },
   {
    "duration": 73,
    "start_time": "2023-05-21T09:35:44.258Z"
   },
   {
    "duration": 74,
    "start_time": "2023-05-21T09:35:58.997Z"
   },
   {
    "duration": 72,
    "start_time": "2023-05-21T09:36:02.862Z"
   },
   {
    "duration": 73,
    "start_time": "2023-05-21T09:36:11.986Z"
   },
   {
    "duration": 158,
    "start_time": "2023-05-21T09:37:57.589Z"
   },
   {
    "duration": 145,
    "start_time": "2023-05-21T09:38:42.558Z"
   },
   {
    "duration": 146,
    "start_time": "2023-05-21T09:38:57.661Z"
   },
   {
    "duration": 152,
    "start_time": "2023-05-21T09:39:15.172Z"
   },
   {
    "duration": 184,
    "start_time": "2023-05-21T09:40:05.760Z"
   },
   {
    "duration": 217,
    "start_time": "2023-05-21T09:40:42.806Z"
   },
   {
    "duration": 173,
    "start_time": "2023-05-21T09:40:49.360Z"
   },
   {
    "duration": 72,
    "start_time": "2023-05-21T09:41:04.507Z"
   },
   {
    "duration": 106,
    "start_time": "2023-05-21T09:42:41.607Z"
   },
   {
    "duration": 154,
    "start_time": "2023-05-21T09:43:00.659Z"
   },
   {
    "duration": 156,
    "start_time": "2023-05-21T09:43:06.266Z"
   },
   {
    "duration": 73,
    "start_time": "2023-05-21T09:48:34.446Z"
   },
   {
    "duration": 75,
    "start_time": "2023-05-21T09:48:47.647Z"
   },
   {
    "duration": 73,
    "start_time": "2023-05-21T09:48:55.947Z"
   },
   {
    "duration": 248,
    "start_time": "2023-05-21T09:50:04.949Z"
   },
   {
    "duration": 180,
    "start_time": "2023-05-21T09:50:05.199Z"
   },
   {
    "duration": 9,
    "start_time": "2023-05-21T09:50:05.380Z"
   },
   {
    "duration": 80,
    "start_time": "2023-05-21T09:50:05.390Z"
   },
   {
    "duration": 8,
    "start_time": "2023-05-21T09:50:05.472Z"
   },
   {
    "duration": 106,
    "start_time": "2023-05-21T09:50:05.481Z"
   },
   {
    "duration": 8,
    "start_time": "2023-05-21T09:50:05.588Z"
   },
   {
    "duration": 98,
    "start_time": "2023-05-21T09:50:05.598Z"
   },
   {
    "duration": 76,
    "start_time": "2023-05-21T09:50:05.698Z"
   },
   {
    "duration": 83,
    "start_time": "2023-05-21T09:50:05.775Z"
   },
   {
    "duration": 74,
    "start_time": "2023-05-21T09:50:05.859Z"
   },
   {
    "duration": 80,
    "start_time": "2023-05-21T09:50:05.934Z"
   },
   {
    "duration": 86,
    "start_time": "2023-05-21T09:50:06.016Z"
   },
   {
    "duration": 77,
    "start_time": "2023-05-21T09:50:06.104Z"
   },
   {
    "duration": 262,
    "start_time": "2023-05-21T09:50:06.182Z"
   },
   {
    "duration": 9864,
    "start_time": "2023-05-21T10:06:36.000Z"
   },
   {
    "duration": 181,
    "start_time": "2023-05-21T10:06:45.865Z"
   },
   {
    "duration": 11,
    "start_time": "2023-05-21T10:06:46.048Z"
   },
   {
    "duration": 84,
    "start_time": "2023-05-21T10:06:46.061Z"
   },
   {
    "duration": 9,
    "start_time": "2023-05-21T10:06:46.147Z"
   },
   {
    "duration": 113,
    "start_time": "2023-05-21T10:06:46.157Z"
   },
   {
    "duration": 8,
    "start_time": "2023-05-21T10:06:46.271Z"
   },
   {
    "duration": 88,
    "start_time": "2023-05-21T10:06:46.280Z"
   },
   {
    "duration": 73,
    "start_time": "2023-05-21T10:06:46.370Z"
   },
   {
    "duration": 83,
    "start_time": "2023-05-21T10:06:46.444Z"
   },
   {
    "duration": 74,
    "start_time": "2023-05-21T10:06:46.528Z"
   },
   {
    "duration": 75,
    "start_time": "2023-05-21T10:06:46.603Z"
   },
   {
    "duration": 74,
    "start_time": "2023-05-21T10:06:46.679Z"
   },
   {
    "duration": 75,
    "start_time": "2023-05-21T10:06:46.755Z"
   },
   {
    "duration": 228,
    "start_time": "2023-05-21T10:06:46.832Z"
   },
   {
    "duration": 50,
    "start_time": "2023-05-23T08:34:44.335Z"
   },
   {
    "duration": 5703,
    "start_time": "2023-05-23T08:34:48.203Z"
   },
   {
    "duration": 44,
    "start_time": "2023-05-23T08:34:53.909Z"
   },
   {
    "duration": 13,
    "start_time": "2023-05-23T08:34:53.955Z"
   },
   {
    "duration": 23,
    "start_time": "2023-05-23T08:34:53.971Z"
   },
   {
    "duration": 19,
    "start_time": "2023-05-23T08:34:53.998Z"
   },
   {
    "duration": 81,
    "start_time": "2023-05-23T08:34:54.020Z"
   },
   {
    "duration": 14,
    "start_time": "2023-05-23T08:34:54.104Z"
   },
   {
    "duration": 56,
    "start_time": "2023-05-23T08:34:54.120Z"
   },
   {
    "duration": 15,
    "start_time": "2023-05-23T08:34:54.179Z"
   },
   {
    "duration": 30,
    "start_time": "2023-05-23T08:34:54.197Z"
   },
   {
    "duration": 36,
    "start_time": "2023-05-23T08:34:54.230Z"
   },
   {
    "duration": 25,
    "start_time": "2023-05-23T08:34:54.269Z"
   },
   {
    "duration": 42,
    "start_time": "2023-05-23T08:34:54.297Z"
   },
   {
    "duration": 76,
    "start_time": "2023-05-23T08:34:54.342Z"
   },
   {
    "duration": 51,
    "start_time": "2023-05-23T08:34:54.420Z"
   },
   {
    "duration": 113,
    "start_time": "2023-05-23T08:34:54.473Z"
   },
   {
    "duration": 9900,
    "start_time": "2023-05-23T09:42:40.417Z"
   },
   {
    "duration": 100,
    "start_time": "2023-05-23T09:42:50.319Z"
   },
   {
    "duration": 12,
    "start_time": "2023-05-23T09:42:50.420Z"
   },
   {
    "duration": 75,
    "start_time": "2023-05-23T09:42:50.435Z"
   },
   {
    "duration": 10,
    "start_time": "2023-05-23T09:42:50.512Z"
   },
   {
    "duration": 56,
    "start_time": "2023-05-23T09:42:50.524Z"
   },
   {
    "duration": 12,
    "start_time": "2023-05-23T09:42:50.582Z"
   },
   {
    "duration": 41,
    "start_time": "2023-05-23T09:42:50.596Z"
   },
   {
    "duration": 11,
    "start_time": "2023-05-23T09:42:50.639Z"
   },
   {
    "duration": 53,
    "start_time": "2023-05-23T09:42:50.652Z"
   },
   {
    "duration": 14,
    "start_time": "2023-05-23T09:42:50.707Z"
   },
   {
    "duration": 21,
    "start_time": "2023-05-23T09:42:50.722Z"
   },
   {
    "duration": 20,
    "start_time": "2023-05-23T09:42:50.744Z"
   },
   {
    "duration": 47,
    "start_time": "2023-05-23T09:42:50.765Z"
   },
   {
    "duration": 31,
    "start_time": "2023-05-23T09:42:50.814Z"
   },
   {
    "duration": 58,
    "start_time": "2023-05-23T09:42:50.847Z"
   },
   {
    "duration": 157,
    "start_time": "2023-05-23T10:24:25.147Z"
   },
   {
    "duration": 78,
    "start_time": "2023-05-23T10:26:25.885Z"
   },
   {
    "duration": 88,
    "start_time": "2023-05-23T10:28:36.802Z"
   },
   {
    "duration": 74,
    "start_time": "2023-05-23T10:28:45.781Z"
   },
   {
    "duration": 76,
    "start_time": "2023-05-23T10:28:52.217Z"
   },
   {
    "duration": 62,
    "start_time": "2023-05-23T10:29:08.170Z"
   },
   {
    "duration": 64,
    "start_time": "2023-05-23T10:29:25.793Z"
   },
   {
    "duration": 89,
    "start_time": "2023-05-23T10:29:25.860Z"
   },
   {
    "duration": 13,
    "start_time": "2023-05-23T10:29:25.951Z"
   },
   {
    "duration": 20,
    "start_time": "2023-05-23T10:29:25.972Z"
   },
   {
    "duration": 11,
    "start_time": "2023-05-23T10:29:25.993Z"
   },
   {
    "duration": 92,
    "start_time": "2023-05-23T10:29:26.006Z"
   },
   {
    "duration": 11,
    "start_time": "2023-05-23T10:29:26.100Z"
   },
   {
    "duration": 24,
    "start_time": "2023-05-23T10:29:26.112Z"
   },
   {
    "duration": 29,
    "start_time": "2023-05-23T10:29:26.137Z"
   },
   {
    "duration": 28,
    "start_time": "2023-05-23T10:29:26.169Z"
   },
   {
    "duration": 15,
    "start_time": "2023-05-23T10:29:26.199Z"
   },
   {
    "duration": 19,
    "start_time": "2023-05-23T10:29:26.216Z"
   },
   {
    "duration": 48,
    "start_time": "2023-05-23T10:29:26.238Z"
   },
   {
    "duration": 13,
    "start_time": "2023-05-23T10:29:26.288Z"
   },
   {
    "duration": 25,
    "start_time": "2023-05-23T10:29:26.303Z"
   },
   {
    "duration": 62,
    "start_time": "2023-05-23T10:29:26.330Z"
   },
   {
    "duration": 20,
    "start_time": "2023-05-23T10:34:57.723Z"
   },
   {
    "duration": 17,
    "start_time": "2023-05-23T10:35:00.582Z"
   },
   {
    "duration": 7187,
    "start_time": "2023-05-23T10:35:39.387Z"
   },
   {
    "duration": 72,
    "start_time": "2023-05-23T10:35:46.577Z"
   },
   {
    "duration": 14,
    "start_time": "2023-05-23T10:35:46.651Z"
   },
   {
    "duration": 145,
    "start_time": "2023-05-23T10:35:46.667Z"
   },
   {
    "duration": 78,
    "start_time": "2023-05-23T10:35:46.815Z"
   },
   {
    "duration": 44,
    "start_time": "2023-05-23T10:35:46.895Z"
   },
   {
    "duration": 19,
    "start_time": "2023-05-23T10:35:46.941Z"
   },
   {
    "duration": 50,
    "start_time": "2023-05-23T10:35:46.963Z"
   },
   {
    "duration": 35,
    "start_time": "2023-05-23T10:35:47.014Z"
   },
   {
    "duration": 57,
    "start_time": "2023-05-23T10:35:47.051Z"
   },
   {
    "duration": 14,
    "start_time": "2023-05-23T10:35:47.109Z"
   },
   {
    "duration": 19,
    "start_time": "2023-05-23T10:35:47.124Z"
   },
   {
    "duration": 17,
    "start_time": "2023-05-23T10:35:47.145Z"
   },
   {
    "duration": 35,
    "start_time": "2023-05-23T10:35:47.166Z"
   },
   {
    "duration": 30,
    "start_time": "2023-05-23T10:35:47.202Z"
   },
   {
    "duration": 66,
    "start_time": "2023-05-23T10:35:47.233Z"
   },
   {
    "duration": 12394,
    "start_time": "2023-05-24T08:07:04.865Z"
   },
   {
    "duration": 37,
    "start_time": "2023-05-24T08:07:17.261Z"
   },
   {
    "duration": 11,
    "start_time": "2023-05-24T08:07:17.299Z"
   },
   {
    "duration": 14,
    "start_time": "2023-05-24T08:07:17.311Z"
   },
   {
    "duration": 9,
    "start_time": "2023-05-24T08:07:17.326Z"
   },
   {
    "duration": 25,
    "start_time": "2023-05-24T08:07:17.337Z"
   },
   {
    "duration": 18,
    "start_time": "2023-05-24T08:07:17.363Z"
   },
   {
    "duration": 27,
    "start_time": "2023-05-24T08:07:17.382Z"
   },
   {
    "duration": 9,
    "start_time": "2023-05-24T08:07:17.411Z"
   },
   {
    "duration": 22,
    "start_time": "2023-05-24T08:07:17.423Z"
   },
   {
    "duration": 12,
    "start_time": "2023-05-24T08:07:17.446Z"
   },
   {
    "duration": 28,
    "start_time": "2023-05-24T08:07:17.460Z"
   },
   {
    "duration": 13,
    "start_time": "2023-05-24T08:07:17.490Z"
   },
   {
    "duration": 203,
    "start_time": "2023-05-24T08:07:17.505Z"
   },
   {
    "duration": 0,
    "start_time": "2023-05-24T08:07:17.709Z"
   },
   {
    "duration": 0,
    "start_time": "2023-05-24T08:07:17.711Z"
   },
   {
    "duration": 14,
    "start_time": "2023-05-24T08:07:51.919Z"
   },
   {
    "duration": 25,
    "start_time": "2023-05-24T08:07:56.719Z"
   },
   {
    "duration": 64,
    "start_time": "2023-05-24T08:07:56.850Z"
   },
   {
    "duration": 47,
    "start_time": "2023-05-25T14:48:56.804Z"
   },
   {
    "duration": 14944,
    "start_time": "2023-05-25T14:49:16.902Z"
   },
   {
    "duration": 181,
    "start_time": "2023-05-25T14:49:31.848Z"
   },
   {
    "duration": 9,
    "start_time": "2023-05-25T14:49:32.031Z"
   },
   {
    "duration": 92,
    "start_time": "2023-05-25T14:49:32.042Z"
   },
   {
    "duration": 9,
    "start_time": "2023-05-25T14:49:32.135Z"
   },
   {
    "duration": 116,
    "start_time": "2023-05-25T14:49:32.145Z"
   },
   {
    "duration": 8,
    "start_time": "2023-05-25T14:49:32.262Z"
   },
   {
    "duration": 104,
    "start_time": "2023-05-25T14:49:32.271Z"
   },
   {
    "duration": 82,
    "start_time": "2023-05-25T14:49:32.376Z"
   },
   {
    "duration": 87,
    "start_time": "2023-05-25T14:49:32.460Z"
   },
   {
    "duration": 86,
    "start_time": "2023-05-25T14:49:32.548Z"
   },
   {
    "duration": 87,
    "start_time": "2023-05-25T14:49:32.636Z"
   },
   {
    "duration": 85,
    "start_time": "2023-05-25T14:49:32.725Z"
   },
   {
    "duration": 69,
    "start_time": "2023-05-25T14:49:32.811Z"
   },
   {
    "duration": 94,
    "start_time": "2023-05-25T14:49:32.882Z"
   },
   {
    "duration": 147,
    "start_time": "2023-05-25T14:49:32.978Z"
   },
   {
    "duration": 113,
    "start_time": "2023-05-25T14:49:33.127Z"
   },
   {
    "duration": 115,
    "start_time": "2023-05-25T14:51:02.807Z"
   },
   {
    "duration": 139,
    "start_time": "2023-05-25T14:51:19.382Z"
   },
   {
    "duration": 229,
    "start_time": "2023-05-25T14:54:04.356Z"
   },
   {
    "duration": 193,
    "start_time": "2023-05-25T14:54:21.842Z"
   },
   {
    "duration": 208,
    "start_time": "2023-05-25T14:55:36.008Z"
   },
   {
    "duration": 273,
    "start_time": "2023-05-25T14:55:38.554Z"
   },
   {
    "duration": 190,
    "start_time": "2023-05-25T14:55:38.829Z"
   },
   {
    "duration": 8,
    "start_time": "2023-05-25T14:55:39.020Z"
   },
   {
    "duration": 83,
    "start_time": "2023-05-25T14:55:39.030Z"
   },
   {
    "duration": 8,
    "start_time": "2023-05-25T14:55:39.115Z"
   },
   {
    "duration": 146,
    "start_time": "2023-05-25T14:55:39.125Z"
   },
   {
    "duration": 8,
    "start_time": "2023-05-25T14:55:39.273Z"
   },
   {
    "duration": 134,
    "start_time": "2023-05-25T14:55:39.283Z"
   },
   {
    "duration": 91,
    "start_time": "2023-05-25T14:55:39.419Z"
   },
   {
    "duration": 90,
    "start_time": "2023-05-25T14:55:39.512Z"
   },
   {
    "duration": 70,
    "start_time": "2023-05-25T14:55:39.603Z"
   },
   {
    "duration": 88,
    "start_time": "2023-05-25T14:55:39.674Z"
   },
   {
    "duration": 92,
    "start_time": "2023-05-25T14:55:39.763Z"
   },
   {
    "duration": 89,
    "start_time": "2023-05-25T14:55:39.857Z"
   },
   {
    "duration": 97,
    "start_time": "2023-05-25T14:55:39.947Z"
   },
   {
    "duration": 129,
    "start_time": "2023-05-25T14:55:40.045Z"
   },
   {
    "duration": 179,
    "start_time": "2023-05-25T14:55:40.176Z"
   },
   {
    "duration": 196,
    "start_time": "2023-05-25T14:57:19.207Z"
   },
   {
    "duration": 113,
    "start_time": "2023-05-25T14:57:59.017Z"
   },
   {
    "duration": 111,
    "start_time": "2023-05-25T14:59:21.227Z"
   },
   {
    "duration": 86,
    "start_time": "2023-05-28T12:47:41.613Z"
   },
   {
    "duration": 47,
    "start_time": "2023-05-28T12:48:04.388Z"
   },
   {
    "duration": 49,
    "start_time": "2023-05-28T12:48:59.688Z"
   },
   {
    "duration": 61,
    "start_time": "2023-05-28T12:49:25.210Z"
   },
   {
    "duration": 41,
    "start_time": "2023-05-28T12:49:40.584Z"
   },
   {
    "duration": 5931,
    "start_time": "2023-05-28T12:49:48.860Z"
   },
   {
    "duration": 34,
    "start_time": "2023-05-28T12:49:54.793Z"
   },
   {
    "duration": 10,
    "start_time": "2023-05-28T12:49:54.829Z"
   },
   {
    "duration": 36,
    "start_time": "2023-05-28T12:49:54.841Z"
   },
   {
    "duration": 9,
    "start_time": "2023-05-28T12:49:54.879Z"
   },
   {
    "duration": 26,
    "start_time": "2023-05-28T12:49:54.890Z"
   },
   {
    "duration": 11,
    "start_time": "2023-05-28T12:49:54.917Z"
   },
   {
    "duration": 102,
    "start_time": "2023-05-28T12:49:54.930Z"
   },
   {
    "duration": 10,
    "start_time": "2023-05-28T12:49:55.034Z"
   },
   {
    "duration": 42,
    "start_time": "2023-05-28T12:49:55.046Z"
   },
   {
    "duration": 15,
    "start_time": "2023-05-28T12:49:55.089Z"
   },
   {
    "duration": 16,
    "start_time": "2023-05-28T12:49:55.106Z"
   },
   {
    "duration": 13,
    "start_time": "2023-05-28T12:49:55.123Z"
   },
   {
    "duration": 41,
    "start_time": "2023-05-28T12:49:55.139Z"
   },
   {
    "duration": 24,
    "start_time": "2023-05-28T12:49:55.181Z"
   },
   {
    "duration": 68,
    "start_time": "2023-05-28T12:49:55.207Z"
   },
   {
    "duration": 61,
    "start_time": "2023-05-28T12:49:55.277Z"
   },
   {
    "duration": 97,
    "start_time": "2023-05-28T12:49:55.341Z"
   },
   {
    "duration": 79,
    "start_time": "2023-05-28T12:50:35.954Z"
   },
   {
    "duration": 78,
    "start_time": "2023-05-28T12:51:27.897Z"
   },
   {
    "duration": 73,
    "start_time": "2023-05-28T12:52:11.969Z"
   },
   {
    "duration": 69,
    "start_time": "2023-05-28T12:52:54.070Z"
   },
   {
    "duration": 80,
    "start_time": "2023-05-28T12:54:07.592Z"
   },
   {
    "duration": 73,
    "start_time": "2023-05-28T12:54:14.025Z"
   },
   {
    "duration": 90,
    "start_time": "2023-05-28T12:55:34.000Z"
   },
   {
    "duration": 15723,
    "start_time": "2023-05-29T11:20:03.218Z"
   },
   {
    "duration": 76,
    "start_time": "2023-05-29T11:20:18.944Z"
   },
   {
    "duration": 14,
    "start_time": "2023-05-29T11:20:19.023Z"
   },
   {
    "duration": 31,
    "start_time": "2023-05-29T11:20:19.040Z"
   },
   {
    "duration": 54,
    "start_time": "2023-05-29T11:20:19.073Z"
   },
   {
    "duration": 58,
    "start_time": "2023-05-29T11:20:19.129Z"
   },
   {
    "duration": 11,
    "start_time": "2023-05-29T11:20:19.189Z"
   },
   {
    "duration": 27,
    "start_time": "2023-05-29T11:20:19.202Z"
   },
   {
    "duration": 10,
    "start_time": "2023-05-29T11:20:19.232Z"
   },
   {
    "duration": 47,
    "start_time": "2023-05-29T11:20:19.245Z"
   },
   {
    "duration": 14,
    "start_time": "2023-05-29T11:20:19.294Z"
   },
   {
    "duration": 20,
    "start_time": "2023-05-29T11:20:19.310Z"
   },
   {
    "duration": 43,
    "start_time": "2023-05-29T11:20:19.332Z"
   },
   {
    "duration": 27,
    "start_time": "2023-05-29T11:20:19.377Z"
   },
   {
    "duration": 17,
    "start_time": "2023-05-29T11:20:19.406Z"
   }
  ],
  "kernelspec": {
   "display_name": "Python 3 (ipykernel)",
   "language": "python",
   "name": "python3"
  },
  "language_info": {
   "codemirror_mode": {
    "name": "ipython",
    "version": 3
   },
   "file_extension": ".py",
   "mimetype": "text/x-python",
   "name": "python",
   "nbconvert_exporter": "python",
   "pygments_lexer": "ipython3",
   "version": "3.9.5"
  },
  "toc": {
   "base_numbering": 1,
   "nav_menu": {},
   "number_sections": true,
   "sideBar": true,
   "skip_h1_title": true,
   "title_cell": "Table of Contents",
   "title_sidebar": "Contents",
   "toc_cell": false,
   "toc_position": {
    "height": "calc(100% - 180px)",
    "left": "10px",
    "top": "150px",
    "width": "512px"
   },
   "toc_section_display": true,
   "toc_window_display": false
  }
 },
 "nbformat": 4,
 "nbformat_minor": 2
}
