{
 "cells": [
  {
   "cell_type": "markdown",
   "metadata": {},
   "source": [
    "# Описание проекта\n",
    "\n",
    "Вы работаете в стартапе, который продаёт продукты питания. Нужно разобраться, как ведут себя пользователи вашего мобильного приложения. \n",
    "\n",
    "Изучите воронку продаж. Узнайте, как пользователи доходят до покупки. Сколько пользователей доходит до покупки, а сколько — «застревает» на предыдущих шагах? На каких именно?\n",
    "\n",
    "После этого исследуйте результаты A/A/B-эксперимента. Дизайнеры захотели поменять шрифты во всём приложении, а менеджеры испугались, что пользователям будет непривычно. Договорились принять решение по результатам A/A/B-теста. Пользователей разбили на 3 группы: 2 контрольные со старыми шрифтами и одну экспериментальную — с новыми. Выясните, какой шрифт лучше.\n",
    "\n",
    "Создание двух групп A вместо одной имеет определённые преимущества. Если две контрольные группы окажутся равны, вы можете быть уверены в точности проведенного тестирования. Если же между значениями A и A будут существенные различия, это поможет обнаружить факторы, которые привели к искажению результатов. Сравнение контрольных групп также помогает понять, сколько времени и данных потребуется для дальнейших тестов.\n",
    "В случае общей аналитики и A/A/B-эксперимента работайте с одними и теми же данными. В реальных проектах всегда идут эксперименты. Аналитики исследуют качество работы приложения по общим данным, не учитывая принадлежность пользователей к экспериментам."
   ]
  },
  {
   "cell_type": "markdown",
   "metadata": {},
   "source": [
    "Описание данных\n",
    "\n",
    "Каждая запись в логе — это действие пользователя, или событие. \n",
    "- EventName — название события;\n",
    "- DeviceIDHash — уникальный идентификатор пользователя;\n",
    "- EventTimestamp — время события;\n",
    "- ExpId — номер эксперимента: 246 и 247 — контрольные группы, а 248 — экспериментальная."
   ]
  },
  {
   "cell_type": "markdown",
   "metadata": {},
   "source": [
    "Цель исследования: \n",
    "         \n",
    "1. Изучить воронку продаж. Узнать, как пользователи доходят до покупки. \n",
    "2. Выяснить, какой шрифт лучше. (Дизайнеры захотели поменять шрифты во всём приложении)\n",
    "\n",
    "Ход исследования\n",
    "\n",
    "Данные получу из файла /datasets/logs_exp.csv.\n",
    "О качестве данных пока неизвестно. Поэтому перед тем как приступить к целям исследования, понадобиться обзор данных.\n",
    "Проверю данные на пропуски, ошибки и выбивающиеся значения. Затем на этапе предобработке я исправлю все ошибки в данных, которые не приведут к искажению конечного результата. Далее создам необходимые столбцы для анализа данных. Добавлю столбец даты и времени, а также отдельный столбец дат. Затем приступлю к изучению данных, воронки событий и результатов эксперимента.\n",
    "\n",
    "Таким образом, мое исследование будет состоять из следующих этапов:\n",
    "1. Обзор данных\n",
    "2. Предобработка данных\n",
    "3. Изучение данных\n",
    "4. Изучение воронки событий\n",
    "5. Изучение результатов эксперимента\n",
    "6. Проверка гипотез\n",
    "7. Написание общего вывода"
   ]
  },
  {
   "cell_type": "markdown",
   "metadata": {},
   "source": [
    "## Откроем файл с данными и изучим общую информацию\n"
   ]
  },
  {
   "cell_type": "code",
   "execution_count": 1,
   "metadata": {},
   "outputs": [],
   "source": [
    "import pandas as pd\n",
    "import matplotlib.pyplot as plt\n",
    "import numpy as np\n",
    "import seaborn as sns\n",
    "import seaborn as sb\n",
    "import math as mth\n",
    "from scipy import stats as st"
   ]
  },
  {
   "cell_type": "code",
   "execution_count": 2,
   "metadata": {},
   "outputs": [
    {
     "data": {
      "text/html": [
       "<div>\n",
       "<style scoped>\n",
       "    .dataframe tbody tr th:only-of-type {\n",
       "        vertical-align: middle;\n",
       "    }\n",
       "\n",
       "    .dataframe tbody tr th {\n",
       "        vertical-align: top;\n",
       "    }\n",
       "\n",
       "    .dataframe thead th {\n",
       "        text-align: right;\n",
       "    }\n",
       "</style>\n",
       "<table border=\"1\" class=\"dataframe\">\n",
       "  <thead>\n",
       "    <tr style=\"text-align: right;\">\n",
       "      <th></th>\n",
       "      <th>EventName</th>\n",
       "      <th>DeviceIDHash</th>\n",
       "      <th>EventTimestamp</th>\n",
       "      <th>ExpId</th>\n",
       "    </tr>\n",
       "  </thead>\n",
       "  <tbody>\n",
       "    <tr>\n",
       "      <th>0</th>\n",
       "      <td>MainScreenAppear</td>\n",
       "      <td>4575588528974610257</td>\n",
       "      <td>1564029816</td>\n",
       "      <td>246</td>\n",
       "    </tr>\n",
       "    <tr>\n",
       "      <th>1</th>\n",
       "      <td>MainScreenAppear</td>\n",
       "      <td>7416695313311560658</td>\n",
       "      <td>1564053102</td>\n",
       "      <td>246</td>\n",
       "    </tr>\n",
       "    <tr>\n",
       "      <th>2</th>\n",
       "      <td>PaymentScreenSuccessful</td>\n",
       "      <td>3518123091307005509</td>\n",
       "      <td>1564054127</td>\n",
       "      <td>248</td>\n",
       "    </tr>\n",
       "    <tr>\n",
       "      <th>3</th>\n",
       "      <td>CartScreenAppear</td>\n",
       "      <td>3518123091307005509</td>\n",
       "      <td>1564054127</td>\n",
       "      <td>248</td>\n",
       "    </tr>\n",
       "    <tr>\n",
       "      <th>4</th>\n",
       "      <td>PaymentScreenSuccessful</td>\n",
       "      <td>6217807653094995999</td>\n",
       "      <td>1564055322</td>\n",
       "      <td>248</td>\n",
       "    </tr>\n",
       "    <tr>\n",
       "      <th>5</th>\n",
       "      <td>CartScreenAppear</td>\n",
       "      <td>6217807653094995999</td>\n",
       "      <td>1564055323</td>\n",
       "      <td>248</td>\n",
       "    </tr>\n",
       "    <tr>\n",
       "      <th>6</th>\n",
       "      <td>OffersScreenAppear</td>\n",
       "      <td>8351860793733343758</td>\n",
       "      <td>1564066242</td>\n",
       "      <td>246</td>\n",
       "    </tr>\n",
       "    <tr>\n",
       "      <th>7</th>\n",
       "      <td>MainScreenAppear</td>\n",
       "      <td>5682100281902512875</td>\n",
       "      <td>1564085677</td>\n",
       "      <td>246</td>\n",
       "    </tr>\n",
       "    <tr>\n",
       "      <th>8</th>\n",
       "      <td>MainScreenAppear</td>\n",
       "      <td>1850981295691852772</td>\n",
       "      <td>1564086702</td>\n",
       "      <td>247</td>\n",
       "    </tr>\n",
       "    <tr>\n",
       "      <th>9</th>\n",
       "      <td>MainScreenAppear</td>\n",
       "      <td>5407636962369102641</td>\n",
       "      <td>1564112112</td>\n",
       "      <td>246</td>\n",
       "    </tr>\n",
       "  </tbody>\n",
       "</table>\n",
       "</div>"
      ],
      "text/plain": [
       "                 EventName         DeviceIDHash  EventTimestamp  ExpId\n",
       "0         MainScreenAppear  4575588528974610257      1564029816    246\n",
       "1         MainScreenAppear  7416695313311560658      1564053102    246\n",
       "2  PaymentScreenSuccessful  3518123091307005509      1564054127    248\n",
       "3         CartScreenAppear  3518123091307005509      1564054127    248\n",
       "4  PaymentScreenSuccessful  6217807653094995999      1564055322    248\n",
       "5         CartScreenAppear  6217807653094995999      1564055323    248\n",
       "6       OffersScreenAppear  8351860793733343758      1564066242    246\n",
       "7         MainScreenAppear  5682100281902512875      1564085677    246\n",
       "8         MainScreenAppear  1850981295691852772      1564086702    247\n",
       "9         MainScreenAppear  5407636962369102641      1564112112    246"
      ]
     },
     "execution_count": 2,
     "metadata": {},
     "output_type": "execute_result"
    }
   ],
   "source": [
    "path = '/datasets/'\n",
    "df = pd.read_csv(path + 'logs_exp.csv', sep='\\t')\n",
    "df.head(10)"
   ]
  },
  {
   "cell_type": "markdown",
   "metadata": {},
   "source": [
    "Каждая запись в логе — это действие пользователя, или событие. \n",
    "- EventName — название события;\n",
    "- DeviceIDHash — уникальный идентификатор пользователя;\n",
    "- EventTimestamp — время события;\n",
    "- ExpId — номер эксперимента: 246 и 247 — контрольные группы, а 248 — экспериментальная."
   ]
  },
  {
   "cell_type": "markdown",
   "metadata": {},
   "source": [
    "## Подготовим данные"
   ]
  },
  {
   "cell_type": "markdown",
   "metadata": {},
   "source": [
    "### Заменим названия столбцов на удобные"
   ]
  },
  {
   "cell_type": "code",
   "execution_count": 3,
   "metadata": {},
   "outputs": [],
   "source": [
    "df.columns = ['event_name', 'device_id', 'datetime', 'experiment_id']"
   ]
  },
  {
   "cell_type": "markdown",
   "metadata": {},
   "source": [
    "### Проверим пропуски и типы данных. Откорректируем при необходимости"
   ]
  },
  {
   "cell_type": "code",
   "execution_count": 4,
   "metadata": {},
   "outputs": [
    {
     "name": "stdout",
     "output_type": "stream",
     "text": [
      "<class 'pandas.core.frame.DataFrame'>\n",
      "RangeIndex: 244126 entries, 0 to 244125\n",
      "Data columns (total 4 columns):\n",
      " #   Column         Non-Null Count   Dtype \n",
      "---  ------         --------------   ----- \n",
      " 0   event_name     244126 non-null  object\n",
      " 1   device_id      244126 non-null  int64 \n",
      " 2   datetime       244126 non-null  int64 \n",
      " 3   experiment_id  244126 non-null  int64 \n",
      "dtypes: int64(3), object(1)\n",
      "memory usage: 7.5+ MB\n"
     ]
    }
   ],
   "source": [
    "df.info()"
   ]
  },
  {
   "cell_type": "code",
   "execution_count": 5,
   "metadata": {},
   "outputs": [],
   "source": [
    "df['datetime'] = pd.to_datetime(df['datetime'], unit='s')\n",
    "df['device_id'] = df['device_id'].astype(str)\n",
    "df['experiment_id'] = df['experiment_id'].astype(str)"
   ]
  },
  {
   "cell_type": "markdown",
   "metadata": {},
   "source": [
    "Проверим датасет на дубликаты"
   ]
  },
  {
   "cell_type": "code",
   "execution_count": 6,
   "metadata": {},
   "outputs": [
    {
     "data": {
      "text/plain": [
       "413"
      ]
     },
     "execution_count": 6,
     "metadata": {},
     "output_type": "execute_result"
    }
   ],
   "source": [
    "df.duplicated().sum()"
   ]
  },
  {
   "cell_type": "markdown",
   "metadata": {},
   "source": [
    "Удалим дубликаты"
   ]
  },
  {
   "cell_type": "code",
   "execution_count": 7,
   "metadata": {},
   "outputs": [],
   "source": [
    "df = df.drop_duplicates()"
   ]
  },
  {
   "cell_type": "markdown",
   "metadata": {},
   "source": [
    "Добавим столбец даты и времени, а также отдельный столбец дат"
   ]
  },
  {
   "cell_type": "code",
   "execution_count": 8,
   "metadata": {},
   "outputs": [],
   "source": [
    "df['date'] = df['datetime'].dt.date"
   ]
  },
  {
   "cell_type": "code",
   "execution_count": 9,
   "metadata": {},
   "outputs": [
    {
     "data": {
      "text/html": [
       "<div>\n",
       "<style scoped>\n",
       "    .dataframe tbody tr th:only-of-type {\n",
       "        vertical-align: middle;\n",
       "    }\n",
       "\n",
       "    .dataframe tbody tr th {\n",
       "        vertical-align: top;\n",
       "    }\n",
       "\n",
       "    .dataframe thead th {\n",
       "        text-align: right;\n",
       "    }\n",
       "</style>\n",
       "<table border=\"1\" class=\"dataframe\">\n",
       "  <thead>\n",
       "    <tr style=\"text-align: right;\">\n",
       "      <th></th>\n",
       "      <th>event_name</th>\n",
       "      <th>device_id</th>\n",
       "      <th>datetime</th>\n",
       "      <th>experiment_id</th>\n",
       "      <th>date</th>\n",
       "    </tr>\n",
       "  </thead>\n",
       "  <tbody>\n",
       "    <tr>\n",
       "      <th>0</th>\n",
       "      <td>MainScreenAppear</td>\n",
       "      <td>4575588528974610257</td>\n",
       "      <td>2019-07-25 04:43:36</td>\n",
       "      <td>246</td>\n",
       "      <td>2019-07-25</td>\n",
       "    </tr>\n",
       "    <tr>\n",
       "      <th>1</th>\n",
       "      <td>MainScreenAppear</td>\n",
       "      <td>7416695313311560658</td>\n",
       "      <td>2019-07-25 11:11:42</td>\n",
       "      <td>246</td>\n",
       "      <td>2019-07-25</td>\n",
       "    </tr>\n",
       "    <tr>\n",
       "      <th>2</th>\n",
       "      <td>PaymentScreenSuccessful</td>\n",
       "      <td>3518123091307005509</td>\n",
       "      <td>2019-07-25 11:28:47</td>\n",
       "      <td>248</td>\n",
       "      <td>2019-07-25</td>\n",
       "    </tr>\n",
       "    <tr>\n",
       "      <th>3</th>\n",
       "      <td>CartScreenAppear</td>\n",
       "      <td>3518123091307005509</td>\n",
       "      <td>2019-07-25 11:28:47</td>\n",
       "      <td>248</td>\n",
       "      <td>2019-07-25</td>\n",
       "    </tr>\n",
       "    <tr>\n",
       "      <th>4</th>\n",
       "      <td>PaymentScreenSuccessful</td>\n",
       "      <td>6217807653094995999</td>\n",
       "      <td>2019-07-25 11:48:42</td>\n",
       "      <td>248</td>\n",
       "      <td>2019-07-25</td>\n",
       "    </tr>\n",
       "  </tbody>\n",
       "</table>\n",
       "</div>"
      ],
      "text/plain": [
       "                event_name            device_id            datetime  \\\n",
       "0         MainScreenAppear  4575588528974610257 2019-07-25 04:43:36   \n",
       "1         MainScreenAppear  7416695313311560658 2019-07-25 11:11:42   \n",
       "2  PaymentScreenSuccessful  3518123091307005509 2019-07-25 11:28:47   \n",
       "3         CartScreenAppear  3518123091307005509 2019-07-25 11:28:47   \n",
       "4  PaymentScreenSuccessful  6217807653094995999 2019-07-25 11:48:42   \n",
       "\n",
       "  experiment_id        date  \n",
       "0           246  2019-07-25  \n",
       "1           246  2019-07-25  \n",
       "2           248  2019-07-25  \n",
       "3           248  2019-07-25  \n",
       "4           248  2019-07-25  "
      ]
     },
     "execution_count": 9,
     "metadata": {},
     "output_type": "execute_result"
    }
   ],
   "source": [
    "df.head(5)"
   ]
  },
  {
   "cell_type": "markdown",
   "metadata": {},
   "source": [
    "Удалены дубликаты, откорректированы типы данных, добавлен столбец с датой. Пропуски в таблице отсутствуют."
   ]
  },
  {
   "cell_type": "markdown",
   "metadata": {},
   "source": [
    "##  Изучим и проверим данные"
   ]
  },
  {
   "cell_type": "markdown",
   "metadata": {},
   "source": [
    "### Сколько всего событий в логе?"
   ]
  },
  {
   "cell_type": "code",
   "execution_count": 10,
   "metadata": {},
   "outputs": [
    {
     "name": "stdout",
     "output_type": "stream",
     "text": [
      "There are 5 events in the log\n"
     ]
    }
   ],
   "source": [
    "print('There are', len(df['event_name'].value_counts()), 'events in the log')"
   ]
  },
  {
   "cell_type": "code",
   "execution_count": 11,
   "metadata": {},
   "outputs": [
    {
     "name": "stdout",
     "output_type": "stream",
     "text": [
      "Total events in the log 243713\n"
     ]
    }
   ],
   "source": [
    "print('Total events in the log', len(df['event_name']))"
   ]
  },
  {
   "cell_type": "code",
   "execution_count": 12,
   "metadata": {},
   "outputs": [
    {
     "data": {
      "text/plain": [
       "MainScreenAppear           119101\n",
       "OffersScreenAppear          46808\n",
       "CartScreenAppear            42668\n",
       "PaymentScreenSuccessful     34118\n",
       "Tutorial                     1018\n",
       "Name: event_name, dtype: int64"
      ]
     },
     "execution_count": 12,
     "metadata": {},
     "output_type": "execute_result"
    }
   ],
   "source": [
    "#Let's look at the number of events of each type\n",
    "df['event_name'].value_counts()"
   ]
  },
  {
   "cell_type": "code",
   "execution_count": 13,
   "metadata": {},
   "outputs": [
    {
     "data": {
      "image/png": "[encoded data removed]",
      "text/plain": [
       "<Figure size 720x360 with 1 Axes>"
      ]
     },
     "metadata": {},
     "output_type": "display_data"
    }
   ],
   "source": [
    "#visualize the table as bar charts\n",
    "sns.set(style='white')\n",
    "plt.figure(figsize=(10, 5))\n",
    "plt.title('The ratio of the number of events by their types')\n",
    "sns.barplot(x='index',y='event_name', data=df['event_name'].value_counts().reset_index(), palette='Spectral')\n",
    "plt.xticks(rotation=40) \n",
    "plt.show()"
   ]
  },
  {
   "cell_type": "markdown",
   "metadata": {},
   "source": [
    "В логе есть 5 событий, по убыванию их популярности: \n",
    "- показ пользователю главного экрана\n",
    "- показ экрана с предложением\n",
    "- показ экрана корзины\n",
    "- показ экрана с подтверждением оплаты\n",
    "- показ обучения "
   ]
  },
  {
   "cell_type": "markdown",
   "metadata": {},
   "source": [
    "### Сколько всего пользователей в логе?"
   ]
  },
  {
   "cell_type": "code",
   "execution_count": 14,
   "metadata": {},
   "outputs": [
    {
     "name": "stdout",
     "output_type": "stream",
     "text": [
      "There are 7551 users\n"
     ]
    }
   ],
   "source": [
    "print('There are', len(df['device_id'].value_counts()), 'users')"
   ]
  },
  {
   "cell_type": "markdown",
   "metadata": {},
   "source": [
    "### Сколько в среднем событий приходится на пользователя?"
   ]
  },
  {
   "cell_type": "code",
   "execution_count": 15,
   "metadata": {},
   "outputs": [
    {
     "name": "stdout",
     "output_type": "stream",
     "text": [
      "On average, per user 32.3 events\n"
     ]
    }
   ],
   "source": [
    "df_events = df.pivot_table(index='device_id',values='event_name',aggfunc='count')\n",
    "print('On average, per user', round(df_events['event_name'].mean(), 1), 'events')"
   ]
  },
  {
   "cell_type": "code",
   "execution_count": 16,
   "metadata": {
    "scrolled": true
   },
   "outputs": [
    {
     "data": {
      "image/png": "[encoded data removed]",
      "text/plain": [
       "<Figure size 432x288 with 1 Axes>"
      ]
     },
     "metadata": {},
     "output_type": "display_data"
    }
   ],
   "source": [
    "df_events['event_name'].hist().set_title('Number of events per user')\n",
    "plt.xlabel('Number of events')\n",
    "plt.show()"
   ]
  },
  {
   "cell_type": "code",
   "execution_count": 17,
   "metadata": {},
   "outputs": [
    {
     "data": {
      "image/png": "[encoded data removed]",
      "text/plain": [
       "<Figure size 432x288 with 1 Axes>"
      ]
     },
     "metadata": {},
     "output_type": "display_data"
    }
   ],
   "source": [
    "#Let's discard the emissions\n",
    "df_events.query('event_name < 80')['event_name'].hist().set_title('Number of events per user')\n",
    "plt.xlabel('Number of events')\n",
    "plt.show()"
   ]
  },
  {
   "cell_type": "markdown",
   "metadata": {},
   "source": [
    "В среднем на пользователя приходится 32 события. Но это число завышено из за больших выбросов. Чаще всего на пользователей приходится 1-30 событий."
   ]
  },
  {
   "cell_type": "markdown",
   "metadata": {},
   "source": [
    "### Данными за какой период мы располагаем? \n",
    "- Найти максимальную и минимальную дату. \n",
    "- Построить гистограмму по дате и времени. \n",
    "- Можно ли быть уверенным, что у вас одинаково полные данные за весь период? \n",
    "Технически в логи новых дней по некоторым пользователям могут «доезжать» события из прошлого — это может «перекашивать данные». \n",
    "- Определить, с какого момента данные полные и отбросьте более старые. \n",
    "- Данными за какой период времени мы располагаем на самом деле?"
   ]
  },
  {
   "cell_type": "code",
   "execution_count": 18,
   "metadata": {},
   "outputs": [
    {
     "name": "stdout",
     "output_type": "stream",
     "text": [
      "Min date 2019-07-25\n",
      "Max date 2019-08-07\n"
     ]
    }
   ],
   "source": [
    "print('Min date', df['date'].min())\n",
    "print('Max date', df['date'].max())"
   ]
  },
  {
   "cell_type": "code",
   "execution_count": 19,
   "metadata": {},
   "outputs": [
    {
     "data": {
      "image/png": "[encoded data removed]",
      "text/plain": [
       "<Figure size 432x288 with 1 Axes>"
      ]
     },
     "metadata": {},
     "output_type": "display_data"
    }
   ],
   "source": [
    "# histogram of events by date\n",
    "df['date'].hist(bins = 14).set_title('histogram of events by date')\n",
    "plt.xlabel('date')\n",
    "plt.xticks(rotation=40) \n",
    "plt.show()"
   ]
  },
  {
   "cell_type": "code",
   "execution_count": 20,
   "metadata": {},
   "outputs": [
    {
     "data": {
      "image/png": "[encoded data removed]",
      "text/plain": [
       "<Figure size 1008x360 with 1 Axes>"
      ]
     },
     "metadata": {},
     "output_type": "display_data"
    }
   ],
   "source": [
    "# код ревьюера\n",
    "df['datetime'].hist(bins=14*24, figsize=(14, 5));"
   ]
  },
  {
   "cell_type": "code",
   "execution_count": 21,
   "metadata": {},
   "outputs": [
    {
     "data": {
      "image/png": "[encoded data removed]",
      "text/plain": [
       "<Figure size 432x288 with 1 Axes>"
      ]
     },
     "metadata": {},
     "output_type": "display_data"
    }
   ],
   "source": [
    "# histogram of events by date, starting from 07/31/2019\n",
    "df['date'] = pd.to_datetime(df['date'])\n",
    "df_new_data = df.query('date > \"2019-07-31\"')\n",
    "df_new_data['date'].hist(bins = 7).set_title('histogram of events by date')\n",
    "plt.xlabel('date')\n",
    "plt.xticks(rotation=40) \n",
    "plt.show()"
   ]
  },
  {
   "cell_type": "markdown",
   "metadata": {},
   "source": [
    "По гистограмме видно, что до 01.08.2019 совершается очень мало событий. Скорее всего как раз с этой даты все данные доехали, и можно оценивать результаты экспериментов."
   ]
  },
  {
   "cell_type": "markdown",
   "metadata": {},
   "source": [
    "### Много ли событий и пользователей вы потеряли, отбросив старые данные?"
   ]
  },
  {
   "cell_type": "code",
   "execution_count": 22,
   "metadata": {},
   "outputs": [],
   "source": [
    "event_name = len(df)\n",
    "users = df['device_id'].nunique()"
   ]
  },
  {
   "cell_type": "code",
   "execution_count": 23,
   "metadata": {},
   "outputs": [
    {
     "data": {
      "text/html": [
       "<div>\n",
       "<style scoped>\n",
       "    .dataframe tbody tr th:only-of-type {\n",
       "        vertical-align: middle;\n",
       "    }\n",
       "\n",
       "    .dataframe tbody tr th {\n",
       "        vertical-align: top;\n",
       "    }\n",
       "\n",
       "    .dataframe thead th {\n",
       "        text-align: right;\n",
       "    }\n",
       "</style>\n",
       "<table border=\"1\" class=\"dataframe\">\n",
       "  <thead>\n",
       "    <tr style=\"text-align: right;\">\n",
       "      <th></th>\n",
       "      <th>event_name</th>\n",
       "      <th>device_id</th>\n",
       "      <th>datetime</th>\n",
       "      <th>experiment_id</th>\n",
       "      <th>date</th>\n",
       "    </tr>\n",
       "  </thead>\n",
       "  <tbody>\n",
       "    <tr>\n",
       "      <th>2828</th>\n",
       "      <td>Tutorial</td>\n",
       "      <td>3737462046622621720</td>\n",
       "      <td>2019-08-01 00:07:28</td>\n",
       "      <td>246</td>\n",
       "      <td>2019-08-01</td>\n",
       "    </tr>\n",
       "    <tr>\n",
       "      <th>2829</th>\n",
       "      <td>MainScreenAppear</td>\n",
       "      <td>3737462046622621720</td>\n",
       "      <td>2019-08-01 00:08:00</td>\n",
       "      <td>246</td>\n",
       "      <td>2019-08-01</td>\n",
       "    </tr>\n",
       "    <tr>\n",
       "      <th>2830</th>\n",
       "      <td>MainScreenAppear</td>\n",
       "      <td>3737462046622621720</td>\n",
       "      <td>2019-08-01 00:08:55</td>\n",
       "      <td>246</td>\n",
       "      <td>2019-08-01</td>\n",
       "    </tr>\n",
       "    <tr>\n",
       "      <th>2831</th>\n",
       "      <td>OffersScreenAppear</td>\n",
       "      <td>3737462046622621720</td>\n",
       "      <td>2019-08-01 00:08:58</td>\n",
       "      <td>246</td>\n",
       "      <td>2019-08-01</td>\n",
       "    </tr>\n",
       "    <tr>\n",
       "      <th>2832</th>\n",
       "      <td>MainScreenAppear</td>\n",
       "      <td>1433840883824088890</td>\n",
       "      <td>2019-08-01 00:08:59</td>\n",
       "      <td>247</td>\n",
       "      <td>2019-08-01</td>\n",
       "    </tr>\n",
       "  </tbody>\n",
       "</table>\n",
       "</div>"
      ],
      "text/plain": [
       "              event_name            device_id            datetime  \\\n",
       "2828            Tutorial  3737462046622621720 2019-08-01 00:07:28   \n",
       "2829    MainScreenAppear  3737462046622621720 2019-08-01 00:08:00   \n",
       "2830    MainScreenAppear  3737462046622621720 2019-08-01 00:08:55   \n",
       "2831  OffersScreenAppear  3737462046622621720 2019-08-01 00:08:58   \n",
       "2832    MainScreenAppear  1433840883824088890 2019-08-01 00:08:59   \n",
       "\n",
       "     experiment_id       date  \n",
       "2828           246 2019-08-01  \n",
       "2829           246 2019-08-01  \n",
       "2830           246 2019-08-01  \n",
       "2831           246 2019-08-01  \n",
       "2832           247 2019-08-01  "
      ]
     },
     "execution_count": 23,
     "metadata": {},
     "output_type": "execute_result"
    }
   ],
   "source": [
    "date_threshold = pd.to_datetime('2019-08-01', format = '%Y-%m-%d')\n",
    "df = df[df['date'] >= date_threshold]\n",
    "\n",
    "events_filtered = len(df)\n",
    "users_filtered = df['device_id'].nunique()\n",
    "\n",
    "df.head()"
   ]
  },
  {
   "cell_type": "code",
   "execution_count": 24,
   "metadata": {},
   "outputs": [
    {
     "name": "stdout",
     "output_type": "stream",
     "text": [
      "Количество событий до фильтрации - 243713, после - 240887. Разность - 2826 или 1.16%\n",
      "Количество пользователей до фильтрации - 7551, после - 7534. Разность - 17 или 0.23%\n"
     ]
    }
   ],
   "source": [
    "print('Количество событий до фильтрации - {}, после - {}. Разность - {} или {}%'.format(\n",
    "                                                                        event_name, events_filtered,\n",
    "                                                                        event_name - events_filtered,\n",
    "                                                                        round(100-events_filtered/event_name*100, 2)))\n",
    "print('Количество пользователей до фильтрации - {}, после - {}. Разность - {} или {}%'.format(\n",
    "                                                                        users, users_filtered,\n",
    "                                                                        users - users_filtered,\n",
    "                                                                        round(100-users_filtered/users*100, 2)))"
   ]
  },
  {
   "cell_type": "code",
   "execution_count": 25,
   "metadata": {},
   "outputs": [
    {
     "name": "stdout",
     "output_type": "stream",
     "text": [
      "0 events were lost\n"
     ]
    }
   ],
   "source": [
    "df_old_data = df.query('date <= \"2019-07-31\"')\n",
    "print(len(df_old_data['event_name']), 'events were lost')"
   ]
  },
  {
   "cell_type": "markdown",
   "metadata": {},
   "source": [
    "<div class=\"alert alert-block alert-info\">\n",
    "\n",
    "- ДО корректировки периода всего событий: 243713, всего пользователей: 7551.\n",
    "- ПОСЛЕ корректировки периода всего событий: 240887, всего пользователей: 7534.\n",
    "\n",
    "- Изменение количества логов: -2826 (-1,2%)\n",
    "- Изменение количества пользователей: - 17 (-0,2%)\n",
    "\n",
    "</div>"
   ]
  },
  {
   "cell_type": "markdown",
   "metadata": {},
   "source": [
    "###  Проверим, что есть пользователи из всех трёх экспериментальных групп"
   ]
  },
  {
   "cell_type": "code",
   "execution_count": 26,
   "metadata": {},
   "outputs": [
    {
     "data": {
      "text/html": [
       "<div>\n",
       "<style scoped>\n",
       "    .dataframe tbody tr th:only-of-type {\n",
       "        vertical-align: middle;\n",
       "    }\n",
       "\n",
       "    .dataframe tbody tr th {\n",
       "        vertical-align: top;\n",
       "    }\n",
       "\n",
       "    .dataframe thead th {\n",
       "        text-align: right;\n",
       "    }\n",
       "</style>\n",
       "<table border=\"1\" class=\"dataframe\">\n",
       "  <thead>\n",
       "    <tr style=\"text-align: right;\">\n",
       "      <th></th>\n",
       "      <th>device_id</th>\n",
       "    </tr>\n",
       "    <tr>\n",
       "      <th>experiment_id</th>\n",
       "      <th></th>\n",
       "    </tr>\n",
       "  </thead>\n",
       "  <tbody>\n",
       "    <tr>\n",
       "      <th>246</th>\n",
       "      <td>2484</td>\n",
       "    </tr>\n",
       "    <tr>\n",
       "      <th>247</th>\n",
       "      <td>2513</td>\n",
       "    </tr>\n",
       "    <tr>\n",
       "      <th>248</th>\n",
       "      <td>2537</td>\n",
       "    </tr>\n",
       "  </tbody>\n",
       "</table>\n",
       "</div>"
      ],
      "text/plain": [
       "               device_id\n",
       "experiment_id           \n",
       "246                 2484\n",
       "247                 2513\n",
       "248                 2537"
      ]
     },
     "execution_count": 26,
     "metadata": {},
     "output_type": "execute_result"
    }
   ],
   "source": [
    "df_new_data.groupby('experiment_id')['device_id'].nunique().to_frame()"
   ]
  },
  {
   "cell_type": "markdown",
   "metadata": {},
   "source": [
    "Видно, что 2484 пользователей приходится на 246 группу, 2513 - на 247, и 2537 на 248."
   ]
  },
  {
   "cell_type": "markdown",
   "metadata": {},
   "source": [
    "## Изучим воронку событий"
   ]
  },
  {
   "cell_type": "markdown",
   "metadata": {},
   "source": [
    "### Посмотрим, какие события есть в логах, как часто они встречаются. \n",
    "Отсортируем события по частоте"
   ]
  },
  {
   "cell_type": "code",
   "execution_count": 27,
   "metadata": {},
   "outputs": [
    {
     "data": {
      "text/plain": [
       "MainScreenAppear           117328\n",
       "OffersScreenAppear          46333\n",
       "CartScreenAppear            42303\n",
       "PaymentScreenSuccessful     33918\n",
       "Tutorial                     1005\n",
       "Name: event_name, dtype: int64"
      ]
     },
     "execution_count": 27,
     "metadata": {},
     "output_type": "execute_result"
    }
   ],
   "source": [
    "df_new_data['event_name'].value_counts()"
   ]
  },
  {
   "cell_type": "markdown",
   "metadata": {},
   "source": [
    "Как было сказано раннее в логе есть 5 событий, по убыванию их популярности: \n",
    "- показ пользователю главного экрана\n",
    "- показ экрана с предложением\n",
    "- показ экрана корзины\n",
    "- показ экрана с подтверждением оплаты\n",
    "- показ обучения "
   ]
  },
  {
   "cell_type": "markdown",
   "metadata": {},
   "source": [
    "### Посчитаем, сколько пользователей совершали каждое из этих событий.\n",
    "- Отсортируем события по числу пользователей. \n",
    "- Посчитаем долю пользователей, которые хоть раз совершали событие."
   ]
  },
  {
   "cell_type": "markdown",
   "metadata": {},
   "source": [
    "Tutorial этап не входит в воронку, т.к. не является частью последовательной цепочки действий пользователя для достижения результата. Его стоит исключить (с помощью индексации) из дальнейшего анализа воронки. "
   ]
  },
  {
   "cell_type": "code",
   "execution_count": 28,
   "metadata": {
    "scrolled": true
   },
   "outputs": [
    {
     "data": {
      "text/html": [
       "<div>\n",
       "<style scoped>\n",
       "    .dataframe tbody tr th:only-of-type {\n",
       "        vertical-align: middle;\n",
       "    }\n",
       "\n",
       "    .dataframe tbody tr th {\n",
       "        vertical-align: top;\n",
       "    }\n",
       "\n",
       "    .dataframe thead th {\n",
       "        text-align: right;\n",
       "    }\n",
       "</style>\n",
       "<table border=\"1\" class=\"dataframe\">\n",
       "  <thead>\n",
       "    <tr style=\"text-align: right;\">\n",
       "      <th></th>\n",
       "      <th>device_id</th>\n",
       "    </tr>\n",
       "    <tr>\n",
       "      <th>event_name</th>\n",
       "      <th></th>\n",
       "    </tr>\n",
       "  </thead>\n",
       "  <tbody>\n",
       "    <tr>\n",
       "      <th>MainScreenAppear</th>\n",
       "      <td>7419</td>\n",
       "    </tr>\n",
       "    <tr>\n",
       "      <th>OffersScreenAppear</th>\n",
       "      <td>4593</td>\n",
       "    </tr>\n",
       "    <tr>\n",
       "      <th>CartScreenAppear</th>\n",
       "      <td>3734</td>\n",
       "    </tr>\n",
       "    <tr>\n",
       "      <th>PaymentScreenSuccessful</th>\n",
       "      <td>3539</td>\n",
       "    </tr>\n",
       "  </tbody>\n",
       "</table>\n",
       "</div>"
      ],
      "text/plain": [
       "                         device_id\n",
       "event_name                        \n",
       "MainScreenAppear              7419\n",
       "OffersScreenAppear            4593\n",
       "CartScreenAppear              3734\n",
       "PaymentScreenSuccessful       3539"
      ]
     },
     "metadata": {},
     "output_type": "display_data"
    }
   ],
   "source": [
    "# Create a pivot table with the number of users per event\n",
    "df_events = df_new_data.pivot_table(index='event_name',values='device_id',aggfunc='nunique').sort_values(by='device_id', ascending = False)\n",
    "df_events.drop(['Tutorial'], inplace=True)\n",
    "display(df_events)"
   ]
  },
  {
   "cell_type": "code",
   "execution_count": 29,
   "metadata": {},
   "outputs": [
    {
     "data": {
      "text/html": [
       "<div>\n",
       "<style scoped>\n",
       "    .dataframe tbody tr th:only-of-type {\n",
       "        vertical-align: middle;\n",
       "    }\n",
       "\n",
       "    .dataframe tbody tr th {\n",
       "        vertical-align: top;\n",
       "    }\n",
       "\n",
       "    .dataframe thead th {\n",
       "        text-align: right;\n",
       "    }\n",
       "</style>\n",
       "<table border=\"1\" class=\"dataframe\">\n",
       "  <thead>\n",
       "    <tr style=\"text-align: right;\">\n",
       "      <th></th>\n",
       "      <th>device_id</th>\n",
       "      <th>%</th>\n",
       "    </tr>\n",
       "    <tr>\n",
       "      <th>event_name</th>\n",
       "      <th></th>\n",
       "      <th></th>\n",
       "    </tr>\n",
       "  </thead>\n",
       "  <tbody>\n",
       "    <tr>\n",
       "      <th>MainScreenAppear</th>\n",
       "      <td>7419</td>\n",
       "      <td>98.5</td>\n",
       "    </tr>\n",
       "    <tr>\n",
       "      <th>OffersScreenAppear</th>\n",
       "      <td>4593</td>\n",
       "      <td>61.0</td>\n",
       "    </tr>\n",
       "    <tr>\n",
       "      <th>CartScreenAppear</th>\n",
       "      <td>3734</td>\n",
       "      <td>49.6</td>\n",
       "    </tr>\n",
       "    <tr>\n",
       "      <th>PaymentScreenSuccessful</th>\n",
       "      <td>3539</td>\n",
       "      <td>47.0</td>\n",
       "    </tr>\n",
       "  </tbody>\n",
       "</table>\n",
       "</div>"
      ],
      "text/plain": [
       "                         device_id     %\n",
       "event_name                              \n",
       "MainScreenAppear              7419  98.5\n",
       "OffersScreenAppear            4593  61.0\n",
       "CartScreenAppear              3734  49.6\n",
       "PaymentScreenSuccessful       3539  47.0"
      ]
     },
     "execution_count": 29,
     "metadata": {},
     "output_type": "execute_result"
    }
   ],
   "source": [
    "# share of users\n",
    "df_events['%'] = round(df_events['device_id']/len(df_new_data['device_id'].unique()), 3) * 100\n",
    "df_events"
   ]
  },
  {
   "cell_type": "code",
   "execution_count": 30,
   "metadata": {},
   "outputs": [
    {
     "data": {
      "image/png": "[encoded data removed]",
      "text/plain": [
       "<Figure size 360x360 with 1 Axes>"
      ]
     },
     "metadata": {},
     "output_type": "display_data"
    }
   ],
   "source": [
    "df_events.plot( y='%', kind = 'pie', autopct='%1.1f%%', figsize=(5, 5))\n",
    "plt.title('The ratio of events by number')\n",
    "plt.show()"
   ]
  },
  {
   "cell_type": "markdown",
   "metadata": {},
   "source": [
    "События складываются в воронку продаж. Самое популярное событие - показ главного экрана, а самое непопулярное, которое входит в воронку продаж, - показ экрана оплаты"
   ]
  },
  {
   "cell_type": "markdown",
   "metadata": {},
   "source": [
    "###  Предположим, в каком порядке происходят события. Все ли они выстраиваются в последовательную цепочку?\n",
    "Их не нужно учитывать при расчёте воронки."
   ]
  },
  {
   "cell_type": "markdown",
   "metadata": {},
   "source": [
    "Предположительно, воронка продаж следующая:\n",
    "- пользователь видит главный экран сайта\n",
    "- пользователь переходит на понравившийся ему товар\n",
    "- пользоватеь добавляет товар в корзину и переходит в нее\n",
    "- пользователь оплачивает заказ\n",
    "\n",
    "Дополнительно имеется событие - обучение. Возможно, пользователя учат работать с сайтом. \n",
    "Но, судя по доле этого события, оно не является обязательным на сайте. И только 4% пользователей переходят на эту страницу, поэтому она не входит в воронку продаж."
   ]
  },
  {
   "cell_type": "markdown",
   "metadata": {},
   "source": [
    "### По воронке событий посчитаем, какая доля пользователей проходит на следующий шаг воронки (от числа пользователей на предыдущем). \n",
    "То есть для последовательности событий A → B → C посчитаем отношение числа пользователей с событием B к количеству пользователей с событием A, а также отношение числа пользователей с событием C к количеству пользователей с событием B."
   ]
  },
  {
   "cell_type": "code",
   "execution_count": 31,
   "metadata": {
    "scrolled": true
   },
   "outputs": [
    {
     "name": "stderr",
     "output_type": "stream",
     "text": [
      "/opt/conda/lib/python3.9/site-packages/pandas/core/indexing.py:1637: SettingWithCopyWarning: \n",
      "A value is trying to be set on a copy of a slice from a DataFrame\n",
      "\n",
      "See the caveats in the documentation: https://pandas.pydata.org/pandas-docs/stable/user_guide/indexing.html#returning-a-view-versus-a-copy\n",
      "  self._setitem_single_block(indexer, value, name)\n"
     ]
    },
    {
     "data": {
      "text/html": [
       "<div>\n",
       "<style scoped>\n",
       "    .dataframe tbody tr th:only-of-type {\n",
       "        vertical-align: middle;\n",
       "    }\n",
       "\n",
       "    .dataframe tbody tr th {\n",
       "        vertical-align: top;\n",
       "    }\n",
       "\n",
       "    .dataframe thead th {\n",
       "        text-align: right;\n",
       "    }\n",
       "</style>\n",
       "<table border=\"1\" class=\"dataframe\">\n",
       "  <thead>\n",
       "    <tr style=\"text-align: right;\">\n",
       "      <th></th>\n",
       "      <th>device_id</th>\n",
       "      <th>%</th>\n",
       "      <th>conversion</th>\n",
       "    </tr>\n",
       "    <tr>\n",
       "      <th>event_name</th>\n",
       "      <th></th>\n",
       "      <th></th>\n",
       "      <th></th>\n",
       "    </tr>\n",
       "  </thead>\n",
       "  <tbody>\n",
       "    <tr>\n",
       "      <th>MainScreenAppear</th>\n",
       "      <td>7419</td>\n",
       "      <td>98.5</td>\n",
       "      <td>100</td>\n",
       "    </tr>\n",
       "    <tr>\n",
       "      <th>OffersScreenAppear</th>\n",
       "      <td>4593</td>\n",
       "      <td>61.0</td>\n",
       "      <td>62</td>\n",
       "    </tr>\n",
       "    <tr>\n",
       "      <th>CartScreenAppear</th>\n",
       "      <td>3734</td>\n",
       "      <td>49.6</td>\n",
       "      <td>81</td>\n",
       "    </tr>\n",
       "    <tr>\n",
       "      <th>PaymentScreenSuccessful</th>\n",
       "      <td>3539</td>\n",
       "      <td>47.0</td>\n",
       "      <td>95</td>\n",
       "    </tr>\n",
       "  </tbody>\n",
       "</table>\n",
       "</div>"
      ],
      "text/plain": [
       "                         device_id     %  conversion\n",
       "event_name                                          \n",
       "MainScreenAppear              7419  98.5         100\n",
       "OffersScreenAppear            4593  61.0          62\n",
       "CartScreenAppear              3734  49.6          81\n",
       "PaymentScreenSuccessful       3539  47.0          95"
      ]
     },
     "metadata": {},
     "output_type": "display_data"
    }
   ],
   "source": [
    "#Создадим столбец конверсий и рассчитаем их в цикле\n",
    "df_events['conversion'] = 0\n",
    "for i in range(0, len(df_events['%'])):\n",
    "    if i == 0:\n",
    "        df_events['conversion'].iloc[i] = 100\n",
    "    else:\n",
    "        df_events['conversion'].iloc[i] = round(int(df_events['device_id'].iloc[i]) / int(df_events['device_id'].iloc[i-1]), 2)*100\n",
    "display(df_events)\n"
   ]
  },
  {
   "cell_type": "markdown",
   "metadata": {},
   "source": [
    "Было подсчитано, какой процент пользователей проходит на каждый из этапов воронки, от предыдущего шага. \n",
    "- На экран с успешной оплатой переходит 95% пользователей.\n",
    "- На экран с корзиной переходит 81% пользователей. \n",
    "- На экран с предложением проходит 62% пользователей, посмотревших главный экран. "
   ]
  },
  {
   "cell_type": "markdown",
   "metadata": {},
   "source": [
    "### На каком шаге теряете больше всего пользователей?"
   ]
  },
  {
   "cell_type": "markdown",
   "metadata": {},
   "source": [
    "К оплате переходит 95% пользователей от предыдущего шага, а вот к экрану с предложением проходит только 62% пользователей. Возможно главный экран сайта не самый удобный для пользователей, или имеются другие проблемы. Наименее популярным событием в воронке продаж - событие перехода к оплате. Но если смотреть на конверсию, то большой процент пользователей теряется при переходе от главного экрана к экрану с предложением."
   ]
  },
  {
   "cell_type": "markdown",
   "metadata": {},
   "source": [
    "Можем проверить насколько главный экран сайта удобный, например, сделать опрос."
   ]
  },
  {
   "cell_type": "markdown",
   "metadata": {},
   "source": [
    "### Какая доля пользователей доходит от первого события до оплаты?"
   ]
  },
  {
   "cell_type": "code",
   "execution_count": 32,
   "metadata": {},
   "outputs": [
    {
     "name": "stdout",
     "output_type": "stream",
     "text": [
      "48.0 % users reach payment\n"
     ]
    }
   ],
   "source": [
    "print(round(df_events['device_id'].iloc[3]/df_events['device_id'].iloc[0], 2)*100, '% users reach payment')"
   ]
  },
  {
   "cell_type": "markdown",
   "metadata": {},
   "source": [
    "До оплаты доходит 48.0 % пользователей."
   ]
  },
  {
   "cell_type": "markdown",
   "metadata": {},
   "source": [
    "## Изучим результаты эксперимента"
   ]
  },
  {
   "cell_type": "markdown",
   "metadata": {},
   "source": [
    "### Сколько пользователей в каждой экспериментальной группе?"
   ]
  },
  {
   "cell_type": "code",
   "execution_count": 33,
   "metadata": {},
   "outputs": [
    {
     "data": {
      "text/html": [
       "<div>\n",
       "<style scoped>\n",
       "    .dataframe tbody tr th:only-of-type {\n",
       "        vertical-align: middle;\n",
       "    }\n",
       "\n",
       "    .dataframe tbody tr th {\n",
       "        vertical-align: top;\n",
       "    }\n",
       "\n",
       "    .dataframe thead th {\n",
       "        text-align: right;\n",
       "    }\n",
       "</style>\n",
       "<table border=\"1\" class=\"dataframe\">\n",
       "  <thead>\n",
       "    <tr style=\"text-align: right;\">\n",
       "      <th></th>\n",
       "      <th>device_id</th>\n",
       "    </tr>\n",
       "    <tr>\n",
       "      <th>experiment_id</th>\n",
       "      <th></th>\n",
       "    </tr>\n",
       "  </thead>\n",
       "  <tbody>\n",
       "    <tr>\n",
       "      <th>246</th>\n",
       "      <td>2484</td>\n",
       "    </tr>\n",
       "    <tr>\n",
       "      <th>247</th>\n",
       "      <td>2513</td>\n",
       "    </tr>\n",
       "    <tr>\n",
       "      <th>248</th>\n",
       "      <td>2537</td>\n",
       "    </tr>\n",
       "  </tbody>\n",
       "</table>\n",
       "</div>"
      ],
      "text/plain": [
       "               device_id\n",
       "experiment_id           \n",
       "246                 2484\n",
       "247                 2513\n",
       "248                 2537"
      ]
     },
     "metadata": {},
     "output_type": "display_data"
    }
   ],
   "source": [
    "# pivot table with the number of users per group\n",
    "df_new_data_groups = df_new_data.pivot_table(index='experiment_id',values='device_id',aggfunc='nunique')\n",
    "display(df_new_data_groups)"
   ]
  },
  {
   "cell_type": "markdown",
   "metadata": {},
   "source": [
    "- В 246 группе 2484 пользователя, \n",
    "- в 247 группе 2513 пользователей, \n",
    "- в группе 248, с увеличенными шрифтами, 2537 пользователей."
   ]
  },
  {
   "cell_type": "markdown",
   "metadata": {},
   "source": [
    "### Есть 2 контрольные группы для А/А-эксперимента, чтобы проверить корректность всех механизмов и расчётов. Проверим, находят ли статистические критерии разницу между выборками 246 и 247."
   ]
  },
  {
   "cell_type": "markdown",
   "metadata": {},
   "source": [
    "### Выберем самое популярное событие. \n",
    "- Посчитаем число пользователей, совершивших это событие в каждой из контрольных групп. \n",
    "- Посчитаем долю пользователей, совершивших это событие. \n",
    "- Проверим, будет ли отличие между группами статистически достоверным. \n",
    "- Проделаем то же самое для всех других событий (удобно обернуть проверку в отдельную функцию).\n",
    "- Можно ли сказать, что разбиение на группы работает корректно?"
   ]
  },
  {
   "cell_type": "code",
   "execution_count": 34,
   "metadata": {},
   "outputs": [
    {
     "data": {
      "text/html": [
       "<div>\n",
       "<style scoped>\n",
       "    .dataframe tbody tr th:only-of-type {\n",
       "        vertical-align: middle;\n",
       "    }\n",
       "\n",
       "    .dataframe tbody tr th {\n",
       "        vertical-align: top;\n",
       "    }\n",
       "\n",
       "    .dataframe thead th {\n",
       "        text-align: right;\n",
       "    }\n",
       "</style>\n",
       "<table border=\"1\" class=\"dataframe\">\n",
       "  <thead>\n",
       "    <tr style=\"text-align: right;\">\n",
       "      <th>event_name</th>\n",
       "      <th>CartScreenAppear</th>\n",
       "      <th>MainScreenAppear</th>\n",
       "      <th>OffersScreenAppear</th>\n",
       "      <th>PaymentScreenSuccessful</th>\n",
       "      <th>Total</th>\n",
       "    </tr>\n",
       "    <tr>\n",
       "      <th>experiment_id</th>\n",
       "      <th></th>\n",
       "      <th></th>\n",
       "      <th></th>\n",
       "      <th></th>\n",
       "      <th></th>\n",
       "    </tr>\n",
       "  </thead>\n",
       "  <tbody>\n",
       "    <tr>\n",
       "      <th>246</th>\n",
       "      <td>1266</td>\n",
       "      <td>2450</td>\n",
       "      <td>1542</td>\n",
       "      <td>1200</td>\n",
       "      <td>2484</td>\n",
       "    </tr>\n",
       "    <tr>\n",
       "      <th>247</th>\n",
       "      <td>1238</td>\n",
       "      <td>2476</td>\n",
       "      <td>1520</td>\n",
       "      <td>1158</td>\n",
       "      <td>2513</td>\n",
       "    </tr>\n",
       "    <tr>\n",
       "      <th>248</th>\n",
       "      <td>1230</td>\n",
       "      <td>2493</td>\n",
       "      <td>1531</td>\n",
       "      <td>1181</td>\n",
       "      <td>2537</td>\n",
       "    </tr>\n",
       "  </tbody>\n",
       "</table>\n",
       "</div>"
      ],
      "text/plain": [
       "event_name     CartScreenAppear  MainScreenAppear  OffersScreenAppear  \\\n",
       "experiment_id                                                           \n",
       "246                        1266              2450                1542   \n",
       "247                        1238              2476                1520   \n",
       "248                        1230              2493                1531   \n",
       "\n",
       "event_name     PaymentScreenSuccessful  Total  \n",
       "experiment_id                                  \n",
       "246                               1200   2484  \n",
       "247                               1158   2513  \n",
       "248                               1181   2537  "
      ]
     },
     "metadata": {},
     "output_type": "display_data"
    }
   ],
   "source": [
    "# table with the number of unique users by events and control groups\n",
    "df_voronka = df_new_data.pivot_table(index='experiment_id',columns='event_name', values='device_id',aggfunc='nunique')\n",
    "del df_voronka['Tutorial']\n",
    "df_voronka['Total'] = [df_new_data_groups['device_id'][0], df_new_data_groups['device_id'][1], df_new_data_groups['device_id'][2]]\n",
    "display(df_voronka)"
   ]
  },
  {
   "cell_type": "markdown",
   "metadata": {},
   "source": [
    "Требуется сравнить в двух группах полученные доли пользователей от общего количества пользователей. Для данного сравнения используем z-тест. Чтобы провести z-тест по всем группам удобно сделать функцию, которая на вход будет принимать пять аргументов:\n",
    "1. Количество пользователей, совершивших действие в 1 группе (event_1)\n",
    "2. Количество пользователей, совершивших действие во 2 группе (event_2)\n",
    "3. Количество пользователей всего в 1 группе (trials_1)\n",
    "4. Количество пользователей всего во 2 группе (trials_2)\n",
    "5. Уровень статистической значимости (alpha, по умолчанию 0.05)"
   ]
  },
  {
   "cell_type": "code",
   "execution_count": 35,
   "metadata": {},
   "outputs": [],
   "source": [
    "def return_hypothesis_test (success, trials, alpha):\n",
    "    \n",
    "    # считаем пропорцию успеха в каждой группе\n",
    "    p1 = success[0] / trials[0]\n",
    "    p2 = success[1] / trials[1]\n",
    "    \n",
    "    # считаем пропорцию успехов в комбинированной группе\n",
    "    p_combined = (success[0] + success[1]) / (trials[0] + trials[1])\n",
    "    \n",
    "    # считаем разницу\n",
    "    difference = p1 - p2\n",
    "    \n",
    "    # считаем статистику в ст.отклонениях стандартного нормального распределения\n",
    "    z_value = difference / mth.sqrt(p_combined *(1-p_combined) * (1/trials[0] + 1/trials[1]))\n",
    "    \n",
    "    # задаем нормальное распределение\n",
    "    distr = st.norm(0, 1)\n",
    "    p_value = (1 - distr.cdf(abs(z_value))) * 2\n",
    "    print('p-значение: ', p_value)\n",
    "    \n",
    "    if (p_value < alpha):\n",
    "        print(\"Отвергаем нулевую гипотезу: между долями есть значимая разница\")\n",
    "        print('')\n",
    "    else:\n",
    "        print(\"Не получилось отвергнуть нулевую гипотезу, нет оснований считать доли разными\")\n",
    "        print('')"
   ]
  },
  {
   "cell_type": "markdown",
   "metadata": {},
   "source": [
    "С помощью данной функции проводим сравнение долей в группах по каждому событию, в том числе и в 2 контрольных (AA-тест)."
   ]
  },
  {
   "cell_type": "code",
   "execution_count": 36,
   "metadata": {},
   "outputs": [],
   "source": [
    "# сохраним количество пользователей в новых переменных\n",
    "users_246 = df.query('experiment_id == 246')['device_id'].nunique()\n",
    "users_247 = df.query('experiment_id == 247')['device_id'].nunique()\n",
    "users_248 = df.query('experiment_id == 248')['device_id'].nunique()"
   ]
  },
  {
   "cell_type": "code",
   "execution_count": 37,
   "metadata": {},
   "outputs": [
    {
     "data": {
      "text/html": [
       "<div>\n",
       "<style scoped>\n",
       "    .dataframe tbody tr th:only-of-type {\n",
       "        vertical-align: middle;\n",
       "    }\n",
       "\n",
       "    .dataframe tbody tr th {\n",
       "        vertical-align: top;\n",
       "    }\n",
       "\n",
       "    .dataframe thead th {\n",
       "        text-align: right;\n",
       "    }\n",
       "</style>\n",
       "<table border=\"1\" class=\"dataframe\">\n",
       "  <thead>\n",
       "    <tr style=\"text-align: right;\">\n",
       "      <th>experiment_id</th>\n",
       "      <th>event_name</th>\n",
       "      <th>246</th>\n",
       "      <th>247</th>\n",
       "      <th>248</th>\n",
       "    </tr>\n",
       "  </thead>\n",
       "  <tbody>\n",
       "    <tr>\n",
       "      <th>1</th>\n",
       "      <td>MainScreenAppear</td>\n",
       "      <td>2450</td>\n",
       "      <td>2476</td>\n",
       "      <td>2493</td>\n",
       "    </tr>\n",
       "    <tr>\n",
       "      <th>2</th>\n",
       "      <td>OffersScreenAppear</td>\n",
       "      <td>1542</td>\n",
       "      <td>1520</td>\n",
       "      <td>1531</td>\n",
       "    </tr>\n",
       "    <tr>\n",
       "      <th>0</th>\n",
       "      <td>CartScreenAppear</td>\n",
       "      <td>1266</td>\n",
       "      <td>1238</td>\n",
       "      <td>1230</td>\n",
       "    </tr>\n",
       "    <tr>\n",
       "      <th>3</th>\n",
       "      <td>PaymentScreenSuccessful</td>\n",
       "      <td>1200</td>\n",
       "      <td>1158</td>\n",
       "      <td>1181</td>\n",
       "    </tr>\n",
       "    <tr>\n",
       "      <th>4</th>\n",
       "      <td>Tutorial</td>\n",
       "      <td>278</td>\n",
       "      <td>283</td>\n",
       "      <td>279</td>\n",
       "    </tr>\n",
       "  </tbody>\n",
       "</table>\n",
       "</div>"
      ],
      "text/plain": [
       "experiment_id               event_name   246   247   248\n",
       "1                     MainScreenAppear  2450  2476  2493\n",
       "2                   OffersScreenAppear  1542  1520  1531\n",
       "0                     CartScreenAppear  1266  1238  1230\n",
       "3              PaymentScreenSuccessful  1200  1158  1181\n",
       "4                             Tutorial   278   283   279"
      ]
     },
     "execution_count": 37,
     "metadata": {},
     "output_type": "execute_result"
    }
   ],
   "source": [
    "# создаим сводную таблицу, посчитаем количество пользователей в каждой группе\n",
    "users_by_group = df.pivot_table(index='event_name',\n",
    "                                columns='experiment_id',\n",
    "                                values='device_id',\n",
    "                                aggfunc='nunique').reset_index().sort_values(by='248', ascending=False)\n",
    "users_by_group"
   ]
  },
  {
   "cell_type": "markdown",
   "metadata": {},
   "source": [
    "Введем основную и альтернативную гипотезы для всех попарных сравнений\n",
    "- Нулевая гиптеза: Доли уникальных посетителей побывавших на этапе воронки одинаковы\n",
    "- Альтернративная гипотеза: Доли уникальных посетителей побывавших на этапе воронки отличаются"
   ]
  },
  {
   "cell_type": "code",
   "execution_count": 38,
   "metadata": {},
   "outputs": [],
   "source": [
    "# Напишем функцию, которая на вход получает порядковый номер группы в таблице и параметр альфа, и возвращает результаты проверки гипотез\n",
    "def automation (group1, group2, alpha):\n",
    "    alpha_test = alpha\n",
    "    count_users = ([df_voronka['Total'][group1], df_voronka['Total'][group2]])\n",
    "    count_MainScreenAppear = ([df_voronka['MainScreenAppear'][group1], df_voronka['MainScreenAppear'][group2]])\n",
    "    count_OffersScreenAppear = ([df_voronka['OffersScreenAppear'][group1], df_voronka['OffersScreenAppear'][group2]])\n",
    "    count_CartScreenAppear = ([df_voronka['CartScreenAppear'][group1], df_voronka['CartScreenAppear'][group2]])\n",
    "    count_PaymentScreenSuccessful = ([df_voronka['PaymentScreenSuccessful'][group1], df_voronka['PaymentScreenSuccessful'][group2]])\n",
    "    \n",
    "    print('Результаты теста по долям count_users и count_MainScreenAppear для групп')\n",
    "    return_hypothesis_test(count_MainScreenAppear, count_users, alpha_test)\n",
    "    \n",
    "    print('Результаты теста по долям count_OffersScreenAppear и count_users для групп')\n",
    "    return_hypothesis_test(count_OffersScreenAppear, count_users, alpha_test)\n",
    "    \n",
    "    print('Результаты теста по долям count_users и count_CartScreenAppear для групп')\n",
    "    return_hypothesis_test(count_CartScreenAppear, count_users, alpha_test)\n",
    "    \n",
    "    print('Результаты теста по долям count_PaymentScreenSuccessful и count_users для групп')\n",
    "    return_hypothesis_test(count_PaymentScreenSuccessful, count_users, alpha_test)"
   ]
  },
  {
   "cell_type": "code",
   "execution_count": 39,
   "metadata": {},
   "outputs": [
    {
     "name": "stdout",
     "output_type": "stream",
     "text": [
      "Результаты теста по долям count_users и count_MainScreenAppear для групп\n",
      "p-значение:  0.7570597232046099\n",
      "Не получилось отвергнуть нулевую гипотезу, нет оснований считать доли разными\n",
      "\n",
      "Результаты теста по долям count_OffersScreenAppear и count_users для групп\n",
      "p-значение:  0.2480954578522181\n",
      "Не получилось отвергнуть нулевую гипотезу, нет оснований считать доли разными\n",
      "\n",
      "Результаты теста по долям count_users и count_CartScreenAppear для групп\n",
      "p-значение:  0.22883372237997213\n",
      "Не получилось отвергнуть нулевую гипотезу, нет оснований считать доли разными\n",
      "\n",
      "Результаты теста по долям count_PaymentScreenSuccessful и count_users для групп\n",
      "p-значение:  0.11456679313141849\n",
      "Не получилось отвергнуть нулевую гипотезу, нет оснований считать доли разными\n",
      "\n"
     ]
    }
   ],
   "source": [
    "# Сделаем проверку контрольных групп А/A\n",
    "automation (0, 1, 0.1)"
   ]
  },
  {
   "cell_type": "markdown",
   "metadata": {},
   "source": [
    "Как видно из проверки гипотез о равенстве долей, нет оснований считать контрольные выборки групп 246 и 247 разными. Равные доли говорят о том, что контрольные группы выбраны верны.\n",
    "\n",
    "Самым популярным событием, как и ожидалось, становится показ главного экрана сайта. С этого и начинается воронка продаж."
   ]
  },
  {
   "cell_type": "markdown",
   "metadata": {},
   "source": [
    "### Аналогично поступим с группой с изменённым шрифтом. \n",
    "- Сравним результаты с каждой из контрольных групп в отдельности по каждому событию. \n",
    "- Сравним результаты с объединённой контрольной группой. \n",
    "- Какие выводы из эксперимента можно сделать?"
   ]
  },
  {
   "cell_type": "code",
   "execution_count": 40,
   "metadata": {},
   "outputs": [
    {
     "data": {
      "text/html": [
       "<div>\n",
       "<style scoped>\n",
       "    .dataframe tbody tr th:only-of-type {\n",
       "        vertical-align: middle;\n",
       "    }\n",
       "\n",
       "    .dataframe tbody tr th {\n",
       "        vertical-align: top;\n",
       "    }\n",
       "\n",
       "    .dataframe thead th {\n",
       "        text-align: right;\n",
       "    }\n",
       "</style>\n",
       "<table border=\"1\" class=\"dataframe\">\n",
       "  <thead>\n",
       "    <tr style=\"text-align: right;\">\n",
       "      <th>event_name</th>\n",
       "      <th>CartScreenAppear</th>\n",
       "      <th>MainScreenAppear</th>\n",
       "      <th>OffersScreenAppear</th>\n",
       "      <th>PaymentScreenSuccessful</th>\n",
       "      <th>Total</th>\n",
       "    </tr>\n",
       "    <tr>\n",
       "      <th>experiment_id</th>\n",
       "      <th></th>\n",
       "      <th></th>\n",
       "      <th></th>\n",
       "      <th></th>\n",
       "      <th></th>\n",
       "    </tr>\n",
       "  </thead>\n",
       "  <tbody>\n",
       "    <tr>\n",
       "      <th>246</th>\n",
       "      <td>1266</td>\n",
       "      <td>2450</td>\n",
       "      <td>1542</td>\n",
       "      <td>1200</td>\n",
       "      <td>2484</td>\n",
       "    </tr>\n",
       "    <tr>\n",
       "      <th>247</th>\n",
       "      <td>1238</td>\n",
       "      <td>2476</td>\n",
       "      <td>1520</td>\n",
       "      <td>1158</td>\n",
       "      <td>2513</td>\n",
       "    </tr>\n",
       "    <tr>\n",
       "      <th>248</th>\n",
       "      <td>1230</td>\n",
       "      <td>2493</td>\n",
       "      <td>1531</td>\n",
       "      <td>1181</td>\n",
       "      <td>2537</td>\n",
       "    </tr>\n",
       "    <tr>\n",
       "      <th>249</th>\n",
       "      <td>2504</td>\n",
       "      <td>4926</td>\n",
       "      <td>3062</td>\n",
       "      <td>2358</td>\n",
       "      <td>4997</td>\n",
       "    </tr>\n",
       "  </tbody>\n",
       "</table>\n",
       "</div>"
      ],
      "text/plain": [
       "event_name     CartScreenAppear  MainScreenAppear  OffersScreenAppear  \\\n",
       "experiment_id                                                           \n",
       "246                        1266              2450                1542   \n",
       "247                        1238              2476                1520   \n",
       "248                        1230              2493                1531   \n",
       "249                        2504              4926                3062   \n",
       "\n",
       "event_name     PaymentScreenSuccessful  Total  \n",
       "experiment_id                                  \n",
       "246                               1200   2484  \n",
       "247                               1158   2513  \n",
       "248                               1181   2537  \n",
       "249                               2358   4997  "
      ]
     },
     "metadata": {},
     "output_type": "display_data"
    }
   ],
   "source": [
    "#Соединим две контрольные группы в группу 249\n",
    "df_voronka.loc['249'] = [df_voronka['CartScreenAppear'][0]+df_voronka['CartScreenAppear'][1] , df_voronka['MainScreenAppear'][0]+df_voronka['MainScreenAppear'][1], df_voronka['OffersScreenAppear'][0]+df_voronka['OffersScreenAppear'][1], df_voronka['PaymentScreenSuccessful'][0]+df_voronka['PaymentScreenSuccessful'][1], df_voronka['Total'][0]+df_voronka['Total'][1]]\n",
    "display(df_voronka)"
   ]
  },
  {
   "cell_type": "code",
   "execution_count": 41,
   "metadata": {},
   "outputs": [
    {
     "name": "stdout",
     "output_type": "stream",
     "text": [
      "Результаты теста по долям count_users и count_MainScreenAppear для групп\n",
      "p-значение:  0.2949721933554552\n",
      "Не получилось отвергнуть нулевую гипотезу, нет оснований считать доли разными\n",
      "\n",
      "Результаты теста по долям count_OffersScreenAppear и count_users для групп\n",
      "p-значение:  0.20836205402738917\n",
      "Не получилось отвергнуть нулевую гипотезу, нет оснований считать доли разными\n",
      "\n",
      "Результаты теста по долям count_users и count_CartScreenAppear для групп\n",
      "p-значение:  0.07842923237520116\n",
      "Отвергаем нулевую гипотезу: между долями есть значимая разница\n",
      "\n",
      "Результаты теста по долям count_PaymentScreenSuccessful и count_users для групп\n",
      "p-значение:  0.2122553275697796\n",
      "Не получилось отвергнуть нулевую гипотезу, нет оснований считать доли разными\n",
      "\n"
     ]
    }
   ],
   "source": [
    "# Сделаем проверку групп А1/B (246 и 248)\n",
    "automation (0, 2, 0.1)"
   ]
  },
  {
   "cell_type": "code",
   "execution_count": 42,
   "metadata": {},
   "outputs": [
    {
     "name": "stdout",
     "output_type": "stream",
     "text": [
      "В 246-ой контрольной группе 50.0 % пользователей переходит к оплате\n",
      "В 248-ой группе с измененными шрифтами 48.0 % пользователей переходит к оплате\n"
     ]
    }
   ],
   "source": [
    "print('В 246-ой контрольной группе', round(df_voronka['CartScreenAppear'].iloc[0]/df_voronka['Total'].iloc[1], 2)*100, '% пользователей переходит к оплате')\n",
    "print('В 248-ой группе с измененными шрифтами', round(df_voronka['CartScreenAppear'].iloc[2]/df_voronka['Total'].iloc[2], 2)*100, '% пользователей переходит к оплате')"
   ]
  },
  {
   "cell_type": "code",
   "execution_count": 43,
   "metadata": {},
   "outputs": [
    {
     "name": "stdout",
     "output_type": "stream",
     "text": [
      "Результаты теста по долям count_users и count_MainScreenAppear для групп\n",
      "p-значение:  0.4587053616621515\n",
      "Не получилось отвергнуть нулевую гипотезу, нет оснований считать доли разными\n",
      "\n",
      "Результаты теста по долям count_OffersScreenAppear и count_users для групп\n",
      "p-значение:  0.9197817830592261\n",
      "Не получилось отвергнуть нулевую гипотезу, нет оснований считать доли разными\n",
      "\n",
      "Результаты теста по долям count_users и count_CartScreenAppear для групп\n",
      "p-значение:  0.5786197879539783\n",
      "Не получилось отвергнуть нулевую гипотезу, нет оснований считать доли разными\n",
      "\n",
      "Результаты теста по долям count_PaymentScreenSuccessful и count_users для групп\n",
      "p-значение:  0.7373415053803964\n",
      "Не получилось отвергнуть нулевую гипотезу, нет оснований считать доли разными\n",
      "\n"
     ]
    }
   ],
   "source": [
    "# Сделаем проверку групп А2/B (247 и 248)\n",
    "automation (1, 2, 0.1)"
   ]
  },
  {
   "cell_type": "code",
   "execution_count": 44,
   "metadata": {},
   "outputs": [
    {
     "name": "stdout",
     "output_type": "stream",
     "text": [
      "Результаты теста по долям count_users и count_MainScreenAppear для групп\n",
      "p-значение:  0.29424526837179577\n",
      "Не получилось отвергнуть нулевую гипотезу, нет оснований считать доли разными\n",
      "\n",
      "Результаты теста по долям count_OffersScreenAppear и count_users для групп\n",
      "p-значение:  0.43425549655188256\n",
      "Не получилось отвергнуть нулевую гипотезу, нет оснований считать доли разными\n",
      "\n",
      "Результаты теста по долям count_users и count_CartScreenAppear для групп\n",
      "p-значение:  0.18175875284404386\n",
      "Не получилось отвергнуть нулевую гипотезу, нет оснований считать доли разными\n",
      "\n",
      "Результаты теста по долям count_PaymentScreenSuccessful и count_users для групп\n",
      "p-значение:  0.6004294282308704\n",
      "Не получилось отвергнуть нулевую гипотезу, нет оснований считать доли разными\n",
      "\n"
     ]
    }
   ],
   "source": [
    "# Сделаем проверку групп А/B (249 и 248)\n",
    "automation (3, 2, 0.1)"
   ]
  },
  {
   "cell_type": "markdown",
   "metadata": {},
   "source": [
    "Между первой контрольной группой (246) и группой с измененными шрифтами (248) значимых различий нет. А вот между группами 246 и 248 есть значимая разница в доле пользоватей, перешедших к странице корзины. У группы с измененными шрифтами процент перешедших к корзине 48% < 50% перешедших к корзине в контрольных группах. Значимой разницы в переходах объединенной контрольной группы с 248-ой группой нет."
   ]
  },
  {
   "cell_type": "markdown",
   "metadata": {},
   "source": [
    "### Какой уровень значимости мы выбрали при проверке статистических гипотез выше? Посчитаем, сколько проверок статистических гипотез вы сделали. \n",
    "При уровне значимости 0.1 каждый десятый раз можно получать ложный результат. \n",
    "- Какой уровень значимости стоит применить? Если мы хотим изменить его, проделаем предыдущие пункты и проверим свои выводы."
   ]
  },
  {
   "cell_type": "markdown",
   "metadata": {},
   "source": [
    "Сделаем проверку гипотез между группами при уровне значимости 0.05"
   ]
  },
  {
   "cell_type": "code",
   "execution_count": 45,
   "metadata": {},
   "outputs": [
    {
     "name": "stdout",
     "output_type": "stream",
     "text": [
      "Результаты теста по долям count_users и count_MainScreenAppear для групп\n",
      "p-значение:  0.7570597232046099\n",
      "Не получилось отвергнуть нулевую гипотезу, нет оснований считать доли разными\n",
      "\n",
      "Результаты теста по долям count_OffersScreenAppear и count_users для групп\n",
      "p-значение:  0.2480954578522181\n",
      "Не получилось отвергнуть нулевую гипотезу, нет оснований считать доли разными\n",
      "\n",
      "Результаты теста по долям count_users и count_CartScreenAppear для групп\n",
      "p-значение:  0.22883372237997213\n",
      "Не получилось отвергнуть нулевую гипотезу, нет оснований считать доли разными\n",
      "\n",
      "Результаты теста по долям count_PaymentScreenSuccessful и count_users для групп\n",
      "p-значение:  0.11456679313141849\n",
      "Не получилось отвергнуть нулевую гипотезу, нет оснований считать доли разными\n",
      "\n"
     ]
    }
   ],
   "source": [
    "# Сделаем проверку групп А1/A2 (246 и 247)\n",
    "automation (0, 1, 0.05)"
   ]
  },
  {
   "cell_type": "code",
   "execution_count": 46,
   "metadata": {},
   "outputs": [
    {
     "name": "stdout",
     "output_type": "stream",
     "text": [
      "Результаты теста по долям count_users и count_MainScreenAppear для групп\n",
      "p-значение:  0.2949721933554552\n",
      "Не получилось отвергнуть нулевую гипотезу, нет оснований считать доли разными\n",
      "\n",
      "Результаты теста по долям count_OffersScreenAppear и count_users для групп\n",
      "p-значение:  0.20836205402738917\n",
      "Не получилось отвергнуть нулевую гипотезу, нет оснований считать доли разными\n",
      "\n",
      "Результаты теста по долям count_users и count_CartScreenAppear для групп\n",
      "p-значение:  0.07842923237520116\n",
      "Не получилось отвергнуть нулевую гипотезу, нет оснований считать доли разными\n",
      "\n",
      "Результаты теста по долям count_PaymentScreenSuccessful и count_users для групп\n",
      "p-значение:  0.2122553275697796\n",
      "Не получилось отвергнуть нулевую гипотезу, нет оснований считать доли разными\n",
      "\n"
     ]
    }
   ],
   "source": [
    "# Сделаем проверку групп А1/B (246 и 248)\n",
    "automation (0, 2, 0.05)"
   ]
  },
  {
   "cell_type": "code",
   "execution_count": 47,
   "metadata": {},
   "outputs": [
    {
     "name": "stdout",
     "output_type": "stream",
     "text": [
      "Результаты теста по долям count_users и count_MainScreenAppear для групп\n",
      "p-значение:  0.4587053616621515\n",
      "Не получилось отвергнуть нулевую гипотезу, нет оснований считать доли разными\n",
      "\n",
      "Результаты теста по долям count_OffersScreenAppear и count_users для групп\n",
      "p-значение:  0.9197817830592261\n",
      "Не получилось отвергнуть нулевую гипотезу, нет оснований считать доли разными\n",
      "\n",
      "Результаты теста по долям count_users и count_CartScreenAppear для групп\n",
      "p-значение:  0.5786197879539783\n",
      "Не получилось отвергнуть нулевую гипотезу, нет оснований считать доли разными\n",
      "\n",
      "Результаты теста по долям count_PaymentScreenSuccessful и count_users для групп\n",
      "p-значение:  0.7373415053803964\n",
      "Не получилось отвергнуть нулевую гипотезу, нет оснований считать доли разными\n",
      "\n"
     ]
    }
   ],
   "source": [
    "# Сделаем проверку групп А2/B (247 и 248)\n",
    "automation (1, 2, 0.05)"
   ]
  },
  {
   "cell_type": "code",
   "execution_count": 48,
   "metadata": {},
   "outputs": [
    {
     "name": "stdout",
     "output_type": "stream",
     "text": [
      "Результаты теста по долям count_users и count_MainScreenAppear для групп\n",
      "p-значение:  0.29424526837179577\n",
      "Не получилось отвергнуть нулевую гипотезу, нет оснований считать доли разными\n",
      "\n",
      "Результаты теста по долям count_OffersScreenAppear и count_users для групп\n",
      "p-значение:  0.43425549655188256\n",
      "Не получилось отвергнуть нулевую гипотезу, нет оснований считать доли разными\n",
      "\n",
      "Результаты теста по долям count_users и count_CartScreenAppear для групп\n",
      "p-значение:  0.18175875284404386\n",
      "Не получилось отвергнуть нулевую гипотезу, нет оснований считать доли разными\n",
      "\n",
      "Результаты теста по долям count_PaymentScreenSuccessful и count_users для групп\n",
      "p-значение:  0.6004294282308704\n",
      "Не получилось отвергнуть нулевую гипотезу, нет оснований считать доли разными\n",
      "\n"
     ]
    }
   ],
   "source": [
    "# Сделаем проверку групп А/B (249 и 248)\n",
    "automation (2, 3, 0.05)"
   ]
  },
  {
   "cell_type": "markdown",
   "metadata": {},
   "source": [
    "При множественной проверке гипотез стоит использовать поправки к уровню значимости.\n",
    "Можно использовать поправку Бонферрони, но надо учитывать что она очень сильно уменьшает уровень значимости, от чего такой уровень может достигаться очень редко, от чего повышается возможность ошибки второго рода.\n",
    "Так как мы не достигли уровня 0.05, то и уровни с поправками мы достигнуть также не смогли бы."
   ]
  },
  {
   "cell_type": "markdown",
   "metadata": {},
   "source": [
    "При изменении уровня значимости на 0.05, нулевая гипотеза не отбрасывается уже ни при каких тестах. Доли во всех выборках равны. Различий между контрольными группами и тестовой нет."
   ]
  },
  {
   "cell_type": "markdown",
   "metadata": {},
   "source": [
    "## Вывод"
   ]
  },
  {
   "cell_type": "markdown",
   "metadata": {},
   "source": [
    "- В датасете имеются столбцы с названием события, ID пользователя, временем события и номером экспериментальной группы. Дата записана в неправильном формате. Видны такие события: 'Появление главного экрана', 'Появление экрана оплаты' и т д. События являются частью воронки продаж на сайте. В таблице были удалены дубликаты, откорректированы типы данных, добавлен столбец с данной. Пропуски в таблице отсутствуют\n",
    "- В логе есть 5 событий, по убыванию их популярности: показ пользователю главного экрана, показ экрана с предложением, показ экрана корзины, показ экрана с подтверждением оплаты, показ обучения. В логе всего 7551 пользователь. В среднем на пользователя приходится 32 события, однако это число завышено из за больших выбросов. Чаще всего на пользователей приходится 1-30 событий.\n",
    "- До 01.08.201 совершается очень мало событий. Скорее всего как раз с этой даты все данные доехали, и можно оценивать результаты экспериментов. После удаления ранних данных были потеряно 2826 событий, что составляет около 1% от общего числа, 5 пользователей.\n",
    "- По 7.7-8 тыс событий приходится на каждую эксперименальную группу. Cобытия складываются в воронку продаж. Самое популярное событие - показ главного экрана, а самое непопулярное, которое входит в воронку продаж, - показ экрана оплаты. \n",
    "- Воронка продаж следующая:\n",
    "1) пользователь видит главный экран сайта\n",
    "2) пользователь переходит на понравившийся ему товар\n",
    "3) пользоватеь добавляет товар в корзину и переходит в нее\n",
    "4) пользователь оплачивает заказ\n",
    "- Дополнительно имеется событие - обучение. Возможно, пользователя учат работать с сайтом. Но, судя по доле этого события, оно не является обязательным на сайте. И только 4% пользователей переходят на эту страницу, поэтому она не входит в воронку продаж.\n",
    "- Было подсчитано, какой процент пользователей проходит на каждый из этапов воронки от предыдущего шага. На экран с предложением проходит 62% пользователей, посмотревших главный экран. На экран с корзиной переходит 81% пользователей. На экран с успешной оплатой переходит 95% пользователей. К оплате переходит 95% пользователей от предыдущего шага, а вот к экрану с предложением проходит только 62% пользователей. От показа главного экрана до тоговой оплаты доходит 48 % пользователей.\n",
    "- В 246 группе 2484 пользователя, в 247 группе 2513 пользователей, в группе 248, с увеличенными шрифтами, 2537 пользователей. Как видно из проверги гипотез о равенстве долей, нет оснований считать контрольные выборки групп 246 и 247 разными. Самым популярным событием становится показ главного экрана сайта. С этого и начинается воронка продаж.\n",
    "- При уровне статистической значимости 0.1, между второй контрольной группой (247) и группой с измененными шрифтами (248) значимых различий нет, так и нет разницы между тестовой группой и объединенной контрольной. А вот между группами 246 и 248 есть значимая разница в доле пользоватей, перешедших к корзине. У группы с измененными шрифтами процент перешедших к оплате 48% < 50% перешедших к оплате в первой контролной группе.\n",
    "- При измепнении уровня значимости на 0.05, значимой разницы между тестовой группой и всеми контрольными группами при всех событиях нет.\n",
    "- Для определения уровня значисти лучше проводить компьютерный анализ. Для альфа 0.1 контрольная группа показала себя лучше тестовой для события перехода на страницу корзины. В остальных событиях значимой разницы между группами нет. При уменьшении альфа значительной разницы между группами нет ни для каких событий."
   ]
  },
  {
   "cell_type": "markdown",
   "metadata": {},
   "source": [
    "- Можно сделать вывод, что текст на сайте менять не нужно. В лучшем случае конверсия не изменится. А доля перешедших к корзине пользователей может упасть."
   ]
  },
  {
   "cell_type": "code",
   "execution_count": null,
   "metadata": {},
   "outputs": [],
   "source": []
  }
 ],
 "metadata": {
  "ExecuteTimeLog": [
   {
    "duration": 1282,
    "start_time": "2023-03-12T11:19:14.903Z"
   },
   {
    "duration": 530,
    "start_time": "2023-03-12T11:19:16.187Z"
   },
   {
    "duration": 18,
    "start_time": "2023-03-12T11:19:16.719Z"
   },
   {
    "duration": 17,
    "start_time": "2023-03-12T11:19:16.738Z"
   },
   {
    "duration": 192,
    "start_time": "2023-03-12T11:21:34.351Z"
   },
   {
    "duration": 196,
    "start_time": "2023-03-12T11:21:48.413Z"
   },
   {
    "duration": 2,
    "start_time": "2023-03-12T11:23:55.322Z"
   },
   {
    "duration": 17,
    "start_time": "2023-03-12T11:24:50.443Z"
   },
   {
    "duration": 407,
    "start_time": "2023-03-12T11:25:26.427Z"
   },
   {
    "duration": 99,
    "start_time": "2023-03-12T11:25:50.735Z"
   },
   {
    "duration": 133,
    "start_time": "2023-03-12T11:26:52.830Z"
   },
   {
    "duration": 84,
    "start_time": "2023-03-12T11:27:59.228Z"
   },
   {
    "duration": 52,
    "start_time": "2023-03-12T11:28:07.696Z"
   },
   {
    "duration": 8,
    "start_time": "2023-03-12T11:28:14.331Z"
   },
   {
    "duration": 28,
    "start_time": "2023-03-12T11:30:22.691Z"
   },
   {
    "duration": 18,
    "start_time": "2023-03-12T11:31:09.613Z"
   },
   {
    "duration": 3,
    "start_time": "2023-03-12T11:31:42.961Z"
   },
   {
    "duration": 20,
    "start_time": "2023-03-12T11:32:02.515Z"
   },
   {
    "duration": 39,
    "start_time": "2023-03-12T11:32:16.267Z"
   },
   {
    "duration": 180,
    "start_time": "2023-03-12T11:33:49.708Z"
   },
   {
    "duration": 205,
    "start_time": "2023-03-12T11:34:24.955Z"
   },
   {
    "duration": 184,
    "start_time": "2023-03-12T11:34:31.161Z"
   },
   {
    "duration": 195,
    "start_time": "2023-03-12T11:35:00.621Z"
   },
   {
    "duration": 169,
    "start_time": "2023-03-12T11:35:14.194Z"
   },
   {
    "duration": 194,
    "start_time": "2023-03-12T11:35:18.818Z"
   },
   {
    "duration": 172,
    "start_time": "2023-03-12T11:35:23.545Z"
   },
   {
    "duration": 164,
    "start_time": "2023-03-12T11:35:34.401Z"
   },
   {
    "duration": 334,
    "start_time": "2023-03-12T11:36:27.298Z"
   },
   {
    "duration": 204,
    "start_time": "2023-03-12T11:36:39.466Z"
   },
   {
    "duration": 47,
    "start_time": "2023-03-12T11:40:36.467Z"
   },
   {
    "duration": 116,
    "start_time": "2023-03-12T11:41:59.590Z"
   },
   {
    "duration": 59,
    "start_time": "2023-03-12T11:42:29.911Z"
   },
   {
    "duration": 149,
    "start_time": "2023-03-12T11:42:53.015Z"
   },
   {
    "duration": 151,
    "start_time": "2023-03-12T11:43:23.520Z"
   },
   {
    "duration": 182,
    "start_time": "2023-03-12T11:43:50.551Z"
   },
   {
    "duration": 176,
    "start_time": "2023-03-12T11:44:20.716Z"
   },
   {
    "duration": 164,
    "start_time": "2023-03-12T11:44:23.856Z"
   },
   {
    "duration": 182,
    "start_time": "2023-03-12T11:44:33.653Z"
   },
   {
    "duration": 25,
    "start_time": "2023-03-12T11:47:47.627Z"
   },
   {
    "duration": 569,
    "start_time": "2023-03-12T11:48:42.137Z"
   },
   {
    "duration": 89,
    "start_time": "2023-03-12T11:48:56.858Z"
   },
   {
    "duration": 485,
    "start_time": "2023-03-12T11:49:01.046Z"
   },
   {
    "duration": 536,
    "start_time": "2023-03-12T11:49:11.041Z"
   },
   {
    "duration": 478,
    "start_time": "2023-03-12T11:49:19.133Z"
   },
   {
    "duration": 485,
    "start_time": "2023-03-12T11:49:34.000Z"
   },
   {
    "duration": 492,
    "start_time": "2023-03-12T11:49:41.613Z"
   },
   {
    "duration": 515,
    "start_time": "2023-03-12T11:49:50.945Z"
   },
   {
    "duration": 513,
    "start_time": "2023-03-12T11:49:55.987Z"
   },
   {
    "duration": 286,
    "start_time": "2023-03-12T11:50:33.840Z"
   },
   {
    "duration": 226,
    "start_time": "2023-03-12T11:50:45.715Z"
   },
   {
    "duration": 263,
    "start_time": "2023-03-12T11:51:25.686Z"
   },
   {
    "duration": 322,
    "start_time": "2023-03-12T11:51:51.029Z"
   },
   {
    "duration": 236,
    "start_time": "2023-03-12T11:52:49.436Z"
   },
   {
    "duration": 287,
    "start_time": "2023-03-12T11:53:00.221Z"
   },
   {
    "duration": 7,
    "start_time": "2023-03-12T11:54:30.238Z"
   },
   {
    "duration": 1537,
    "start_time": "2023-03-12T11:55:13.027Z"
   },
   {
    "duration": 12,
    "start_time": "2023-03-12T11:55:31.420Z"
   },
   {
    "duration": 6,
    "start_time": "2023-03-12T11:55:37.922Z"
   },
   {
    "duration": 7,
    "start_time": "2023-03-12T11:56:31.715Z"
   },
   {
    "duration": 13,
    "start_time": "2023-03-12T11:56:56.814Z"
   },
   {
    "duration": 24,
    "start_time": "2023-03-12T11:56:58.906Z"
   },
   {
    "duration": 47,
    "start_time": "2023-03-12T11:58:32.515Z"
   },
   {
    "duration": 44,
    "start_time": "2023-03-12T12:02:34.872Z"
   },
   {
    "duration": 98,
    "start_time": "2023-03-12T12:04:52.405Z"
   },
   {
    "duration": 84,
    "start_time": "2023-03-12T12:05:16.950Z"
   },
   {
    "duration": 27,
    "start_time": "2023-03-12T12:05:48.532Z"
   },
   {
    "duration": 25,
    "start_time": "2023-03-12T12:06:08.952Z"
   },
   {
    "duration": 205,
    "start_time": "2023-03-12T12:06:59.470Z"
   },
   {
    "duration": 171,
    "start_time": "2023-03-12T12:07:34.869Z"
   },
   {
    "duration": 153,
    "start_time": "2023-03-12T12:07:41.700Z"
   },
   {
    "duration": 99,
    "start_time": "2023-03-12T12:11:11.410Z"
   },
   {
    "duration": 33,
    "start_time": "2023-03-12T12:11:13.356Z"
   },
   {
    "duration": 166,
    "start_time": "2023-03-12T12:11:15.371Z"
   },
   {
    "duration": 16,
    "start_time": "2023-03-12T12:17:48.617Z"
   },
   {
    "duration": 14,
    "start_time": "2023-03-12T12:18:20.388Z"
   },
   {
    "duration": 15,
    "start_time": "2023-03-12T12:30:18.769Z"
   },
   {
    "duration": 3,
    "start_time": "2023-03-12T12:33:57.556Z"
   },
   {
    "duration": 4,
    "start_time": "2023-03-12T12:35:24.059Z"
   },
   {
    "duration": 76,
    "start_time": "2023-03-12T13:08:29.800Z"
   },
   {
    "duration": 126,
    "start_time": "2023-03-12T13:09:28.220Z"
   },
   {
    "duration": 116,
    "start_time": "2023-03-12T13:09:47.355Z"
   },
   {
    "duration": 132,
    "start_time": "2023-03-12T13:10:06.105Z"
   },
   {
    "duration": 124,
    "start_time": "2023-03-12T13:10:51.153Z"
   },
   {
    "duration": 4,
    "start_time": "2023-03-12T13:11:15.754Z"
   },
   {
    "duration": 5,
    "start_time": "2023-03-12T13:11:38.106Z"
   },
   {
    "duration": 14,
    "start_time": "2023-03-12T13:12:08.475Z"
   },
   {
    "duration": 118,
    "start_time": "2023-03-12T13:12:13.168Z"
   },
   {
    "duration": 5,
    "start_time": "2023-03-12T13:12:14.530Z"
   },
   {
    "duration": 4,
    "start_time": "2023-03-12T13:12:15.668Z"
   },
   {
    "duration": 14,
    "start_time": "2023-03-12T13:12:18.363Z"
   },
   {
    "duration": 10,
    "start_time": "2023-03-12T13:13:22.620Z"
   },
   {
    "duration": 15,
    "start_time": "2023-03-12T13:13:36.501Z"
   },
   {
    "duration": 84,
    "start_time": "2023-03-12T13:14:46.418Z"
   },
   {
    "duration": 5,
    "start_time": "2023-03-12T13:14:58.909Z"
   },
   {
    "duration": 15,
    "start_time": "2023-03-12T13:15:15.650Z"
   },
   {
    "duration": 15,
    "start_time": "2023-03-12T13:15:29.249Z"
   },
   {
    "duration": 14,
    "start_time": "2023-03-12T13:16:46.833Z"
   },
   {
    "duration": 66,
    "start_time": "2023-03-12T13:19:39.506Z"
   },
   {
    "duration": 72,
    "start_time": "2023-03-12T13:27:56.595Z"
   },
   {
    "duration": 4,
    "start_time": "2023-03-12T13:28:22.919Z"
   },
   {
    "duration": 29,
    "start_time": "2023-03-12T13:30:35.710Z"
   },
   {
    "duration": 4,
    "start_time": "2023-03-12T13:32:50.496Z"
   },
   {
    "duration": 4,
    "start_time": "2023-03-12T13:34:26.325Z"
   },
   {
    "duration": 5,
    "start_time": "2023-03-12T13:35:39.051Z"
   },
   {
    "duration": 36,
    "start_time": "2023-03-12T13:36:37.408Z"
   },
   {
    "duration": 1229,
    "start_time": "2023-03-12T13:37:06.167Z"
   },
   {
    "duration": 76,
    "start_time": "2023-03-12T13:37:48.539Z"
   },
   {
    "duration": 42,
    "start_time": "2023-03-12T13:38:14.146Z"
   },
   {
    "duration": 13,
    "start_time": "2023-03-12T13:40:02.695Z"
   },
   {
    "duration": 9,
    "start_time": "2023-03-12T13:41:11.922Z"
   },
   {
    "duration": 131,
    "start_time": "2023-03-12T13:41:24.081Z"
   },
   {
    "duration": 125,
    "start_time": "2023-03-12T13:42:22.307Z"
   },
   {
    "duration": 124,
    "start_time": "2023-03-12T13:42:29.490Z"
   },
   {
    "duration": 123,
    "start_time": "2023-03-12T13:43:20.245Z"
   },
   {
    "duration": 1147,
    "start_time": "2023-03-12T13:47:45.114Z"
   },
   {
    "duration": 1357,
    "start_time": "2023-03-12T13:48:04.336Z"
   },
   {
    "duration": 9,
    "start_time": "2023-03-12T14:14:19.305Z"
   },
   {
    "duration": 10,
    "start_time": "2023-03-12T14:14:26.319Z"
   },
   {
    "duration": 123,
    "start_time": "2023-03-12T14:15:13.619Z"
   },
   {
    "duration": 9,
    "start_time": "2023-03-12T14:15:58.423Z"
   },
   {
    "duration": 43,
    "start_time": "2023-03-12T14:16:36.999Z"
   },
   {
    "duration": 126,
    "start_time": "2023-03-12T14:16:37.739Z"
   },
   {
    "duration": 10,
    "start_time": "2023-03-12T14:16:39.907Z"
   },
   {
    "duration": 8,
    "start_time": "2023-03-12T14:18:20.877Z"
   },
   {
    "duration": 54,
    "start_time": "2023-03-12T14:18:22.639Z"
   },
   {
    "duration": 123,
    "start_time": "2023-03-12T14:18:23.301Z"
   },
   {
    "duration": 10,
    "start_time": "2023-03-12T14:18:26.126Z"
   },
   {
    "duration": 8,
    "start_time": "2023-03-12T14:19:14.119Z"
   },
   {
    "duration": 8,
    "start_time": "2023-03-12T14:19:41.345Z"
   },
   {
    "duration": 9,
    "start_time": "2023-03-12T14:20:07.775Z"
   },
   {
    "duration": 9,
    "start_time": "2023-03-12T14:20:16.428Z"
   },
   {
    "duration": 1126,
    "start_time": "2023-03-12T15:22:43.295Z"
   },
   {
    "duration": 1396,
    "start_time": "2023-03-12T15:26:57.269Z"
   },
   {
    "duration": 4,
    "start_time": "2023-03-12T15:27:03.141Z"
   },
   {
    "duration": 58,
    "start_time": "2023-03-12T15:27:05.255Z"
   },
   {
    "duration": 134,
    "start_time": "2023-03-12T15:27:06.469Z"
   },
   {
    "duration": 1311,
    "start_time": "2023-03-12T15:27:08.923Z"
   },
   {
    "duration": 11,
    "start_time": "2023-03-12T15:31:43.125Z"
   },
   {
    "duration": 10,
    "start_time": "2023-03-12T15:56:37.535Z"
   },
   {
    "duration": 1135,
    "start_time": "2023-03-12T15:57:29.689Z"
   },
   {
    "duration": 1182,
    "start_time": "2023-03-12T15:58:48.878Z"
   },
   {
    "duration": 5,
    "start_time": "2023-03-12T16:10:33.807Z"
   },
   {
    "duration": 3,
    "start_time": "2023-03-12T16:10:42.636Z"
   },
   {
    "duration": 168,
    "start_time": "2023-03-12T16:10:42.640Z"
   },
   {
    "duration": 2,
    "start_time": "2023-03-12T16:10:42.810Z"
   },
   {
    "duration": 22,
    "start_time": "2023-03-12T16:10:42.814Z"
   },
   {
    "duration": 355,
    "start_time": "2023-03-12T16:10:42.838Z"
   },
   {
    "duration": 84,
    "start_time": "2023-03-12T16:10:43.194Z"
   },
   {
    "duration": 131,
    "start_time": "2023-03-12T16:10:43.280Z"
   },
   {
    "duration": 80,
    "start_time": "2023-03-12T16:10:43.413Z"
   },
   {
    "duration": 14,
    "start_time": "2023-03-12T16:10:43.494Z"
   },
   {
    "duration": 19,
    "start_time": "2023-03-12T16:10:43.509Z"
   },
   {
    "duration": 7,
    "start_time": "2023-03-12T16:10:43.530Z"
   },
   {
    "duration": 22,
    "start_time": "2023-03-12T16:10:43.538Z"
   },
   {
    "duration": 199,
    "start_time": "2023-03-12T16:10:43.561Z"
   },
   {
    "duration": 51,
    "start_time": "2023-03-12T16:10:43.762Z"
   },
   {
    "duration": 86,
    "start_time": "2023-03-12T16:10:43.815Z"
   },
   {
    "duration": 209,
    "start_time": "2023-03-12T16:10:43.903Z"
   },
   {
    "duration": 198,
    "start_time": "2023-03-12T16:10:44.114Z"
   },
   {
    "duration": 25,
    "start_time": "2023-03-12T16:10:44.313Z"
   },
   {
    "duration": 493,
    "start_time": "2023-03-12T16:10:44.339Z"
   },
   {
    "duration": 332,
    "start_time": "2023-03-12T16:10:44.833Z"
   },
   {
    "duration": 12,
    "start_time": "2023-03-12T16:10:45.167Z"
   },
   {
    "duration": 40,
    "start_time": "2023-03-12T16:10:45.181Z"
   },
   {
    "duration": 30,
    "start_time": "2023-03-12T16:10:45.224Z"
   },
   {
    "duration": 21,
    "start_time": "2023-03-12T16:10:45.256Z"
   },
   {
    "duration": 128,
    "start_time": "2023-03-12T16:10:45.278Z"
   },
   {
    "duration": 26,
    "start_time": "2023-03-12T16:10:45.407Z"
   },
   {
    "duration": 162,
    "start_time": "2023-03-12T16:10:45.434Z"
   },
   {
    "duration": 15,
    "start_time": "2023-03-12T16:10:45.597Z"
   },
   {
    "duration": 7,
    "start_time": "2023-03-12T16:10:45.615Z"
   },
   {
    "duration": 92,
    "start_time": "2023-03-12T16:10:45.624Z"
   },
   {
    "duration": 109,
    "start_time": "2023-03-12T16:10:45.718Z"
   },
   {
    "duration": 4,
    "start_time": "2023-03-12T16:10:45.828Z"
   },
   {
    "duration": 63,
    "start_time": "2023-03-12T16:10:45.834Z"
   },
   {
    "duration": 126,
    "start_time": "2023-03-12T16:10:45.898Z"
   },
   {
    "duration": 1327,
    "start_time": "2023-03-12T16:10:46.026Z"
   },
   {
    "duration": 0,
    "start_time": "2023-03-12T16:10:47.355Z"
   },
   {
    "duration": 0,
    "start_time": "2023-03-12T16:10:47.356Z"
   },
   {
    "duration": 0,
    "start_time": "2023-03-12T16:10:47.358Z"
   },
   {
    "duration": 5,
    "start_time": "2023-03-12T16:13:38.193Z"
   },
   {
    "duration": 18,
    "start_time": "2023-03-12T16:13:59.488Z"
   },
   {
    "duration": 3,
    "start_time": "2023-03-12T16:16:56.602Z"
   },
   {
    "duration": 156,
    "start_time": "2023-03-12T16:16:56.607Z"
   },
   {
    "duration": 3,
    "start_time": "2023-03-12T16:16:56.764Z"
   },
   {
    "duration": 46,
    "start_time": "2023-03-12T16:16:56.768Z"
   },
   {
    "duration": 358,
    "start_time": "2023-03-12T16:16:56.817Z"
   },
   {
    "duration": 88,
    "start_time": "2023-03-12T16:16:57.177Z"
   },
   {
    "duration": 127,
    "start_time": "2023-03-12T16:16:57.266Z"
   },
   {
    "duration": 64,
    "start_time": "2023-03-12T16:16:57.396Z"
   },
   {
    "duration": 28,
    "start_time": "2023-03-12T16:16:57.463Z"
   },
   {
    "duration": 32,
    "start_time": "2023-03-12T16:16:57.492Z"
   },
   {
    "duration": 9,
    "start_time": "2023-03-12T16:16:57.527Z"
   },
   {
    "duration": 29,
    "start_time": "2023-03-12T16:16:57.538Z"
   },
   {
    "duration": 185,
    "start_time": "2023-03-12T16:16:57.569Z"
   },
   {
    "duration": 49,
    "start_time": "2023-03-12T16:16:57.758Z"
   },
   {
    "duration": 92,
    "start_time": "2023-03-12T16:16:57.809Z"
   },
   {
    "duration": 160,
    "start_time": "2023-03-12T16:16:57.903Z"
   },
   {
    "duration": 192,
    "start_time": "2023-03-12T16:16:58.065Z"
   },
   {
    "duration": 37,
    "start_time": "2023-03-12T16:16:58.258Z"
   },
   {
    "duration": 495,
    "start_time": "2023-03-12T16:16:58.297Z"
   },
   {
    "duration": 303,
    "start_time": "2023-03-12T16:16:58.794Z"
   },
   {
    "duration": 9,
    "start_time": "2023-03-12T16:16:59.099Z"
   },
   {
    "duration": 8,
    "start_time": "2023-03-12T16:16:59.110Z"
   },
   {
    "duration": 28,
    "start_time": "2023-03-12T16:16:59.120Z"
   },
   {
    "duration": 46,
    "start_time": "2023-03-12T16:16:59.150Z"
   },
   {
    "duration": 96,
    "start_time": "2023-03-12T16:16:59.198Z"
   },
   {
    "duration": 29,
    "start_time": "2023-03-12T16:16:59.296Z"
   },
   {
    "duration": 187,
    "start_time": "2023-03-12T16:16:59.327Z"
   },
   {
    "duration": 14,
    "start_time": "2023-03-12T16:16:59.516Z"
   },
   {
    "duration": 5,
    "start_time": "2023-03-12T16:16:59.531Z"
   },
   {
    "duration": 104,
    "start_time": "2023-03-12T16:16:59.538Z"
   },
   {
    "duration": 132,
    "start_time": "2023-03-12T16:16:59.643Z"
   },
   {
    "duration": 5,
    "start_time": "2023-03-12T16:16:59.779Z"
   },
   {
    "duration": 57,
    "start_time": "2023-03-12T16:16:59.788Z"
   },
   {
    "duration": 213,
    "start_time": "2023-03-12T16:16:59.847Z"
   },
   {
    "duration": 6,
    "start_time": "2023-03-12T16:17:00.062Z"
   },
   {
    "duration": 43,
    "start_time": "2023-03-12T16:17:00.069Z"
   },
   {
    "duration": 0,
    "start_time": "2023-03-12T16:17:00.114Z"
   },
   {
    "duration": 0,
    "start_time": "2023-03-12T16:17:00.115Z"
   },
   {
    "duration": 10,
    "start_time": "2023-03-12T16:19:14.598Z"
   },
   {
    "duration": 47,
    "start_time": "2023-03-12T16:19:53.323Z"
   },
   {
    "duration": 106,
    "start_time": "2023-03-12T16:19:54.237Z"
   },
   {
    "duration": 5,
    "start_time": "2023-03-12T16:19:57.803Z"
   },
   {
    "duration": 15,
    "start_time": "2023-03-12T16:20:00.382Z"
   },
   {
    "duration": 3,
    "start_time": "2023-03-12T16:22:04.902Z"
   },
   {
    "duration": 178,
    "start_time": "2023-03-12T16:22:04.907Z"
   },
   {
    "duration": 3,
    "start_time": "2023-03-12T16:22:05.086Z"
   },
   {
    "duration": 23,
    "start_time": "2023-03-12T16:22:05.091Z"
   },
   {
    "duration": 362,
    "start_time": "2023-03-12T16:22:05.117Z"
   },
   {
    "duration": 86,
    "start_time": "2023-03-12T16:22:05.481Z"
   },
   {
    "duration": 144,
    "start_time": "2023-03-12T16:22:05.568Z"
   },
   {
    "duration": 66,
    "start_time": "2023-03-12T16:22:05.714Z"
   },
   {
    "duration": 10,
    "start_time": "2023-03-12T16:22:05.781Z"
   },
   {
    "duration": 37,
    "start_time": "2023-03-12T16:22:05.792Z"
   },
   {
    "duration": 4,
    "start_time": "2023-03-12T16:22:05.831Z"
   },
   {
    "duration": 37,
    "start_time": "2023-03-12T16:22:05.837Z"
   },
   {
    "duration": 219,
    "start_time": "2023-03-12T16:22:05.877Z"
   },
   {
    "duration": 53,
    "start_time": "2023-03-12T16:22:06.098Z"
   },
   {
    "duration": 107,
    "start_time": "2023-03-12T16:22:06.153Z"
   },
   {
    "duration": 153,
    "start_time": "2023-03-12T16:22:06.261Z"
   },
   {
    "duration": 183,
    "start_time": "2023-03-12T16:22:06.416Z"
   },
   {
    "duration": 26,
    "start_time": "2023-03-12T16:22:06.602Z"
   },
   {
    "duration": 472,
    "start_time": "2023-03-12T16:22:06.630Z"
   },
   {
    "duration": 282,
    "start_time": "2023-03-12T16:22:07.103Z"
   },
   {
    "duration": 7,
    "start_time": "2023-03-12T16:22:07.387Z"
   },
   {
    "duration": 10,
    "start_time": "2023-03-12T16:22:07.395Z"
   },
   {
    "duration": 28,
    "start_time": "2023-03-12T16:22:07.406Z"
   },
   {
    "duration": 22,
    "start_time": "2023-03-12T16:22:07.436Z"
   },
   {
    "duration": 82,
    "start_time": "2023-03-12T16:22:07.479Z"
   },
   {
    "duration": 33,
    "start_time": "2023-03-12T16:22:07.563Z"
   },
   {
    "duration": 160,
    "start_time": "2023-03-12T16:22:07.597Z"
   },
   {
    "duration": 12,
    "start_time": "2023-03-12T16:22:07.758Z"
   },
   {
    "duration": 4,
    "start_time": "2023-03-12T16:22:07.779Z"
   },
   {
    "duration": 83,
    "start_time": "2023-03-12T16:22:07.784Z"
   },
   {
    "duration": 119,
    "start_time": "2023-03-12T16:22:07.868Z"
   },
   {
    "duration": 4,
    "start_time": "2023-03-12T16:22:07.988Z"
   },
   {
    "duration": 50,
    "start_time": "2023-03-12T16:22:07.993Z"
   },
   {
    "duration": 122,
    "start_time": "2023-03-12T16:22:08.044Z"
   },
   {
    "duration": 5,
    "start_time": "2023-03-12T16:22:08.167Z"
   },
   {
    "duration": 9,
    "start_time": "2023-03-12T16:22:08.179Z"
   },
   {
    "duration": 10,
    "start_time": "2023-03-12T16:22:08.191Z"
   },
   {
    "duration": 6,
    "start_time": "2023-03-12T16:22:08.202Z"
   },
   {
    "duration": 11,
    "start_time": "2023-03-12T17:40:18.091Z"
   },
   {
    "duration": 11,
    "start_time": "2023-03-12T17:40:46.197Z"
   },
   {
    "duration": 10,
    "start_time": "2023-03-12T17:41:02.071Z"
   },
   {
    "duration": 9,
    "start_time": "2023-03-12T17:41:58.040Z"
   },
   {
    "duration": 8,
    "start_time": "2023-03-12T17:42:08.688Z"
   },
   {
    "duration": 11,
    "start_time": "2023-03-12T17:42:19.226Z"
   },
   {
    "duration": 9,
    "start_time": "2023-03-12T17:42:30.844Z"
   },
   {
    "duration": 3,
    "start_time": "2023-03-12T17:43:06.776Z"
   },
   {
    "duration": 153,
    "start_time": "2023-03-12T17:43:06.782Z"
   },
   {
    "duration": 3,
    "start_time": "2023-03-12T17:43:06.936Z"
   },
   {
    "duration": 32,
    "start_time": "2023-03-12T17:43:06.940Z"
   },
   {
    "duration": 318,
    "start_time": "2023-03-12T17:43:06.974Z"
   },
   {
    "duration": 86,
    "start_time": "2023-03-12T17:43:07.293Z"
   },
   {
    "duration": 119,
    "start_time": "2023-03-12T17:43:07.381Z"
   },
   {
    "duration": 62,
    "start_time": "2023-03-12T17:43:07.502Z"
   },
   {
    "duration": 25,
    "start_time": "2023-03-12T17:43:07.566Z"
   },
   {
    "duration": 18,
    "start_time": "2023-03-12T17:43:07.593Z"
   },
   {
    "duration": 8,
    "start_time": "2023-03-12T17:43:07.613Z"
   },
   {
    "duration": 21,
    "start_time": "2023-03-12T17:43:07.622Z"
   },
   {
    "duration": 176,
    "start_time": "2023-03-12T17:43:07.644Z"
   },
   {
    "duration": 34,
    "start_time": "2023-03-12T17:43:07.822Z"
   },
   {
    "duration": 78,
    "start_time": "2023-03-12T17:43:07.858Z"
   },
   {
    "duration": 139,
    "start_time": "2023-03-12T17:43:07.938Z"
   },
   {
    "duration": 152,
    "start_time": "2023-03-12T17:43:08.079Z"
   },
   {
    "duration": 23,
    "start_time": "2023-03-12T17:43:08.232Z"
   },
   {
    "duration": 443,
    "start_time": "2023-03-12T17:43:08.257Z"
   },
   {
    "duration": 261,
    "start_time": "2023-03-12T17:43:08.702Z"
   },
   {
    "duration": 7,
    "start_time": "2023-03-12T17:43:08.965Z"
   },
   {
    "duration": 7,
    "start_time": "2023-03-12T17:43:08.979Z"
   },
   {
    "duration": 29,
    "start_time": "2023-03-12T17:43:08.988Z"
   },
   {
    "duration": 19,
    "start_time": "2023-03-12T17:43:09.019Z"
   },
   {
    "duration": 100,
    "start_time": "2023-03-12T17:43:09.040Z"
   },
   {
    "duration": 26,
    "start_time": "2023-03-12T17:43:09.141Z"
   },
   {
    "duration": 231,
    "start_time": "2023-03-12T17:43:09.179Z"
   },
   {
    "duration": 15,
    "start_time": "2023-03-12T17:43:09.412Z"
   },
   {
    "duration": 4,
    "start_time": "2023-03-12T17:43:09.429Z"
   },
   {
    "duration": 111,
    "start_time": "2023-03-12T17:43:09.435Z"
   },
   {
    "duration": 119,
    "start_time": "2023-03-12T17:43:09.547Z"
   },
   {
    "duration": 4,
    "start_time": "2023-03-12T17:43:09.668Z"
   },
   {
    "duration": 46,
    "start_time": "2023-03-12T17:43:09.673Z"
   },
   {
    "duration": 118,
    "start_time": "2023-03-12T17:43:09.720Z"
   },
   {
    "duration": 5,
    "start_time": "2023-03-12T17:43:09.840Z"
   },
   {
    "duration": 20,
    "start_time": "2023-03-12T17:43:09.847Z"
   },
   {
    "duration": 20,
    "start_time": "2023-03-12T17:43:09.869Z"
   },
   {
    "duration": 26,
    "start_time": "2023-03-12T17:43:09.890Z"
   },
   {
    "duration": 7,
    "start_time": "2023-03-12T17:43:09.918Z"
   },
   {
    "duration": 20,
    "start_time": "2023-03-12T17:43:09.926Z"
   },
   {
    "duration": 11,
    "start_time": "2023-03-12T17:43:09.952Z"
   },
   {
    "duration": 22,
    "start_time": "2023-03-12T17:43:09.965Z"
   },
   {
    "duration": 10,
    "start_time": "2023-03-12T17:43:09.989Z"
   },
   {
    "duration": 19,
    "start_time": "2023-03-12T17:43:10.001Z"
   },
   {
    "duration": 13,
    "start_time": "2023-03-12T17:43:10.022Z"
   },
   {
    "duration": 1067,
    "start_time": "2023-03-12T20:08:05.901Z"
   },
   {
    "duration": 169,
    "start_time": "2023-03-12T20:08:06.970Z"
   },
   {
    "duration": 3,
    "start_time": "2023-03-12T20:08:07.140Z"
   },
   {
    "duration": 30,
    "start_time": "2023-03-12T20:08:07.144Z"
   },
   {
    "duration": 323,
    "start_time": "2023-03-12T20:08:07.176Z"
   },
   {
    "duration": 109,
    "start_time": "2023-03-12T20:08:07.501Z"
   },
   {
    "duration": 145,
    "start_time": "2023-03-12T20:08:07.612Z"
   },
   {
    "duration": 67,
    "start_time": "2023-03-12T20:08:07.759Z"
   },
   {
    "duration": 12,
    "start_time": "2023-03-12T20:08:07.827Z"
   },
   {
    "duration": 34,
    "start_time": "2023-03-12T20:08:07.841Z"
   },
   {
    "duration": 4,
    "start_time": "2023-03-12T20:08:07.876Z"
   },
   {
    "duration": 24,
    "start_time": "2023-03-12T20:08:07.882Z"
   },
   {
    "duration": 206,
    "start_time": "2023-03-12T20:08:07.908Z"
   },
   {
    "duration": 44,
    "start_time": "2023-03-12T20:08:08.117Z"
   },
   {
    "duration": 118,
    "start_time": "2023-03-12T20:08:08.162Z"
   },
   {
    "duration": 162,
    "start_time": "2023-03-12T20:08:08.281Z"
   },
   {
    "duration": 196,
    "start_time": "2023-03-12T20:08:08.445Z"
   },
   {
    "duration": 36,
    "start_time": "2023-03-12T20:08:08.643Z"
   },
   {
    "duration": 566,
    "start_time": "2023-03-12T20:08:08.681Z"
   },
   {
    "duration": 313,
    "start_time": "2023-03-12T20:08:09.248Z"
   },
   {
    "duration": 8,
    "start_time": "2023-03-12T20:08:09.563Z"
   },
   {
    "duration": 18,
    "start_time": "2023-03-12T20:08:09.572Z"
   },
   {
    "duration": 33,
    "start_time": "2023-03-12T20:08:09.592Z"
   },
   {
    "duration": 35,
    "start_time": "2023-03-12T20:08:09.627Z"
   },
   {
    "duration": 217,
    "start_time": "2023-03-12T20:08:09.664Z"
   },
   {
    "duration": 31,
    "start_time": "2023-03-12T20:08:09.883Z"
   },
   {
    "duration": 185,
    "start_time": "2023-03-12T20:08:09.916Z"
   },
   {
    "duration": 14,
    "start_time": "2023-03-12T20:08:10.103Z"
   },
   {
    "duration": 4,
    "start_time": "2023-03-12T20:08:10.119Z"
   },
   {
    "duration": 109,
    "start_time": "2023-03-12T20:08:10.124Z"
   },
   {
    "duration": 136,
    "start_time": "2023-03-12T20:08:10.234Z"
   },
   {
    "duration": 4,
    "start_time": "2023-03-12T20:08:10.372Z"
   },
   {
    "duration": 51,
    "start_time": "2023-03-12T20:08:10.378Z"
   },
   {
    "duration": 144,
    "start_time": "2023-03-12T20:08:10.430Z"
   },
   {
    "duration": 5,
    "start_time": "2023-03-12T20:08:10.576Z"
   },
   {
    "duration": 128,
    "start_time": "2023-03-12T20:08:10.583Z"
   },
   {
    "duration": 0,
    "start_time": "2023-03-12T20:08:10.713Z"
   },
   {
    "duration": 0,
    "start_time": "2023-03-12T20:08:10.714Z"
   },
   {
    "duration": 0,
    "start_time": "2023-03-12T20:08:10.715Z"
   },
   {
    "duration": 0,
    "start_time": "2023-03-12T20:08:10.716Z"
   },
   {
    "duration": 0,
    "start_time": "2023-03-12T20:08:10.717Z"
   },
   {
    "duration": 0,
    "start_time": "2023-03-12T20:08:10.718Z"
   },
   {
    "duration": 0,
    "start_time": "2023-03-12T20:08:10.719Z"
   },
   {
    "duration": 0,
    "start_time": "2023-03-12T20:08:10.720Z"
   },
   {
    "duration": 0,
    "start_time": "2023-03-12T20:08:10.721Z"
   },
   {
    "duration": 4,
    "start_time": "2023-03-12T20:11:49.754Z"
   },
   {
    "duration": 14,
    "start_time": "2023-03-12T20:16:09.354Z"
   },
   {
    "duration": 728,
    "start_time": "2023-03-12T20:16:17.014Z"
   },
   {
    "duration": 1336,
    "start_time": "2023-03-13T13:16:38.622Z"
   },
   {
    "duration": 284,
    "start_time": "2023-03-13T13:16:39.959Z"
   },
   {
    "duration": 3,
    "start_time": "2023-03-13T13:16:40.245Z"
   },
   {
    "duration": 35,
    "start_time": "2023-03-13T13:16:40.249Z"
   },
   {
    "duration": 308,
    "start_time": "2023-03-13T13:16:40.287Z"
   },
   {
    "duration": 101,
    "start_time": "2023-03-13T13:16:40.597Z"
   },
   {
    "duration": 138,
    "start_time": "2023-03-13T13:16:40.699Z"
   },
   {
    "duration": 68,
    "start_time": "2023-03-13T13:16:40.838Z"
   },
   {
    "duration": 23,
    "start_time": "2023-03-13T13:16:40.907Z"
   },
   {
    "duration": 23,
    "start_time": "2023-03-13T13:16:40.932Z"
   },
   {
    "duration": 5,
    "start_time": "2023-03-13T13:16:40.957Z"
   },
   {
    "duration": 28,
    "start_time": "2023-03-13T13:16:40.963Z"
   },
   {
    "duration": 229,
    "start_time": "2023-03-13T13:16:40.992Z"
   },
   {
    "duration": 43,
    "start_time": "2023-03-13T13:16:41.224Z"
   },
   {
    "duration": 106,
    "start_time": "2023-03-13T13:16:41.268Z"
   },
   {
    "duration": 168,
    "start_time": "2023-03-13T13:16:41.376Z"
   },
   {
    "duration": 195,
    "start_time": "2023-03-13T13:16:41.545Z"
   },
   {
    "duration": 30,
    "start_time": "2023-03-13T13:16:41.741Z"
   },
   {
    "duration": 577,
    "start_time": "2023-03-13T13:16:41.773Z"
   },
   {
    "duration": 707,
    "start_time": "2023-03-13T13:16:42.352Z"
   },
   {
    "duration": 298,
    "start_time": "2023-03-13T13:16:43.061Z"
   },
   {
    "duration": 21,
    "start_time": "2023-03-13T13:16:43.361Z"
   },
   {
    "duration": 8,
    "start_time": "2023-03-13T13:16:43.384Z"
   },
   {
    "duration": 38,
    "start_time": "2023-03-13T13:16:43.393Z"
   },
   {
    "duration": 26,
    "start_time": "2023-03-13T13:16:43.433Z"
   },
   {
    "duration": 104,
    "start_time": "2023-03-13T13:16:43.460Z"
   },
   {
    "duration": 33,
    "start_time": "2023-03-13T13:16:43.565Z"
   },
   {
    "duration": 189,
    "start_time": "2023-03-13T13:16:43.599Z"
   },
   {
    "duration": 14,
    "start_time": "2023-03-13T13:16:43.789Z"
   },
   {
    "duration": 4,
    "start_time": "2023-03-13T13:16:43.804Z"
   },
   {
    "duration": 108,
    "start_time": "2023-03-13T13:16:43.809Z"
   },
   {
    "duration": 141,
    "start_time": "2023-03-13T13:16:43.919Z"
   },
   {
    "duration": 5,
    "start_time": "2023-03-13T13:16:44.061Z"
   },
   {
    "duration": 63,
    "start_time": "2023-03-13T13:16:44.067Z"
   },
   {
    "duration": 134,
    "start_time": "2023-03-13T13:16:44.132Z"
   },
   {
    "duration": 5,
    "start_time": "2023-03-13T13:16:44.269Z"
   },
   {
    "duration": 110,
    "start_time": "2023-03-13T13:16:44.276Z"
   },
   {
    "duration": 0,
    "start_time": "2023-03-13T13:16:44.388Z"
   },
   {
    "duration": 0,
    "start_time": "2023-03-13T13:16:44.390Z"
   },
   {
    "duration": 0,
    "start_time": "2023-03-13T13:16:44.391Z"
   },
   {
    "duration": 0,
    "start_time": "2023-03-13T13:16:44.393Z"
   },
   {
    "duration": 0,
    "start_time": "2023-03-13T13:16:44.394Z"
   },
   {
    "duration": 0,
    "start_time": "2023-03-13T13:16:44.396Z"
   },
   {
    "duration": 0,
    "start_time": "2023-03-13T13:16:44.397Z"
   },
   {
    "duration": 0,
    "start_time": "2023-03-13T13:16:44.398Z"
   },
   {
    "duration": 0,
    "start_time": "2023-03-13T13:16:44.400Z"
   },
   {
    "duration": 3,
    "start_time": "2023-03-13T13:21:16.715Z"
   },
   {
    "duration": 177,
    "start_time": "2023-03-13T13:21:16.720Z"
   },
   {
    "duration": 3,
    "start_time": "2023-03-13T13:21:16.898Z"
   },
   {
    "duration": 31,
    "start_time": "2023-03-13T13:21:16.904Z"
   },
   {
    "duration": 293,
    "start_time": "2023-03-13T13:21:16.937Z"
   },
   {
    "duration": 83,
    "start_time": "2023-03-13T13:21:17.232Z"
   },
   {
    "duration": 145,
    "start_time": "2023-03-13T13:21:17.317Z"
   },
   {
    "duration": 93,
    "start_time": "2023-03-13T13:21:17.465Z"
   },
   {
    "duration": 14,
    "start_time": "2023-03-13T13:21:17.561Z"
   },
   {
    "duration": 48,
    "start_time": "2023-03-13T13:21:17.577Z"
   },
   {
    "duration": 13,
    "start_time": "2023-03-13T13:21:17.626Z"
   },
   {
    "duration": 31,
    "start_time": "2023-03-13T13:21:17.641Z"
   },
   {
    "duration": 198,
    "start_time": "2023-03-13T13:21:17.674Z"
   },
   {
    "duration": 39,
    "start_time": "2023-03-13T13:21:17.873Z"
   },
   {
    "duration": 95,
    "start_time": "2023-03-13T13:21:17.913Z"
   },
   {
    "duration": 166,
    "start_time": "2023-03-13T13:21:18.010Z"
   },
   {
    "duration": 189,
    "start_time": "2023-03-13T13:21:18.177Z"
   },
   {
    "duration": 29,
    "start_time": "2023-03-13T13:21:18.367Z"
   },
   {
    "duration": 497,
    "start_time": "2023-03-13T13:21:18.397Z"
   },
   {
    "duration": 641,
    "start_time": "2023-03-13T13:21:18.896Z"
   },
   {
    "duration": 390,
    "start_time": "2023-03-13T13:21:19.539Z"
   },
   {
    "duration": 7,
    "start_time": "2023-03-13T13:21:19.931Z"
   },
   {
    "duration": 6,
    "start_time": "2023-03-13T13:21:19.940Z"
   },
   {
    "duration": 28,
    "start_time": "2023-03-13T13:21:19.949Z"
   },
   {
    "duration": 27,
    "start_time": "2023-03-13T13:21:19.978Z"
   },
   {
    "duration": 99,
    "start_time": "2023-03-13T13:21:20.031Z"
   },
   {
    "duration": 27,
    "start_time": "2023-03-13T13:21:20.132Z"
   },
   {
    "duration": 183,
    "start_time": "2023-03-13T13:21:20.160Z"
   },
   {
    "duration": 14,
    "start_time": "2023-03-13T13:21:20.345Z"
   },
   {
    "duration": 6,
    "start_time": "2023-03-13T13:21:20.360Z"
   },
   {
    "duration": 98,
    "start_time": "2023-03-13T13:21:20.368Z"
   },
   {
    "duration": 112,
    "start_time": "2023-03-13T13:21:20.468Z"
   },
   {
    "duration": 4,
    "start_time": "2023-03-13T13:21:20.581Z"
   },
   {
    "duration": 65,
    "start_time": "2023-03-13T13:21:20.587Z"
   },
   {
    "duration": 117,
    "start_time": "2023-03-13T13:21:20.654Z"
   },
   {
    "duration": 92,
    "start_time": "2023-03-13T13:21:20.773Z"
   },
   {
    "duration": 0,
    "start_time": "2023-03-13T13:21:20.867Z"
   },
   {
    "duration": 0,
    "start_time": "2023-03-13T13:21:20.868Z"
   },
   {
    "duration": 0,
    "start_time": "2023-03-13T13:21:20.869Z"
   },
   {
    "duration": 0,
    "start_time": "2023-03-13T13:21:20.870Z"
   },
   {
    "duration": 0,
    "start_time": "2023-03-13T13:21:20.871Z"
   },
   {
    "duration": 0,
    "start_time": "2023-03-13T13:21:20.872Z"
   },
   {
    "duration": 0,
    "start_time": "2023-03-13T13:21:20.873Z"
   },
   {
    "duration": 0,
    "start_time": "2023-03-13T13:21:20.874Z"
   },
   {
    "duration": 0,
    "start_time": "2023-03-13T13:21:20.875Z"
   },
   {
    "duration": 0,
    "start_time": "2023-03-13T13:21:20.876Z"
   },
   {
    "duration": 0,
    "start_time": "2023-03-13T13:21:20.877Z"
   },
   {
    "duration": 3,
    "start_time": "2023-03-13T13:21:49.914Z"
   },
   {
    "duration": 167,
    "start_time": "2023-03-13T13:21:49.920Z"
   },
   {
    "duration": 3,
    "start_time": "2023-03-13T13:21:50.089Z"
   },
   {
    "duration": 31,
    "start_time": "2023-03-13T13:21:50.093Z"
   },
   {
    "duration": 283,
    "start_time": "2023-03-13T13:21:50.126Z"
   },
   {
    "duration": 84,
    "start_time": "2023-03-13T13:21:50.411Z"
   },
   {
    "duration": 110,
    "start_time": "2023-03-13T13:21:50.497Z"
   },
   {
    "duration": 69,
    "start_time": "2023-03-13T13:21:50.608Z"
   },
   {
    "duration": 12,
    "start_time": "2023-03-13T13:21:50.678Z"
   },
   {
    "duration": 23,
    "start_time": "2023-03-13T13:21:50.691Z"
   },
   {
    "duration": 14,
    "start_time": "2023-03-13T13:21:50.717Z"
   },
   {
    "duration": 24,
    "start_time": "2023-03-13T13:21:50.733Z"
   },
   {
    "duration": 187,
    "start_time": "2023-03-13T13:21:50.758Z"
   },
   {
    "duration": 39,
    "start_time": "2023-03-13T13:21:50.946Z"
   },
   {
    "duration": 95,
    "start_time": "2023-03-13T13:21:50.987Z"
   },
   {
    "duration": 182,
    "start_time": "2023-03-13T13:21:51.083Z"
   },
   {
    "duration": 178,
    "start_time": "2023-03-13T13:21:51.266Z"
   },
   {
    "duration": 27,
    "start_time": "2023-03-13T13:21:51.446Z"
   },
   {
    "duration": 477,
    "start_time": "2023-03-13T13:21:51.475Z"
   },
   {
    "duration": 662,
    "start_time": "2023-03-13T13:21:51.953Z"
   },
   {
    "duration": 382,
    "start_time": "2023-03-13T13:21:52.617Z"
   },
   {
    "duration": 9,
    "start_time": "2023-03-13T13:21:53.001Z"
   },
   {
    "duration": 22,
    "start_time": "2023-03-13T13:21:53.011Z"
   },
   {
    "duration": 32,
    "start_time": "2023-03-13T13:21:53.035Z"
   },
   {
    "duration": 33,
    "start_time": "2023-03-13T13:21:53.069Z"
   },
   {
    "duration": 97,
    "start_time": "2023-03-13T13:21:53.103Z"
   },
   {
    "duration": 34,
    "start_time": "2023-03-13T13:21:53.202Z"
   },
   {
    "duration": 176,
    "start_time": "2023-03-13T13:21:53.237Z"
   },
   {
    "duration": 22,
    "start_time": "2023-03-13T13:21:53.416Z"
   },
   {
    "duration": 8,
    "start_time": "2023-03-13T13:21:53.439Z"
   },
   {
    "duration": 89,
    "start_time": "2023-03-13T13:21:53.448Z"
   },
   {
    "duration": 122,
    "start_time": "2023-03-13T13:21:53.539Z"
   },
   {
    "duration": 4,
    "start_time": "2023-03-13T13:21:53.663Z"
   },
   {
    "duration": 61,
    "start_time": "2023-03-13T13:21:53.669Z"
   },
   {
    "duration": 118,
    "start_time": "2023-03-13T13:21:53.732Z"
   },
   {
    "duration": 5,
    "start_time": "2023-03-13T13:21:53.852Z"
   },
   {
    "duration": 36,
    "start_time": "2023-03-13T13:21:53.859Z"
   },
   {
    "duration": 0,
    "start_time": "2023-03-13T13:21:53.897Z"
   },
   {
    "duration": 0,
    "start_time": "2023-03-13T13:21:53.898Z"
   },
   {
    "duration": 0,
    "start_time": "2023-03-13T13:21:53.899Z"
   },
   {
    "duration": 0,
    "start_time": "2023-03-13T13:21:53.900Z"
   },
   {
    "duration": 0,
    "start_time": "2023-03-13T13:21:53.901Z"
   },
   {
    "duration": 0,
    "start_time": "2023-03-13T13:21:53.902Z"
   },
   {
    "duration": 0,
    "start_time": "2023-03-13T13:21:53.903Z"
   },
   {
    "duration": 0,
    "start_time": "2023-03-13T13:21:53.903Z"
   },
   {
    "duration": 0,
    "start_time": "2023-03-13T13:21:53.904Z"
   },
   {
    "duration": 11,
    "start_time": "2023-03-13T13:25:29.356Z"
   },
   {
    "duration": 3,
    "start_time": "2023-03-13T13:27:48.829Z"
   },
   {
    "duration": 171,
    "start_time": "2023-03-13T13:27:48.834Z"
   },
   {
    "duration": 2,
    "start_time": "2023-03-13T13:27:49.007Z"
   },
   {
    "duration": 32,
    "start_time": "2023-03-13T13:27:49.010Z"
   },
   {
    "duration": 271,
    "start_time": "2023-03-13T13:27:49.044Z"
   },
   {
    "duration": 81,
    "start_time": "2023-03-13T13:27:49.317Z"
   },
   {
    "duration": 115,
    "start_time": "2023-03-13T13:27:49.399Z"
   },
   {
    "duration": 70,
    "start_time": "2023-03-13T13:27:49.516Z"
   },
   {
    "duration": 13,
    "start_time": "2023-03-13T13:27:49.587Z"
   },
   {
    "duration": 31,
    "start_time": "2023-03-13T13:27:49.602Z"
   },
   {
    "duration": 4,
    "start_time": "2023-03-13T13:27:49.636Z"
   },
   {
    "duration": 26,
    "start_time": "2023-03-13T13:27:49.642Z"
   },
   {
    "duration": 188,
    "start_time": "2023-03-13T13:27:49.670Z"
   },
   {
    "duration": 38,
    "start_time": "2023-03-13T13:27:49.860Z"
   },
   {
    "duration": 99,
    "start_time": "2023-03-13T13:27:49.899Z"
   },
   {
    "duration": 171,
    "start_time": "2023-03-13T13:27:50.000Z"
   },
   {
    "duration": 191,
    "start_time": "2023-03-13T13:27:50.172Z"
   },
   {
    "duration": 30,
    "start_time": "2023-03-13T13:27:50.364Z"
   },
   {
    "duration": 482,
    "start_time": "2023-03-13T13:27:50.395Z"
   },
   {
    "duration": 619,
    "start_time": "2023-03-13T13:27:50.879Z"
   },
   {
    "duration": 365,
    "start_time": "2023-03-13T13:27:51.500Z"
   },
   {
    "duration": 8,
    "start_time": "2023-03-13T13:27:51.867Z"
   },
   {
    "duration": 21,
    "start_time": "2023-03-13T13:27:51.876Z"
   },
   {
    "duration": 42,
    "start_time": "2023-03-13T13:27:51.899Z"
   },
   {
    "duration": 29,
    "start_time": "2023-03-13T13:27:51.943Z"
   },
   {
    "duration": 108,
    "start_time": "2023-03-13T13:27:51.974Z"
   },
   {
    "duration": 34,
    "start_time": "2023-03-13T13:27:52.084Z"
   },
   {
    "duration": 188,
    "start_time": "2023-03-13T13:27:52.119Z"
   },
   {
    "duration": 21,
    "start_time": "2023-03-13T13:27:52.311Z"
   },
   {
    "duration": 5,
    "start_time": "2023-03-13T13:27:52.334Z"
   },
   {
    "duration": 99,
    "start_time": "2023-03-13T13:27:52.340Z"
   },
   {
    "duration": 126,
    "start_time": "2023-03-13T13:27:52.441Z"
   },
   {
    "duration": 4,
    "start_time": "2023-03-13T13:27:52.569Z"
   },
   {
    "duration": 61,
    "start_time": "2023-03-13T13:27:52.575Z"
   },
   {
    "duration": 122,
    "start_time": "2023-03-13T13:27:52.637Z"
   },
   {
    "duration": 5,
    "start_time": "2023-03-13T13:27:52.760Z"
   },
   {
    "duration": 22,
    "start_time": "2023-03-13T13:27:52.768Z"
   },
   {
    "duration": 0,
    "start_time": "2023-03-13T13:27:52.792Z"
   },
   {
    "duration": 0,
    "start_time": "2023-03-13T13:27:52.793Z"
   },
   {
    "duration": 0,
    "start_time": "2023-03-13T13:27:52.794Z"
   },
   {
    "duration": 0,
    "start_time": "2023-03-13T13:27:52.795Z"
   },
   {
    "duration": 0,
    "start_time": "2023-03-13T13:27:52.796Z"
   },
   {
    "duration": 0,
    "start_time": "2023-03-13T13:27:52.797Z"
   },
   {
    "duration": 0,
    "start_time": "2023-03-13T13:27:52.798Z"
   },
   {
    "duration": 0,
    "start_time": "2023-03-13T13:27:52.799Z"
   },
   {
    "duration": 0,
    "start_time": "2023-03-13T13:27:52.801Z"
   },
   {
    "duration": 3,
    "start_time": "2023-03-13T13:33:12.509Z"
   },
   {
    "duration": 183,
    "start_time": "2023-03-13T13:33:12.514Z"
   },
   {
    "duration": 3,
    "start_time": "2023-03-13T13:33:12.699Z"
   },
   {
    "duration": 47,
    "start_time": "2023-03-13T13:33:12.703Z"
   },
   {
    "duration": 311,
    "start_time": "2023-03-13T13:33:12.752Z"
   },
   {
    "duration": 85,
    "start_time": "2023-03-13T13:33:13.064Z"
   },
   {
    "duration": 115,
    "start_time": "2023-03-13T13:33:13.150Z"
   },
   {
    "duration": 74,
    "start_time": "2023-03-13T13:33:13.266Z"
   },
   {
    "duration": 25,
    "start_time": "2023-03-13T13:33:13.341Z"
   },
   {
    "duration": 39,
    "start_time": "2023-03-13T13:33:13.367Z"
   },
   {
    "duration": 18,
    "start_time": "2023-03-13T13:33:13.409Z"
   },
   {
    "duration": 40,
    "start_time": "2023-03-13T13:33:13.429Z"
   },
   {
    "duration": 187,
    "start_time": "2023-03-13T13:33:13.471Z"
   },
   {
    "duration": 38,
    "start_time": "2023-03-13T13:33:13.660Z"
   },
   {
    "duration": 86,
    "start_time": "2023-03-13T13:33:13.699Z"
   },
   {
    "duration": 165,
    "start_time": "2023-03-13T13:33:13.787Z"
   },
   {
    "duration": 191,
    "start_time": "2023-03-13T13:33:13.954Z"
   },
   {
    "duration": 29,
    "start_time": "2023-03-13T13:33:14.147Z"
   },
   {
    "duration": 484,
    "start_time": "2023-03-13T13:33:14.177Z"
   },
   {
    "duration": 627,
    "start_time": "2023-03-13T13:33:14.662Z"
   },
   {
    "duration": 387,
    "start_time": "2023-03-13T13:33:15.291Z"
   },
   {
    "duration": 7,
    "start_time": "2023-03-13T13:33:15.680Z"
   },
   {
    "duration": 7,
    "start_time": "2023-03-13T13:33:15.689Z"
   },
   {
    "duration": 52,
    "start_time": "2023-03-13T13:33:15.698Z"
   },
   {
    "duration": 25,
    "start_time": "2023-03-13T13:33:15.752Z"
   },
   {
    "duration": 102,
    "start_time": "2023-03-13T13:33:15.779Z"
   },
   {
    "duration": 29,
    "start_time": "2023-03-13T13:33:15.882Z"
   },
   {
    "duration": 210,
    "start_time": "2023-03-13T13:33:15.913Z"
   },
   {
    "duration": 14,
    "start_time": "2023-03-13T13:33:16.126Z"
   },
   {
    "duration": 5,
    "start_time": "2023-03-13T13:33:16.141Z"
   },
   {
    "duration": 102,
    "start_time": "2023-03-13T13:33:16.148Z"
   },
   {
    "duration": 123,
    "start_time": "2023-03-13T13:33:16.252Z"
   },
   {
    "duration": 5,
    "start_time": "2023-03-13T13:33:16.377Z"
   },
   {
    "duration": 60,
    "start_time": "2023-03-13T13:33:16.383Z"
   },
   {
    "duration": 134,
    "start_time": "2023-03-13T13:33:16.445Z"
   },
   {
    "duration": 5,
    "start_time": "2023-03-13T13:33:16.581Z"
   },
   {
    "duration": 29,
    "start_time": "2023-03-13T13:33:16.588Z"
   },
   {
    "duration": 0,
    "start_time": "2023-03-13T13:33:16.618Z"
   },
   {
    "duration": 0,
    "start_time": "2023-03-13T13:33:16.620Z"
   },
   {
    "duration": 0,
    "start_time": "2023-03-13T13:33:16.621Z"
   },
   {
    "duration": 0,
    "start_time": "2023-03-13T13:33:16.630Z"
   },
   {
    "duration": 0,
    "start_time": "2023-03-13T13:33:16.631Z"
   },
   {
    "duration": 0,
    "start_time": "2023-03-13T13:33:16.632Z"
   },
   {
    "duration": 0,
    "start_time": "2023-03-13T13:33:16.633Z"
   },
   {
    "duration": 0,
    "start_time": "2023-03-13T13:33:16.634Z"
   },
   {
    "duration": 0,
    "start_time": "2023-03-13T13:33:16.635Z"
   },
   {
    "duration": 95,
    "start_time": "2023-03-13T13:36:49.962Z"
   },
   {
    "duration": 5,
    "start_time": "2023-03-13T13:37:06.931Z"
   },
   {
    "duration": 3,
    "start_time": "2023-03-13T13:37:11.746Z"
   },
   {
    "duration": 164,
    "start_time": "2023-03-13T13:37:11.751Z"
   },
   {
    "duration": 3,
    "start_time": "2023-03-13T13:37:11.917Z"
   },
   {
    "duration": 19,
    "start_time": "2023-03-13T13:37:11.930Z"
   },
   {
    "duration": 313,
    "start_time": "2023-03-13T13:37:11.950Z"
   },
   {
    "duration": 87,
    "start_time": "2023-03-13T13:37:12.265Z"
   },
   {
    "duration": 122,
    "start_time": "2023-03-13T13:37:12.354Z"
   },
   {
    "duration": 69,
    "start_time": "2023-03-13T13:37:12.477Z"
   },
   {
    "duration": 9,
    "start_time": "2023-03-13T13:37:12.548Z"
   },
   {
    "duration": 26,
    "start_time": "2023-03-13T13:37:12.558Z"
   },
   {
    "duration": 5,
    "start_time": "2023-03-13T13:37:12.585Z"
   },
   {
    "duration": 42,
    "start_time": "2023-03-13T13:37:12.591Z"
   },
   {
    "duration": 174,
    "start_time": "2023-03-13T13:37:12.634Z"
   },
   {
    "duration": 42,
    "start_time": "2023-03-13T13:37:12.809Z"
   },
   {
    "duration": 83,
    "start_time": "2023-03-13T13:37:12.853Z"
   },
   {
    "duration": 160,
    "start_time": "2023-03-13T13:37:12.937Z"
   },
   {
    "duration": 190,
    "start_time": "2023-03-13T13:37:13.099Z"
   },
   {
    "duration": 31,
    "start_time": "2023-03-13T13:37:13.291Z"
   },
   {
    "duration": 495,
    "start_time": "2023-03-13T13:37:13.323Z"
   },
   {
    "duration": 648,
    "start_time": "2023-03-13T13:37:13.820Z"
   },
   {
    "duration": 389,
    "start_time": "2023-03-13T13:37:14.470Z"
   },
   {
    "duration": 7,
    "start_time": "2023-03-13T13:37:14.860Z"
   },
   {
    "duration": 6,
    "start_time": "2023-03-13T13:37:14.869Z"
   },
   {
    "duration": 30,
    "start_time": "2023-03-13T13:37:14.878Z"
   },
   {
    "duration": 42,
    "start_time": "2023-03-13T13:37:14.909Z"
   },
   {
    "duration": 102,
    "start_time": "2023-03-13T13:37:14.953Z"
   },
   {
    "duration": 29,
    "start_time": "2023-03-13T13:37:15.057Z"
   },
   {
    "duration": 188,
    "start_time": "2023-03-13T13:37:15.087Z"
   },
   {
    "duration": 14,
    "start_time": "2023-03-13T13:37:15.277Z"
   },
   {
    "duration": 6,
    "start_time": "2023-03-13T13:37:15.293Z"
   },
   {
    "duration": 108,
    "start_time": "2023-03-13T13:37:15.301Z"
   },
   {
    "duration": 133,
    "start_time": "2023-03-13T13:37:15.411Z"
   },
   {
    "duration": 5,
    "start_time": "2023-03-13T13:37:15.546Z"
   },
   {
    "duration": 66,
    "start_time": "2023-03-13T13:37:15.553Z"
   },
   {
    "duration": 122,
    "start_time": "2023-03-13T13:37:15.621Z"
   },
   {
    "duration": 5,
    "start_time": "2023-03-13T13:37:15.745Z"
   },
   {
    "duration": 26,
    "start_time": "2023-03-13T13:37:15.751Z"
   },
   {
    "duration": 17,
    "start_time": "2023-03-13T13:37:15.779Z"
   },
   {
    "duration": 18,
    "start_time": "2023-03-13T13:37:15.798Z"
   },
   {
    "duration": 11,
    "start_time": "2023-03-13T13:37:15.818Z"
   },
   {
    "duration": 14,
    "start_time": "2023-03-13T13:37:15.831Z"
   },
   {
    "duration": 14,
    "start_time": "2023-03-13T13:37:15.846Z"
   },
   {
    "duration": 12,
    "start_time": "2023-03-13T13:37:15.861Z"
   },
   {
    "duration": 8,
    "start_time": "2023-03-13T13:37:15.875Z"
   },
   {
    "duration": 9,
    "start_time": "2023-03-13T13:37:15.885Z"
   },
   {
    "duration": 34,
    "start_time": "2023-03-13T13:37:15.896Z"
   },
   {
    "duration": 33,
    "start_time": "2023-03-13T14:02:29.034Z"
   },
   {
    "duration": 25,
    "start_time": "2023-03-13T14:03:04.924Z"
   },
   {
    "duration": 82,
    "start_time": "2023-03-13T14:47:55.699Z"
   },
   {
    "duration": 8,
    "start_time": "2023-03-13T14:55:01.949Z"
   },
   {
    "duration": 7,
    "start_time": "2023-03-13T14:57:24.145Z"
   },
   {
    "duration": 57,
    "start_time": "2023-03-13T15:05:38.415Z"
   },
   {
    "duration": 15,
    "start_time": "2023-03-13T15:07:17.644Z"
   },
   {
    "duration": 10,
    "start_time": "2023-03-13T15:09:47.995Z"
   },
   {
    "duration": 66,
    "start_time": "2023-03-13T15:09:57.173Z"
   },
   {
    "duration": 67,
    "start_time": "2023-03-13T15:09:58.251Z"
   },
   {
    "duration": 4,
    "start_time": "2023-03-13T15:09:58.906Z"
   },
   {
    "duration": 4,
    "start_time": "2023-03-13T15:10:09.061Z"
   },
   {
    "duration": 184,
    "start_time": "2023-03-13T15:10:09.067Z"
   },
   {
    "duration": 4,
    "start_time": "2023-03-13T15:10:09.253Z"
   },
   {
    "duration": 27,
    "start_time": "2023-03-13T15:10:09.259Z"
   },
   {
    "duration": 302,
    "start_time": "2023-03-13T15:10:09.288Z"
   },
   {
    "duration": 123,
    "start_time": "2023-03-13T15:10:09.592Z"
   },
   {
    "duration": 84,
    "start_time": "2023-03-13T15:10:09.717Z"
   },
   {
    "duration": 0,
    "start_time": "2023-03-13T15:10:09.806Z"
   },
   {
    "duration": 0,
    "start_time": "2023-03-13T15:10:09.807Z"
   },
   {
    "duration": 0,
    "start_time": "2023-03-13T15:10:09.810Z"
   },
   {
    "duration": 0,
    "start_time": "2023-03-13T15:10:09.811Z"
   },
   {
    "duration": 0,
    "start_time": "2023-03-13T15:10:09.813Z"
   },
   {
    "duration": 0,
    "start_time": "2023-03-13T15:10:09.814Z"
   },
   {
    "duration": 0,
    "start_time": "2023-03-13T15:10:09.815Z"
   },
   {
    "duration": 0,
    "start_time": "2023-03-13T15:10:09.816Z"
   },
   {
    "duration": 0,
    "start_time": "2023-03-13T15:10:09.817Z"
   },
   {
    "duration": 0,
    "start_time": "2023-03-13T15:10:09.818Z"
   },
   {
    "duration": 0,
    "start_time": "2023-03-13T15:10:09.818Z"
   },
   {
    "duration": 0,
    "start_time": "2023-03-13T15:10:09.819Z"
   },
   {
    "duration": 0,
    "start_time": "2023-03-13T15:10:09.819Z"
   },
   {
    "duration": 0,
    "start_time": "2023-03-13T15:10:09.820Z"
   },
   {
    "duration": 0,
    "start_time": "2023-03-13T15:10:09.822Z"
   },
   {
    "duration": 0,
    "start_time": "2023-03-13T15:10:09.823Z"
   },
   {
    "duration": 0,
    "start_time": "2023-03-13T15:10:09.824Z"
   },
   {
    "duration": 0,
    "start_time": "2023-03-13T15:10:09.831Z"
   },
   {
    "duration": 0,
    "start_time": "2023-03-13T15:10:09.833Z"
   },
   {
    "duration": 0,
    "start_time": "2023-03-13T15:10:09.834Z"
   },
   {
    "duration": 0,
    "start_time": "2023-03-13T15:10:09.835Z"
   },
   {
    "duration": 0,
    "start_time": "2023-03-13T15:10:09.836Z"
   },
   {
    "duration": 0,
    "start_time": "2023-03-13T15:10:09.837Z"
   },
   {
    "duration": 0,
    "start_time": "2023-03-13T15:10:09.839Z"
   },
   {
    "duration": 0,
    "start_time": "2023-03-13T15:10:09.840Z"
   },
   {
    "duration": 0,
    "start_time": "2023-03-13T15:10:09.841Z"
   },
   {
    "duration": 0,
    "start_time": "2023-03-13T15:10:09.842Z"
   },
   {
    "duration": 0,
    "start_time": "2023-03-13T15:10:09.843Z"
   },
   {
    "duration": 0,
    "start_time": "2023-03-13T15:10:09.844Z"
   },
   {
    "duration": 0,
    "start_time": "2023-03-13T15:10:09.845Z"
   },
   {
    "duration": 0,
    "start_time": "2023-03-13T15:10:09.846Z"
   },
   {
    "duration": 0,
    "start_time": "2023-03-13T15:10:09.847Z"
   },
   {
    "duration": 0,
    "start_time": "2023-03-13T15:10:09.848Z"
   },
   {
    "duration": 0,
    "start_time": "2023-03-13T15:10:09.850Z"
   },
   {
    "duration": 0,
    "start_time": "2023-03-13T15:10:09.851Z"
   },
   {
    "duration": 0,
    "start_time": "2023-03-13T15:10:09.852Z"
   },
   {
    "duration": 0,
    "start_time": "2023-03-13T15:10:09.853Z"
   },
   {
    "duration": 0,
    "start_time": "2023-03-13T15:10:09.855Z"
   },
   {
    "duration": 0,
    "start_time": "2023-03-13T15:10:09.856Z"
   },
   {
    "duration": 0,
    "start_time": "2023-03-13T15:10:09.857Z"
   },
   {
    "duration": 0,
    "start_time": "2023-03-13T15:10:09.858Z"
   },
   {
    "duration": 0,
    "start_time": "2023-03-13T15:10:09.859Z"
   },
   {
    "duration": 4,
    "start_time": "2023-03-13T15:10:27.827Z"
   },
   {
    "duration": 211,
    "start_time": "2023-03-13T15:10:27.833Z"
   },
   {
    "duration": 3,
    "start_time": "2023-03-13T15:10:28.047Z"
   },
   {
    "duration": 43,
    "start_time": "2023-03-13T15:10:28.052Z"
   },
   {
    "duration": 298,
    "start_time": "2023-03-13T15:10:28.097Z"
   },
   {
    "duration": 98,
    "start_time": "2023-03-13T15:10:28.397Z"
   },
   {
    "duration": 74,
    "start_time": "2023-03-13T15:10:28.498Z"
   },
   {
    "duration": 0,
    "start_time": "2023-03-13T15:10:28.577Z"
   },
   {
    "duration": 0,
    "start_time": "2023-03-13T15:10:28.579Z"
   },
   {
    "duration": 0,
    "start_time": "2023-03-13T15:10:28.580Z"
   },
   {
    "duration": 0,
    "start_time": "2023-03-13T15:10:28.582Z"
   },
   {
    "duration": 0,
    "start_time": "2023-03-13T15:10:28.583Z"
   },
   {
    "duration": 0,
    "start_time": "2023-03-13T15:10:28.585Z"
   },
   {
    "duration": 0,
    "start_time": "2023-03-13T15:10:28.586Z"
   },
   {
    "duration": 0,
    "start_time": "2023-03-13T15:10:28.588Z"
   },
   {
    "duration": 0,
    "start_time": "2023-03-13T15:10:28.589Z"
   },
   {
    "duration": 0,
    "start_time": "2023-03-13T15:10:28.591Z"
   },
   {
    "duration": 0,
    "start_time": "2023-03-13T15:10:28.592Z"
   },
   {
    "duration": 0,
    "start_time": "2023-03-13T15:10:28.594Z"
   },
   {
    "duration": 0,
    "start_time": "2023-03-13T15:10:28.595Z"
   },
   {
    "duration": 0,
    "start_time": "2023-03-13T15:10:28.597Z"
   },
   {
    "duration": 0,
    "start_time": "2023-03-13T15:10:28.598Z"
   },
   {
    "duration": 0,
    "start_time": "2023-03-13T15:10:28.600Z"
   },
   {
    "duration": 0,
    "start_time": "2023-03-13T15:10:28.601Z"
   },
   {
    "duration": 0,
    "start_time": "2023-03-13T15:10:28.602Z"
   },
   {
    "duration": 0,
    "start_time": "2023-03-13T15:10:28.604Z"
   },
   {
    "duration": 0,
    "start_time": "2023-03-13T15:10:28.606Z"
   },
   {
    "duration": 0,
    "start_time": "2023-03-13T15:10:28.608Z"
   },
   {
    "duration": 0,
    "start_time": "2023-03-13T15:10:28.609Z"
   },
   {
    "duration": 0,
    "start_time": "2023-03-13T15:10:28.611Z"
   },
   {
    "duration": 0,
    "start_time": "2023-03-13T15:10:28.630Z"
   },
   {
    "duration": 0,
    "start_time": "2023-03-13T15:10:28.631Z"
   },
   {
    "duration": 0,
    "start_time": "2023-03-13T15:10:28.632Z"
   },
   {
    "duration": 0,
    "start_time": "2023-03-13T15:10:28.634Z"
   },
   {
    "duration": 0,
    "start_time": "2023-03-13T15:10:28.635Z"
   },
   {
    "duration": 0,
    "start_time": "2023-03-13T15:10:28.636Z"
   },
   {
    "duration": 0,
    "start_time": "2023-03-13T15:10:28.637Z"
   },
   {
    "duration": 0,
    "start_time": "2023-03-13T15:10:28.639Z"
   },
   {
    "duration": 0,
    "start_time": "2023-03-13T15:10:28.640Z"
   },
   {
    "duration": 0,
    "start_time": "2023-03-13T15:10:28.642Z"
   },
   {
    "duration": 0,
    "start_time": "2023-03-13T15:10:28.644Z"
   },
   {
    "duration": 0,
    "start_time": "2023-03-13T15:10:28.645Z"
   },
   {
    "duration": 0,
    "start_time": "2023-03-13T15:10:28.647Z"
   },
   {
    "duration": 0,
    "start_time": "2023-03-13T15:10:28.648Z"
   },
   {
    "duration": 0,
    "start_time": "2023-03-13T15:10:28.650Z"
   },
   {
    "duration": 0,
    "start_time": "2023-03-13T15:10:28.650Z"
   },
   {
    "duration": 0,
    "start_time": "2023-03-13T15:10:28.651Z"
   },
   {
    "duration": 0,
    "start_time": "2023-03-13T15:10:28.652Z"
   },
   {
    "duration": 0,
    "start_time": "2023-03-13T15:10:28.653Z"
   },
   {
    "duration": 3,
    "start_time": "2023-03-13T15:10:45.243Z"
   },
   {
    "duration": 177,
    "start_time": "2023-03-13T15:10:45.249Z"
   },
   {
    "duration": 3,
    "start_time": "2023-03-13T15:10:45.430Z"
   },
   {
    "duration": 26,
    "start_time": "2023-03-13T15:10:45.435Z"
   },
   {
    "duration": 305,
    "start_time": "2023-03-13T15:10:45.463Z"
   },
   {
    "duration": 94,
    "start_time": "2023-03-13T15:10:45.770Z"
   },
   {
    "duration": 127,
    "start_time": "2023-03-13T15:10:45.865Z"
   },
   {
    "duration": 90,
    "start_time": "2023-03-13T15:10:45.994Z"
   },
   {
    "duration": 15,
    "start_time": "2023-03-13T15:10:46.085Z"
   },
   {
    "duration": 38,
    "start_time": "2023-03-13T15:10:46.103Z"
   },
   {
    "duration": 4,
    "start_time": "2023-03-13T15:10:46.143Z"
   },
   {
    "duration": 33,
    "start_time": "2023-03-13T15:10:46.149Z"
   },
   {
    "duration": 230,
    "start_time": "2023-03-13T15:10:46.184Z"
   },
   {
    "duration": 60,
    "start_time": "2023-03-13T15:10:46.416Z"
   },
   {
    "duration": 112,
    "start_time": "2023-03-13T15:10:46.477Z"
   },
   {
    "duration": 242,
    "start_time": "2023-03-13T15:10:46.592Z"
   },
   {
    "duration": 203,
    "start_time": "2023-03-13T15:10:46.836Z"
   },
   {
    "duration": 30,
    "start_time": "2023-03-13T15:10:47.040Z"
   },
   {
    "duration": 522,
    "start_time": "2023-03-13T15:10:47.072Z"
   },
   {
    "duration": 686,
    "start_time": "2023-03-13T15:10:47.596Z"
   },
   {
    "duration": 423,
    "start_time": "2023-03-13T15:10:48.284Z"
   },
   {
    "duration": 46,
    "start_time": "2023-03-13T15:10:48.709Z"
   },
   {
    "duration": 61,
    "start_time": "2023-03-13T15:10:48.756Z"
   },
   {
    "duration": 15,
    "start_time": "2023-03-13T15:10:48.819Z"
   },
   {
    "duration": 12,
    "start_time": "2023-03-13T15:10:48.835Z"
   },
   {
    "duration": 7,
    "start_time": "2023-03-13T15:10:48.849Z"
   },
   {
    "duration": 89,
    "start_time": "2023-03-13T15:10:48.857Z"
   },
   {
    "duration": 26,
    "start_time": "2023-03-13T15:10:48.950Z"
   },
   {
    "duration": 116,
    "start_time": "2023-03-13T15:10:48.978Z"
   },
   {
    "duration": 37,
    "start_time": "2023-03-13T15:10:49.096Z"
   },
   {
    "duration": 186,
    "start_time": "2023-03-13T15:10:49.135Z"
   },
   {
    "duration": 19,
    "start_time": "2023-03-13T15:10:49.323Z"
   },
   {
    "duration": 5,
    "start_time": "2023-03-13T15:10:49.345Z"
   },
   {
    "duration": 107,
    "start_time": "2023-03-13T15:10:49.351Z"
   },
   {
    "duration": 138,
    "start_time": "2023-03-13T15:10:49.460Z"
   },
   {
    "duration": 5,
    "start_time": "2023-03-13T15:10:49.600Z"
   },
   {
    "duration": 69,
    "start_time": "2023-03-13T15:10:49.607Z"
   },
   {
    "duration": 124,
    "start_time": "2023-03-13T15:10:49.678Z"
   },
   {
    "duration": 6,
    "start_time": "2023-03-13T15:10:49.803Z"
   },
   {
    "duration": 25,
    "start_time": "2023-03-13T15:10:49.811Z"
   },
   {
    "duration": 10,
    "start_time": "2023-03-13T15:10:49.837Z"
   },
   {
    "duration": 17,
    "start_time": "2023-03-13T15:10:49.849Z"
   },
   {
    "duration": 6,
    "start_time": "2023-03-13T15:10:49.868Z"
   },
   {
    "duration": 11,
    "start_time": "2023-03-13T15:10:49.877Z"
   },
   {
    "duration": 48,
    "start_time": "2023-03-13T15:10:49.890Z"
   },
   {
    "duration": 17,
    "start_time": "2023-03-13T15:10:49.940Z"
   },
   {
    "duration": 12,
    "start_time": "2023-03-13T15:10:49.959Z"
   },
   {
    "duration": 14,
    "start_time": "2023-03-13T15:10:49.972Z"
   },
   {
    "duration": 39,
    "start_time": "2023-03-13T15:10:49.988Z"
   },
   {
    "duration": 2,
    "start_time": "2023-03-13T15:18:05.003Z"
   },
   {
    "duration": 187,
    "start_time": "2023-03-13T15:18:05.007Z"
   },
   {
    "duration": 3,
    "start_time": "2023-03-13T15:18:05.196Z"
   },
   {
    "duration": 30,
    "start_time": "2023-03-13T15:18:05.201Z"
   },
   {
    "duration": 292,
    "start_time": "2023-03-13T15:18:05.233Z"
   },
   {
    "duration": 91,
    "start_time": "2023-03-13T15:18:05.526Z"
   },
   {
    "duration": 132,
    "start_time": "2023-03-13T15:18:05.620Z"
   },
   {
    "duration": 82,
    "start_time": "2023-03-13T15:18:05.754Z"
   },
   {
    "duration": 11,
    "start_time": "2023-03-13T15:18:05.838Z"
   },
   {
    "duration": 46,
    "start_time": "2023-03-13T15:18:05.850Z"
   },
   {
    "duration": 5,
    "start_time": "2023-03-13T15:18:05.899Z"
   },
   {
    "duration": 32,
    "start_time": "2023-03-13T15:18:05.906Z"
   },
   {
    "duration": 195,
    "start_time": "2023-03-13T15:18:05.939Z"
   },
   {
    "duration": 42,
    "start_time": "2023-03-13T15:18:06.136Z"
   },
   {
    "duration": 102,
    "start_time": "2023-03-13T15:18:06.180Z"
   },
   {
    "duration": 193,
    "start_time": "2023-03-13T15:18:06.284Z"
   },
   {
    "duration": 277,
    "start_time": "2023-03-13T15:18:06.479Z"
   },
   {
    "duration": 41,
    "start_time": "2023-03-13T15:18:06.758Z"
   },
   {
    "duration": 511,
    "start_time": "2023-03-13T15:18:06.801Z"
   },
   {
    "duration": 623,
    "start_time": "2023-03-13T15:18:07.314Z"
   },
   {
    "duration": 406,
    "start_time": "2023-03-13T15:18:07.938Z"
   },
   {
    "duration": 38,
    "start_time": "2023-03-13T15:18:08.346Z"
   },
   {
    "duration": 78,
    "start_time": "2023-03-13T15:18:08.385Z"
   },
   {
    "duration": 4,
    "start_time": "2023-03-13T15:18:08.465Z"
   },
   {
    "duration": 10,
    "start_time": "2023-03-13T15:18:08.471Z"
   },
   {
    "duration": 85,
    "start_time": "2023-03-13T15:18:08.483Z"
   },
   {
    "duration": 27,
    "start_time": "2023-03-13T15:18:08.569Z"
   },
   {
    "duration": 108,
    "start_time": "2023-03-13T15:18:08.597Z"
   },
   {
    "duration": 36,
    "start_time": "2023-03-13T15:18:08.708Z"
   },
   {
    "duration": 188,
    "start_time": "2023-03-13T15:18:08.745Z"
   },
   {
    "duration": 13,
    "start_time": "2023-03-13T15:18:08.935Z"
   },
   {
    "duration": 9,
    "start_time": "2023-03-13T15:18:08.950Z"
   },
   {
    "duration": 101,
    "start_time": "2023-03-13T15:18:08.961Z"
   },
   {
    "duration": 131,
    "start_time": "2023-03-13T15:18:09.064Z"
   },
   {
    "duration": 6,
    "start_time": "2023-03-13T15:18:09.196Z"
   },
   {
    "duration": 62,
    "start_time": "2023-03-13T15:18:09.203Z"
   },
   {
    "duration": 124,
    "start_time": "2023-03-13T15:18:09.266Z"
   },
   {
    "duration": 5,
    "start_time": "2023-03-13T15:18:09.391Z"
   },
   {
    "duration": 17,
    "start_time": "2023-03-13T15:18:09.397Z"
   },
   {
    "duration": 24,
    "start_time": "2023-03-13T15:18:09.415Z"
   },
   {
    "duration": 18,
    "start_time": "2023-03-13T15:18:09.440Z"
   },
   {
    "duration": 8,
    "start_time": "2023-03-13T15:18:09.460Z"
   },
   {
    "duration": 12,
    "start_time": "2023-03-13T15:18:09.470Z"
   },
   {
    "duration": 15,
    "start_time": "2023-03-13T15:18:09.485Z"
   },
   {
    "duration": 10,
    "start_time": "2023-03-13T15:18:09.531Z"
   },
   {
    "duration": 13,
    "start_time": "2023-03-13T15:18:09.543Z"
   },
   {
    "duration": 18,
    "start_time": "2023-03-13T15:18:09.558Z"
   },
   {
    "duration": 13,
    "start_time": "2023-03-13T15:18:09.578Z"
   },
   {
    "duration": 4,
    "start_time": "2023-03-13T15:20:40.479Z"
   },
   {
    "duration": 184,
    "start_time": "2023-03-13T15:20:40.497Z"
   },
   {
    "duration": 3,
    "start_time": "2023-03-13T15:20:40.683Z"
   },
   {
    "duration": 25,
    "start_time": "2023-03-13T15:20:40.688Z"
   },
   {
    "duration": 299,
    "start_time": "2023-03-13T15:20:40.715Z"
   },
   {
    "duration": 100,
    "start_time": "2023-03-13T15:20:41.016Z"
   },
   {
    "duration": 160,
    "start_time": "2023-03-13T15:20:41.119Z"
   },
   {
    "duration": 89,
    "start_time": "2023-03-13T15:20:41.281Z"
   },
   {
    "duration": 25,
    "start_time": "2023-03-13T15:20:41.372Z"
   },
   {
    "duration": 54,
    "start_time": "2023-03-13T15:20:41.399Z"
   },
   {
    "duration": 6,
    "start_time": "2023-03-13T15:20:41.455Z"
   },
   {
    "duration": 60,
    "start_time": "2023-03-13T15:20:41.463Z"
   },
   {
    "duration": 206,
    "start_time": "2023-03-13T15:20:41.531Z"
   },
   {
    "duration": 39,
    "start_time": "2023-03-13T15:20:41.739Z"
   },
   {
    "duration": 107,
    "start_time": "2023-03-13T15:20:41.781Z"
   },
   {
    "duration": 177,
    "start_time": "2023-03-13T15:20:41.890Z"
   },
   {
    "duration": 210,
    "start_time": "2023-03-13T15:20:42.069Z"
   },
   {
    "duration": 31,
    "start_time": "2023-03-13T15:20:42.280Z"
   },
   {
    "duration": 535,
    "start_time": "2023-03-13T15:20:42.313Z"
   },
   {
    "duration": 666,
    "start_time": "2023-03-13T15:20:42.849Z"
   },
   {
    "duration": 469,
    "start_time": "2023-03-13T15:20:43.517Z"
   },
   {
    "duration": 57,
    "start_time": "2023-03-13T15:20:43.988Z"
   },
   {
    "duration": 64,
    "start_time": "2023-03-13T15:20:44.046Z"
   },
   {
    "duration": 18,
    "start_time": "2023-03-13T15:20:44.113Z"
   },
   {
    "duration": 10,
    "start_time": "2023-03-13T15:20:44.134Z"
   },
   {
    "duration": 126,
    "start_time": "2023-03-13T15:20:44.146Z"
   },
   {
    "duration": 27,
    "start_time": "2023-03-13T15:20:44.274Z"
   },
   {
    "duration": 121,
    "start_time": "2023-03-13T15:20:44.303Z"
   },
   {
    "duration": 32,
    "start_time": "2023-03-13T15:20:44.426Z"
   },
   {
    "duration": 211,
    "start_time": "2023-03-13T15:20:44.460Z"
   },
   {
    "duration": 18,
    "start_time": "2023-03-13T15:20:44.673Z"
   },
   {
    "duration": 6,
    "start_time": "2023-03-13T15:20:44.694Z"
   },
   {
    "duration": 125,
    "start_time": "2023-03-13T15:20:44.702Z"
   },
   {
    "duration": 139,
    "start_time": "2023-03-13T15:20:44.830Z"
   },
   {
    "duration": 6,
    "start_time": "2023-03-13T15:20:44.971Z"
   },
   {
    "duration": 73,
    "start_time": "2023-03-13T15:20:44.979Z"
   },
   {
    "duration": 124,
    "start_time": "2023-03-13T15:20:45.053Z"
   },
   {
    "duration": 6,
    "start_time": "2023-03-13T15:20:45.179Z"
   },
   {
    "duration": 21,
    "start_time": "2023-03-13T15:20:45.187Z"
   },
   {
    "duration": 22,
    "start_time": "2023-03-13T15:20:45.210Z"
   },
   {
    "duration": 20,
    "start_time": "2023-03-13T15:20:45.234Z"
   },
   {
    "duration": 8,
    "start_time": "2023-03-13T15:20:45.258Z"
   },
   {
    "duration": 15,
    "start_time": "2023-03-13T15:20:45.268Z"
   },
   {
    "duration": 14,
    "start_time": "2023-03-13T15:20:45.284Z"
   },
   {
    "duration": 8,
    "start_time": "2023-03-13T15:20:45.299Z"
   },
   {
    "duration": 33,
    "start_time": "2023-03-13T15:20:45.309Z"
   },
   {
    "duration": 16,
    "start_time": "2023-03-13T15:20:45.344Z"
   },
   {
    "duration": 9,
    "start_time": "2023-03-13T15:20:45.363Z"
   },
   {
    "duration": 1099,
    "start_time": "2023-03-14T09:50:25.139Z"
   },
   {
    "duration": 178,
    "start_time": "2023-03-14T09:50:26.240Z"
   },
   {
    "duration": 3,
    "start_time": "2023-03-14T09:50:26.420Z"
   },
   {
    "duration": 29,
    "start_time": "2023-03-14T09:50:26.425Z"
   },
   {
    "duration": 317,
    "start_time": "2023-03-14T09:50:26.466Z"
   },
   {
    "duration": 108,
    "start_time": "2023-03-14T09:50:26.784Z"
   },
   {
    "duration": 129,
    "start_time": "2023-03-14T09:50:26.894Z"
   },
   {
    "duration": 65,
    "start_time": "2023-03-14T09:50:27.024Z"
   },
   {
    "duration": 10,
    "start_time": "2023-03-14T09:50:27.091Z"
   },
   {
    "duration": 26,
    "start_time": "2023-03-14T09:50:27.102Z"
   },
   {
    "duration": 5,
    "start_time": "2023-03-14T09:50:27.130Z"
   },
   {
    "duration": 38,
    "start_time": "2023-03-14T09:50:27.137Z"
   },
   {
    "duration": 178,
    "start_time": "2023-03-14T09:50:27.176Z"
   },
   {
    "duration": 40,
    "start_time": "2023-03-14T09:50:27.357Z"
   },
   {
    "duration": 103,
    "start_time": "2023-03-14T09:50:27.398Z"
   },
   {
    "duration": 156,
    "start_time": "2023-03-14T09:50:27.503Z"
   },
   {
    "duration": 206,
    "start_time": "2023-03-14T09:50:27.664Z"
   },
   {
    "duration": 32,
    "start_time": "2023-03-14T09:50:27.874Z"
   },
   {
    "duration": 558,
    "start_time": "2023-03-14T09:50:27.908Z"
   },
   {
    "duration": 656,
    "start_time": "2023-03-14T09:50:28.467Z"
   },
   {
    "duration": 283,
    "start_time": "2023-03-14T09:50:29.125Z"
   },
   {
    "duration": 36,
    "start_time": "2023-03-14T09:50:29.409Z"
   },
   {
    "duration": 67,
    "start_time": "2023-03-14T09:50:29.446Z"
   },
   {
    "duration": 5,
    "start_time": "2023-03-14T09:50:29.515Z"
   },
   {
    "duration": 11,
    "start_time": "2023-03-14T09:50:29.521Z"
   },
   {
    "duration": 73,
    "start_time": "2023-03-14T09:50:29.534Z"
   },
   {
    "duration": 21,
    "start_time": "2023-03-14T09:50:29.608Z"
   },
   {
    "duration": 101,
    "start_time": "2023-03-14T09:50:29.630Z"
   },
   {
    "duration": 38,
    "start_time": "2023-03-14T09:50:29.732Z"
   },
   {
    "duration": 184,
    "start_time": "2023-03-14T09:50:29.772Z"
   },
   {
    "duration": 17,
    "start_time": "2023-03-14T09:50:29.958Z"
   },
   {
    "duration": 4,
    "start_time": "2023-03-14T09:50:29.976Z"
   },
   {
    "duration": 91,
    "start_time": "2023-03-14T09:50:29.981Z"
   },
   {
    "duration": 114,
    "start_time": "2023-03-14T09:50:30.073Z"
   },
   {
    "duration": 5,
    "start_time": "2023-03-14T09:50:30.189Z"
   },
   {
    "duration": 75,
    "start_time": "2023-03-14T09:50:30.195Z"
   },
   {
    "duration": 107,
    "start_time": "2023-03-14T09:50:30.271Z"
   },
   {
    "duration": 5,
    "start_time": "2023-03-14T09:50:30.379Z"
   },
   {
    "duration": 50,
    "start_time": "2023-03-14T09:50:30.385Z"
   },
   {
    "duration": 28,
    "start_time": "2023-03-14T09:50:30.437Z"
   },
   {
    "duration": 42,
    "start_time": "2023-03-14T09:50:30.468Z"
   },
   {
    "duration": 25,
    "start_time": "2023-03-14T09:50:30.512Z"
   },
   {
    "duration": 40,
    "start_time": "2023-03-14T09:50:30.538Z"
   },
   {
    "duration": 44,
    "start_time": "2023-03-14T09:50:30.580Z"
   },
   {
    "duration": 23,
    "start_time": "2023-03-14T09:50:30.625Z"
   },
   {
    "duration": 32,
    "start_time": "2023-03-14T09:50:30.650Z"
   },
   {
    "duration": 24,
    "start_time": "2023-03-14T09:50:30.683Z"
   },
   {
    "duration": 29,
    "start_time": "2023-03-14T09:50:30.709Z"
   }
  ],
  "kernelspec": {
   "display_name": "Python 3 (ipykernel)",
   "language": "python",
   "name": "python3"
  },
  "language_info": {
   "codemirror_mode": {
    "name": "ipython",
    "version": 3
   },
   "file_extension": ".py",
   "mimetype": "text/x-python",
   "name": "python",
   "nbconvert_exporter": "python",
   "pygments_lexer": "ipython3",
   "version": "3.9.5"
  },
  "toc": {
   "base_numbering": 1,
   "nav_menu": {},
   "number_sections": false,
   "sideBar": true,
   "skip_h1_title": false,
   "title_cell": "Table of Contents",
   "title_sidebar": "Contents",
   "toc_cell": false,
   "toc_position": {
    "height": "calc(100% - 180px)",
    "left": "10px",
    "top": "150px",
    "width": "165px"
   },
   "toc_section_display": true,
   "toc_window_display": true
  }
 },
 "nbformat": 4,
 "nbformat_minor": 2
}
